{
 "cells": [
  {
   "cell_type": "markdown",
   "id": "2841dfe8-d77b-405b-81d6-be1684eebca2",
   "metadata": {},
   "source": [
    "This example will demonstrate how to analyze the results of a conversion rate experiment using the tools in the stats_utils package.  We'll do this for a simple 2 variant experiment (i.e. control vs treatment), as well as 3 variant experiment (i.e. control, treatment 1, treatment 2).  3 is totally arbitrary, the tools here will work with any number of variants.\n",
    "\n",
    "By conversion rate experiment, we mean an experiment where the unit level outcome is binary (i.e. the unit did the thing or did not).  We summarize this as a conversion rate: the percentage of units that did the action per group. "
   ]
  },
  {
   "cell_type": "code",
   "execution_count": 1,
   "id": "e7055e1c-1cf2-414b-a6fb-3d09d2ed91fd",
   "metadata": {},
   "outputs": [],
   "source": [
    "import sys\n",
    "import pandas as pd"
   ]
  },
  {
   "cell_type": "code",
   "execution_count": 2,
   "id": "e60f666c-3c69-4e74-9a90-767ad2b6ca87",
   "metadata": {},
   "outputs": [],
   "source": [
    "# For now, this is a simple way to import the tools we need.\n",
    "# Be sure to update the path to point to where the relevant code is stored on your machine\n",
    "# TBD on eventually making this importable\n",
    "sys.path.append('../../../ab_testing_utils/')"
   ]
  },
  {
   "cell_type": "code",
   "execution_count": 3,
   "id": "cf19462b-bbae-49ae-bbe4-ac18965fcb56",
   "metadata": {},
   "outputs": [],
   "source": [
    "import conversion_rate_utils, sim_utils"
   ]
  },
  {
   "cell_type": "markdown",
   "id": "771ad2bf-9e19-4e6a-b7db-a3e0c84d2f82",
   "metadata": {},
   "source": [
    "Here, we're importing an additional toolkit called sim_utils.  It has a bunch of pre-build methods for simulating various types of data.  \n",
    "\n",
    "First, we'll simulate a two variant A/B test.  We need a few assumptions:\n",
    "\n",
    "1. On average, we say about 10,000 eligible units per day that could be assigned to either control or treatment \n",
    "\n",
    "2. We ran the experiment for a total of 4 weeks (so 28 days)\n",
    "\n",
    "5. We'll assume that the conversion rate in the control group was 5%\n",
    "\n",
    "6. We'll assume that our treatment really did have a positive impact, with a relative lift of 10%. This means that the expected conversion rate in treatment group is 5.5% \n",
    "\n",
    "7. We'll also assume that assignment to control and treatment was even.  i.e. the probability of being assigned to control was 50% "
   ]
  },
  {
   "cell_type": "code",
   "execution_count": 4,
   "id": "3cb96052-172c-4853-8465-b0d56ffd6681",
   "metadata": {},
   "outputs": [],
   "source": [
    "daily_num_observations = 10000\n",
    "number_of_days_for_experiment = 4 * 7\n",
    "expected_conversion_rates = [0.05, 0.055]\n",
    "p_vals = \"equal\"\n",
    "group_col = 'group' # This is the name of the column that will indicate the treatment group (e.g. treatment or control)"
   ]
  },
  {
   "cell_type": "code",
   "execution_count": 5,
   "id": "abb6e6ae-be81-4496-a67f-27fed5c26384",
   "metadata": {},
   "outputs": [],
   "source": [
    "simulate_ab_test = sim_utils.SimulateABTest()"
   ]
  },
  {
   "cell_type": "code",
   "execution_count": 6,
   "id": "a2f4bee1-897e-40f9-8b72-1e6a23512060",
   "metadata": {},
   "outputs": [
    {
     "name": "stdout",
     "output_type": "stream",
     "text": [
      "Simulated group sizes: \n",
      "\n",
      "treatment_1    0.500328\n",
      "control        0.499672\n",
      "Name: group, dtype: float64\n",
      "\n",
      "\n",
      "Simulated daily group sizes: \n",
      "\n",
      "day  group      \n",
      "0    control        0.501560\n",
      "     treatment_1    0.498440\n",
      "1    treatment_1    0.502719\n",
      "     control        0.497281\n",
      "10   treatment_1    0.502806\n",
      "     control        0.497194\n",
      "11   control        0.501229\n",
      "     treatment_1    0.498771\n",
      "12   treatment_1    0.500842\n",
      "     control        0.499158\n",
      "13   control        0.507518\n",
      "     treatment_1    0.492482\n",
      "14   control        0.510166\n",
      "     treatment_1    0.489834\n",
      "15   treatment_1    0.500649\n",
      "     control        0.499351\n",
      "16   control        0.506495\n",
      "     treatment_1    0.493505\n",
      "17   treatment_1    0.500760\n",
      "     control        0.499240\n",
      "18   treatment_1    0.505237\n",
      "     control        0.494763\n",
      "19   control        0.503219\n",
      "     treatment_1    0.496781\n",
      "2    control        0.501476\n",
      "     treatment_1    0.498524\n",
      "20   treatment_1    0.507251\n",
      "     control        0.492749\n",
      "21   treatment_1    0.502059\n",
      "     control        0.497941\n",
      "22   treatment_1    0.510080\n",
      "     control        0.489920\n",
      "23   treatment_1    0.509100\n",
      "     control        0.490900\n",
      "24   control        0.500803\n",
      "     treatment_1    0.499197\n",
      "25   treatment_1    0.502094\n",
      "     control        0.497906\n",
      "26   treatment_1    0.505555\n",
      "     control        0.494445\n",
      "27   treatment_1    0.503758\n",
      "     control        0.496242\n",
      "3    control        0.502519\n",
      "     treatment_1    0.497481\n",
      "4    treatment_1    0.503830\n",
      "     control        0.496170\n",
      "5    control        0.504410\n",
      "     treatment_1    0.495590\n",
      "6    treatment_1    0.504211\n",
      "     control        0.495789\n",
      "7    control        0.503890\n",
      "     treatment_1    0.496110\n",
      "8    control        0.500457\n",
      "     treatment_1    0.499543\n",
      "9    control        0.507959\n",
      "     treatment_1    0.492041\n",
      "dtype: float64\n",
      "\n",
      "\n",
      "\n",
      "\n",
      "Simulated conversion rates by group: \n",
      "\n",
      "group        conversion\n",
      "control      0             0.950526\n",
      "             1             0.049474\n",
      "treatment_1  0             0.945635\n",
      "             1             0.054365\n",
      "dtype: float64\n",
      "\n",
      "\n"
     ]
    }
   ],
   "source": [
    "df_ab = simulate_ab_test.run_sim(daily_num_observations=daily_num_observations, \n",
    "                                 number_of_days_for_experiment=number_of_days_for_experiment, \n",
    "                                 expected_conversion_rates=expected_conversion_rates, \n",
    "                                 p_vals=p_vals, \n",
    "                                 group_col=group_col)"
   ]
  },
  {
   "cell_type": "code",
   "execution_count": 7,
   "id": "af855dee-a2c6-4be5-85bc-557cc5412e7a",
   "metadata": {},
   "outputs": [
    {
     "data": {
      "text/html": [
       "<div>\n",
       "<style scoped>\n",
       "    .dataframe tbody tr th:only-of-type {\n",
       "        vertical-align: middle;\n",
       "    }\n",
       "\n",
       "    .dataframe tbody tr th {\n",
       "        vertical-align: top;\n",
       "    }\n",
       "\n",
       "    .dataframe thead th {\n",
       "        text-align: right;\n",
       "    }\n",
       "</style>\n",
       "<table border=\"1\" class=\"dataframe\">\n",
       "  <thead>\n",
       "    <tr style=\"text-align: right;\">\n",
       "      <th></th>\n",
       "      <th>day</th>\n",
       "      <th>units</th>\n",
       "      <th>group</th>\n",
       "      <th>conversion_probability</th>\n",
       "      <th>conversion</th>\n",
       "    </tr>\n",
       "  </thead>\n",
       "  <tbody>\n",
       "    <tr>\n",
       "      <th>0</th>\n",
       "      <td>0</td>\n",
       "      <td>1</td>\n",
       "      <td>treatment_1</td>\n",
       "      <td>0.055</td>\n",
       "      <td>0</td>\n",
       "    </tr>\n",
       "    <tr>\n",
       "      <th>1</th>\n",
       "      <td>0</td>\n",
       "      <td>1</td>\n",
       "      <td>treatment_1</td>\n",
       "      <td>0.055</td>\n",
       "      <td>0</td>\n",
       "    </tr>\n",
       "    <tr>\n",
       "      <th>2</th>\n",
       "      <td>0</td>\n",
       "      <td>1</td>\n",
       "      <td>control</td>\n",
       "      <td>0.050</td>\n",
       "      <td>0</td>\n",
       "    </tr>\n",
       "    <tr>\n",
       "      <th>3</th>\n",
       "      <td>0</td>\n",
       "      <td>1</td>\n",
       "      <td>control</td>\n",
       "      <td>0.050</td>\n",
       "      <td>0</td>\n",
       "    </tr>\n",
       "    <tr>\n",
       "      <th>4</th>\n",
       "      <td>0</td>\n",
       "      <td>1</td>\n",
       "      <td>treatment_1</td>\n",
       "      <td>0.055</td>\n",
       "      <td>0</td>\n",
       "    </tr>\n",
       "  </tbody>\n",
       "</table>\n",
       "</div>"
      ],
      "text/plain": [
       "  day  units        group  conversion_probability  conversion\n",
       "0   0      1  treatment_1                   0.055           0\n",
       "1   0      1  treatment_1                   0.055           0\n",
       "2   0      1      control                   0.050           0\n",
       "3   0      1      control                   0.050           0\n",
       "4   0      1  treatment_1                   0.055           0"
      ]
     },
     "execution_count": 7,
     "metadata": {},
     "output_type": "execute_result"
    }
   ],
   "source": [
    "df_ab.head()"
   ]
  },
  {
   "cell_type": "markdown",
   "id": "e7ce3bf1-8301-4783-b0d0-0bbb5a07e42c",
   "metadata": {},
   "source": [
    "The above is a DataFrame which represents each unit in the experiment, the day they were assigned, the group they were assigned too, and a binary variable for if the unit converted (1) or not (0). "
   ]
  },
  {
   "cell_type": "code",
   "execution_count": 8,
   "id": "c9955892-6678-4bb6-b486-42be5d5741bd",
   "metadata": {},
   "outputs": [],
   "source": [
    "experiment_ab = conversion_rate_utils.ConversionExperiment()"
   ]
  },
  {
   "cell_type": "markdown",
   "id": "4c5679d6-da23-494b-9abd-f0b069f926d5",
   "metadata": {},
   "source": [
    "The conversion_rate_utils module contains several methods for analyzing the results of conversion experiments.  We'll assume that we want to set the threshold for significance at 95%. This is totally customizable though. \n",
    "\n",
    "There's a single helper function which wraps the entire analysis up for you in one step:"
   ]
  },
  {
   "cell_type": "code",
   "execution_count": 9,
   "id": "868dac4f-0523-4435-aa7d-3e4f64957ec1",
   "metadata": {},
   "outputs": [
    {
     "name": "stdout",
     "output_type": "stream",
     "text": [
      "Only two variants found, defaulting to simple AB test\n"
     ]
    }
   ],
   "source": [
    "results_ab = experiment_ab.ab_n_variant(df=df_ab, group_column_name='group', control_name='control', outcome_column='conversion', alpha=0.05)"
   ]
  },
  {
   "cell_type": "markdown",
   "id": "72a2ad5f-49e4-4579-8bfb-cb565beab8a0",
   "metadata": {},
   "source": [
    "In the two variant case, the output is just a simple DataFrame.  For multi variants, the result will be a list of DataFrames, each one containing a comparison between the control group and one of the treatments. "
   ]
  },
  {
   "cell_type": "code",
   "execution_count": 10,
   "id": "85f8982d-ce9e-45f0-af5e-fccc32180243",
   "metadata": {},
   "outputs": [
    {
     "data": {
      "text/html": [
       "<div>\n",
       "<style scoped>\n",
       "    .dataframe tbody tr th:only-of-type {\n",
       "        vertical-align: middle;\n",
       "    }\n",
       "\n",
       "    .dataframe tbody tr th {\n",
       "        vertical-align: top;\n",
       "    }\n",
       "\n",
       "    .dataframe thead th {\n",
       "        text-align: right;\n",
       "    }\n",
       "</style>\n",
       "<table border=\"1\" class=\"dataframe\">\n",
       "  <thead>\n",
       "    <tr style=\"text-align: right;\">\n",
       "      <th></th>\n",
       "      <th>value</th>\n",
       "    </tr>\n",
       "  </thead>\n",
       "  <tbody>\n",
       "    <tr>\n",
       "      <th>treatment_1_mean</th>\n",
       "      <td>5.436535e-02</td>\n",
       "    </tr>\n",
       "    <tr>\n",
       "      <th>treatment_1_confidence_interval_95_percent_lower</th>\n",
       "      <td>5.317856e-02</td>\n",
       "    </tr>\n",
       "    <tr>\n",
       "      <th>treatment_1_confidence_interval_95_percent_upper</th>\n",
       "      <td>5.555213e-02</td>\n",
       "    </tr>\n",
       "    <tr>\n",
       "      <th>control_mean</th>\n",
       "      <td>4.947370e-02</td>\n",
       "    </tr>\n",
       "    <tr>\n",
       "      <th>control_confidence_interval_95_percent_lower</th>\n",
       "      <td>4.833790e-02</td>\n",
       "    </tr>\n",
       "    <tr>\n",
       "      <th>control_confidence_interval_95_percent_upper</th>\n",
       "      <td>5.060950e-02</td>\n",
       "    </tr>\n",
       "    <tr>\n",
       "      <th>treatment_1_minus_control_mean</th>\n",
       "      <td>4.891646e-03</td>\n",
       "    </tr>\n",
       "    <tr>\n",
       "      <th>treatment_1_minus_control_95_percent_lower</th>\n",
       "      <td>3.248937e-03</td>\n",
       "    </tr>\n",
       "    <tr>\n",
       "      <th>treatment_1_minus_control_95_percent_upper</th>\n",
       "      <td>6.534355e-03</td>\n",
       "    </tr>\n",
       "    <tr>\n",
       "      <th>z_statistic</th>\n",
       "      <td>5.836366e+00</td>\n",
       "    </tr>\n",
       "    <tr>\n",
       "      <th>p_value</th>\n",
       "      <td>5.335150e-09</td>\n",
       "    </tr>\n",
       "  </tbody>\n",
       "</table>\n",
       "</div>"
      ],
      "text/plain": [
       "                                                         value\n",
       "treatment_1_mean                                  5.436535e-02\n",
       "treatment_1_confidence_interval_95_percent_lower  5.317856e-02\n",
       "treatment_1_confidence_interval_95_percent_upper  5.555213e-02\n",
       "control_mean                                      4.947370e-02\n",
       "control_confidence_interval_95_percent_lower      4.833790e-02\n",
       "control_confidence_interval_95_percent_upper      5.060950e-02\n",
       "treatment_1_minus_control_mean                    4.891646e-03\n",
       "treatment_1_minus_control_95_percent_lower        3.248937e-03\n",
       "treatment_1_minus_control_95_percent_upper        6.534355e-03\n",
       "z_statistic                                       5.836366e+00\n",
       "p_value                                           5.335150e-09"
      ]
     },
     "execution_count": 10,
     "metadata": {},
     "output_type": "execute_result"
    }
   ],
   "source": [
    "results_ab"
   ]
  },
  {
   "cell_type": "markdown",
   "id": "dc9e08b4-99fb-44b1-9f4c-609c92dc0b05",
   "metadata": {},
   "source": [
    "It looks like these results are statistically significant.  The output here will return the p-value of the hypothesis test. The null hypothesis being tested here is that there is no difference between treatment and control. This is also customizable in the ab_n_variant method above. By specifying the \"null_hypothesis\" parameter you can set the null difference between treatment and control to be whatever you want. \n",
    "\n",
    "The results also contain confidence intervals for the estimated conversion rates in both control and treatment groups, as well as for the difference in means (which is the test statistic being used here).  We can visualize these results as well:"
   ]
  },
  {
   "cell_type": "code",
   "execution_count": 11,
   "id": "1dd166ac-400d-4c9f-b776-6f313e974204",
   "metadata": {},
   "outputs": [
    {
     "name": "stdout",
     "output_type": "stream",
     "text": [
      "Two variant test detected. Running plot_ab_test_results instead\n"
     ]
    },
    {
     "data": {
      "image/png": "[encoded data removed]",
      "text/plain": [
       "<Figure size 640x480 with 1 Axes>"
      ]
     },
     "metadata": {},
     "output_type": "display_data"
    }
   ],
   "source": [
    "# Note that the results_ab DataFrame needs to be passed as a list.  I'll fix this in subsequent versions.\n",
    "experiment_ab.plot_n_variant_ab_test_results(list_of_dfs=[results_ab], control_name='control', alpha=0.05)"
   ]
  },
  {
   "cell_type": "markdown",
   "id": "4e4b8cae-678e-4901-8b6c-2b4f528db4f0",
   "metadata": {},
   "source": [
    "This plot shows the average conversion rates for both control (blue) and treatment (green) groups.  It also plots the 95% confidence interval around those estimates.  The result is statistically significant, so we can reject the null hypothesis that the treatment had no impact on the average conversion rate compared to the control. "
   ]
  },
  {
   "cell_type": "markdown",
   "id": "6c2d91d7-e67b-46c5-9380-f18d1ff5b781",
   "metadata": {},
   "source": [
    "### 3 variant test\n",
    "\n",
    "This example will do the same as the above, but with 3 variants (i.e. one control and two treatment groups)\n",
    "\n",
    "We'll make a few assumptions about our experiment:\n",
    "\n",
    "1. On average, we say about 10,000 eligible units per day that could be assigned to either control or treatment \n",
    "\n",
    "2. We ran the experiment for a total of 4 weeks (so 28 days)\n",
    "\n",
    "5. We'll assume that the conversion rate in the control group was 5%\n",
    "\n",
    "6. We'll assume that one treatment really did have a positive impact, say 10% relative lift compared to the control. This means we'd expect the average conversion rate in this treatment group to be 10%\n",
    "\n",
    "7. We'll assume that the second treatment had no impact, so the average conversion rate will be the same as the control group (5%).\n",
    "\n",
    "8. We'll also assume that assignment to control and each treatment was even.  i.e. the probability of being assigned to control was 1/3 (and 1/3 for each of the 2 treatments)"
   ]
  },
  {
   "cell_type": "code",
   "execution_count": 12,
   "id": "dbd678bd-4129-490b-a828-44cb6c9e019f",
   "metadata": {},
   "outputs": [],
   "source": [
    "daily_num_observations = 10000\n",
    "number_of_days_for_experiment = 4 * 7\n",
    "expected_conversion_rates = [0.05, 0.055, 0.05]\n",
    "p_vals = \"equal\"\n",
    "group_col = 'group' # This is the name of the column that will indicate the treatment group (e.g. treatment or control)"
   ]
  },
  {
   "cell_type": "code",
   "execution_count": 13,
   "id": "89ff8562-83e0-4ba8-9ef2-5f774d04a0d4",
   "metadata": {},
   "outputs": [],
   "source": [
    "simulate_abc_test = sim_utils.SimulateABTest()"
   ]
  },
  {
   "cell_type": "code",
   "execution_count": 14,
   "id": "615d973d-21af-4d93-9cc8-e8c3e3be9b11",
   "metadata": {},
   "outputs": [
    {
     "name": "stdout",
     "output_type": "stream",
     "text": [
      "Simulated group sizes: \n",
      "\n",
      "control        0.334029\n",
      "treatment_1    0.333320\n",
      "treatment_2    0.332651\n",
      "Name: group, dtype: float64\n",
      "\n",
      "\n",
      "Simulated daily group sizes: \n",
      "\n",
      "day  group      \n",
      "0    treatment_1    0.337849\n",
      "     control        0.333935\n",
      "     treatment_2    0.328216\n",
      "1    treatment_1    0.337467\n",
      "     control        0.333367\n",
      "                      ...   \n",
      "8    treatment_2    0.333790\n",
      "     control        0.327622\n",
      "9    treatment_1    0.337836\n",
      "     treatment_2    0.331485\n",
      "     control        0.330678\n",
      "Length: 84, dtype: float64\n",
      "\n",
      "\n",
      "\n",
      "\n",
      "Simulated conversion rates by group: \n",
      "\n",
      "group        conversion\n",
      "control      0             0.950871\n",
      "             1             0.049129\n",
      "treatment_1  0             0.944796\n",
      "             1             0.055204\n",
      "treatment_2  0             0.949533\n",
      "             1             0.050467\n",
      "dtype: float64\n",
      "\n",
      "\n"
     ]
    }
   ],
   "source": [
    "df_abc = simulate_abc_test.run_sim(daily_num_observations=daily_num_observations, \n",
    "                                   number_of_days_for_experiment=number_of_days_for_experiment, \n",
    "                                   expected_conversion_rates=expected_conversion_rates, \n",
    "                                   p_vals=p_vals, \n",
    "                                   group_col=group_col)"
   ]
  },
  {
   "cell_type": "code",
   "execution_count": 15,
   "id": "d243b01a-87d5-4934-acfd-4c0df0b78aab",
   "metadata": {},
   "outputs": [
    {
     "data": {
      "text/html": [
       "<div>\n",
       "<style scoped>\n",
       "    .dataframe tbody tr th:only-of-type {\n",
       "        vertical-align: middle;\n",
       "    }\n",
       "\n",
       "    .dataframe tbody tr th {\n",
       "        vertical-align: top;\n",
       "    }\n",
       "\n",
       "    .dataframe thead th {\n",
       "        text-align: right;\n",
       "    }\n",
       "</style>\n",
       "<table border=\"1\" class=\"dataframe\">\n",
       "  <thead>\n",
       "    <tr style=\"text-align: right;\">\n",
       "      <th></th>\n",
       "      <th>day</th>\n",
       "      <th>units</th>\n",
       "      <th>group</th>\n",
       "      <th>conversion_probability</th>\n",
       "      <th>conversion</th>\n",
       "    </tr>\n",
       "  </thead>\n",
       "  <tbody>\n",
       "    <tr>\n",
       "      <th>0</th>\n",
       "      <td>0</td>\n",
       "      <td>1</td>\n",
       "      <td>treatment_1</td>\n",
       "      <td>0.055</td>\n",
       "      <td>0</td>\n",
       "    </tr>\n",
       "    <tr>\n",
       "      <th>1</th>\n",
       "      <td>0</td>\n",
       "      <td>1</td>\n",
       "      <td>treatment_1</td>\n",
       "      <td>0.055</td>\n",
       "      <td>0</td>\n",
       "    </tr>\n",
       "    <tr>\n",
       "      <th>2</th>\n",
       "      <td>0</td>\n",
       "      <td>1</td>\n",
       "      <td>control</td>\n",
       "      <td>0.050</td>\n",
       "      <td>0</td>\n",
       "    </tr>\n",
       "    <tr>\n",
       "      <th>3</th>\n",
       "      <td>0</td>\n",
       "      <td>1</td>\n",
       "      <td>treatment_2</td>\n",
       "      <td>0.050</td>\n",
       "      <td>0</td>\n",
       "    </tr>\n",
       "    <tr>\n",
       "      <th>4</th>\n",
       "      <td>0</td>\n",
       "      <td>1</td>\n",
       "      <td>treatment_1</td>\n",
       "      <td>0.055</td>\n",
       "      <td>0</td>\n",
       "    </tr>\n",
       "  </tbody>\n",
       "</table>\n",
       "</div>"
      ],
      "text/plain": [
       "  day  units        group  conversion_probability  conversion\n",
       "0   0      1  treatment_1                   0.055           0\n",
       "1   0      1  treatment_1                   0.055           0\n",
       "2   0      1      control                   0.050           0\n",
       "3   0      1  treatment_2                   0.050           0\n",
       "4   0      1  treatment_1                   0.055           0"
      ]
     },
     "execution_count": 15,
     "metadata": {},
     "output_type": "execute_result"
    }
   ],
   "source": [
    "df_abc.head()"
   ]
  },
  {
   "cell_type": "markdown",
   "id": "79fd892a-c8dc-45c1-a69e-01c20d6e0462",
   "metadata": {},
   "source": [
    "The above is a DataFrame which represents each unit in the experiment, the day they were assigned, the group they were assigned too, and a binary variable for if the unit converted (1) or not (0). "
   ]
  },
  {
   "cell_type": "markdown",
   "id": "40171ec0-efb8-4529-8368-6242b8d77f06",
   "metadata": {},
   "source": [
    "Like in the two variant case, we can analyze these results with one function.  \n",
    "\n",
    "In this case though, we have 3 variants. This means that, at a minimum, we need to conduct 2 hypothesis tests: control vs treatment 1, and control vs treatment 2.  This means that we'll need to appropriately adjust the estimated p-values for the tests in order to account for multiple testing bias.  The \"ab_n_variant\" function supports all of the methodologies supported by [statsmodels.stats.multitest.multipletests](https://www.statsmodels.org/dev/generated/statsmodels.stats.multitest.multipletests.html).  It's beyond the scope of this example to do a deep dive into what each of these methodologies do and how they work.  A nice introduction can be found in chapter 13 of [An introduction to Statistical Learning](https://www.statlearning.com/) (the Python version). "
   ]
  },
  {
   "cell_type": "code",
   "execution_count": 18,
   "id": "7fadebe8-0b7f-48cf-b4a3-4b855a7e2ea1",
   "metadata": {},
   "outputs": [],
   "source": [
    "experiment_abc = conversion_rate_utils.ConversionExperiment()"
   ]
  },
  {
   "cell_type": "code",
   "execution_count": 19,
   "id": "5ddbb9f0-2e1d-4d90-8381-fa5671a55a59",
   "metadata": {},
   "outputs": [],
   "source": [
    "results_abc = experiment_abc.ab_n_variant(df=df_abc, group_column_name='group', control_name='control', outcome_column='conversion', alpha=0.05, correction_method='bonferroni')"
   ]
  },
  {
   "cell_type": "code",
   "execution_count": 20,
   "id": "fd978c04-fd14-485f-8014-89c14fc7d398",
   "metadata": {},
   "outputs": [
    {
     "data": {
      "text/html": [
       "<div>\n",
       "<style scoped>\n",
       "    .dataframe tbody tr th:only-of-type {\n",
       "        vertical-align: middle;\n",
       "    }\n",
       "\n",
       "    .dataframe tbody tr th {\n",
       "        vertical-align: top;\n",
       "    }\n",
       "\n",
       "    .dataframe thead th {\n",
       "        text-align: right;\n",
       "    }\n",
       "</style>\n",
       "<table border=\"1\" class=\"dataframe\">\n",
       "  <thead>\n",
       "    <tr style=\"text-align: right;\">\n",
       "      <th></th>\n",
       "      <th>value</th>\n",
       "    </tr>\n",
       "  </thead>\n",
       "  <tbody>\n",
       "    <tr>\n",
       "      <th>treatment_1_mean</th>\n",
       "      <td>0.055204</td>\n",
       "    </tr>\n",
       "    <tr>\n",
       "      <th>treatment_1_confidence_interval_95_percent_lower</th>\n",
       "      <td>0.053741</td>\n",
       "    </tr>\n",
       "    <tr>\n",
       "      <th>treatment_1_confidence_interval_95_percent_upper</th>\n",
       "      <td>0.056667</td>\n",
       "    </tr>\n",
       "    <tr>\n",
       "      <th>control_mean</th>\n",
       "      <td>0.049129</td>\n",
       "    </tr>\n",
       "    <tr>\n",
       "      <th>control_confidence_interval_95_percent_lower</th>\n",
       "      <td>0.047746</td>\n",
       "    </tr>\n",
       "    <tr>\n",
       "      <th>control_confidence_interval_95_percent_upper</th>\n",
       "      <td>0.050512</td>\n",
       "    </tr>\n",
       "    <tr>\n",
       "      <th>treatment_1_minus_control_mean</th>\n",
       "      <td>0.006074</td>\n",
       "    </tr>\n",
       "    <tr>\n",
       "      <th>treatment_1_minus_control_95_percent_lower</th>\n",
       "      <td>0.004061</td>\n",
       "    </tr>\n",
       "    <tr>\n",
       "      <th>treatment_1_minus_control_95_percent_upper</th>\n",
       "      <td>0.008087</td>\n",
       "    </tr>\n",
       "    <tr>\n",
       "      <th>z_statistic</th>\n",
       "      <td>5.914277</td>\n",
       "    </tr>\n",
       "    <tr>\n",
       "      <th>p_value</th>\n",
       "      <td>0.0</td>\n",
       "    </tr>\n",
       "    <tr>\n",
       "      <th>adjusted_p_value</th>\n",
       "      <td>0.0</td>\n",
       "    </tr>\n",
       "    <tr>\n",
       "      <th>reject_null_hypothesis</th>\n",
       "      <td>True</td>\n",
       "    </tr>\n",
       "  </tbody>\n",
       "</table>\n",
       "</div>"
      ],
      "text/plain": [
       "                                                     value\n",
       "treatment_1_mean                                  0.055204\n",
       "treatment_1_confidence_interval_95_percent_lower  0.053741\n",
       "treatment_1_confidence_interval_95_percent_upper  0.056667\n",
       "control_mean                                      0.049129\n",
       "control_confidence_interval_95_percent_lower      0.047746\n",
       "control_confidence_interval_95_percent_upper      0.050512\n",
       "treatment_1_minus_control_mean                    0.006074\n",
       "treatment_1_minus_control_95_percent_lower        0.004061\n",
       "treatment_1_minus_control_95_percent_upper        0.008087\n",
       "z_statistic                                       5.914277\n",
       "p_value                                                0.0\n",
       "adjusted_p_value                                       0.0\n",
       "reject_null_hypothesis                                True"
      ]
     },
     "execution_count": 20,
     "metadata": {},
     "output_type": "execute_result"
    }
   ],
   "source": [
    "results_abc[0]"
   ]
  },
  {
   "cell_type": "markdown",
   "id": "72a58cf0-ed16-48b1-a787-82c145911502",
   "metadata": {},
   "source": [
    "The above DataFrame contains the results of comparing control to treatment 1.  As we expected, there is a statistically significant difference and we can reject the null hypothesis"
   ]
  },
  {
   "cell_type": "code",
   "execution_count": 21,
   "id": "cb76ff2b-ffbf-45d1-9a02-9a7b0c39eb9e",
   "metadata": {},
   "outputs": [
    {
     "data": {
      "text/html": [
       "<div>\n",
       "<style scoped>\n",
       "    .dataframe tbody tr th:only-of-type {\n",
       "        vertical-align: middle;\n",
       "    }\n",
       "\n",
       "    .dataframe tbody tr th {\n",
       "        vertical-align: top;\n",
       "    }\n",
       "\n",
       "    .dataframe thead th {\n",
       "        text-align: right;\n",
       "    }\n",
       "</style>\n",
       "<table border=\"1\" class=\"dataframe\">\n",
       "  <thead>\n",
       "    <tr style=\"text-align: right;\">\n",
       "      <th></th>\n",
       "      <th>value</th>\n",
       "    </tr>\n",
       "  </thead>\n",
       "  <tbody>\n",
       "    <tr>\n",
       "      <th>treatment_2_mean</th>\n",
       "      <td>0.050467</td>\n",
       "    </tr>\n",
       "    <tr>\n",
       "      <th>treatment_2_confidence_interval_95_percent_lower</th>\n",
       "      <td>0.049064</td>\n",
       "    </tr>\n",
       "    <tr>\n",
       "      <th>treatment_2_confidence_interval_95_percent_upper</th>\n",
       "      <td>0.051871</td>\n",
       "    </tr>\n",
       "    <tr>\n",
       "      <th>control_mean</th>\n",
       "      <td>0.049129</td>\n",
       "    </tr>\n",
       "    <tr>\n",
       "      <th>control_confidence_interval_95_percent_lower</th>\n",
       "      <td>0.047746</td>\n",
       "    </tr>\n",
       "    <tr>\n",
       "      <th>control_confidence_interval_95_percent_upper</th>\n",
       "      <td>0.050512</td>\n",
       "    </tr>\n",
       "    <tr>\n",
       "      <th>treatment_2_minus_control_mean</th>\n",
       "      <td>0.001338</td>\n",
       "    </tr>\n",
       "    <tr>\n",
       "      <th>treatment_2_minus_control_95_percent_lower</th>\n",
       "      <td>-0.000633</td>\n",
       "    </tr>\n",
       "    <tr>\n",
       "      <th>treatment_2_minus_control_95_percent_upper</th>\n",
       "      <td>0.003308</td>\n",
       "    </tr>\n",
       "    <tr>\n",
       "      <th>z_statistic</th>\n",
       "      <td>1.330715</td>\n",
       "    </tr>\n",
       "    <tr>\n",
       "      <th>p_value</th>\n",
       "      <td>0.183283</td>\n",
       "    </tr>\n",
       "    <tr>\n",
       "      <th>adjusted_p_value</th>\n",
       "      <td>0.366565</td>\n",
       "    </tr>\n",
       "    <tr>\n",
       "      <th>reject_null_hypothesis</th>\n",
       "      <td>False</td>\n",
       "    </tr>\n",
       "  </tbody>\n",
       "</table>\n",
       "</div>"
      ],
      "text/plain": [
       "                                                     value\n",
       "treatment_2_mean                                  0.050467\n",
       "treatment_2_confidence_interval_95_percent_lower  0.049064\n",
       "treatment_2_confidence_interval_95_percent_upper  0.051871\n",
       "control_mean                                      0.049129\n",
       "control_confidence_interval_95_percent_lower      0.047746\n",
       "control_confidence_interval_95_percent_upper      0.050512\n",
       "treatment_2_minus_control_mean                    0.001338\n",
       "treatment_2_minus_control_95_percent_lower       -0.000633\n",
       "treatment_2_minus_control_95_percent_upper        0.003308\n",
       "z_statistic                                       1.330715\n",
       "p_value                                           0.183283\n",
       "adjusted_p_value                                  0.366565\n",
       "reject_null_hypothesis                               False"
      ]
     },
     "execution_count": 21,
     "metadata": {},
     "output_type": "execute_result"
    }
   ],
   "source": [
    "results_abc[1]"
   ]
  },
  {
   "cell_type": "markdown",
   "id": "ef13f54a-5144-4423-986d-15972d0ed07a",
   "metadata": {},
   "source": [
    "The above DataFrame contains the results of comparing control to treatment 2.  As we expected, the difference is not statistically significant and so we cannot reject the null hypothesis "
   ]
  },
  {
   "cell_type": "markdown",
   "id": "ae7ba097-00d2-4227-8e46-60b51cfc658c",
   "metadata": {},
   "source": [
    "These results can all be summarized in one plot:"
   ]
  },
  {
   "cell_type": "code",
   "execution_count": 22,
   "id": "934d00c8-a59a-430e-a86d-d5e7b3929ec0",
   "metadata": {},
   "outputs": [
    {
     "data": {
      "image/png": "[encoded data removed]",
      "text/plain": [
       "<Figure size 640x480 with 1 Axes>"
      ]
     },
     "metadata": {},
     "output_type": "display_data"
    }
   ],
   "source": [
    "experiment_abc.plot_n_variant_ab_test_results(list_of_dfs=results_abc, control_name='control', alpha=0.05)"
   ]
  },
  {
   "cell_type": "markdown",
   "id": "a9807d68-552f-4162-9261-fe0357296c95",
   "metadata": {},
   "source": [
    "As expected, the control and treatment group conversion estimates overlap. "
   ]
  },
  {
   "cell_type": "code",
   "execution_count": null,
   "id": "3cbb8767-4523-41d0-99e4-12a6f2a69413",
   "metadata": {},
   "outputs": [],
   "source": []
  }
 ],
 "metadata": {
  "kernelspec": {
   "display_name": "Python [conda env:causal_ml_py39]",
   "language": "python",
   "name": "conda-env-causal_ml_py39-py"
  },
  "language_info": {
   "codemirror_mode": {
    "name": "ipython",
    "version": 3
   },
   "file_extension": ".py",
   "mimetype": "text/x-python",
   "name": "python",
   "nbconvert_exporter": "python",
   "pygments_lexer": "ipython3",
   "version": "3.9.16"
  }
 },
 "nbformat": 4,
 "nbformat_minor": 5
}
