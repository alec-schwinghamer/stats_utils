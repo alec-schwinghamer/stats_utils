{
 "cells": [
  {
   "cell_type": "markdown",
   "id": "894baad0-63a9-4f01-a326-eb02999825da",
   "metadata": {},
   "source": [
    "This example will demonstrate how to use the randomization inference tools to analyze the results of a two variant A/B test, where the primary metric is continuous (e.g. dollars spent).  We'll first look at an example where the distributions of the continuous metric in both the control and treatment group are nicely behaved.  Here, conventional techniques like a t-test are sufficient.  We'll compare the application of the t-test to the randomization inference results.  \n",
    "\n",
    "In a second example, we'll look at data from an experiment where the outcome metric is heavily skewed by zeros (zero inflated).  In this case, the usual t-test approach is not applicable.  Instead, we'll use the randomization inference tools to look at the experiment results without needing to make any parametric assumptions about our data.  "
   ]
  },
  {
   "cell_type": "code",
   "execution_count": 1,
   "id": "2f0a308a-a5eb-48f6-bb23-a7b0b6e7cca5",
   "metadata": {
    "tags": []
   },
   "outputs": [],
   "source": [
    "import sys\n",
    "import pandas as pd"
   ]
  },
  {
   "cell_type": "code",
   "execution_count": 2,
   "id": "c069e65e-7821-4e42-9da1-bde445fd318e",
   "metadata": {
    "tags": []
   },
   "outputs": [],
   "source": [
    "# For now, this is a simple way to import the tools we need.\n",
    "# Be sure to update the path to point to where the relevant code is stored on your machine\n",
    "# TBD on eventually making this importable\n",
    "sys.path.append('../../../ab_testing_utils/')"
   ]
  },
  {
   "cell_type": "code",
   "execution_count": 4,
   "id": "3810fd98-9d42-4c2f-af16-e8c433531ebd",
   "metadata": {
    "tags": []
   },
   "outputs": [],
   "source": [
    "import skewed_metric_utils\n",
    "import sim_utils"
   ]
  },
  {
   "cell_type": "markdown",
   "id": "6984a70e-352d-4492-9129-6823b38e6bb1",
   "metadata": {},
   "source": [
    "### Conventional example\n",
    "\n",
    "First, we need to simulate some data.  We can use some of the pre-built tools in sim_utils.  \n",
    "\n",
    "Here, we'll assume that we're looking at the results of a two variant A/B tes.  Furthemore, we'll assume that:\n",
    "\n",
    "1. took place over the course of 4 weeks (4 * 7 = 28 days)  \n",
    "2. On average, we had about 10,000 eligible units per day that could be assigned to either treatment or control \n",
    "3. The assignment to treatment or control is even. i.e. the probability of being assigned to the control group is 50%\n",
    "4. Our primary metric here is dollars spent per unit\n",
    "5. In the control group, we'll assume that the mean dollars spent per unit is \\\\$1,000.  In the treatment group, we'll assume that the mean is \\\\$2,000, i.e. the treatment really did have a positive impact.  \n",
    "\n",
    "To make this simple, we'll just assume that the dollars spent in each group follows a normal distribution, centered on the mean. This means that the mean dollars spent is an appropriate test statistic here.  "
   ]
  },
  {
   "cell_type": "code",
   "execution_count": null,
   "id": "c3fcf505-6c22-4706-a7e8-aacde995ab73",
   "metadata": {},
   "outputs": [],
   "source": [
    "daily_num_observations = 10000\n",
    "number_of_days_for_experiment = 4 * 7\n",
    "p_vals = \"equal\"\n",
    "group_col = 'group'"
   ]
  },
  {
   "cell_type": "code",
   "execution_count": null,
   "id": "fcee2b37-6778-40b4-a763-7dc67fb75098",
   "metadata": {},
   "outputs": [],
   "source": []
  },
  {
   "cell_type": "code",
   "execution_count": 5,
   "id": "1aefcf74-21b2-42b5-9336-e6cb810edcbe",
   "metadata": {
    "tags": []
   },
   "outputs": [],
   "source": [
    "simulate_data = sim_utils.SimulateSkewedContinuous()"
   ]
  },
  {
   "cell_type": "code",
   "execution_count": null,
   "id": "27c254ca-4fa5-408a-a002-fc6799d86e40",
   "metadata": {},
   "outputs": [],
   "source": [
    "df = simulate_data.simulate_zero_skewed_outcomes()"
   ]
  }
 ],
 "metadata": {
  "kernelspec": {
   "display_name": "Python [conda env:causal_ml_py39] *",
   "language": "python",
   "name": "conda-env-causal_ml_py39-py"
  },
  "language_info": {
   "codemirror_mode": {
    "name": "ipython",
    "version": 3
   },
   "file_extension": ".py",
   "mimetype": "text/x-python",
   "name": "python",
   "nbconvert_exporter": "python",
   "pygments_lexer": "ipython3",
   "version": "3.9.15"
  }
 },
 "nbformat": 4,
 "nbformat_minor": 5
}
