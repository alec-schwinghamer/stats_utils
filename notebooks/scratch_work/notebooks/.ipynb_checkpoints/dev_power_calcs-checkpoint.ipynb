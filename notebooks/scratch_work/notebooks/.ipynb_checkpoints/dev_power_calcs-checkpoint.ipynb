{
 "cells": [
  {
   "cell_type": "markdown",
   "id": "299185b6-38de-4727-81eb-6f838369eff5",
   "metadata": {},
   "source": [
    "Scratch notebook to work on power calc functions"
   ]
  },
  {
   "cell_type": "code",
   "execution_count": 5,
   "id": "f81a5416-6920-4ce2-b3a0-32d022d5794f",
   "metadata": {},
   "outputs": [],
   "source": [
    "import os\n",
    "import sys\n",
    "import pandas as pd\n",
    "import numpy as np\n",
    "import scipy.stats as stats\n",
    "import matplotlib.pyplot as plt\n",
    "%matplotlib inline\n",
    "import seaborn as sns\n",
    "from matplotlib import style\n",
    "import importlib"
   ]
  },
  {
   "cell_type": "code",
   "execution_count": 2,
   "id": "f566f267-a8f4-4c06-b6b3-a7b3e6a2eb4d",
   "metadata": {},
   "outputs": [],
   "source": [
    "pd.options.display.max_columns=500\n",
    "pd.options.display.max_colwidth=500\n",
    "pd.options.display.max_rows=500"
   ]
  },
  {
   "cell_type": "code",
   "execution_count": 3,
   "id": "66559345-d7f8-4685-bb6a-3e82168bd491",
   "metadata": {},
   "outputs": [],
   "source": [
    "style.use('ggplot')"
   ]
  },
  {
   "cell_type": "code",
   "execution_count": 8,
   "id": "45356c63-7361-42fd-944c-1d2d0f1c673b",
   "metadata": {},
   "outputs": [],
   "source": [
    "sys.path.append('../ab_testing_utils/')"
   ]
  },
  {
   "cell_type": "code",
   "execution_count": 11,
   "id": "7286abb2-9c4f-427b-9d7a-ae54aa2969b5",
   "metadata": {},
   "outputs": [],
   "source": [
    "import conversion_rate_utils"
   ]
  },
  {
   "cell_type": "code",
   "execution_count": 14,
   "id": "aadf59fe-139a-4721-b1f0-ecc137f99b42",
   "metadata": {},
   "outputs": [],
   "source": [
    "def compute_sample_size(p0, mde, alpha=0.05, beta=0.2, tails=\"Two\"):\n",
    "    \"\"\"\n",
    "    Returns the sample size for a two-tailed AB test comparing conversion\n",
    "    rates.\n",
    "    The sample size equation is for binomial distributions only.\n",
    "    Parameters\n",
    "    ----------\n",
    "    p0 : float\n",
    "        Baseline conversion rate\n",
    "    mde : float or int\n",
    "        Minimum detectable effect. This is the 'sensitivity' of the test or\n",
    "        the relative difference in conversion rates that you want to be able\n",
    "        to detect.\n",
    "    alpha : float\n",
    "        The chances of a Type I error. Tests are normally run to a 95%\n",
    "        significance meaning an alpha of 1 - 0.95 = 0.05. Default = 0.05.\n",
    "    beta : float\n",
    "        The chances of a Type II error. For sample sizing, a beta of 0.2 is\n",
    "        acceptable and provides the test with 80% statistical power as is\n",
    "        standard.\n",
    "    tails : str\n",
    "        One or two tails to specify what type of hypothesis test this is.\n",
    "    Returns\n",
    "    -------\n",
    "    Minimum number of observations required per variant.\n",
    "    \"\"\"\n",
    "\n",
    "    # Conditional alpha value based on whether one or two tail test\n",
    "    if tails == \"Two\":\n",
    "        computed_alpha = alpha / 2\n",
    "    else:\n",
    "        computed_alpha = alpha\n",
    "\n",
    "    p1 = p0 * (1 + mde)\n",
    "    N = (\n",
    "        (stats.norm.ppf(1 - computed_alpha) + stats.norm.ppf(1 - beta)) ** 2\n",
    "        * (p0 * (1 - p0) + p1 * (1 - p1))\n",
    "        / ((p0 - p1) ** 2)\n",
    "    )\n",
    "    return int(N)"
   ]
  },
  {
   "cell_type": "code",
   "execution_count": 15,
   "id": "a852ba5f-6355-41ea-a6d5-40048de59b8d",
   "metadata": {},
   "outputs": [
    {
     "data": {
      "text/plain": [
       "57759"
      ]
     },
     "execution_count": 15,
     "metadata": {},
     "output_type": "execute_result"
    }
   ],
   "source": [
    "compute_sample_size(0.1, 0.05)"
   ]
  },
  {
   "cell_type": "code",
   "execution_count": 17,
   "id": "4ce55958-da75-43b4-9cf2-b8d3d8b1726f",
   "metadata": {},
   "outputs": [],
   "source": [
    "df = pd.DataFrame()"
   ]
  },
  {
   "cell_type": "code",
   "execution_count": 18,
   "id": "bdaf3e07-cd48-46e7-a4d9-fc1c116e5afc",
   "metadata": {},
   "outputs": [],
   "source": [
    "test_my_code = conversion_rate_utils.ConversionExperiment(df=df)"
   ]
  },
  {
   "cell_type": "code",
   "execution_count": 19,
   "id": "731b5285-59f0-46f6-a03c-972dac69aeec",
   "metadata": {},
   "outputs": [
    {
     "data": {
      "text/plain": [
       "56511.93408731341"
      ]
     },
     "execution_count": 19,
     "metadata": {},
     "output_type": "execute_result"
    }
   ],
   "source": [
    "test_my_code.calc_sample_size(power=0.8, alpha=0.05, relative_minimum_detectable_effect_size=0.05, baseline_conversion_rate=0.1)"
   ]
  },
  {
   "cell_type": "code",
   "execution_count": 20,
   "id": "84fb7061-68ba-4c02-bdac-717562ca2e30",
   "metadata": {},
   "outputs": [
    {
     "data": {
      "text/plain": [
       "0.09650582327777069"
      ]
     },
     "execution_count": 20,
     "metadata": {},
     "output_type": "execute_result"
    }
   ],
   "source": [
    "np.sin(np.arcsin(np.sqrt(0.1)) - 0.0117394/2)**2"
   ]
  },
  {
   "cell_type": "code",
   "execution_count": 21,
   "id": "a5097dc8-22fc-4e5b-af2c-ddb61cddaa04",
   "metadata": {},
   "outputs": [
    {
     "data": {
      "text/plain": [
       "0.0034941767222293196"
      ]
     },
     "execution_count": 21,
     "metadata": {},
     "output_type": "execute_result"
    }
   ],
   "source": [
    "0.1 - 0.09650582327777069"
   ]
  },
  {
   "cell_type": "code",
   "execution_count": 22,
   "id": "5d05fd49-4462-4b0e-95d1-a3936065005f",
   "metadata": {},
   "outputs": [],
   "source": [
    "# So my code seems to differ a bit.  The code above agrees mostly with pwr.2p.test(h=ES.h(p1=0.1, p2=0.105), sig.level=0.05, power=0.8, alternative=\"two.sided\")\n",
    "# Why? \n",
    "# mine is computing N as 2 * (sigma_squared * (z_power + z_alpha) ** 2) / delta**2\n",
    "# Is this different than above? Let's walk through it and see where we diverge:"
   ]
  },
  {
   "cell_type": "code",
   "execution_count": 24,
   "id": "b429ab3c-685a-491b-a845-57dddb9e1142",
   "metadata": {},
   "outputs": [],
   "source": [
    "# My calc:\n",
    "sigma_squared = 0.1 * (1 - 0.1)\n",
    "delta_ = 0.1*0.05"
   ]
  },
  {
   "cell_type": "code",
   "execution_count": 25,
   "id": "7675d917-92f2-429a-830d-64e4aa733995",
   "metadata": {},
   "outputs": [
    {
     "data": {
      "text/plain": [
       "0.09000000000000001"
      ]
     },
     "execution_count": 25,
     "metadata": {},
     "output_type": "execute_result"
    }
   ],
   "source": [
    "sigma_squared"
   ]
  },
  {
   "cell_type": "code",
   "execution_count": 26,
   "id": "d98648a9-fb4b-4dc4-b210-912f96a293ee",
   "metadata": {},
   "outputs": [
    {
     "data": {
      "text/plain": [
       "0.005000000000000001"
      ]
     },
     "execution_count": 26,
     "metadata": {},
     "output_type": "execute_result"
    }
   ],
   "source": [
    "delta_"
   ]
  },
  {
   "cell_type": "code",
   "execution_count": 28,
   "id": "cf2b0993-2aeb-4681-84c5-3e8f59a946b2",
   "metadata": {},
   "outputs": [],
   "source": [
    "z_alpha = stats.norm.ppf(1 - (0.05)/2)\n",
    "z_power = stats.norm.ppf(0.8)"
   ]
  },
  {
   "cell_type": "code",
   "execution_count": 29,
   "id": "d8a0fc55-6b23-4258-9aed-fc9794a1200a",
   "metadata": {},
   "outputs": [
    {
     "data": {
      "text/plain": [
       "1.959963984540054"
      ]
     },
     "execution_count": 29,
     "metadata": {},
     "output_type": "execute_result"
    }
   ],
   "source": [
    "z_alpha"
   ]
  },
  {
   "cell_type": "code",
   "execution_count": 30,
   "id": "9b26fc8b-015e-4800-801a-1f3dc4bede6f",
   "metadata": {},
   "outputs": [
    {
     "data": {
      "text/plain": [
       "0.8416212335729143"
      ]
     },
     "execution_count": 30,
     "metadata": {},
     "output_type": "execute_result"
    }
   ],
   "source": [
    "z_power"
   ]
  },
  {
   "cell_type": "code",
   "execution_count": 31,
   "id": "1707374c-cb61-4d0b-92b4-880f96bb87a6",
   "metadata": {},
   "outputs": [
    {
     "data": {
      "text/plain": [
       "56511.93408731341"
      ]
     },
     "execution_count": 31,
     "metadata": {},
     "output_type": "execute_result"
    }
   ],
   "source": [
    "2 * (sigma_squared * (z_alpha + z_power) ** 2) / (delta_)**2"
   ]
  },
  {
   "cell_type": "code",
   "execution_count": 32,
   "id": "c747cb98-7f34-4178-a0de-8e8b6db72275",
   "metadata": {},
   "outputs": [],
   "source": [
    "# Other calc:\n",
    "# p1 = p0 * (1 + mde)\n",
    "# N = (\n",
    "#     (stats.norm.ppf(1 - computed_alpha) + stats.norm.ppf(1 - beta)) ** 2\n",
    "#     * (p0 * (1 - p0) + p1 * (1 - p1))\n",
    "#     / ((p0 - p1) ** 2)\n",
    "# )\n",
    "p1 = 0.1 * (1 + 0.05)"
   ]
  },
  {
   "cell_type": "code",
   "execution_count": 33,
   "id": "65b265bc-7a0e-41b1-a658-a9cdf3b2e8f5",
   "metadata": {},
   "outputs": [
    {
     "data": {
      "text/plain": [
       "0.10500000000000001"
      ]
     },
     "execution_count": 33,
     "metadata": {},
     "output_type": "execute_result"
    }
   ],
   "source": [
    "p1"
   ]
  },
  {
   "cell_type": "code",
   "execution_count": 34,
   "id": "2d8d07ef-c1d9-450c-be5b-daebda2bad28",
   "metadata": {},
   "outputs": [
    {
     "data": {
      "text/plain": [
       "0.10500000000000001"
      ]
     },
     "execution_count": 34,
     "metadata": {},
     "output_type": "execute_result"
    }
   ],
   "source": [
    "# This should be the same as my: (correct)\n",
    "0.1 + delta_"
   ]
  },
  {
   "cell_type": "code",
   "execution_count": 35,
   "id": "eaea1235-cce0-4de2-9c8a-48c67093ed2f",
   "metadata": {},
   "outputs": [
    {
     "data": {
      "text/plain": [
       "7.848879734349088"
      ]
     },
     "execution_count": 35,
     "metadata": {},
     "output_type": "execute_result"
    }
   ],
   "source": [
    "(stats.norm.ppf(1 - 0.05/2) + stats.norm.ppf(0.8)) ** 2"
   ]
  },
  {
   "cell_type": "code",
   "execution_count": 36,
   "id": "98df1f55-2993-490f-a53f-08921e575d08",
   "metadata": {},
   "outputs": [
    {
     "data": {
      "text/plain": [
       "7.848879734349088"
      ]
     },
     "execution_count": 36,
     "metadata": {},
     "output_type": "execute_result"
    }
   ],
   "source": [
    "# Compare to my intermediate term:\n",
    "(z_alpha + z_power) ** 2"
   ]
  },
  {
   "cell_type": "code",
   "execution_count": 37,
   "id": "3c313ab1-7374-4d55-ba89-6f65a50153de",
   "metadata": {},
   "outputs": [],
   "source": [
    "# The same"
   ]
  },
  {
   "cell_type": "code",
   "execution_count": 38,
   "id": "a9fe745b-8530-445f-9d4b-62afac2ca003",
   "metadata": {},
   "outputs": [
    {
     "data": {
      "text/plain": [
       "0.18397500000000003"
      ]
     },
     "execution_count": 38,
     "metadata": {},
     "output_type": "execute_result"
    }
   ],
   "source": [
    "# The calc above then gets multiplied by:\n",
    "0.1 * (1 - 0.1) + p1 * (1 - p1)"
   ]
  },
  {
   "cell_type": "code",
   "execution_count": 41,
   "id": "6099ec69-cb05-41eb-9994-10f14b5a6c73",
   "metadata": {},
   "outputs": [
    {
     "data": {
      "text/plain": [
       "0.18000000000000002"
      ]
     },
     "execution_count": 41,
     "metadata": {},
     "output_type": "execute_result"
    }
   ],
   "source": [
    "2*sigma_squared"
   ]
  },
  {
   "cell_type": "code",
   "execution_count": 42,
   "id": "fa71063b-8954-40e9-89e8-00b972c7a453",
   "metadata": {},
   "outputs": [
    {
     "data": {
      "text/plain": [
       "2.5000000000000045e-05"
      ]
     },
     "execution_count": 42,
     "metadata": {},
     "output_type": "execute_result"
    }
   ],
   "source": [
    "# So this is slightly higher than 2 times sigma squared? Why? Is this the difference?\n",
    "# The result is divided by:\n",
    "(0.1 - p1) ** 2"
   ]
  },
  {
   "cell_type": "code",
   "execution_count": 43,
   "id": "0e5fe88c-c721-47d1-8a08-a08c7285b962",
   "metadata": {},
   "outputs": [
    {
     "data": {
      "text/plain": [
       "2.500000000000001e-05"
      ]
     },
     "execution_count": 43,
     "metadata": {},
     "output_type": "execute_result"
    }
   ],
   "source": [
    "delta_**2"
   ]
  },
  {
   "cell_type": "code",
   "execution_count": 44,
   "id": "0efd9929-2529-4204-9cf9-e1d870110a54",
   "metadata": {},
   "outputs": [],
   "source": [
    "# which is the same as my delta_**2 term, so the only difference arises from the 2*sigma_squared term.  I think this is possibly an approximation on my part"
   ]
  },
  {
   "cell_type": "code",
   "execution_count": 48,
   "id": "7dea9133-30c5-4e08-93a5-cc6abd3bdecc",
   "metadata": {},
   "outputs": [
    {
     "data": {
      "text/plain": [
       "57600"
      ]
     },
     "execution_count": 48,
     "metadata": {},
     "output_type": "execute_result"
    }
   ],
   "source": [
    "# Yeah, it's probably because of this:\n",
    "int(np.round(16 * sigma_squared /delta_**2))"
   ]
  },
  {
   "cell_type": "code",
   "execution_count": 51,
   "id": "7006cc60-6447-4b10-9428-e682024450d2",
   "metadata": {},
   "outputs": [
    {
     "data": {
      "text/plain": [
       "8142.817179335286"
      ]
     },
     "execution_count": 51,
     "metadata": {},
     "output_type": "execute_result"
    }
   ],
   "source": [
    "# Let's try this.  Say p1 = 0.5, p2 = 0.55\n",
    "# Then relative_mde = (0.55 - 0.5)/0.5 = 0.1\n",
    "# My calc gives:\n",
    "test_my_code.calc_sample_size(power=0.999, alpha=0.001, relative_minimum_detectable_effect_size=0.1, baseline_conversion_rate=0.5)"
   ]
  },
  {
   "cell_type": "code",
   "execution_count": 52,
   "id": "770e91ff-2097-40b7-bde0-94a9105fbb3b",
   "metadata": {},
   "outputs": [
    {
     "data": {
      "text/plain": [
       "8102"
      ]
     },
     "execution_count": 52,
     "metadata": {},
     "output_type": "execute_result"
    }
   ],
   "source": [
    "compute_sample_size(0.5, 0.1, alpha=0.001, beta=1-0.999)"
   ]
  },
  {
   "cell_type": "code",
   "execution_count": 54,
   "id": "e3ba2393-4d87-478d-b55a-e0b174f23a9b",
   "metadata": {},
   "outputs": [],
   "source": [
    "# Ok so this is fine. I'm going to stick with my code.  I have a better theoretical justification for why this is sensible. \n",
    "def create_mde_table(monthly_num_obs, baseline_conversion_rate, n_variants=2, alpha=0.05, power=0.8):\n",
    "    mde_range = np.arange(0.001, 2.001, 0.001)\n",
    "    \n",
    "    sample_sizes = [test_my_code.calc_sample_size(power=power, \n",
    "                                                  alpha=alpha, \n",
    "                                                  relative_minimum_detectable_effect_size=mde, \n",
    "                                                  baseline_conversion_rate=baseline_conversion_rate) * n_variants for mde in mde_range]\n",
    "    new_conversion_rates = [baseline_conversion_rate + test_my_code.calc_delta(baseline_conversion_rate=baseline_conversion_rate, \n",
    "                                                                              relative_minimum_detectable_effect_size=mde) for mde in mde_range]\n",
    "    \n",
    "    df_ = pd.DataFrame(mde_range, new_conversion_rates, sample_sizes).transpose()\n",
    "    df_.columns = ['mde', 'new_conversion_rate', 'total_sample_size']\n",
    "    df_['weeks'] = df_['total_sample_size'] / (monthly_num_obs / 4)\n",
    "    df_['monthly_additional_conversions'] = df_['new_conversion_rate'] * monthly_num_obs\n",
    "    \n",
    "    return df_"
   ]
  },
  {
   "cell_type": "code",
   "execution_count": 56,
   "id": "b9e78d20-72be-4b37-ad64-12e88ccdf9fb",
   "metadata": {},
   "outputs": [],
   "source": [
    "# df_mde = create_mde_table(monthly_num_obs=5000, baseline_conversion_rate=0.1, n_variants=2, alpha=0.05, power=0.8)"
   ]
  },
  {
   "cell_type": "code",
   "execution_count": 57,
   "id": "507b6e8e-dd57-4ef1-8c89-f3eb444e8c4c",
   "metadata": {},
   "outputs": [],
   "source": [
    "mde_range = np.arange(0.001, 2.001, 0.001)"
   ]
  },
  {
   "cell_type": "code",
   "execution_count": 58,
   "id": "5384c9e7-d212-494f-8974-0e5659fd1a25",
   "metadata": {},
   "outputs": [],
   "source": [
    "sample_sizes = [test_my_code.calc_sample_size(power=0.8, \n",
    "                                              alpha=0.05, \n",
    "                                              relative_minimum_detectable_effect_size=mde, \n",
    "                                              baseline_conversion_rate=0.1) * 2 for mde in mde_range]"
   ]
  },
  {
   "cell_type": "code",
   "execution_count": 59,
   "id": "518ccc5c-6125-4e1f-8a4a-f51f65148417",
   "metadata": {},
   "outputs": [],
   "source": [
    "# Should add upper and lower bounds to get a sense of which conversion rates will not be distinguishable from the baseline at the given power, alpha, and mde. \n",
    "new_conversion_rates = [0.1 + test_my_code.calc_delta(baseline_conversion_rate=0.1, \n",
    "                                                                          relative_minimum_detectable_effect_size=mde) for mde in mde_range]"
   ]
  },
  {
   "cell_type": "code",
   "execution_count": 61,
   "id": "8fb57ef9-9170-47f8-a6c6-c953aab1502e",
   "metadata": {},
   "outputs": [
    {
     "data": {
      "text/plain": [
       "2000"
      ]
     },
     "execution_count": 61,
     "metadata": {},
     "output_type": "execute_result"
    }
   ],
   "source": [
    "len(mde_range)"
   ]
  },
  {
   "cell_type": "code",
   "execution_count": 62,
   "id": "8fa1300b-6306-4376-9e1e-2fde034f2799",
   "metadata": {},
   "outputs": [
    {
     "data": {
      "text/plain": [
       "2000"
      ]
     },
     "execution_count": 62,
     "metadata": {},
     "output_type": "execute_result"
    }
   ],
   "source": [
    "len(sample_sizes)"
   ]
  },
  {
   "cell_type": "code",
   "execution_count": 63,
   "id": "b177dd87-2cc6-44ad-bc4e-9a38174ab967",
   "metadata": {},
   "outputs": [
    {
     "data": {
      "text/plain": [
       "2000"
      ]
     },
     "execution_count": 63,
     "metadata": {},
     "output_type": "execute_result"
    }
   ],
   "source": [
    "len(new_conversion_rates)"
   ]
  },
  {
   "cell_type": "code",
   "execution_count": 64,
   "id": "d5b55d00-c2d4-4af0-8864-354247e295d3",
   "metadata": {},
   "outputs": [
    {
     "data": {
      "text/plain": [
       "array([1.000e-03, 2.000e-03, 3.000e-03, ..., 1.998e+00, 1.999e+00,\n",
       "       2.000e+00])"
      ]
     },
     "execution_count": 64,
     "metadata": {},
     "output_type": "execute_result"
    }
   ],
   "source": [
    "mde_range"
   ]
  },
  {
   "cell_type": "code",
   "execution_count": 71,
   "id": "61b91686-cbeb-4244-b2b0-0e71a500c14b",
   "metadata": {},
   "outputs": [],
   "source": [
    "df_ = pd.DataFrame()"
   ]
  },
  {
   "cell_type": "code",
   "execution_count": 73,
   "id": "94dc2c19-869a-4af1-9ef5-70b47f1b95cd",
   "metadata": {},
   "outputs": [],
   "source": [
    "df_['mde'] = mde_range"
   ]
  },
  {
   "cell_type": "code",
   "execution_count": 75,
   "id": "368f3ec8-5e32-4b6d-a53d-8577b448a27b",
   "metadata": {},
   "outputs": [],
   "source": [
    "df_['new_conversion_rate'] = new_conversion_rates"
   ]
  },
  {
   "cell_type": "code",
   "execution_count": 76,
   "id": "1054ecbd-548d-4aea-9b9c-115efc6efe6b",
   "metadata": {},
   "outputs": [],
   "source": [
    "df_['total_sample_size'] = sample_sizes"
   ]
  },
  {
   "cell_type": "code",
   "execution_count": 78,
   "id": "5ddc6bd4-5df9-48d1-9d97-bedeb9dd030b",
   "metadata": {},
   "outputs": [
    {
     "data": {
      "text/html": [
       "<div>\n",
       "<style scoped>\n",
       "    .dataframe tbody tr th:only-of-type {\n",
       "        vertical-align: middle;\n",
       "    }\n",
       "\n",
       "    .dataframe tbody tr th {\n",
       "        vertical-align: top;\n",
       "    }\n",
       "\n",
       "    .dataframe thead th {\n",
       "        text-align: right;\n",
       "    }\n",
       "</style>\n",
       "<table border=\"1\" class=\"dataframe\">\n",
       "  <thead>\n",
       "    <tr style=\"text-align: right;\">\n",
       "      <th></th>\n",
       "      <th>mde</th>\n",
       "      <th>new_conversion_rate</th>\n",
       "      <th>total_sample_size</th>\n",
       "    </tr>\n",
       "  </thead>\n",
       "  <tbody>\n",
       "    <tr>\n",
       "      <th>999</th>\n",
       "      <td>1.0</td>\n",
       "      <td>0.2</td>\n",
       "      <td>282.55967</td>\n",
       "    </tr>\n",
       "  </tbody>\n",
       "</table>\n",
       "</div>"
      ],
      "text/plain": [
       "     mde  new_conversion_rate  total_sample_size\n",
       "999  1.0                  0.2          282.55967"
      ]
     },
     "execution_count": 78,
     "metadata": {},
     "output_type": "execute_result"
    }
   ],
   "source": [
    "df_.loc[(df_['mde'] == 1)]"
   ]
  },
  {
   "cell_type": "code",
   "execution_count": 81,
   "id": "5fa0d703-d883-44bf-a092-38ec629939d8",
   "metadata": {},
   "outputs": [
    {
     "data": {
      "text/plain": [
       "141.27983521828358"
      ]
     },
     "execution_count": 81,
     "metadata": {},
     "output_type": "execute_result"
    }
   ],
   "source": [
    "# Yeah this is right. \n",
    "test_my_code.calc_sample_size(power=0.8, \n",
    "                              alpha=0.05, \n",
    "                              relative_minimum_detectable_effect_size=1, \n",
    "                              baseline_conversion_rate=0.1)"
   ]
  },
  {
   "cell_type": "code",
   "execution_count": null,
   "id": "d84adb5c-7005-4b95-8a01-5e11a272a775",
   "metadata": {},
   "outputs": [],
   "source": []
  }
 ],
 "metadata": {
  "kernelspec": {
   "display_name": "Python [conda env:causal_ml_py39]",
   "language": "python",
   "name": "conda-env-causal_ml_py39-py"
  },
  "language_info": {
   "codemirror_mode": {
    "name": "ipython",
    "version": 3
   },
   "file_extension": ".py",
   "mimetype": "text/x-python",
   "name": "python",
   "nbconvert_exporter": "python",
   "pygments_lexer": "ipython3",
   "version": "3.9.16"
  }
 },
 "nbformat": 4,
 "nbformat_minor": 5
}
