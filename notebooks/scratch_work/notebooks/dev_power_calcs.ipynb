{
 "cells": [
  {
   "cell_type": "markdown",
   "id": "299185b6-38de-4727-81eb-6f838369eff5",
   "metadata": {},
   "source": [
    "Scratch notebook to work on power calc functions"
   ]
  },
  {
   "cell_type": "code",
   "execution_count": 49,
   "id": "f81a5416-6920-4ce2-b3a0-32d022d5794f",
   "metadata": {
    "tags": []
   },
   "outputs": [],
   "source": [
    "import os\n",
    "import sys\n",
    "import pandas as pd\n",
    "import numpy as np\n",
    "import scipy.stats as stats\n",
    "import matplotlib.pyplot as plt\n",
    "%matplotlib inline\n",
    "import seaborn as sns\n",
    "from matplotlib import style\n",
    "import importlib\n",
    "import matplotlib.ticker as mtick\n",
    "\n",
    "from scipy.interpolate import make_interp_spline"
   ]
  },
  {
   "cell_type": "code",
   "execution_count": 2,
   "id": "f566f267-a8f4-4c06-b6b3-a7b3e6a2eb4d",
   "metadata": {
    "tags": []
   },
   "outputs": [],
   "source": [
    "pd.options.display.max_columns=500\n",
    "pd.options.display.max_colwidth=500\n",
    "pd.options.display.max_rows=500"
   ]
  },
  {
   "cell_type": "code",
   "execution_count": 3,
   "id": "66559345-d7f8-4685-bb6a-3e82168bd491",
   "metadata": {
    "tags": []
   },
   "outputs": [],
   "source": [
    "style.use('fivethirtyeight')"
   ]
  },
  {
   "cell_type": "code",
   "execution_count": 4,
   "id": "45356c63-7361-42fd-944c-1d2d0f1c673b",
   "metadata": {
    "tags": []
   },
   "outputs": [],
   "source": [
    "# sys.path.append('../../scratch_work/ab_testing_utils/')\n",
    "sys.path.append('../../../ab_testing_utils/')"
   ]
  },
  {
   "cell_type": "code",
   "execution_count": 5,
   "id": "7286abb2-9c4f-427b-9d7a-ae54aa2969b5",
   "metadata": {
    "tags": []
   },
   "outputs": [],
   "source": [
    "import conversion_rate_utils"
   ]
  },
  {
   "cell_type": "code",
   "execution_count": 6,
   "id": "aadf59fe-139a-4721-b1f0-ecc137f99b42",
   "metadata": {
    "tags": []
   },
   "outputs": [],
   "source": [
    "def compute_sample_size(p0, mde, alpha=0.05, beta=0.2, tails=\"Two\"):\n",
    "    \"\"\"\n",
    "    Returns the sample size for a two-tailed AB test comparing conversion\n",
    "    rates.\n",
    "    The sample size equation is for binomial distributions only.\n",
    "    Parameters\n",
    "    ----------\n",
    "    p0 : float\n",
    "        Baseline conversion rate\n",
    "    mde : float or int\n",
    "        Minimum detectable effect. This is the 'sensitivity' of the test or\n",
    "        the relative difference in conversion rates that you want to be able\n",
    "        to detect.\n",
    "    alpha : float\n",
    "        The chances of a Type I error. Tests are normally run to a 95%\n",
    "        significance meaning an alpha of 1 - 0.95 = 0.05. Default = 0.05.\n",
    "    beta : float\n",
    "        The chances of a Type II error. For sample sizing, a beta of 0.2 is\n",
    "        acceptable and provides the test with 80% statistical power as is\n",
    "        standard.\n",
    "    tails : str\n",
    "        One or two tails to specify what type of hypothesis test this is.\n",
    "    Returns\n",
    "    -------\n",
    "    Minimum number of observations required per variant.\n",
    "    \"\"\"\n",
    "\n",
    "    # Conditional alpha value based on whether one or two tail test\n",
    "    if tails == \"Two\":\n",
    "        computed_alpha = alpha / 2\n",
    "    else:\n",
    "        computed_alpha = alpha\n",
    "\n",
    "    p1 = p0 * (1 + mde)\n",
    "    N = (\n",
    "        (stats.norm.ppf(1 - computed_alpha) + stats.norm.ppf(1 - beta)) ** 2\n",
    "        * (p0 * (1 - p0) + p1 * (1 - p1))\n",
    "        / ((p0 - p1) ** 2)\n",
    "    )\n",
    "    return int(N)"
   ]
  },
  {
   "cell_type": "code",
   "execution_count": 7,
   "id": "a852ba5f-6355-41ea-a6d5-40048de59b8d",
   "metadata": {
    "tags": []
   },
   "outputs": [
    {
     "data": {
      "text/plain": [
       "57759"
      ]
     },
     "execution_count": 7,
     "metadata": {},
     "output_type": "execute_result"
    }
   ],
   "source": [
    "compute_sample_size(0.1, 0.05)"
   ]
  },
  {
   "cell_type": "code",
   "execution_count": 8,
   "id": "4ce55958-da75-43b4-9cf2-b8d3d8b1726f",
   "metadata": {
    "tags": []
   },
   "outputs": [],
   "source": [
    "df = pd.DataFrame()"
   ]
  },
  {
   "cell_type": "code",
   "execution_count": 9,
   "id": "bdaf3e07-cd48-46e7-a4d9-fc1c116e5afc",
   "metadata": {
    "tags": []
   },
   "outputs": [],
   "source": [
    "test_my_code = conversion_rate_utils.ConversionExperiment(df=df)"
   ]
  },
  {
   "cell_type": "code",
   "execution_count": 10,
   "id": "731b5285-59f0-46f6-a03c-972dac69aeec",
   "metadata": {
    "tags": []
   },
   "outputs": [
    {
     "data": {
      "text/plain": [
       "56512"
      ]
     },
     "execution_count": 10,
     "metadata": {},
     "output_type": "execute_result"
    }
   ],
   "source": [
    "test_my_code.calc_sample_size(power=0.8, alpha=0.05, relative_minimum_detectable_effect_size=0.05, baseline_conversion_rate=0.1)"
   ]
  },
  {
   "cell_type": "code",
   "execution_count": 11,
   "id": "84fb7061-68ba-4c02-bdac-717562ca2e30",
   "metadata": {
    "tags": []
   },
   "outputs": [
    {
     "data": {
      "text/plain": [
       "0.09650582327777069"
      ]
     },
     "execution_count": 11,
     "metadata": {},
     "output_type": "execute_result"
    }
   ],
   "source": [
    "np.sin(np.arcsin(np.sqrt(0.1)) - 0.0117394/2)**2"
   ]
  },
  {
   "cell_type": "code",
   "execution_count": 12,
   "id": "a5097dc8-22fc-4e5b-af2c-ddb61cddaa04",
   "metadata": {
    "tags": []
   },
   "outputs": [
    {
     "data": {
      "text/plain": [
       "0.0034941767222293196"
      ]
     },
     "execution_count": 12,
     "metadata": {},
     "output_type": "execute_result"
    }
   ],
   "source": [
    "0.1 - 0.09650582327777069"
   ]
  },
  {
   "cell_type": "code",
   "execution_count": 13,
   "id": "5d05fd49-4462-4b0e-95d1-a3936065005f",
   "metadata": {
    "tags": []
   },
   "outputs": [],
   "source": [
    "# So my code seems to differ a bit.  The code above agrees mostly with pwr.2p.test(h=ES.h(p1=0.1, p2=0.105), sig.level=0.05, power=0.8, alternative=\"two.sided\")\n",
    "# Why? \n",
    "# mine is computing N as 2 * (sigma_squared * (z_power + z_alpha) ** 2) / delta**2\n",
    "# Is this different than above? Let's walk through it and see where we diverge:"
   ]
  },
  {
   "cell_type": "code",
   "execution_count": 14,
   "id": "b429ab3c-685a-491b-a845-57dddb9e1142",
   "metadata": {
    "tags": []
   },
   "outputs": [],
   "source": [
    "# My calc:\n",
    "sigma_squared = 0.1 * (1 - 0.1)\n",
    "delta_ = 0.1*0.05"
   ]
  },
  {
   "cell_type": "code",
   "execution_count": 15,
   "id": "7675d917-92f2-429a-830d-64e4aa733995",
   "metadata": {
    "tags": []
   },
   "outputs": [
    {
     "data": {
      "text/plain": [
       "0.09000000000000001"
      ]
     },
     "execution_count": 15,
     "metadata": {},
     "output_type": "execute_result"
    }
   ],
   "source": [
    "sigma_squared"
   ]
  },
  {
   "cell_type": "code",
   "execution_count": 16,
   "id": "d98648a9-fb4b-4dc4-b210-912f96a293ee",
   "metadata": {
    "tags": []
   },
   "outputs": [
    {
     "data": {
      "text/plain": [
       "0.005000000000000001"
      ]
     },
     "execution_count": 16,
     "metadata": {},
     "output_type": "execute_result"
    }
   ],
   "source": [
    "delta_"
   ]
  },
  {
   "cell_type": "code",
   "execution_count": 17,
   "id": "cf2b0993-2aeb-4681-84c5-3e8f59a946b2",
   "metadata": {
    "tags": []
   },
   "outputs": [],
   "source": [
    "z_alpha = stats.norm.ppf(1 - (0.05)/2)\n",
    "z_power = stats.norm.ppf(0.8)"
   ]
  },
  {
   "cell_type": "code",
   "execution_count": 18,
   "id": "d8a0fc55-6b23-4258-9aed-fc9794a1200a",
   "metadata": {
    "tags": []
   },
   "outputs": [
    {
     "data": {
      "text/plain": [
       "1.959963984540054"
      ]
     },
     "execution_count": 18,
     "metadata": {},
     "output_type": "execute_result"
    }
   ],
   "source": [
    "z_alpha"
   ]
  },
  {
   "cell_type": "code",
   "execution_count": 19,
   "id": "9b26fc8b-015e-4800-801a-1f3dc4bede6f",
   "metadata": {
    "tags": []
   },
   "outputs": [
    {
     "data": {
      "text/plain": [
       "0.8416212335729143"
      ]
     },
     "execution_count": 19,
     "metadata": {},
     "output_type": "execute_result"
    }
   ],
   "source": [
    "z_power"
   ]
  },
  {
   "cell_type": "code",
   "execution_count": 20,
   "id": "1707374c-cb61-4d0b-92b4-880f96bb87a6",
   "metadata": {
    "tags": []
   },
   "outputs": [
    {
     "data": {
      "text/plain": [
       "56511.93408731341"
      ]
     },
     "execution_count": 20,
     "metadata": {},
     "output_type": "execute_result"
    }
   ],
   "source": [
    "2 * (sigma_squared * (z_alpha + z_power) ** 2) / (delta_)**2"
   ]
  },
  {
   "cell_type": "code",
   "execution_count": 21,
   "id": "c747cb98-7f34-4178-a0de-8e8b6db72275",
   "metadata": {
    "tags": []
   },
   "outputs": [],
   "source": [
    "# Other calc:\n",
    "# p1 = p0 * (1 + mde)\n",
    "# N = (\n",
    "#     (stats.norm.ppf(1 - computed_alpha) + stats.norm.ppf(1 - beta)) ** 2\n",
    "#     * (p0 * (1 - p0) + p1 * (1 - p1))\n",
    "#     / ((p0 - p1) ** 2)\n",
    "# )\n",
    "p1 = 0.1 * (1 + 0.05)"
   ]
  },
  {
   "cell_type": "code",
   "execution_count": 22,
   "id": "65b265bc-7a0e-41b1-a658-a9cdf3b2e8f5",
   "metadata": {
    "tags": []
   },
   "outputs": [
    {
     "data": {
      "text/plain": [
       "0.10500000000000001"
      ]
     },
     "execution_count": 22,
     "metadata": {},
     "output_type": "execute_result"
    }
   ],
   "source": [
    "p1"
   ]
  },
  {
   "cell_type": "code",
   "execution_count": 23,
   "id": "2d8d07ef-c1d9-450c-be5b-daebda2bad28",
   "metadata": {
    "tags": []
   },
   "outputs": [
    {
     "data": {
      "text/plain": [
       "0.10500000000000001"
      ]
     },
     "execution_count": 23,
     "metadata": {},
     "output_type": "execute_result"
    }
   ],
   "source": [
    "# This should be the same as my: (correct)\n",
    "0.1 + delta_"
   ]
  },
  {
   "cell_type": "code",
   "execution_count": 24,
   "id": "eaea1235-cce0-4de2-9c8a-48c67093ed2f",
   "metadata": {
    "tags": []
   },
   "outputs": [
    {
     "data": {
      "text/plain": [
       "7.848879734349088"
      ]
     },
     "execution_count": 24,
     "metadata": {},
     "output_type": "execute_result"
    }
   ],
   "source": [
    "(stats.norm.ppf(1 - 0.05/2) + stats.norm.ppf(0.8)) ** 2"
   ]
  },
  {
   "cell_type": "code",
   "execution_count": 25,
   "id": "98df1f55-2993-490f-a53f-08921e575d08",
   "metadata": {
    "tags": []
   },
   "outputs": [
    {
     "data": {
      "text/plain": [
       "7.848879734349088"
      ]
     },
     "execution_count": 25,
     "metadata": {},
     "output_type": "execute_result"
    }
   ],
   "source": [
    "# Compare to my intermediate term:\n",
    "(z_alpha + z_power) ** 2"
   ]
  },
  {
   "cell_type": "code",
   "execution_count": 26,
   "id": "3c313ab1-7374-4d55-ba89-6f65a50153de",
   "metadata": {
    "tags": []
   },
   "outputs": [],
   "source": [
    "# The same"
   ]
  },
  {
   "cell_type": "code",
   "execution_count": 27,
   "id": "a9fe745b-8530-445f-9d4b-62afac2ca003",
   "metadata": {
    "tags": []
   },
   "outputs": [
    {
     "data": {
      "text/plain": [
       "0.18397500000000003"
      ]
     },
     "execution_count": 27,
     "metadata": {},
     "output_type": "execute_result"
    }
   ],
   "source": [
    "# The calc above then gets multiplied by:\n",
    "0.1 * (1 - 0.1) + p1 * (1 - p1)"
   ]
  },
  {
   "cell_type": "code",
   "execution_count": 28,
   "id": "6099ec69-cb05-41eb-9994-10f14b5a6c73",
   "metadata": {
    "tags": []
   },
   "outputs": [
    {
     "data": {
      "text/plain": [
       "0.18000000000000002"
      ]
     },
     "execution_count": 28,
     "metadata": {},
     "output_type": "execute_result"
    }
   ],
   "source": [
    "2*sigma_squared"
   ]
  },
  {
   "cell_type": "code",
   "execution_count": 29,
   "id": "fa71063b-8954-40e9-89e8-00b972c7a453",
   "metadata": {
    "tags": []
   },
   "outputs": [
    {
     "data": {
      "text/plain": [
       "2.5000000000000045e-05"
      ]
     },
     "execution_count": 29,
     "metadata": {},
     "output_type": "execute_result"
    }
   ],
   "source": [
    "# So this is slightly higher than 2 times sigma squared? Why? Is this the difference?\n",
    "# The result is divided by:\n",
    "(0.1 - p1) ** 2"
   ]
  },
  {
   "cell_type": "code",
   "execution_count": 30,
   "id": "0e5fe88c-c721-47d1-8a08-a08c7285b962",
   "metadata": {
    "tags": []
   },
   "outputs": [
    {
     "data": {
      "text/plain": [
       "2.500000000000001e-05"
      ]
     },
     "execution_count": 30,
     "metadata": {},
     "output_type": "execute_result"
    }
   ],
   "source": [
    "delta_**2"
   ]
  },
  {
   "cell_type": "code",
   "execution_count": 31,
   "id": "0efd9929-2529-4204-9cf9-e1d870110a54",
   "metadata": {
    "tags": []
   },
   "outputs": [],
   "source": [
    "# which is the same as my delta_**2 term, so the only difference arises from the 2*sigma_squared term.  I think this is possibly an approximation on my part"
   ]
  },
  {
   "cell_type": "code",
   "execution_count": 32,
   "id": "7dea9133-30c5-4e08-93a5-cc6abd3bdecc",
   "metadata": {
    "tags": []
   },
   "outputs": [
    {
     "data": {
      "text/plain": [
       "57600"
      ]
     },
     "execution_count": 32,
     "metadata": {},
     "output_type": "execute_result"
    }
   ],
   "source": [
    "# Yeah, it's probably because of this:\n",
    "int(np.round(16 * sigma_squared /delta_**2))"
   ]
  },
  {
   "cell_type": "code",
   "execution_count": 33,
   "id": "7006cc60-6447-4b10-9428-e682024450d2",
   "metadata": {
    "tags": []
   },
   "outputs": [
    {
     "data": {
      "text/plain": [
       "8143"
      ]
     },
     "execution_count": 33,
     "metadata": {},
     "output_type": "execute_result"
    }
   ],
   "source": [
    "# Let's try this.  Say p1 = 0.5, p2 = 0.55\n",
    "# Then relative_mde = (0.55 - 0.5)/0.5 = 0.1\n",
    "# My calc gives:\n",
    "test_my_code.calc_sample_size(power=0.999, alpha=0.001, relative_minimum_detectable_effect_size=0.1, baseline_conversion_rate=0.5)"
   ]
  },
  {
   "cell_type": "code",
   "execution_count": 34,
   "id": "770e91ff-2097-40b7-bde0-94a9105fbb3b",
   "metadata": {
    "tags": []
   },
   "outputs": [
    {
     "data": {
      "text/plain": [
       "8102"
      ]
     },
     "execution_count": 34,
     "metadata": {},
     "output_type": "execute_result"
    }
   ],
   "source": [
    "compute_sample_size(0.5, 0.1, alpha=0.001, beta=1-0.999)"
   ]
  },
  {
   "cell_type": "code",
   "execution_count": 35,
   "id": "af4d0737-0ddd-430c-b356-e8f44012a54b",
   "metadata": {
    "tags": []
   },
   "outputs": [],
   "source": [
    "# roboto = {\"fontname\": \"Roboto\", \"size\": \"11\"}\n",
    "# roboto_light = {\"fontname\": \"Roboto\", \"size\": \"10\", \"weight\": \"light\"}\n",
    "# roboto_title = {\"fontname\": \"Roboto\", \"size\": \"12\", \"weight\": \"bold\"}\n",
    "# roboto_small = {\"fontname\": \"Roboto\", \"size\": \"7.5\", \"weight\": \"light\"}\n",
    "\n",
    "# font = {\"family\": \"sans-serif\", \"sans-serif\": \"roboto\", \"size\": 11}\n",
    "\n",
    "# plt.rc(\"font\", **font)"
   ]
  },
  {
   "cell_type": "code",
   "execution_count": 36,
   "id": "8cc76c73-62b7-4bc1-8971-6f4a8d6613e6",
   "metadata": {
    "tags": []
   },
   "outputs": [],
   "source": [
    "def round_and_int_convert_columns(df_, col_name):\n",
    "    # We actually need to be a bit careful here.  Experimental runtimes should be conservative: biased upwards, where as expected additional lifts should be biased downwards\n",
    "    if col_name in ['monthly_additional_conversions_upper', 'monthly_additional_conversions_lower']:\n",
    "        df_[col_name] = np.round(df_[col_name])\n",
    "        df_[col_name] = df_[col_name].astype(int)\n",
    "    else:\n",
    "        df_[col_name] = np.ceil(df_[col_name])\n",
    "        df_[col_name] = df_[col_name].astype(int)\n",
    "    return df_"
   ]
  },
  {
   "cell_type": "code",
   "execution_count": 37,
   "id": "e3ba2393-4d87-478d-b55a-e0b174f23a9b",
   "metadata": {
    "tags": []
   },
   "outputs": [],
   "source": [
    "# Ok so this is fine. I'm going to stick with my code.  I have a better theoretical justification for why this is sensible. \n",
    "def create_mde_table(monthly_num_obs, baseline_conversion_rate, n_variants=2, alpha=0.05, power=0.8):\n",
    "    mde_range = np.arange(0.001, 2.001, 0.001)\n",
    "    \n",
    "    sample_sizes = [test_my_code.calc_sample_size(power=power, \n",
    "                                                  alpha=alpha, \n",
    "                                                  relative_minimum_detectable_effect_size=mde, \n",
    "                                                  baseline_conversion_rate=baseline_conversion_rate) * n_variants for mde in mde_range]\n",
    "    new_conversion_rates_upper = [baseline_conversion_rate + test_my_code.calc_delta(baseline_conversion_rate=baseline_conversion_rate, \n",
    "                                                                              relative_minimum_detectable_effect_size=mde) for mde in mde_range]\n",
    "    new_conversion_rates_lower = [baseline_conversion_rate - test_my_code.calc_delta(baseline_conversion_rate=baseline_conversion_rate, \n",
    "                                                                          relative_minimum_detectable_effect_size=mde) for mde in mde_range]\n",
    "    df_ = pd.DataFrame()\n",
    "    df_['mde'] = mde_range\n",
    "    df_['new_conversion_rate_upper_bound'] = new_conversion_rates_upper\n",
    "    df_['new_conversion_rate_lower_bound'] = new_conversion_rates_lower\n",
    "    df_['total_sample_size'] = sample_sizes\n",
    "    df_['sample_size_per_variant'] = np.array(sample_sizes) / n_variants\n",
    "    df_['days'] = df_['total_sample_size'] / (monthly_num_obs / 30)\n",
    "    df_['weeks'] = df_['days'] / 7\n",
    "    df_['monthly_additional_conversions_upper'] = (df_['new_conversion_rate_upper_bound'] * monthly_num_obs) - (baseline_conversion_rate * monthly_num_obs)\n",
    "    df_['monthly_additional_conversions_lower'] = (baseline_conversion_rate * monthly_num_obs) - (df_['new_conversion_rate_lower_bound'] * monthly_num_obs)\n",
    "    \n",
    "    for col_ in ['total_sample_size', 'sample_size_per_variant', 'days', 'weeks', 'monthly_additional_conversions_upper', 'monthly_additional_conversions_lower']:\n",
    "        df_ = round_and_int_convert_columns(df_=df_, col_name=col_)\n",
    "    \n",
    "    return df_"
   ]
  },
  {
   "cell_type": "code",
   "execution_count": 38,
   "id": "c9d53476-74c8-4877-a9d6-9d4b23284833",
   "metadata": {
    "tags": []
   },
   "outputs": [],
   "source": [
    "# I'll also want a version to explore options around effect size and variations in power/significance level"
   ]
  },
  {
   "cell_type": "code",
   "execution_count": 39,
   "id": "b9e78d20-72be-4b37-ad64-12e88ccdf9fb",
   "metadata": {
    "tags": []
   },
   "outputs": [],
   "source": [
    "df_mde = create_mde_table(monthly_num_obs=500000, baseline_conversion_rate=0.1, n_variants=2, alpha=0.05, power=0.8)\n",
    "# mde_ranges, sample_sizes, new_conversion_rates = create_mde_table(monthly_num_obs=5000, baseline_conversion_rate=0.1, n_variants=2, alpha=0.05, power=0.8)"
   ]
  },
  {
   "cell_type": "code",
   "execution_count": 40,
   "id": "7d74cb3d-7ee8-4725-abe7-29877e57cc84",
   "metadata": {
    "tags": []
   },
   "outputs": [
    {
     "data": {
      "text/html": [
       "<div>\n",
       "<style scoped>\n",
       "    .dataframe tbody tr th:only-of-type {\n",
       "        vertical-align: middle;\n",
       "    }\n",
       "\n",
       "    .dataframe tbody tr th {\n",
       "        vertical-align: top;\n",
       "    }\n",
       "\n",
       "    .dataframe thead th {\n",
       "        text-align: right;\n",
       "    }\n",
       "</style>\n",
       "<table border=\"1\" class=\"dataframe\">\n",
       "  <thead>\n",
       "    <tr style=\"text-align: right;\">\n",
       "      <th></th>\n",
       "      <th>mde</th>\n",
       "      <th>new_conversion_rate_upper_bound</th>\n",
       "      <th>new_conversion_rate_lower_bound</th>\n",
       "      <th>total_sample_size</th>\n",
       "      <th>sample_size_per_variant</th>\n",
       "      <th>days</th>\n",
       "      <th>weeks</th>\n",
       "      <th>monthly_additional_conversions_upper</th>\n",
       "      <th>monthly_additional_conversions_lower</th>\n",
       "    </tr>\n",
       "  </thead>\n",
       "  <tbody>\n",
       "    <tr>\n",
       "      <th>189</th>\n",
       "      <td>0.19</td>\n",
       "      <td>0.119</td>\n",
       "      <td>0.081</td>\n",
       "      <td>7828</td>\n",
       "      <td>3914</td>\n",
       "      <td>1</td>\n",
       "      <td>1</td>\n",
       "      <td>9500</td>\n",
       "      <td>9500</td>\n",
       "    </tr>\n",
       "  </tbody>\n",
       "</table>\n",
       "</div>"
      ],
      "text/plain": [
       "      mde  new_conversion_rate_upper_bound  new_conversion_rate_lower_bound  \\\n",
       "189  0.19                            0.119                            0.081   \n",
       "\n",
       "     total_sample_size  sample_size_per_variant  days  weeks  \\\n",
       "189               7828                     3914     1      1   \n",
       "\n",
       "     monthly_additional_conversions_upper  \\\n",
       "189                                  9500   \n",
       "\n",
       "     monthly_additional_conversions_lower  \n",
       "189                                  9500  "
      ]
     },
     "execution_count": 40,
     "metadata": {},
     "output_type": "execute_result"
    }
   ],
   "source": [
    "df_mde.loc[df_mde['mde'] == 0.19]"
   ]
  },
  {
   "cell_type": "code",
   "execution_count": 41,
   "id": "d84adb5c-7005-4b95-8a01-5e11a272a775",
   "metadata": {
    "tags": []
   },
   "outputs": [
    {
     "data": {
      "text/plain": [
       "682"
      ]
     },
     "execution_count": 41,
     "metadata": {},
     "output_type": "execute_result"
    }
   ],
   "source": [
    "compute_sample_size(p0=0.1, mde=0.5)"
   ]
  },
  {
   "cell_type": "code",
   "execution_count": 42,
   "id": "fe39e9f9-2338-483b-b17a-0e76140b1081",
   "metadata": {
    "tags": []
   },
   "outputs": [],
   "source": [
    "# Compare to evan miller's code:\n",
    "# delta is the same\n",
    "# t_alpha2 is the same as your z_alpha\n",
    "# t_bets is the same as your z_beta\n",
    "# sd1 = sqrt(2 * baseline * (1 - baseline))\n",
    "# sd2 = sqrt(baseline * (1 - baseline) + (baseline + delta) * (1 - baseline - delta))\n",
    "# then n = (t_alpha2 * sd1 + t_beta * sd2) * (t_alpha2 * sd1 + t_beta * sd2) / delta**2\n",
    "# So the difference is in the numerator...yeah, this is just a difference in the approximation used\n",
    "# EV seems to be using a calculation based explicity on comparing two t-distributions.\n",
    "# We've built an approximation where the underlying distribution is assumed to be normal, and that the variance under the null\n",
    "# and alternate hypotheses are equal.  This isn't strictly true, but for a large enough sample size, the central limit theorem \n",
    "# should apply and the two calculations will agree.  The point is that, while the exact sample size may vary between methods,\n",
    "# the analyses are consistent within themselves for both frameworks. Also, the overall weekly runtime should not be drastically\n",
    "# effected.  It might make sense to estimate the run time in days and round to the nearest week for a more conservative estimate"
   ]
  },
  {
   "cell_type": "code",
   "execution_count": 43,
   "id": "88e4350e-ca9c-46b9-b1ff-b687dbacb691",
   "metadata": {
    "tags": []
   },
   "outputs": [],
   "source": [
    "def y_format(x, pos):\n",
    "    \n",
    "    return f\"{int(x):,}\""
   ]
  },
  {
   "cell_type": "code",
   "execution_count": 114,
   "id": "a4530218-46ec-4246-bdad-22fdb2d685f4",
   "metadata": {
    "tags": []
   },
   "outputs": [],
   "source": [
    "def plot_mde_marker(df, weeks, ax):\n",
    "    \n",
    "    days = weeks * 7\n",
    "    ax.axhline(y=days, linestyle='--', xmax=(df[df['weeks'] <= weeks]['mde'].min() - ax.get_xlim()[0]) / ax.get_xlim()[1] - 0.005)\n",
    "    \n",
    "    if weeks > 1:\n",
    "        week_text = 'weeks'\n",
    "    else:\n",
    "        week_text = 'week'\n",
    "        \n",
    "    ax.text(ax.get_xlim()[0], days+1, f\"{weeks} {week_text}\", horizontalalignment='left', **{'fontsize': 'small'})\n",
    "    \n",
    "    try:\n",
    "        is_less = df['weeks'] <= weeks\n",
    "        mde_text = \"MDE = {0}%\".format(np.round(df[is_less]['mde'].min()*100, 2))\n",
    "        # mde_text = \"MDE = {0}%, Range of extra monthly conversions: {1} - {2}\".format(np.round(df[is_less]['mde'].min(), 2)*100, df[is_less]['monthly_additional_conversions_upper'].min(), df[is_less]['monthly_additional_conversions_lower'].min())\n",
    "    except KeyError:\n",
    "        mde_text = \"MDE = {0}%\".format(np.round(df[is_less]['mde'].min(), 2)*100)\n",
    "    \n",
    "    ax.text(df[df['weeks'] <= weeks]['mde'].min() * 1.05, days, mde_text, horizontalalignment='left')"
   ]
  },
  {
   "cell_type": "code",
   "execution_count": 115,
   "id": "ae56b72c-172b-482c-ac0e-cac76efc5b23",
   "metadata": {
    "tags": []
   },
   "outputs": [],
   "source": [
    "def make_mde_plot(df_, min_weeks, max_weeks):\n",
    "    fig, ax = plt.subplots(figsize=(12, 8))\n",
    "    df_temp = df_.copy()\n",
    "    \n",
    "    ax.plot(\"mde\", \"days\", data=df_mde.loc[(df_mde['weeks'] >= min_weeks) & (df_mde['weeks'] <= max_weeks)], linewidth=2, solid_capstyle=\"round\")\n",
    "    \n",
    "    ax.yaxis.set_major_formatter(mtick.FuncFormatter(y_format))\n",
    "    ax.xaxis.set_major_formatter(mtick.PercentFormatter(1.0))\n",
    "    \n",
    "    ax.set_xlabel('Minimum detectable effect size')\n",
    "    ax.set_ylabel('')\n",
    "    \n",
    "    for weeks in range(min_weeks, max_weeks + 1):\n",
    "        plot_mde_marker(df=df_, weeks=weeks, ax=ax)\n",
    "        \n",
    "    # We don't need the y-axis here\n",
    "    ax.axes.get_yaxis().set_visible(False)"
   ]
  },
  {
   "cell_type": "code",
   "execution_count": 116,
   "id": "288cc6d9-c31d-4c63-b754-7811826aae97",
   "metadata": {},
   "outputs": [],
   "source": [
    "# yeah this doesn't work for shit\n",
    "# spl = make_interp_spline(sorted(df_mde['days'].values, reverse=True), sorted(df_mde['mde'].values, reverse=True), k=3)\n",
    "# xnew = np.linspace(df_mde['days'].min(), df_mde['days'].max(), 300)\n",
    "# smooth = spl(xnew)\n",
    "# df_temp = df_mde.copy()\n",
    "# df_temp['xnew'] = xnew\n",
    "# df_temp['smooth'] = smooth"
   ]
  },
  {
   "cell_type": "code",
   "execution_count": 117,
   "id": "497e8b64-d5e4-4c6e-b7f4-32d695449464",
   "metadata": {
    "tags": []
   },
   "outputs": [],
   "source": [
    "# make_interp_spline(sorted(df_mde['days'].values, reverse=True), sorted(df_mde['mde'].values, reverse=True), k=3)"
   ]
  },
  {
   "cell_type": "code",
   "execution_count": 118,
   "id": "c9b8153c-1e73-4110-9f31-e681e8a708f3",
   "metadata": {
    "tags": []
   },
   "outputs": [],
   "source": [
    "# df_mde['days'].values"
   ]
  },
  {
   "cell_type": "code",
   "execution_count": null,
   "id": "fc9b6490-5478-4785-a5d1-989367ba8274",
   "metadata": {},
   "outputs": [],
   "source": []
  },
  {
   "cell_type": "code",
   "execution_count": 119,
   "id": "5fc3a4b9-8109-44f9-bd81-d8b7e3515f8f",
   "metadata": {
    "tags": []
   },
   "outputs": [
    {
     "data": {
      "text/html": [
       "<div>\n",
       "<style scoped>\n",
       "    .dataframe tbody tr th:only-of-type {\n",
       "        vertical-align: middle;\n",
       "    }\n",
       "\n",
       "    .dataframe tbody tr th {\n",
       "        vertical-align: top;\n",
       "    }\n",
       "\n",
       "    .dataframe thead th {\n",
       "        text-align: right;\n",
       "    }\n",
       "</style>\n",
       "<table border=\"1\" class=\"dataframe\">\n",
       "  <thead>\n",
       "    <tr style=\"text-align: right;\">\n",
       "      <th></th>\n",
       "      <th>mde</th>\n",
       "      <th>new_conversion_rate_upper_bound</th>\n",
       "      <th>new_conversion_rate_lower_bound</th>\n",
       "      <th>total_sample_size</th>\n",
       "      <th>sample_size_per_variant</th>\n",
       "      <th>days</th>\n",
       "      <th>weeks</th>\n",
       "      <th>monthly_additional_conversions_upper</th>\n",
       "      <th>monthly_additional_conversions_lower</th>\n",
       "    </tr>\n",
       "  </thead>\n",
       "  <tbody>\n",
       "    <tr>\n",
       "      <th>0</th>\n",
       "      <td>0.001</td>\n",
       "      <td>0.1001</td>\n",
       "      <td>0.0999</td>\n",
       "      <td>282559670</td>\n",
       "      <td>141279835</td>\n",
       "      <td>16954</td>\n",
       "      <td>2422</td>\n",
       "      <td>50</td>\n",
       "      <td>50</td>\n",
       "    </tr>\n",
       "    <tr>\n",
       "      <th>1</th>\n",
       "      <td>0.002</td>\n",
       "      <td>0.1002</td>\n",
       "      <td>0.0998</td>\n",
       "      <td>70639918</td>\n",
       "      <td>35319959</td>\n",
       "      <td>4239</td>\n",
       "      <td>606</td>\n",
       "      <td>100</td>\n",
       "      <td>100</td>\n",
       "    </tr>\n",
       "    <tr>\n",
       "      <th>2</th>\n",
       "      <td>0.003</td>\n",
       "      <td>0.1003</td>\n",
       "      <td>0.0997</td>\n",
       "      <td>31395518</td>\n",
       "      <td>15697759</td>\n",
       "      <td>1884</td>\n",
       "      <td>270</td>\n",
       "      <td>150</td>\n",
       "      <td>150</td>\n",
       "    </tr>\n",
       "    <tr>\n",
       "      <th>3</th>\n",
       "      <td>0.004</td>\n",
       "      <td>0.1004</td>\n",
       "      <td>0.0996</td>\n",
       "      <td>17659980</td>\n",
       "      <td>8829990</td>\n",
       "      <td>1060</td>\n",
       "      <td>152</td>\n",
       "      <td>200</td>\n",
       "      <td>200</td>\n",
       "    </tr>\n",
       "    <tr>\n",
       "      <th>4</th>\n",
       "      <td>0.005</td>\n",
       "      <td>0.1005</td>\n",
       "      <td>0.0995</td>\n",
       "      <td>11302386</td>\n",
       "      <td>5651193</td>\n",
       "      <td>679</td>\n",
       "      <td>97</td>\n",
       "      <td>250</td>\n",
       "      <td>250</td>\n",
       "    </tr>\n",
       "    <tr>\n",
       "      <th>...</th>\n",
       "      <td>...</td>\n",
       "      <td>...</td>\n",
       "      <td>...</td>\n",
       "      <td>...</td>\n",
       "      <td>...</td>\n",
       "      <td>...</td>\n",
       "      <td>...</td>\n",
       "      <td>...</td>\n",
       "      <td>...</td>\n",
       "    </tr>\n",
       "    <tr>\n",
       "      <th>1995</th>\n",
       "      <td>1.996</td>\n",
       "      <td>0.2996</td>\n",
       "      <td>-0.0996</td>\n",
       "      <td>70</td>\n",
       "      <td>35</td>\n",
       "      <td>1</td>\n",
       "      <td>1</td>\n",
       "      <td>99800</td>\n",
       "      <td>99800</td>\n",
       "    </tr>\n",
       "    <tr>\n",
       "      <th>1996</th>\n",
       "      <td>1.997</td>\n",
       "      <td>0.2997</td>\n",
       "      <td>-0.0997</td>\n",
       "      <td>70</td>\n",
       "      <td>35</td>\n",
       "      <td>1</td>\n",
       "      <td>1</td>\n",
       "      <td>99850</td>\n",
       "      <td>99850</td>\n",
       "    </tr>\n",
       "    <tr>\n",
       "      <th>1997</th>\n",
       "      <td>1.998</td>\n",
       "      <td>0.2998</td>\n",
       "      <td>-0.0998</td>\n",
       "      <td>70</td>\n",
       "      <td>35</td>\n",
       "      <td>1</td>\n",
       "      <td>1</td>\n",
       "      <td>99900</td>\n",
       "      <td>99900</td>\n",
       "    </tr>\n",
       "    <tr>\n",
       "      <th>1998</th>\n",
       "      <td>1.999</td>\n",
       "      <td>0.2999</td>\n",
       "      <td>-0.0999</td>\n",
       "      <td>70</td>\n",
       "      <td>35</td>\n",
       "      <td>1</td>\n",
       "      <td>1</td>\n",
       "      <td>99950</td>\n",
       "      <td>99950</td>\n",
       "    </tr>\n",
       "    <tr>\n",
       "      <th>1999</th>\n",
       "      <td>2.000</td>\n",
       "      <td>0.3000</td>\n",
       "      <td>-0.1000</td>\n",
       "      <td>70</td>\n",
       "      <td>35</td>\n",
       "      <td>1</td>\n",
       "      <td>1</td>\n",
       "      <td>100000</td>\n",
       "      <td>100000</td>\n",
       "    </tr>\n",
       "  </tbody>\n",
       "</table>\n",
       "<p>2000 rows × 9 columns</p>\n",
       "</div>"
      ],
      "text/plain": [
       "        mde  new_conversion_rate_upper_bound  new_conversion_rate_lower_bound  \\\n",
       "0     0.001                           0.1001                           0.0999   \n",
       "1     0.002                           0.1002                           0.0998   \n",
       "2     0.003                           0.1003                           0.0997   \n",
       "3     0.004                           0.1004                           0.0996   \n",
       "4     0.005                           0.1005                           0.0995   \n",
       "...     ...                              ...                              ...   \n",
       "1995  1.996                           0.2996                          -0.0996   \n",
       "1996  1.997                           0.2997                          -0.0997   \n",
       "1997  1.998                           0.2998                          -0.0998   \n",
       "1998  1.999                           0.2999                          -0.0999   \n",
       "1999  2.000                           0.3000                          -0.1000   \n",
       "\n",
       "      total_sample_size  sample_size_per_variant   days  weeks  \\\n",
       "0             282559670                141279835  16954   2422   \n",
       "1              70639918                 35319959   4239    606   \n",
       "2              31395518                 15697759   1884    270   \n",
       "3              17659980                  8829990   1060    152   \n",
       "4              11302386                  5651193    679     97   \n",
       "...                 ...                      ...    ...    ...   \n",
       "1995                 70                       35      1      1   \n",
       "1996                 70                       35      1      1   \n",
       "1997                 70                       35      1      1   \n",
       "1998                 70                       35      1      1   \n",
       "1999                 70                       35      1      1   \n",
       "\n",
       "      monthly_additional_conversions_upper  \\\n",
       "0                                       50   \n",
       "1                                      100   \n",
       "2                                      150   \n",
       "3                                      200   \n",
       "4                                      250   \n",
       "...                                    ...   \n",
       "1995                                 99800   \n",
       "1996                                 99850   \n",
       "1997                                 99900   \n",
       "1998                                 99950   \n",
       "1999                                100000   \n",
       "\n",
       "      monthly_additional_conversions_lower  \n",
       "0                                       50  \n",
       "1                                      100  \n",
       "2                                      150  \n",
       "3                                      200  \n",
       "4                                      250  \n",
       "...                                    ...  \n",
       "1995                                 99800  \n",
       "1996                                 99850  \n",
       "1997                                 99900  \n",
       "1998                                 99950  \n",
       "1999                                100000  \n",
       "\n",
       "[2000 rows x 9 columns]"
      ]
     },
     "execution_count": 119,
     "metadata": {},
     "output_type": "execute_result"
    }
   ],
   "source": [
    "# Right, we'll need to implement a week number cap.  The lower limit should be 2 weeks.  Upper limit, 30?\n",
    "df_mde"
   ]
  },
  {
   "cell_type": "code",
   "execution_count": 120,
   "id": "de166de6-7954-4e10-9c13-13649cb331f8",
   "metadata": {
    "tags": []
   },
   "outputs": [
    {
     "data": {
      "text/html": [
       "<div>\n",
       "<style scoped>\n",
       "    .dataframe tbody tr th:only-of-type {\n",
       "        vertical-align: middle;\n",
       "    }\n",
       "\n",
       "    .dataframe tbody tr th {\n",
       "        vertical-align: top;\n",
       "    }\n",
       "\n",
       "    .dataframe thead th {\n",
       "        text-align: right;\n",
       "    }\n",
       "</style>\n",
       "<table border=\"1\" class=\"dataframe\">\n",
       "  <thead>\n",
       "    <tr style=\"text-align: right;\">\n",
       "      <th></th>\n",
       "      <th>mde</th>\n",
       "      <th>new_conversion_rate_upper_bound</th>\n",
       "      <th>new_conversion_rate_lower_bound</th>\n",
       "      <th>total_sample_size</th>\n",
       "      <th>sample_size_per_variant</th>\n",
       "      <th>days</th>\n",
       "      <th>weeks</th>\n",
       "      <th>monthly_additional_conversions_upper</th>\n",
       "      <th>monthly_additional_conversions_lower</th>\n",
       "    </tr>\n",
       "  </thead>\n",
       "  <tbody>\n",
       "    <tr>\n",
       "      <th>17</th>\n",
       "      <td>0.018</td>\n",
       "      <td>0.1018</td>\n",
       "      <td>0.0982</td>\n",
       "      <td>872098</td>\n",
       "      <td>436049</td>\n",
       "      <td>53</td>\n",
       "      <td>8</td>\n",
       "      <td>900</td>\n",
       "      <td>900</td>\n",
       "    </tr>\n",
       "  </tbody>\n",
       "</table>\n",
       "</div>"
      ],
      "text/plain": [
       "      mde  new_conversion_rate_upper_bound  new_conversion_rate_lower_bound  \\\n",
       "17  0.018                           0.1018                           0.0982   \n",
       "\n",
       "    total_sample_size  sample_size_per_variant  days  weeks  \\\n",
       "17             872098                   436049    53      8   \n",
       "\n",
       "    monthly_additional_conversions_upper  monthly_additional_conversions_lower  \n",
       "17                                   900                                   900  "
      ]
     },
     "execution_count": 120,
     "metadata": {},
     "output_type": "execute_result"
    }
   ],
   "source": [
    "df_mde.query(\"weeks == 8\")"
   ]
  },
  {
   "cell_type": "code",
   "execution_count": 121,
   "id": "052c1c79-53fe-48b1-8dc6-43fb2a00a6c5",
   "metadata": {
    "tags": []
   },
   "outputs": [
    {
     "data": {
      "image/png": "[encoded data removed]",
      "text/plain": [
       "<Figure size 1200x800 with 1 Axes>"
      ]
     },
     "metadata": {},
     "output_type": "display_data"
    }
   ],
   "source": [
    "make_mde_plot(df_=df_mde, min_weeks=2, max_weeks=8)"
   ]
  },
  {
   "cell_type": "code",
   "execution_count": 50,
   "id": "6d205ba0-bd0b-4e4a-8672-cb6c9180548b",
   "metadata": {
    "tags": []
   },
   "outputs": [
    {
     "data": {
      "text/plain": [
       "[<matplotlib.lines.Line2D at 0x19bdbb940>]"
      ]
     },
     "execution_count": 50,
     "metadata": {},
     "output_type": "execute_result"
    },
    {
     "data": {
      "image/png": "[encoded data removed]",
      "text/plain": [
       "<Figure size 1000x500 with 1 Axes>"
      ]
     },
     "metadata": {},
     "output_type": "display_data"
    }
   ],
   "source": [
    "fig, ax = plt.subplots(figsize=(10, 5))\n",
    "ax.plot(\"mde\", \"days\", data=df_mde.loc[(df_mde['weeks'] >= 2) & (df_mde['weeks'] <= 16)], linewidth=2, solid_capstyle=\"round\")"
   ]
  },
  {
   "cell_type": "code",
   "execution_count": null,
   "id": "94c50f50-15d1-415c-80a3-d0801ea41999",
   "metadata": {},
   "outputs": [],
   "source": []
  },
  {
   "cell_type": "code",
   "execution_count": null,
   "id": "68cadcad-98c6-4566-bd50-35f04a632161",
   "metadata": {},
   "outputs": [],
   "source": [
    "def plot_mde_marker(df, weeks, ax):\n",
    "    days = weeks * 7\n",
    "    ax.axhline(\n",
    "        y=days,\n",
    "        linestyle=\"--\",\n",
    "        xmax=(df[df[\"Weeks\"] <= weeks][\"MDE\"].min() - ax.get_xlim()[0])\n",
    "        / ax.get_xlim()[1]\n",
    "        - 0.01,\n",
    "    )\n",
    "    if weeks > 1:\n",
    "        week_text = \"weeks\"\n",
    "    else:\n",
    "        week_text = \"week\"\n",
    "    ax.text(\n",
    "        ax.get_xlim()[0],\n",
    "        days + 1,\n",
    "        f\"{weeks} {week_text}\",\n",
    "        horizontalalignment=\"left\",\n",
    "        **roboto,\n",
    "    )\n",
    "\n",
    "    try:\n",
    "        isLess = df[\"Weeks\"] <= weeks\n",
    "        mde_text = \"MDE = {:.2%}, Monthly value = £{:,.0f}\".format(\n",
    "            df[isLess][\"MDE\"].min(), df[isLess][\"Extra revenue (monthly)\"].min()\n",
    "        )\n",
    "    except KeyError:\n",
    "        mde_text = f\"MDE = {df[isLess]['MDE'].min():.2%}\"\n",
    "\n",
    "    ax.text(\n",
    "        df[df[\"Weeks\"] <= weeks][\"MDE\"].min() * 1.05,\n",
    "        days - 0.5,\n",
    "        mde_text,\n",
    "        horizontalalignment=\"left\",\n",
    "        **roboto,\n",
    "    )\n",
    "\n",
    "\n",
    "def y_format(x, pos):\n",
    "    return f\"{int(x):,}\"\n",
    "\n",
    "\n",
    "def mde_plot(data):\n",
    "    fig, ax = plt.subplots(figsize=(10, 5), dpi=100)\n",
    "    ax.plot(\n",
    "        \"MDE\", \"Days\", data=data, linewidth=2, solid_capstyle=\"round\", color=\"#014d64\"\n",
    "    )\n",
    "\n",
    "    # Formatting the tick labels\n",
    "\n",
    "    ax.yaxis.set_major_formatter(mtick.FuncFormatter(y_format))\n",
    "    ax.xaxis.set_major_formatter(mtick.PercentFormatter(1.0))\n",
    "\n",
    "    # Formatting the axes labels\n",
    "    ax.set_xlabel(\"Minimum detectable effect\", **roboto)\n",
    "    ax.set_ylabel(\"\")\n",
    "\n",
    "    # Set limit to reasonable amount of time\n",
    "    if ax.get_ylim()[1] > 60:\n",
    "        ax.set_ylim([0, 7 * max_runtime * 1.2])\n",
    "\n",
    "    # Set x-lim\n",
    "    x_limit = data[data[\"Weeks\"] <= 1][\"MDE\"].min() * 2\n",
    "    ax.set_xlim([0, x_limit])\n",
    "\n",
    "    for week in range(1, max_runtime + 1):\n",
    "        plot_mde_marker(data, week, ax)\n",
    "\n",
    "    # Clean up layout of graph, removing borders\n",
    "    ax.yaxis.grid(True)\n",
    "    ax.spines[\"left\"].set_visible(False)\n",
    "    ax.spines[\"right\"].set_visible(False)\n",
    "    ax.spines[\"top\"].set_visible(False)\n",
    "\n",
    "    # Hiding the y-axis\n",
    "    ax.axes.get_yaxis().set_visible(False)\n",
    "\n",
    "    st.write(fig)"
   ]
  }
 ],
 "metadata": {
  "kernelspec": {
   "display_name": "Python [conda env:causal_ml_py39] *",
   "language": "python",
   "name": "conda-env-causal_ml_py39-py"
  },
  "language_info": {
   "codemirror_mode": {
    "name": "ipython",
    "version": 3
   },
   "file_extension": ".py",
   "mimetype": "text/x-python",
   "name": "python",
   "nbconvert_exporter": "python",
   "pygments_lexer": "ipython3",
   "version": "3.9.15"
  }
 },
 "nbformat": 4,
 "nbformat_minor": 5
}
