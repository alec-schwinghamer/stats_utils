{
 "cells": [
  {
   "cell_type": "markdown",
   "id": "57838d9e-f551-4630-8d1b-e21da11da201",
   "metadata": {},
   "source": [
    "Want to know if your experimental results are signficant?  Confused by ExP output?? Step right up and look no further\n",
    "\n",
    "Note: current version only works for A/B tests with two variants.  This also only applies to conversion rate type metrics"
   ]
  },
  {
   "cell_type": "code",
   "execution_count": 2,
   "id": "22ddae3e-770c-4119-a5ba-404eef801a6a",
   "metadata": {},
   "outputs": [],
   "source": [
    "import os\n",
    "import sys\n",
    "import numpy as np\n",
    "import pandas as pd\n",
    "import matplotlib.pyplot as plt\n",
    "%matplotlib inline\n",
    "import seaborn as sns\n",
    "from scipy import stats\n",
    "from scipy.special import binom"
   ]
  },
  {
   "cell_type": "markdown",
   "id": "b069f9f2-3a8e-49b9-af3a-d5e8e60d5a51",
   "metadata": {},
   "source": [
    "### Z-Proportion test\n",
    "\n",
    "Have a big sample size? (i.e. more than 30 people did the thing?)\n",
    "\n",
    "Have normal-ish distributed data?\n",
    "\n",
    "Data points are independent?\n",
    "\n",
    "Each group is randomly assigned, and each person has equal probability to be in one group or the other? \n",
    "\n",
    "Use this (We should add an explict set of test to help determine if this is true)"
   ]
  },
  {
   "cell_type": "code",
   "execution_count": null,
   "id": "ca0b6fe5-0567-42d1-8f51-5b410db7aa32",
   "metadata": {},
   "outputs": [],
   "source": []
  }
 ],
 "metadata": {
  "kernelspec": {
   "display_name": "Python [conda env:basic_ml_38] *",
   "language": "python",
   "name": "conda-env-basic_ml_38-py"
  },
  "language_info": {
   "codemirror_mode": {
    "name": "ipython",
    "version": 3
   },
   "file_extension": ".py",
   "mimetype": "text/x-python",
   "name": "python",
   "nbconvert_exporter": "python",
   "pygments_lexer": "ipython3",
   "version": "3.8.12"
  }
 },
 "nbformat": 4,
 "nbformat_minor": 5
}
