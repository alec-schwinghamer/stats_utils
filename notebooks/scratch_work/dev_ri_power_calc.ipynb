{
 "cells": [
  {
   "cell_type": "markdown",
   "id": "8c016d28-4607-4126-8eac-ee76f4bb477a",
   "metadata": {},
   "source": [
    "Adapt existing randomization inference code to support power/sample size calculations"
   ]
  },
  {
   "cell_type": "code",
   "execution_count": 9,
   "id": "6ef7ad2a-24ca-4c89-8c25-b4e24032c7dd",
   "metadata": {},
   "outputs": [],
   "source": [
    "# import packages\n",
    "import os\n",
    "import sys\n",
    "import numpy as np\n",
    "import pandas as pd\n",
    "import matplotlib.pyplot as plt\n",
    "%matplotlib inline\n",
    "import seaborn as sns\n",
    "import scipy.stats as stats\n",
    "import scipy\n",
    "\n",
    "from matplotlib import style\n",
    "from tqdm.auto import tqdm\n",
    "from importlib import reload"
   ]
  },
  {
   "cell_type": "code",
   "execution_count": 10,
   "id": "714395b2-79c0-4e6d-a9bc-84ae80f343fc",
   "metadata": {},
   "outputs": [],
   "source": [
    "# additional imports"
   ]
  },
  {
   "cell_type": "code",
   "execution_count": 11,
   "id": "9188e754-20fa-436a-b8cc-a939a8777413",
   "metadata": {},
   "outputs": [],
   "source": [
    "# set pandas preferences\n",
    "pd.options.display.max_columns=500\n",
    "pd.options.display.max_colwidth=500\n",
    "pd.options.display.max_rows=500"
   ]
  },
  {
   "cell_type": "code",
   "execution_count": 12,
   "id": "899b53b2-e62e-4b53-a9aa-b2c7dd3e7503",
   "metadata": {},
   "outputs": [],
   "source": [
    "# set plot style\n",
    "style.use(\"fivethirtyeight\")"
   ]
  },
  {
   "cell_type": "code",
   "execution_count": 13,
   "id": "58f0ae64-8c54-407b-95f8-45a92c15bfe0",
   "metadata": {},
   "outputs": [],
   "source": [
    "# initialize tqdm for pandas\n",
    "tqdm.pandas()"
   ]
  },
  {
   "cell_type": "code",
   "execution_count": 14,
   "id": "c2f9a42d-9a46-4dcb-a499-4beca5751bf1",
   "metadata": {},
   "outputs": [],
   "source": [
    "sys.path.append(\"../../ab_testing_utils/\") "
   ]
  },
  {
   "cell_type": "code",
   "execution_count": 15,
   "id": "4c617f82-4b16-4db0-a073-21ad9330fd85",
   "metadata": {},
   "outputs": [],
   "source": [
    "import skewed_metric_utils"
   ]
  },
  {
   "cell_type": "code",
   "execution_count": 16,
   "id": "91f94b68-acee-43cf-b80c-858efae6fc2b",
   "metadata": {},
   "outputs": [],
   "source": [
    "import minimum_detectable_effect_size"
   ]
  },
  {
   "cell_type": "code",
   "execution_count": 17,
   "id": "a7a0000e-63a5-4d29-a4d6-16cd7a948949",
   "metadata": {},
   "outputs": [],
   "source": [
    "df = pd.read_csv('../../../data/test_data_for_ri.csv')"
   ]
  },
  {
   "cell_type": "code",
   "execution_count": 18,
   "id": "6dfbf344-e6d6-4895-a7e9-5fb27add9624",
   "metadata": {},
   "outputs": [
    {
     "data": {
      "text/html": [
       "<div>\n",
       "<style scoped>\n",
       "    .dataframe tbody tr th:only-of-type {\n",
       "        vertical-align: middle;\n",
       "    }\n",
       "\n",
       "    .dataframe tbody tr th {\n",
       "        vertical-align: top;\n",
       "    }\n",
       "\n",
       "    .dataframe thead th {\n",
       "        text-align: right;\n",
       "    }\n",
       "</style>\n",
       "<table border=\"1\" class=\"dataframe\">\n",
       "  <thead>\n",
       "    <tr style=\"text-align: right;\">\n",
       "      <th></th>\n",
       "      <th>name</th>\n",
       "      <th>d</th>\n",
       "      <th>y</th>\n",
       "      <th>y0</th>\n",
       "      <th>y1</th>\n",
       "      <th>id_unit</th>\n",
       "    </tr>\n",
       "  </thead>\n",
       "  <tbody>\n",
       "    <tr>\n",
       "      <th>0</th>\n",
       "      <td>Andy</td>\n",
       "      <td>1</td>\n",
       "      <td>10</td>\n",
       "      <td>NaN</td>\n",
       "      <td>10.0</td>\n",
       "      <td>1</td>\n",
       "    </tr>\n",
       "    <tr>\n",
       "      <th>1</th>\n",
       "      <td>Ben</td>\n",
       "      <td>1</td>\n",
       "      <td>5</td>\n",
       "      <td>NaN</td>\n",
       "      <td>5.0</td>\n",
       "      <td>2</td>\n",
       "    </tr>\n",
       "    <tr>\n",
       "      <th>2</th>\n",
       "      <td>Chad</td>\n",
       "      <td>1</td>\n",
       "      <td>16</td>\n",
       "      <td>NaN</td>\n",
       "      <td>16.0</td>\n",
       "      <td>3</td>\n",
       "    </tr>\n",
       "    <tr>\n",
       "      <th>3</th>\n",
       "      <td>Daniel</td>\n",
       "      <td>1</td>\n",
       "      <td>3</td>\n",
       "      <td>NaN</td>\n",
       "      <td>3.0</td>\n",
       "      <td>4</td>\n",
       "    </tr>\n",
       "    <tr>\n",
       "      <th>4</th>\n",
       "      <td>Edith</td>\n",
       "      <td>0</td>\n",
       "      <td>5</td>\n",
       "      <td>5.0</td>\n",
       "      <td>NaN</td>\n",
       "      <td>5</td>\n",
       "    </tr>\n",
       "    <tr>\n",
       "      <th>5</th>\n",
       "      <td>Frank</td>\n",
       "      <td>0</td>\n",
       "      <td>7</td>\n",
       "      <td>7.0</td>\n",
       "      <td>NaN</td>\n",
       "      <td>6</td>\n",
       "    </tr>\n",
       "    <tr>\n",
       "      <th>6</th>\n",
       "      <td>George</td>\n",
       "      <td>0</td>\n",
       "      <td>8</td>\n",
       "      <td>8.0</td>\n",
       "      <td>NaN</td>\n",
       "      <td>7</td>\n",
       "    </tr>\n",
       "    <tr>\n",
       "      <th>7</th>\n",
       "      <td>Hank</td>\n",
       "      <td>0</td>\n",
       "      <td>10</td>\n",
       "      <td>10.0</td>\n",
       "      <td>NaN</td>\n",
       "      <td>8</td>\n",
       "    </tr>\n",
       "  </tbody>\n",
       "</table>\n",
       "</div>"
      ],
      "text/plain": [
       "     name  d   y    y0    y1  id_unit\n",
       "0    Andy  1  10   NaN  10.0        1\n",
       "1     Ben  1   5   NaN   5.0        2\n",
       "2    Chad  1  16   NaN  16.0        3\n",
       "3  Daniel  1   3   NaN   3.0        4\n",
       "4   Edith  0   5   5.0   NaN        5\n",
       "5   Frank  0   7   7.0   NaN        6\n",
       "6  George  0   8   8.0   NaN        7\n",
       "7    Hank  0  10  10.0   NaN        8"
      ]
     },
     "execution_count": 18,
     "metadata": {},
     "output_type": "execute_result"
    }
   ],
   "source": [
    "df"
   ]
  },
  {
   "cell_type": "markdown",
   "id": "c4e5b777-4f2a-4554-8c0c-b0ed8c86994a",
   "metadata": {},
   "source": [
    "We assume that the dataset we have is historical:\n",
    "\n",
    "1. Use randomization inference to generate a null distribution\n",
    "\n",
    "2. Shift the null to get the right power for the \"alternate\"\n",
    "\n",
    "3. The shift amount is the minimum detectable effect size\n",
    "\n",
    "4. Repeat using historical samples of different sizes\n",
    "\n",
    "5. Map sample size to expected run time given baseline number of daily observations (roll up to weeks)\n",
    "\n",
    "6. Map run time --> minimum detectable effect size"
   ]
  },
  {
   "cell_type": "code",
   "execution_count": 19,
   "id": "78190a9d-2f99-4d47-b343-3a7c2cec645c",
   "metadata": {},
   "outputs": [],
   "source": [
    "ri_ = skewed_metric_utils.RandomizationInference()"
   ]
  },
  {
   "cell_type": "code",
   "execution_count": null,
   "id": "1ece73d8-4936-4034-991a-ef426e9ce575",
   "metadata": {},
   "outputs": [],
   "source": []
  }
 ],
 "metadata": {
  "kernelspec": {
   "display_name": "Python [conda env:causal_ml_py39]",
   "language": "python",
   "name": "conda-env-causal_ml_py39-py"
  },
  "language_info": {
   "codemirror_mode": {
    "name": "ipython",
    "version": 3
   },
   "file_extension": ".py",
   "mimetype": "text/x-python",
   "name": "python",
   "nbconvert_exporter": "python",
   "pygments_lexer": "ipython3",
   "version": "3.9.16"
  }
 },
 "nbformat": 4,
 "nbformat_minor": 5
}
