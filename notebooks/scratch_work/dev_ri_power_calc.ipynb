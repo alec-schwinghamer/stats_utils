{
 "cells": [
  {
   "cell_type": "markdown",
   "id": "8c016d28-4607-4126-8eac-ee76f4bb477a",
   "metadata": {},
   "source": [
    "Adapt existing randomization inference code to support power/sample size calculations"
   ]
  },
  {
   "cell_type": "code",
   "execution_count": 9,
   "id": "6ef7ad2a-24ca-4c89-8c25-b4e24032c7dd",
   "metadata": {},
   "outputs": [],
   "source": [
    "# import packages\n",
    "import os\n",
    "import sys\n",
    "import numpy as np\n",
    "import pandas as pd\n",
    "import matplotlib.pyplot as plt\n",
    "%matplotlib inline\n",
    "import seaborn as sns\n",
    "import scipy.stats as stats\n",
    "import scipy\n",
    "\n",
    "from matplotlib import style\n",
    "from tqdm.auto import tqdm\n",
    "from importlib import reload"
   ]
  },
  {
   "cell_type": "code",
   "execution_count": 44,
   "id": "714395b2-79c0-4e6d-a9bc-84ae80f343fc",
   "metadata": {},
   "outputs": [],
   "source": [
    "# additional imports\n",
    "import statsmodels.stats.power as pwr"
   ]
  },
  {
   "cell_type": "code",
   "execution_count": 11,
   "id": "9188e754-20fa-436a-b8cc-a939a8777413",
   "metadata": {},
   "outputs": [],
   "source": [
    "# set pandas preferences\n",
    "pd.options.display.max_columns=500\n",
    "pd.options.display.max_colwidth=500\n",
    "pd.options.display.max_rows=500"
   ]
  },
  {
   "cell_type": "code",
   "execution_count": 12,
   "id": "899b53b2-e62e-4b53-a9aa-b2c7dd3e7503",
   "metadata": {},
   "outputs": [],
   "source": [
    "# set plot style\n",
    "style.use(\"fivethirtyeight\")"
   ]
  },
  {
   "cell_type": "code",
   "execution_count": 13,
   "id": "58f0ae64-8c54-407b-95f8-45a92c15bfe0",
   "metadata": {},
   "outputs": [],
   "source": [
    "# initialize tqdm for pandas\n",
    "tqdm.pandas()"
   ]
  },
  {
   "cell_type": "code",
   "execution_count": 14,
   "id": "c2f9a42d-9a46-4dcb-a499-4beca5751bf1",
   "metadata": {},
   "outputs": [],
   "source": [
    "sys.path.append(\"../../ab_testing_utils/\") "
   ]
  },
  {
   "cell_type": "code",
   "execution_count": 15,
   "id": "4c617f82-4b16-4db0-a073-21ad9330fd85",
   "metadata": {},
   "outputs": [],
   "source": [
    "import skewed_metric_utils"
   ]
  },
  {
   "cell_type": "code",
   "execution_count": 16,
   "id": "91f94b68-acee-43cf-b80c-858efae6fc2b",
   "metadata": {},
   "outputs": [],
   "source": [
    "import minimum_detectable_effect_size"
   ]
  },
  {
   "cell_type": "code",
   "execution_count": 17,
   "id": "a7a0000e-63a5-4d29-a4d6-16cd7a948949",
   "metadata": {},
   "outputs": [],
   "source": [
    "df = pd.read_csv('../../../data/test_data_for_ri.csv')"
   ]
  },
  {
   "cell_type": "code",
   "execution_count": 18,
   "id": "6dfbf344-e6d6-4895-a7e9-5fb27add9624",
   "metadata": {},
   "outputs": [
    {
     "data": {
      "text/html": [
       "<div>\n",
       "<style scoped>\n",
       "    .dataframe tbody tr th:only-of-type {\n",
       "        vertical-align: middle;\n",
       "    }\n",
       "\n",
       "    .dataframe tbody tr th {\n",
       "        vertical-align: top;\n",
       "    }\n",
       "\n",
       "    .dataframe thead th {\n",
       "        text-align: right;\n",
       "    }\n",
       "</style>\n",
       "<table border=\"1\" class=\"dataframe\">\n",
       "  <thead>\n",
       "    <tr style=\"text-align: right;\">\n",
       "      <th></th>\n",
       "      <th>name</th>\n",
       "      <th>d</th>\n",
       "      <th>y</th>\n",
       "      <th>y0</th>\n",
       "      <th>y1</th>\n",
       "      <th>id_unit</th>\n",
       "    </tr>\n",
       "  </thead>\n",
       "  <tbody>\n",
       "    <tr>\n",
       "      <th>0</th>\n",
       "      <td>Andy</td>\n",
       "      <td>1</td>\n",
       "      <td>10</td>\n",
       "      <td>NaN</td>\n",
       "      <td>10.0</td>\n",
       "      <td>1</td>\n",
       "    </tr>\n",
       "    <tr>\n",
       "      <th>1</th>\n",
       "      <td>Ben</td>\n",
       "      <td>1</td>\n",
       "      <td>5</td>\n",
       "      <td>NaN</td>\n",
       "      <td>5.0</td>\n",
       "      <td>2</td>\n",
       "    </tr>\n",
       "    <tr>\n",
       "      <th>2</th>\n",
       "      <td>Chad</td>\n",
       "      <td>1</td>\n",
       "      <td>16</td>\n",
       "      <td>NaN</td>\n",
       "      <td>16.0</td>\n",
       "      <td>3</td>\n",
       "    </tr>\n",
       "    <tr>\n",
       "      <th>3</th>\n",
       "      <td>Daniel</td>\n",
       "      <td>1</td>\n",
       "      <td>3</td>\n",
       "      <td>NaN</td>\n",
       "      <td>3.0</td>\n",
       "      <td>4</td>\n",
       "    </tr>\n",
       "    <tr>\n",
       "      <th>4</th>\n",
       "      <td>Edith</td>\n",
       "      <td>0</td>\n",
       "      <td>5</td>\n",
       "      <td>5.0</td>\n",
       "      <td>NaN</td>\n",
       "      <td>5</td>\n",
       "    </tr>\n",
       "    <tr>\n",
       "      <th>5</th>\n",
       "      <td>Frank</td>\n",
       "      <td>0</td>\n",
       "      <td>7</td>\n",
       "      <td>7.0</td>\n",
       "      <td>NaN</td>\n",
       "      <td>6</td>\n",
       "    </tr>\n",
       "    <tr>\n",
       "      <th>6</th>\n",
       "      <td>George</td>\n",
       "      <td>0</td>\n",
       "      <td>8</td>\n",
       "      <td>8.0</td>\n",
       "      <td>NaN</td>\n",
       "      <td>7</td>\n",
       "    </tr>\n",
       "    <tr>\n",
       "      <th>7</th>\n",
       "      <td>Hank</td>\n",
       "      <td>0</td>\n",
       "      <td>10</td>\n",
       "      <td>10.0</td>\n",
       "      <td>NaN</td>\n",
       "      <td>8</td>\n",
       "    </tr>\n",
       "  </tbody>\n",
       "</table>\n",
       "</div>"
      ],
      "text/plain": [
       "     name  d   y    y0    y1  id_unit\n",
       "0    Andy  1  10   NaN  10.0        1\n",
       "1     Ben  1   5   NaN   5.0        2\n",
       "2    Chad  1  16   NaN  16.0        3\n",
       "3  Daniel  1   3   NaN   3.0        4\n",
       "4   Edith  0   5   5.0   NaN        5\n",
       "5   Frank  0   7   7.0   NaN        6\n",
       "6  George  0   8   8.0   NaN        7\n",
       "7    Hank  0  10  10.0   NaN        8"
      ]
     },
     "execution_count": 18,
     "metadata": {},
     "output_type": "execute_result"
    }
   ],
   "source": [
    "df"
   ]
  },
  {
   "cell_type": "markdown",
   "id": "c4e5b777-4f2a-4554-8c0c-b0ed8c86994a",
   "metadata": {},
   "source": [
    "We assume that the dataset we have is historical:\n",
    "\n",
    "1. Use randomization inference to generate a null distribution\n",
    "\n",
    "2. Shift the null to get the right power for the \"alternate\"\n",
    "\n",
    "3. The shift amount is the minimum detectable effect size\n",
    "\n",
    "4. Repeat using historical samples of different sizes\n",
    "\n",
    "5. Map sample size to expected run time given baseline number of daily observations (roll up to weeks)\n",
    "\n",
    "6. Map run time --> minimum detectable effect size"
   ]
  },
  {
   "cell_type": "code",
   "execution_count": 82,
   "id": "78190a9d-2f99-4d47-b343-3a7c2cec645c",
   "metadata": {},
   "outputs": [],
   "source": [
    "ri_ = skewed_metric_utils.RandomizationInference()"
   ]
  },
  {
   "cell_type": "code",
   "execution_count": 20,
   "id": "fd211bed-1e76-4b57-91fa-c35c522ceccd",
   "metadata": {},
   "outputs": [],
   "source": [
    "sharp_null_type = 'additive'\n",
    "sharp_null_value = 0\n",
    "outcome_column_name = 'y'"
   ]
  },
  {
   "cell_type": "code",
   "execution_count": 21,
   "id": "1ece73d8-4936-4034-991a-ef426e9ce575",
   "metadata": {},
   "outputs": [],
   "source": [
    "# step 1: select sharp null\n",
    "df_ = ri_.sharp_null(df_=df, \n",
    "                     sharp_null_type=sharp_null_type, \n",
    "                     sharp_null_value=sharp_null_value, \n",
    "                     outcome_column_name=outcome_column_name)"
   ]
  },
  {
   "cell_type": "code",
   "execution_count": 22,
   "id": "b6e0a431-717e-44ec-be0c-95ae68baf7e3",
   "metadata": {},
   "outputs": [],
   "source": [
    "test_statistic = {'function': 'difference_in_means', 'params': None}"
   ]
  },
  {
   "cell_type": "code",
   "execution_count": 23,
   "id": "252827d7-7091-4a77-ae1a-c3d8696aa4ac",
   "metadata": {},
   "outputs": [],
   "source": [
    "# Step 2: pick a test statistic. We have a list of pre-built ones, otherwise a function must be supplied\n",
    "# This function must consume a DataFrame and return a single scalar value\n",
    "test_statistic_function = ri_.select_test_statistic(test_statistic=test_statistic)"
   ]
  },
  {
   "cell_type": "code",
   "execution_count": 25,
   "id": "443babbb-6b30-432b-928a-f2cdb3a4e53f",
   "metadata": {},
   "outputs": [],
   "source": [
    "num_permutations = 1000\n",
    "treatment_assignment_probability = 0.5\n",
    "sample_with_replacement = True"
   ]
  },
  {
   "cell_type": "code",
   "execution_count": 26,
   "id": "b9d79668-9bce-4b1b-90dd-95911696b9ce",
   "metadata": {},
   "outputs": [
    {
     "name": "stdout",
     "output_type": "stream",
     "text": [
      "Found {0} distinct assignment combinations. All combinations will be simulated.\n"
     ]
    },
    {
     "name": "stderr",
     "output_type": "stream",
     "text": [
      "100%|███████████████████████████████████████████████████████████████████████████████████████████████████████████████████████████████████████████████████| 70/70 [00:00<00:00, 428.34it/s]\n"
     ]
    }
   ],
   "source": [
    "# Now we can run the randomization inference step:\n",
    "sim_dict = ri_.run_randomization_inference(df_=df_, \n",
    "                                           test_statistic_function=test_statistic_function, \n",
    "                                           treatment_assignment_probability=treatment_assignment_probability, \n",
    "                                           num_perms=num_permutations, \n",
    "                                           sample_with_replacement=sample_with_replacement)"
   ]
  },
  {
   "cell_type": "code",
   "execution_count": 28,
   "id": "0914f98e-8d4b-4673-9120-d4cd408f8bc6",
   "metadata": {},
   "outputs": [],
   "source": [
    "df_sims = pd.DataFrame.from_dict(sim_dict, orient='index')\n",
    "df_sims = df_sims.reset_index()\n",
    "df_sims.columns = ['permutation', 'test_statistic']"
   ]
  },
  {
   "cell_type": "code",
   "execution_count": 29,
   "id": "7555093b-69be-409f-a472-7c60595ed7f5",
   "metadata": {
    "scrolled": true,
    "tags": []
   },
   "outputs": [
    {
     "data": {
      "text/html": [
       "<div>\n",
       "<style scoped>\n",
       "    .dataframe tbody tr th:only-of-type {\n",
       "        vertical-align: middle;\n",
       "    }\n",
       "\n",
       "    .dataframe tbody tr th {\n",
       "        vertical-align: top;\n",
       "    }\n",
       "\n",
       "    .dataframe thead th {\n",
       "        text-align: right;\n",
       "    }\n",
       "</style>\n",
       "<table border=\"1\" class=\"dataframe\">\n",
       "  <thead>\n",
       "    <tr style=\"text-align: right;\">\n",
       "      <th></th>\n",
       "      <th>permutation</th>\n",
       "      <th>test_statistic</th>\n",
       "    </tr>\n",
       "  </thead>\n",
       "  <tbody>\n",
       "    <tr>\n",
       "      <th>0</th>\n",
       "      <td>0</td>\n",
       "      <td>1.0</td>\n",
       "    </tr>\n",
       "    <tr>\n",
       "      <th>1</th>\n",
       "      <td>1</td>\n",
       "      <td>2.0</td>\n",
       "    </tr>\n",
       "    <tr>\n",
       "      <th>2</th>\n",
       "      <td>2</td>\n",
       "      <td>3.0</td>\n",
       "    </tr>\n",
       "    <tr>\n",
       "      <th>3</th>\n",
       "      <td>3</td>\n",
       "      <td>3.5</td>\n",
       "    </tr>\n",
       "    <tr>\n",
       "      <th>4</th>\n",
       "      <td>4</td>\n",
       "      <td>4.5</td>\n",
       "    </tr>\n",
       "    <tr>\n",
       "      <th>5</th>\n",
       "      <td>5</td>\n",
       "      <td>-4.5</td>\n",
       "    </tr>\n",
       "    <tr>\n",
       "      <th>6</th>\n",
       "      <td>6</td>\n",
       "      <td>-3.5</td>\n",
       "    </tr>\n",
       "    <tr>\n",
       "      <th>7</th>\n",
       "      <td>7</td>\n",
       "      <td>-3.0</td>\n",
       "    </tr>\n",
       "    <tr>\n",
       "      <th>8</th>\n",
       "      <td>8</td>\n",
       "      <td>-2.0</td>\n",
       "    </tr>\n",
       "    <tr>\n",
       "      <th>9</th>\n",
       "      <td>9</td>\n",
       "      <td>-2.5</td>\n",
       "    </tr>\n",
       "    <tr>\n",
       "      <th>10</th>\n",
       "      <td>10</td>\n",
       "      <td>-2.0</td>\n",
       "    </tr>\n",
       "    <tr>\n",
       "      <th>11</th>\n",
       "      <td>11</td>\n",
       "      <td>-1.0</td>\n",
       "    </tr>\n",
       "    <tr>\n",
       "      <th>12</th>\n",
       "      <td>12</td>\n",
       "      <td>-1.0</td>\n",
       "    </tr>\n",
       "    <tr>\n",
       "      <th>13</th>\n",
       "      <td>13</td>\n",
       "      <td>0.0</td>\n",
       "    </tr>\n",
       "    <tr>\n",
       "      <th>14</th>\n",
       "      <td>14</td>\n",
       "      <td>0.5</td>\n",
       "    </tr>\n",
       "    <tr>\n",
       "      <th>15</th>\n",
       "      <td>15</td>\n",
       "      <td>1.0</td>\n",
       "    </tr>\n",
       "    <tr>\n",
       "      <th>16</th>\n",
       "      <td>16</td>\n",
       "      <td>2.0</td>\n",
       "    </tr>\n",
       "    <tr>\n",
       "      <th>17</th>\n",
       "      <td>17</td>\n",
       "      <td>2.5</td>\n",
       "    </tr>\n",
       "    <tr>\n",
       "      <th>18</th>\n",
       "      <td>18</td>\n",
       "      <td>3.5</td>\n",
       "    </tr>\n",
       "    <tr>\n",
       "      <th>19</th>\n",
       "      <td>19</td>\n",
       "      <td>3.0</td>\n",
       "    </tr>\n",
       "    <tr>\n",
       "      <th>20</th>\n",
       "      <td>20</td>\n",
       "      <td>3.5</td>\n",
       "    </tr>\n",
       "    <tr>\n",
       "      <th>21</th>\n",
       "      <td>21</td>\n",
       "      <td>4.5</td>\n",
       "    </tr>\n",
       "    <tr>\n",
       "      <th>22</th>\n",
       "      <td>22</td>\n",
       "      <td>4.5</td>\n",
       "    </tr>\n",
       "    <tr>\n",
       "      <th>23</th>\n",
       "      <td>23</td>\n",
       "      <td>5.5</td>\n",
       "    </tr>\n",
       "    <tr>\n",
       "      <th>24</th>\n",
       "      <td>24</td>\n",
       "      <td>6.0</td>\n",
       "    </tr>\n",
       "    <tr>\n",
       "      <th>25</th>\n",
       "      <td>25</td>\n",
       "      <td>-3.5</td>\n",
       "    </tr>\n",
       "    <tr>\n",
       "      <th>26</th>\n",
       "      <td>26</td>\n",
       "      <td>-3.0</td>\n",
       "    </tr>\n",
       "    <tr>\n",
       "      <th>27</th>\n",
       "      <td>27</td>\n",
       "      <td>-2.0</td>\n",
       "    </tr>\n",
       "    <tr>\n",
       "      <th>28</th>\n",
       "      <td>28</td>\n",
       "      <td>-2.0</td>\n",
       "    </tr>\n",
       "    <tr>\n",
       "      <th>29</th>\n",
       "      <td>29</td>\n",
       "      <td>-1.0</td>\n",
       "    </tr>\n",
       "    <tr>\n",
       "      <th>30</th>\n",
       "      <td>30</td>\n",
       "      <td>-0.5</td>\n",
       "    </tr>\n",
       "    <tr>\n",
       "      <th>31</th>\n",
       "      <td>31</td>\n",
       "      <td>-1.0</td>\n",
       "    </tr>\n",
       "    <tr>\n",
       "      <th>32</th>\n",
       "      <td>32</td>\n",
       "      <td>0.0</td>\n",
       "    </tr>\n",
       "    <tr>\n",
       "      <th>33</th>\n",
       "      <td>33</td>\n",
       "      <td>0.5</td>\n",
       "    </tr>\n",
       "    <tr>\n",
       "      <th>34</th>\n",
       "      <td>34</td>\n",
       "      <td>1.5</td>\n",
       "    </tr>\n",
       "    <tr>\n",
       "      <th>35</th>\n",
       "      <td>35</td>\n",
       "      <td>-1.5</td>\n",
       "    </tr>\n",
       "    <tr>\n",
       "      <th>36</th>\n",
       "      <td>36</td>\n",
       "      <td>-0.5</td>\n",
       "    </tr>\n",
       "    <tr>\n",
       "      <th>37</th>\n",
       "      <td>37</td>\n",
       "      <td>0.0</td>\n",
       "    </tr>\n",
       "    <tr>\n",
       "      <th>38</th>\n",
       "      <td>38</td>\n",
       "      <td>1.0</td>\n",
       "    </tr>\n",
       "    <tr>\n",
       "      <th>39</th>\n",
       "      <td>39</td>\n",
       "      <td>0.5</td>\n",
       "    </tr>\n",
       "    <tr>\n",
       "      <th>40</th>\n",
       "      <td>40</td>\n",
       "      <td>1.0</td>\n",
       "    </tr>\n",
       "    <tr>\n",
       "      <th>41</th>\n",
       "      <td>41</td>\n",
       "      <td>2.0</td>\n",
       "    </tr>\n",
       "    <tr>\n",
       "      <th>42</th>\n",
       "      <td>42</td>\n",
       "      <td>2.0</td>\n",
       "    </tr>\n",
       "    <tr>\n",
       "      <th>43</th>\n",
       "      <td>43</td>\n",
       "      <td>3.0</td>\n",
       "    </tr>\n",
       "    <tr>\n",
       "      <th>44</th>\n",
       "      <td>44</td>\n",
       "      <td>3.5</td>\n",
       "    </tr>\n",
       "    <tr>\n",
       "      <th>45</th>\n",
       "      <td>45</td>\n",
       "      <td>-6.0</td>\n",
       "    </tr>\n",
       "    <tr>\n",
       "      <th>46</th>\n",
       "      <td>46</td>\n",
       "      <td>-5.5</td>\n",
       "    </tr>\n",
       "    <tr>\n",
       "      <th>47</th>\n",
       "      <td>47</td>\n",
       "      <td>-4.5</td>\n",
       "    </tr>\n",
       "    <tr>\n",
       "      <th>48</th>\n",
       "      <td>48</td>\n",
       "      <td>-4.5</td>\n",
       "    </tr>\n",
       "    <tr>\n",
       "      <th>49</th>\n",
       "      <td>49</td>\n",
       "      <td>-3.5</td>\n",
       "    </tr>\n",
       "    <tr>\n",
       "      <th>50</th>\n",
       "      <td>50</td>\n",
       "      <td>-3.0</td>\n",
       "    </tr>\n",
       "    <tr>\n",
       "      <th>51</th>\n",
       "      <td>51</td>\n",
       "      <td>-3.5</td>\n",
       "    </tr>\n",
       "    <tr>\n",
       "      <th>52</th>\n",
       "      <td>52</td>\n",
       "      <td>-2.5</td>\n",
       "    </tr>\n",
       "    <tr>\n",
       "      <th>53</th>\n",
       "      <td>53</td>\n",
       "      <td>-2.0</td>\n",
       "    </tr>\n",
       "    <tr>\n",
       "      <th>54</th>\n",
       "      <td>54</td>\n",
       "      <td>-1.0</td>\n",
       "    </tr>\n",
       "    <tr>\n",
       "      <th>55</th>\n",
       "      <td>55</td>\n",
       "      <td>-0.5</td>\n",
       "    </tr>\n",
       "    <tr>\n",
       "      <th>56</th>\n",
       "      <td>56</td>\n",
       "      <td>0.0</td>\n",
       "    </tr>\n",
       "    <tr>\n",
       "      <th>57</th>\n",
       "      <td>57</td>\n",
       "      <td>1.0</td>\n",
       "    </tr>\n",
       "    <tr>\n",
       "      <th>58</th>\n",
       "      <td>58</td>\n",
       "      <td>1.0</td>\n",
       "    </tr>\n",
       "    <tr>\n",
       "      <th>59</th>\n",
       "      <td>59</td>\n",
       "      <td>2.0</td>\n",
       "    </tr>\n",
       "    <tr>\n",
       "      <th>60</th>\n",
       "      <td>60</td>\n",
       "      <td>2.5</td>\n",
       "    </tr>\n",
       "    <tr>\n",
       "      <th>61</th>\n",
       "      <td>61</td>\n",
       "      <td>2.0</td>\n",
       "    </tr>\n",
       "    <tr>\n",
       "      <th>62</th>\n",
       "      <td>62</td>\n",
       "      <td>3.0</td>\n",
       "    </tr>\n",
       "    <tr>\n",
       "      <th>63</th>\n",
       "      <td>63</td>\n",
       "      <td>3.5</td>\n",
       "    </tr>\n",
       "    <tr>\n",
       "      <th>64</th>\n",
       "      <td>64</td>\n",
       "      <td>4.5</td>\n",
       "    </tr>\n",
       "    <tr>\n",
       "      <th>65</th>\n",
       "      <td>65</td>\n",
       "      <td>-4.5</td>\n",
       "    </tr>\n",
       "    <tr>\n",
       "      <th>66</th>\n",
       "      <td>66</td>\n",
       "      <td>-3.5</td>\n",
       "    </tr>\n",
       "    <tr>\n",
       "      <th>67</th>\n",
       "      <td>67</td>\n",
       "      <td>-3.0</td>\n",
       "    </tr>\n",
       "    <tr>\n",
       "      <th>68</th>\n",
       "      <td>68</td>\n",
       "      <td>-2.0</td>\n",
       "    </tr>\n",
       "    <tr>\n",
       "      <th>69</th>\n",
       "      <td>69</td>\n",
       "      <td>-1.0</td>\n",
       "    </tr>\n",
       "  </tbody>\n",
       "</table>\n",
       "</div>"
      ],
      "text/plain": [
       "    permutation  test_statistic\n",
       "0             0             1.0\n",
       "1             1             2.0\n",
       "2             2             3.0\n",
       "3             3             3.5\n",
       "4             4             4.5\n",
       "5             5            -4.5\n",
       "6             6            -3.5\n",
       "7             7            -3.0\n",
       "8             8            -2.0\n",
       "9             9            -2.5\n",
       "10           10            -2.0\n",
       "11           11            -1.0\n",
       "12           12            -1.0\n",
       "13           13             0.0\n",
       "14           14             0.5\n",
       "15           15             1.0\n",
       "16           16             2.0\n",
       "17           17             2.5\n",
       "18           18             3.5\n",
       "19           19             3.0\n",
       "20           20             3.5\n",
       "21           21             4.5\n",
       "22           22             4.5\n",
       "23           23             5.5\n",
       "24           24             6.0\n",
       "25           25            -3.5\n",
       "26           26            -3.0\n",
       "27           27            -2.0\n",
       "28           28            -2.0\n",
       "29           29            -1.0\n",
       "30           30            -0.5\n",
       "31           31            -1.0\n",
       "32           32             0.0\n",
       "33           33             0.5\n",
       "34           34             1.5\n",
       "35           35            -1.5\n",
       "36           36            -0.5\n",
       "37           37             0.0\n",
       "38           38             1.0\n",
       "39           39             0.5\n",
       "40           40             1.0\n",
       "41           41             2.0\n",
       "42           42             2.0\n",
       "43           43             3.0\n",
       "44           44             3.5\n",
       "45           45            -6.0\n",
       "46           46            -5.5\n",
       "47           47            -4.5\n",
       "48           48            -4.5\n",
       "49           49            -3.5\n",
       "50           50            -3.0\n",
       "51           51            -3.5\n",
       "52           52            -2.5\n",
       "53           53            -2.0\n",
       "54           54            -1.0\n",
       "55           55            -0.5\n",
       "56           56             0.0\n",
       "57           57             1.0\n",
       "58           58             1.0\n",
       "59           59             2.0\n",
       "60           60             2.5\n",
       "61           61             2.0\n",
       "62           62             3.0\n",
       "63           63             3.5\n",
       "64           64             4.5\n",
       "65           65            -4.5\n",
       "66           66            -3.5\n",
       "67           67            -3.0\n",
       "68           68            -2.0\n",
       "69           69            -1.0"
      ]
     },
     "execution_count": 29,
     "metadata": {},
     "output_type": "execute_result"
    }
   ],
   "source": [
    "df_sims"
   ]
  },
  {
   "cell_type": "code",
   "execution_count": 30,
   "id": "775e9be7-b903-42dc-a133-ddd3d38c3560",
   "metadata": {},
   "outputs": [],
   "source": [
    "# There is no observed test statistic here, so we don't have to do anything with that"
   ]
  },
  {
   "cell_type": "code",
   "execution_count": 31,
   "id": "82f1f0d2-6927-4469-9a66-80f29c1c3a55",
   "metadata": {},
   "outputs": [],
   "source": [
    "# Ok so now we select the power and the confidence of the desired test:\n",
    "power_ = 0.8\n",
    "alpha = 0.05"
   ]
  },
  {
   "cell_type": "code",
   "execution_count": 49,
   "id": "11b264c9-7fbb-4d5e-8231-fec88aee2b35",
   "metadata": {},
   "outputs": [],
   "source": [
    "# First, compute the critical value\n",
    "# q_significance = 1 - alpha\n",
    "q_significance = 1 - alpha/2\n",
    "critical_point_ri = np.quantile(df_sims['test_statistic'].values, q_significance)"
   ]
  },
  {
   "cell_type": "code",
   "execution_count": 50,
   "id": "ea23fbcc-cc57-49e8-99c6-c38bf5f1be74",
   "metadata": {},
   "outputs": [
    {
     "data": {
      "text/plain": [
       "4.7749999999999915"
      ]
     },
     "execution_count": 50,
     "metadata": {},
     "output_type": "execute_result"
    }
   ],
   "source": [
    "critical_point_ri"
   ]
  },
  {
   "cell_type": "code",
   "execution_count": 51,
   "id": "a7ab3376-8470-4b92-8ce2-bd89a802b004",
   "metadata": {},
   "outputs": [],
   "source": [
    "# Now compute the minimum detectable effect size with the assumed power\n",
    "q_ = 100 - power_ * 100"
   ]
  },
  {
   "cell_type": "code",
   "execution_count": 52,
   "id": "b29e051a-7077-4b2b-bbf6-73d196ab0d75",
   "metadata": {},
   "outputs": [],
   "source": [
    "simulated_effect_size_qth_percentile = np.percentile(df_sims['test_statistic'].values, q_)"
   ]
  },
  {
   "cell_type": "code",
   "execution_count": 53,
   "id": "069d3e96-23b0-4214-bdde-66df9fa0d2e7",
   "metadata": {},
   "outputs": [
    {
     "data": {
      "text/plain": [
       "20.0"
      ]
     },
     "execution_count": 53,
     "metadata": {},
     "output_type": "execute_result"
    }
   ],
   "source": [
    "q_"
   ]
  },
  {
   "cell_type": "code",
   "execution_count": 54,
   "id": "3ca51192-ed8e-4aca-98da-621029a124f5",
   "metadata": {},
   "outputs": [
    {
     "data": {
      "text/plain": [
       "-3.0"
      ]
     },
     "execution_count": 54,
     "metadata": {},
     "output_type": "execute_result"
    }
   ],
   "source": [
    "simulated_effect_size_qth_percentile"
   ]
  },
  {
   "cell_type": "code",
   "execution_count": 55,
   "id": "1fd88c9f-2b32-4b4a-8862-7ae060a9c278",
   "metadata": {},
   "outputs": [],
   "source": [
    "mme_ = critical_point_ri - simulated_effect_size_qth_percentile"
   ]
  },
  {
   "cell_type": "code",
   "execution_count": 56,
   "id": "eeffca74-74b5-4589-bc12-62658356eede",
   "metadata": {},
   "outputs": [
    {
     "data": {
      "text/plain": [
       "7.7749999999999915"
      ]
     },
     "execution_count": 56,
     "metadata": {},
     "output_type": "execute_result"
    }
   ],
   "source": [
    "mme_"
   ]
  },
  {
   "cell_type": "code",
   "execution_count": 41,
   "id": "7bf25304-13f6-405b-ba25-2720a2aaa7d5",
   "metadata": {},
   "outputs": [],
   "source": [
    "# Is this true? I feel like the negative is throwing this off somehow...do we need an absolute value here instead? "
   ]
  },
  {
   "cell_type": "code",
   "execution_count": 43,
   "id": "a7d448a6-41d5-4c1b-bd3b-6dc4763b9732",
   "metadata": {},
   "outputs": [
    {
     "data": {
      "text/plain": [
       "<seaborn.axisgrid.FacetGrid at 0x1681b6970>"
      ]
     },
     "execution_count": 43,
     "metadata": {},
     "output_type": "execute_result"
    },
    {
     "data": {
      "image/png": "[encoded data removed]",
      "text/plain": [
       "<Figure size 500x500 with 1 Axes>"
      ]
     },
     "metadata": {},
     "output_type": "display_data"
    }
   ],
   "source": [
    "sns.displot(data=df_sims, x='test_statistic', kde=True)"
   ]
  },
  {
   "cell_type": "code",
   "execution_count": 45,
   "id": "4f871528-0fbf-4984-88cc-bf1937dee0c3",
   "metadata": {},
   "outputs": [
    {
     "data": {
      "text/plain": [
       "2.380754598517712"
      ]
     },
     "execution_count": 45,
     "metadata": {},
     "output_type": "execute_result"
    }
   ],
   "source": [
    "pwr.tt_ind_solve_power(nobs1=4, alpha=0.05, power=0.8)"
   ]
  },
  {
   "cell_type": "code",
   "execution_count": 46,
   "id": "47d92290-38dc-4e16-8a0c-2db02cb1108e",
   "metadata": {},
   "outputs": [
    {
     "data": {
      "text/plain": [
       "2.8992752717617685"
      ]
     },
     "execution_count": 46,
     "metadata": {},
     "output_type": "execute_result"
    }
   ],
   "source": [
    "df_sims['test_statistic'].std()"
   ]
  },
  {
   "cell_type": "code",
   "execution_count": 48,
   "id": "211fd220-2dd2-4f71-9c1d-da50d5fa9bb0",
   "metadata": {},
   "outputs": [
    {
     "data": {
      "text/plain": [
       "6.902462935615519"
      ]
     },
     "execution_count": 48,
     "metadata": {},
     "output_type": "execute_result"
    }
   ],
   "source": [
    "# So in terms of the mean difference, this is like\n",
    "2.380754598517712 * 2.8992752717617685"
   ]
  },
  {
   "cell_type": "code",
   "execution_count": 60,
   "id": "5f4af5cb-d5c4-4829-9684-371c6cf09cc5",
   "metadata": {},
   "outputs": [
    {
     "data": {
      "text/plain": [
       "<matplotlib.lines.Line2D at 0x1440a01f0>"
      ]
     },
     "execution_count": 60,
     "metadata": {},
     "output_type": "execute_result"
    },
    {
     "data": {
      "image/png": "[encoded data removed]",
      "text/plain": [
       "<Figure size 500x500 with 1 Axes>"
      ]
     },
     "metadata": {},
     "output_type": "display_data"
    }
   ],
   "source": [
    "# Yeah ok, So for a two sided design, it should be alpha/2, otherwise, it's just alpha. \n",
    "# This minus sign is correct. We can plot it and see\n",
    "g = sns.displot(data=df_sims, x='test_statistic', kde=True)\n",
    "ax = g.ax\n",
    "ax.axvline(x=critical_point_ri, linestyle='--', color='red')\n",
    "ax.axvline(x=simulated_effect_size_qth_percentile, linestyle='--', color='green')"
   ]
  },
  {
   "cell_type": "code",
   "execution_count": 59,
   "id": "588d2c0b-1b11-4b93-97ef-adab3eadd948",
   "metadata": {},
   "outputs": [
    {
     "data": {
      "text/plain": [
       "<Axes: xlabel='test_statistic', ylabel='Count'>"
      ]
     },
     "execution_count": 59,
     "metadata": {},
     "output_type": "execute_result"
    }
   ],
   "source": [
    "# Yeah that's it. "
   ]
  },
  {
   "cell_type": "code",
   "execution_count": 61,
   "id": "aa8655a6-d553-4b4e-95f2-a4ead339fb34",
   "metadata": {},
   "outputs": [],
   "source": [
    "# So the shifted distribution should be:\n",
    "df_sims['shifted_test_statistic'] = df_sims['test_statistic'] + mme_"
   ]
  },
  {
   "cell_type": "code",
   "execution_count": 70,
   "id": "3153a7ae-6904-4519-a373-94c25646aeda",
   "metadata": {},
   "outputs": [
    {
     "data": {
      "text/plain": [
       "<matplotlib.lines.Line2D at 0x1441aea90>"
      ]
     },
     "execution_count": 70,
     "metadata": {},
     "output_type": "execute_result"
    },
    {
     "data": {
      "image/png": "[encoded data removed]",
      "text/plain": [
       "<Figure size 1000x800 with 1 Axes>"
      ]
     },
     "metadata": {},
     "output_type": "display_data"
    }
   ],
   "source": [
    "fig, ax = plt.subplots(figsize=(10,8))\n",
    "sns.kdeplot(data=df_sims, x='test_statistic', fill=True, alpha=0.5)\n",
    "sns.kdeplot(data=df_sims, x='shifted_test_statistic', fill=True, alpha=0.5)\n",
    "ax.axvline(x=critical_point_ri, linestyle='--', color='red')\n",
    "# ax.axvline(x=simulated_effect_size_qth_percentile + mme_, linestyle='--', color='green')"
   ]
  },
  {
   "cell_type": "code",
   "execution_count": 67,
   "id": "b6d1e081-54cd-4599-bf68-613fe3cc1a2e",
   "metadata": {},
   "outputs": [
    {
     "data": {
      "text/plain": [
       "<Axes: xlabel='test_statistic', ylabel='Count'>"
      ]
     },
     "execution_count": 67,
     "metadata": {},
     "output_type": "execute_result"
    },
    {
     "data": {
      "image/png": "[encoded data removed]",
      "text/plain": [
       "<Figure size 1000x800 with 1 Axes>"
      ]
     },
     "metadata": {},
     "output_type": "display_data"
    }
   ],
   "source": [
    "fig, ax = plt.subplots(figsize=(10,8))\n",
    "sns.histplot(data=df_sims, x='test_statistic', fill=True, alpha=0.5)\n",
    "sns.histplot(data=df_sims, x='shifted_test_statistic', fill=True, alpha=0.5)"
   ]
  },
  {
   "cell_type": "code",
   "execution_count": 63,
   "id": "386320d1-648a-4844-aa02-75cdc015f09a",
   "metadata": {},
   "outputs": [
    {
     "data": {
      "text/plain": [
       "<seaborn.axisgrid.FacetGrid at 0x1443b3e80>"
      ]
     },
     "execution_count": 63,
     "metadata": {},
     "output_type": "execute_result"
    },
    {
     "data": {
      "image/png": "[encoded data removed]",
      "text/plain": [
       "<Figure size 500x500 with 1 Axes>"
      ]
     },
     "metadata": {},
     "output_type": "display_data"
    },
    {
     "data": {
      "image/png": "[encoded data removed]",
      "text/plain": [
       "<Figure size 500x500 with 1 Axes>"
      ]
     },
     "metadata": {},
     "output_type": "display_data"
    }
   ],
   "source": [
    "sns.displot(data=df_sims, x='test_statistic', kind='kde', fill=True, alpha=0.5)\n",
    "sns.displot(data=df_sims, x='test_statistic', kind='kde')"
   ]
  },
  {
   "cell_type": "code",
   "execution_count": 103,
   "id": "1644886c-fa40-4988-a38a-263a3bff9dc6",
   "metadata": {},
   "outputs": [
    {
     "ename": "SyntaxError",
     "evalue": "invalid syntax (3549030162.py, line 29)",
     "output_type": "error",
     "traceback": [
      "\u001b[0;36m  Cell \u001b[0;32mIn[103], line 29\u001b[0;36m\u001b[0m\n\u001b[0;31m    assert expected_weekly_sample_size * max_weeks <= num_historical_units. \"Insufficient historical data for a maximum runtime of {0} weeks\".format(max_weeks)\u001b[0m\n\u001b[0m                                                                            ^\u001b[0m\n\u001b[0;31mSyntaxError\u001b[0m\u001b[0;31m:\u001b[0m invalid syntax\n"
     ]
    }
   ],
   "source": [
    "def power_calculation(df, expected_4_week_sample_size, min_weeks, max_weeks, sharp_null_type='additive', sharp_null_value=0, test_statistic={'function': 'difference_in_means', 'params': None}, treatment_assignment_probability=0.5, outcome_column_name='y', treatment_column_name='d', treatment_name=1, control_name=0, num_permutations=1000, alternative='two-sided', confidence=0.95, sample_with_replacement=False, filename=None, output_path=None):\n",
    "\n",
    "    # We assume that the dataset we have is historical:\n",
    "\n",
    "    # 1. Use randomization inference to generate a null distribution\n",
    "\n",
    "    # 2. Shift the null to get the right power for the \"alternate\"\n",
    "\n",
    "    # 3. The shift amount is the minimum detectable effect size\n",
    "\n",
    "    # 4. Repeat using historical samples of different sizes\n",
    "\n",
    "    # 5. Map sample size to expected run time given baseline number of daily observations (roll up to weeks)\n",
    "\n",
    "    # 6. Map run time --> minimum detectable effect size:\n",
    "    \n",
    "    assert sharp_null_type in ['additive', 'multiplicative'], \"only additive or multiplicative sharp nulls are supported. Received {0}\".format(sharp_null_type)\n",
    "\n",
    "    assert type(num_permutations) == int, \"Only an integer number of permutations is possible. Received {0}\".format(num_permutations)\n",
    "\n",
    "    assert alternative in ['two-sided', 'less', 'greater'], \"Only {0} alternatives are supported. Received {0}\".format(alternative)\n",
    "\n",
    "    # We need to make sure we have enough data to support the min and max weeks desired runtime\n",
    "    num_historical_units = df.shape[0]\n",
    "    expected_weekly_sample_size = expected_4_week_sample_size / 4\n",
    "    expected_daily_sample_size = expected_weekly_sample_size / 7\n",
    "    \n",
    "    assert expected_weekly_sample_size * min_weeks < num_historical_units, \"Insufficient historical data for a minimum runtime of {0} weeks\".format(min_weeks)\n",
    "    assert expected_weekly_sample_size * max_weeks <= num_historical_units, \"Insufficient historical data for a maximum runtime of {0} weeks\".format(max_weeks)\n",
    "    \n",
    "    # Copy the input DataFrame so that we don't modify the original data in_place\n",
    "    df_ = df.copy()\n",
    "    \n",
    "    # TODO: Do we need to do this here? Feels like code duplication. Actually, yeah we might need this\n",
    "    # Save the input test statistic name if it's a string\n",
    "    if type(test_statistic['function']) == str:\n",
    "        test_stat_name = test_statistic['function'].replace('_', ' ')\n",
    "    else:\n",
    "        test_stat_name = 'custom test statistic'\n",
    "    \n",
    "    # We need a notion of expected sample size. So like if we expect N observations in the eligible population per 4 week period, in line with the conversion rate utils create_mde_table method\n",
    "    # Ok so how do we want to do this? Just a random sample of the historical data (without replacement?)\n",
    "    # First we need to generate a runtime object\n",
    "    \n",
    "    # Step 1: implement the selected sharp null\n",
    "    df_ = self.sharp_null(df_=df_, sharp_null_type=sharp_null_type, sharp_null_value=sharp_null_value, outcome_column_name=outcome_column_name)\n",
    "    \n",
    "    # Step 2: pick a test statistic. We have a list of pre-built ones, otherwise a function must be supplied\n",
    "    # This function must consume a DataFrame and return a single scalar value\n",
    "    test_statistic_function = self.select_test_statistic(test_statistic=test_statistic)\n",
    "    \n",
    "    # TODO: This should be inside the self object\n",
    "    # Probably don't need this\n",
    "    # weeks_to_sim = range(min_weeks, max_weeks+1)\n",
    "    \n",
    "    effect_size_dict = {'weeks': [], 'days': [], 'total_sample_size': [], 'mde': []}\n",
    "    for weeks_ in tqdm(range(min_weeks, max_weeks+1)):\n",
    "        run_weeks, run_days, total_sample_size, mde = self.calculate_mme(df, weeks_, )\n",
    "        effect_size_dict['weeks'].append(run_weeks)\n",
    "        effect_size_dict['days'].append(run_days)\n",
    "        effect_size_dict['total_sample_size'].append(total_sample_size)\n",
    "        effect_size_dict['mde'] = mde\n",
    "    \n",
    "    df_mde = df_mde = pd.DataFrame.from_dict(effect_size_dict)\n",
    "    \n",
    "    # We need an output/plot option here\n",
    "    \n",
    "    return df_mde\n",
    "    \n",
    "    "
   ]
  },
  {
   "cell_type": "code",
   "execution_count": null,
   "id": "54d4b3fd-1069-4d51-bd31-e4fb04537eb0",
   "metadata": {},
   "outputs": [],
   "source": [
    "def calculate_mde(df, weeks_, expected_weekly_sample_size, sharp_null_type, sharp_null_value, outcome_column_name, test_statistic_function, num_permutations, treatment_assignment_probability, sample_with_replacenment, alternative, power, alpha):\n",
    "    \n",
    "    num_to_sample = weeks_ * expected_weekly_sample\n",
    "    df_sample = df.sample(num_to_sample)\n",
    "    \n",
    "    # Determine the desired level of significance\n",
    "    if alternative == 'two-sided':\n",
    "        q_significance = 1 - alpha/2\n",
    "    else:\n",
    "        q_significance = 1 - alpha\n",
    "    \n",
    "    sim_dict = self.run_randomization_inference(df_=df_sample, \n",
    "                                                test_statistic_function=test_statistic_function, \n",
    "                                                treatment_assignment_probability=treatment_assignment_probability, \n",
    "                                                num_perms=num_permutations, \n",
    "                                                sample_with_replacement=sample_with_replacement)\n",
    "    \n",
    "    df_sims = pd.DataFrame.from_dict(sim_dict, orient='index')\n",
    "    df_sims = df_sims.reset_index()\n",
    "    df_sims.columns = ['permutation', 'test_statistic']\n",
    "    \n",
    "    # Establish the critical value for significance\n",
    "    critical_point_ri = np.quantile(df_sims['test_statistic'].values, q_significance)\n",
    "    \n",
    "    # Set the quantile for power calculation:\n",
    "    q_ = 100 - power * 100\n",
    "    \n",
    "    simulated_effect_size_qth_percentile = np.percentile(df_sims['test_statistic'].values, q_)\n",
    "    \n",
    "    # Shift the null distribution over so that 80% of its mass is to the right of the critical value. \n",
    "    # This is the minimum detectable effect size\n",
    "    mde_ = critical_point_ri - simulated_effect_size_qth_percentile\n",
    "    \n",
    "    return weeks_, weeks_ * 7, num_to_sample, mde_\n",
    "    \n",
    "    # return {'weeks': weeks_, 'days': weeks_ * 7, 'total_sample_size': num_to_sample, 'mde': mde_}"
   ]
  },
  {
   "cell_type": "code",
   "execution_count": 73,
   "id": "721f5aa9-8177-472b-8706-d7b9c1e66be0",
   "metadata": {},
   "outputs": [
    {
     "data": {
      "text/plain": [
       "[2, 3, 4, 5, 6, 7, 8, 9]"
      ]
     },
     "execution_count": 73,
     "metadata": {},
     "output_type": "execute_result"
    }
   ],
   "source": [
    "sharp_null_type = 'additive'\n",
    "sharp_null_value = 0\n",
    "outcome_column_name = 'y'"
   ]
  },
  {
   "cell_type": "code",
   "execution_count": 74,
   "id": "1dce6e41-3513-47ad-94fe-2e8ad446def5",
   "metadata": {},
   "outputs": [],
   "source": [
    "test_statistic = {'function': 'difference_in_means', 'params': None}\n",
    "num_permutations = 1000\n",
    "treatment_assignment_probability = 0.5\n",
    "sample_with_replacement = True"
   ]
  },
  {
   "cell_type": "code",
   "execution_count": 88,
   "id": "86861491-8f54-4175-8d34-4696b9cbb929",
   "metadata": {},
   "outputs": [],
   "source": [
    "alternative = 'two-sided'"
   ]
  },
  {
   "cell_type": "code",
   "execution_count": 75,
   "id": "714d6c35-02ca-44a4-b6a4-1527e145c225",
   "metadata": {},
   "outputs": [],
   "source": [
    "power_ = 0.8\n",
    "alpha = 0.05"
   ]
  },
  {
   "cell_type": "code",
   "execution_count": 76,
   "id": "be9e31b4-b300-4794-9d5b-6b0920b73f89",
   "metadata": {},
   "outputs": [],
   "source": [
    "weeks_ = 1"
   ]
  },
  {
   "cell_type": "code",
   "execution_count": 77,
   "id": "d973e4af-5368-47bf-b8ea-b87eff9f3e32",
   "metadata": {},
   "outputs": [],
   "source": [
    "expected_weekly_sample = 8"
   ]
  },
  {
   "cell_type": "code",
   "execution_count": 78,
   "id": "4f2105a3-15de-49cf-992c-fb1556f3281d",
   "metadata": {},
   "outputs": [],
   "source": [
    "# From the inputs, first we need to calculate the number of units to sample\n",
    "num_to_sample = weeks_ * expected_weekly_sample"
   ]
  },
  {
   "cell_type": "code",
   "execution_count": 79,
   "id": "149d0d19-f420-45af-bd40-232cfad97d12",
   "metadata": {},
   "outputs": [
    {
     "data": {
      "text/plain": [
       "8"
      ]
     },
     "execution_count": 79,
     "metadata": {},
     "output_type": "execute_result"
    }
   ],
   "source": [
    "num_to_sample"
   ]
  },
  {
   "cell_type": "code",
   "execution_count": 80,
   "id": "b1a4c9bc-2c89-46b3-8f5e-c901a1ef13f0",
   "metadata": {},
   "outputs": [],
   "source": [
    "df_sample = df.sample(num_to_sample)"
   ]
  },
  {
   "cell_type": "code",
   "execution_count": 81,
   "id": "e66471b2-9c93-4fd1-8b8a-994d40ba461d",
   "metadata": {},
   "outputs": [
    {
     "data": {
      "text/plain": [
       "(8, 8)"
      ]
     },
     "execution_count": 81,
     "metadata": {},
     "output_type": "execute_result"
    }
   ],
   "source": [
    "df_sample.shape"
   ]
  },
  {
   "cell_type": "code",
   "execution_count": 83,
   "id": "8da08d2c-3d9c-49c1-b79b-0ddeeb1fc1e9",
   "metadata": {},
   "outputs": [],
   "source": [
    "# Ok so that's the sample. Then we just go through as per usual\n",
    "# step 1: select sharp null\n",
    "df_ = ri_.sharp_null(df_=df_sample, \n",
    "                     sharp_null_type=sharp_null_type, \n",
    "                     sharp_null_value=sharp_null_value, \n",
    "                     outcome_column_name=outcome_column_name)"
   ]
  },
  {
   "cell_type": "code",
   "execution_count": 84,
   "id": "63316e8c-8d1a-4412-baa5-1b001e1dc42a",
   "metadata": {},
   "outputs": [],
   "source": [
    "test_statistic_function = ri_.select_test_statistic(test_statistic=test_statistic)"
   ]
  },
  {
   "cell_type": "code",
   "execution_count": 85,
   "id": "ef55dff8-0bf1-4cce-a3ad-0802b356a3e2",
   "metadata": {},
   "outputs": [
    {
     "name": "stdout",
     "output_type": "stream",
     "text": [
      "Found {0} distinct assignment combinations. All combinations will be simulated.\n"
     ]
    },
    {
     "name": "stderr",
     "output_type": "stream",
     "text": [
      "100%|███████████████████████████████████████████████████████████████████████████████████████████████████████████████████████████████████████████████████| 70/70 [00:00<00:00, 422.76it/s]\n"
     ]
    }
   ],
   "source": [
    "# Now we can run the randomization inference step:\n",
    "sim_dict = ri_.run_randomization_inference(df_=df_, \n",
    "                                           test_statistic_function=test_statistic_function, \n",
    "                                           treatment_assignment_probability=treatment_assignment_probability, \n",
    "                                           num_perms=num_permutations, \n",
    "                                           sample_with_replacement=sample_with_replacement)"
   ]
  },
  {
   "cell_type": "code",
   "execution_count": 94,
   "id": "b9f82361-6c60-4d0d-8b73-98b59c8a08f1",
   "metadata": {},
   "outputs": [],
   "source": [
    "df_sims = pd.DataFrame.from_dict(sim_dict, orient='index')\n",
    "df_sims = df_sims.reset_index()\n",
    "df_sims.columns = ['permutation', 'test_statistic']"
   ]
  },
  {
   "cell_type": "code",
   "execution_count": 95,
   "id": "54ca4c81-2fbc-400f-af14-d3fcb36ac791",
   "metadata": {},
   "outputs": [],
   "source": [
    "if alternative == 'two-sided':\n",
    "    q_significance = 1 - alpha/2\n",
    "else:\n",
    "    q_significance = 1 - alpha\n",
    "\n",
    "critical_point_ri = np.quantile(df_sims['test_statistic'].values, q_significance)"
   ]
  },
  {
   "cell_type": "code",
   "execution_count": 96,
   "id": "739cabe9-1afb-47fd-af0b-6a10385cd4ae",
   "metadata": {},
   "outputs": [],
   "source": [
    "q_ = 100 - power_ * 100"
   ]
  },
  {
   "cell_type": "code",
   "execution_count": 97,
   "id": "8f39acf8-42ed-42b8-8365-e539435242c6",
   "metadata": {},
   "outputs": [],
   "source": [
    "simulated_effect_size_qth_percentile = np.percentile(df_sims['test_statistic'].values, q_)"
   ]
  },
  {
   "cell_type": "code",
   "execution_count": 98,
   "id": "2acb6603-0d38-46ca-9881-15b071a6172c",
   "metadata": {},
   "outputs": [],
   "source": [
    "mme_ = critical_point_ri - simulated_effect_size_qth_percentile"
   ]
  },
  {
   "cell_type": "code",
   "execution_count": 99,
   "id": "2860475b-8152-4ec3-98ed-dda1a1f2ed77",
   "metadata": {},
   "outputs": [
    {
     "data": {
      "text/plain": [
       "7.7749999999999915"
      ]
     },
     "execution_count": 99,
     "metadata": {},
     "output_type": "execute_result"
    }
   ],
   "source": [
    "mme_"
   ]
  },
  {
   "cell_type": "code",
   "execution_count": 104,
   "id": "321b3cbf-a511-4c68-b8ee-f8fc37998813",
   "metadata": {},
   "outputs": [],
   "source": [
    "from collections import namedtuple"
   ]
  },
  {
   "cell_type": "code",
   "execution_count": 105,
   "id": "f9b4ac74-3de2-4788-8eeb-046941452246",
   "metadata": {},
   "outputs": [],
   "source": [
    "fields = ['weeks', 'days', 'total_sample_size', 'mde']"
   ]
  },
  {
   "cell_type": "code",
   "execution_count": 106,
   "id": "15c3b7e9-9d4b-45e6-92bd-fae1ec9b71fa",
   "metadata": {},
   "outputs": [],
   "source": [
    "mde_nt = namedtuple('mde', fields)"
   ]
  },
  {
   "cell_type": "code",
   "execution_count": 107,
   "id": "34e14a32-2565-4bfb-be8d-e7279f9565d2",
   "metadata": {},
   "outputs": [
    {
     "data": {
      "text/plain": [
       "__main__.mde"
      ]
     },
     "execution_count": 107,
     "metadata": {},
     "output_type": "execute_result"
    }
   ],
   "source": [
    "mde_nt"
   ]
  },
  {
   "cell_type": "code",
   "execution_count": 108,
   "id": "48ad7117-b32a-4080-b998-6f02d3b809c7",
   "metadata": {},
   "outputs": [],
   "source": [
    "mde_nt_1 = mde_nt(2, 14, 10000, 1.4)"
   ]
  },
  {
   "cell_type": "code",
   "execution_count": 109,
   "id": "b50b0974-7532-42b6-addb-91708f1bc7dd",
   "metadata": {},
   "outputs": [
    {
     "data": {
      "text/plain": [
       "mde(weeks=2, days=14, total_sample_size=10000, mde=1.4)"
      ]
     },
     "execution_count": 109,
     "metadata": {},
     "output_type": "execute_result"
    }
   ],
   "source": [
    "mde_nt_1"
   ]
  },
  {
   "cell_type": "code",
   "execution_count": 117,
   "id": "1b2e57ef-714f-4b11-8b89-40fb67cd64b3",
   "metadata": {},
   "outputs": [
    {
     "data": {
      "text/plain": [
       "2"
      ]
     },
     "execution_count": 117,
     "metadata": {},
     "output_type": "execute_result"
    }
   ],
   "source": [
    "mde_nt_1.weeks"
   ]
  },
  {
   "cell_type": "code",
   "execution_count": 118,
   "id": "790e9e53-6403-483a-bfc5-d45220aaf05b",
   "metadata": {},
   "outputs": [
    {
     "data": {
      "text/plain": [
       "{'weeks': 2, 'days': 14, 'total_sample_size': 10000, 'mde': 1.4}"
      ]
     },
     "execution_count": 118,
     "metadata": {},
     "output_type": "execute_result"
    }
   ],
   "source": [
    "mde_nt_1._asdict()"
   ]
  },
  {
   "cell_type": "code",
   "execution_count": 129,
   "id": "6af1b22c-cfe2-4325-9bf9-362bf7c9998b",
   "metadata": {},
   "outputs": [],
   "source": [
    "test_dict = {'weeks': [], 'days': [], 'total_sample_size': [], 'mde': []}"
   ]
  },
  {
   "cell_type": "code",
   "execution_count": 130,
   "id": "fcc9b3c2-4935-4c9b-9abe-e34e96b5baaf",
   "metadata": {},
   "outputs": [
    {
     "data": {
      "text/plain": [
       "{'weeks': None, 'days': None, 'total_sample_size': None, 'mde': None}"
      ]
     },
     "execution_count": 130,
     "metadata": {},
     "output_type": "execute_result"
    }
   ],
   "source": [
    "{key: list_.append(mde_nt_1._asdict()[key]) for key, list_ in test_dict.items()}"
   ]
  },
  {
   "cell_type": "code",
   "execution_count": 127,
   "id": "e9f9f9c0-5596-438d-947d-e8cd67d7ea17",
   "metadata": {},
   "outputs": [],
   "source": [
    "for key, list_ in test_dict.items():\n",
    "    list_.append(mde_nt_1._asdict()[key])"
   ]
  },
  {
   "cell_type": "code",
   "execution_count": 128,
   "id": "47d41647-5e9b-4167-98e4-05e32d47c08c",
   "metadata": {},
   "outputs": [
    {
     "data": {
      "text/plain": [
       "{'weeks': [2], 'days': [14], 'total_sample_size': [10000], 'mde': [1.4]}"
      ]
     },
     "execution_count": 128,
     "metadata": {},
     "output_type": "execute_result"
    }
   ],
   "source": [
    "test_dict"
   ]
  },
  {
   "cell_type": "code",
   "execution_count": null,
   "id": "4d555e31-252b-48b9-851b-22e60a7daf97",
   "metadata": {},
   "outputs": [],
   "source": []
  }
 ],
 "metadata": {
  "kernelspec": {
   "display_name": "Python [conda env:causal_ml_py39]",
   "language": "python",
   "name": "conda-env-causal_ml_py39-py"
  },
  "language_info": {
   "codemirror_mode": {
    "name": "ipython",
    "version": 3
   },
   "file_extension": ".py",
   "mimetype": "text/x-python",
   "name": "python",
   "nbconvert_exporter": "python",
   "pygments_lexer": "ipython3",
   "version": "3.9.16"
  }
 },
 "nbformat": 4,
 "nbformat_minor": 5
}
