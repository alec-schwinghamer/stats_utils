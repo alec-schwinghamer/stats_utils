{
 "cells": [
  {
   "cell_type": "code",
   "execution_count": 1,
   "id": "6ba393f4-c0b6-4c42-b172-750553854a1c",
   "metadata": {
    "tags": []
   },
   "outputs": [],
   "source": [
    "import os\n",
    "import sys\n",
    "import numpy as np\n",
    "import pandas as pd\n",
    "import matplotlib.pyplot as plt\n",
    "%matplotlib inline\n",
    "import seaborn as sns\n",
    "import scipy.stats as stats\n",
    "import statsmodels.stats.power as pwr \n",
    "import pingouin as pg\n",
    "\n",
    "from matplotlib import style\n",
    "from tqdm.auto import tqdm"
   ]
  },
  {
   "cell_type": "code",
   "execution_count": 2,
   "id": "485c457f-9981-4a33-9695-01fdbea48723",
   "metadata": {
    "tags": []
   },
   "outputs": [],
   "source": [
    "# Set pandas preferences\n",
    "pd.options.display.max_columns=500\n",
    "pd.options.display.max_colwidth=500\n",
    "pd.options.display.max_rows=500"
   ]
  },
  {
   "cell_type": "code",
   "execution_count": 3,
   "id": "c7b7d35a-a429-45b4-9211-16b4b3e1e712",
   "metadata": {
    "tags": []
   },
   "outputs": [],
   "source": [
    "# Set plot style\n",
    "style.use('fivethirtyeight')"
   ]
  },
  {
   "cell_type": "code",
   "execution_count": 4,
   "id": "78d1493f-bc34-4885-88c9-5966272859d8",
   "metadata": {
    "tags": []
   },
   "outputs": [],
   "source": [
    "# Initialize tqdm for pandas\n",
    "tqdm.pandas()"
   ]
  },
  {
   "cell_type": "code",
   "execution_count": null,
   "id": "12e899ef-038a-49aa-ab89-8ebbc0774d90",
   "metadata": {},
   "outputs": [],
   "source": [
    "def calc_cohens_d(mean_control, mean_treatment, proportion_control, proportion_treatment, variance_control, variance_treatment):\n",
    "    \n",
    "    mean_diff = mean_treatment - mean_control\n",
    "    \n",
    "    denominator = "
   ]
  },
  {
   "cell_type": "code",
   "execution_count": 6,
   "id": "76932536-7f0a-4914-9983-1c8f674b0dbc",
   "metadata": {
    "tags": []
   },
   "outputs": [
    {
     "data": {
      "text/plain": [
       "63.765611775409525"
      ]
     },
     "execution_count": 6,
     "metadata": {},
     "output_type": "execute_result"
    }
   ],
   "source": [
    "# This assumes that there are two groups with equal sample size and equal variance\n",
    "pwr.tt_ind_solve_power(effect_size=0.5, alpha=0.05, power=0.8)"
   ]
  },
  {
   "cell_type": "code",
   "execution_count": 5,
   "id": "059d7fde-9b0a-4615-af01-7bf9b4c2ac53",
   "metadata": {
    "tags": []
   },
   "outputs": [
    {
     "data": {
      "text/plain": [
       "95.4838440680253"
      ]
     },
     "execution_count": 5,
     "metadata": {},
     "output_type": "execute_result"
    }
   ],
   "source": [
    "# This assumes equal variance, but that group 1 has twice as many observations as group 2. \n",
    "pwr.tt_ind_solve_power(effect_size=0.5, alpha=0.05, power=0.8, ratio=0.5)"
   ]
  },
  {
   "cell_type": "code",
   "execution_count": 6,
   "id": "fd6c3a9b-a25c-4dce-9ac8-42cfe818d80e",
   "metadata": {
    "tags": []
   },
   "outputs": [
    {
     "data": {
      "text/plain": [
       "48.0"
      ]
     },
     "execution_count": 6,
     "metadata": {},
     "output_type": "execute_result"
    }
   ],
   "source": [
    "96/2"
   ]
  },
  {
   "cell_type": "code",
   "execution_count": null,
   "id": "77074fec-8158-42af-8114-f1fcfb295c00",
   "metadata": {},
   "outputs": [],
   "source": [
    "stats."
   ]
  }
 ],
 "metadata": {
  "kernelspec": {
   "display_name": "Python [conda env:causal_ml_py39] *",
   "language": "python",
   "name": "conda-env-causal_ml_py39-py"
  },
  "language_info": {
   "codemirror_mode": {
    "name": "ipython",
    "version": 3
   },
   "file_extension": ".py",
   "mimetype": "text/x-python",
   "name": "python",
   "nbconvert_exporter": "python",
   "pygments_lexer": "ipython3",
   "version": "3.9.15"
  }
 },
 "nbformat": 4,
 "nbformat_minor": 5
}
