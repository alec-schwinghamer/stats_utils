{
 "cells": [
  {
   "cell_type": "markdown",
   "id": "7a1c78c1-729d-4769-b599-a43e45ff59c5",
   "metadata": {},
   "source": [
    "Scratch code for generalization to n_variant a/b test + analysis"
   ]
  },
  {
   "cell_type": "code",
   "execution_count": 1,
   "id": "c6c4c6a4-c9ea-4bd0-bdcc-0b1d701cb861",
   "metadata": {
    "tags": []
   },
   "outputs": [],
   "source": [
    "import os\n",
    "import sys\n",
    "import pandas as pd\n",
    "import numpy as np\n",
    "import scipy.stats as stats\n",
    "import matplotlib.pyplot as plt\n",
    "%matplotlib inline\n",
    "import seaborn as sns\n",
    "import matplotlib.ticker as mtick\n",
    "\n",
    "from matplotlib import style\n",
    "import statsmodels.api as sm\n",
    "from statsmodels.stats.multitest import multipletests as mult_test\n",
    "from tqdm.auto import tqdm"
   ]
  },
  {
   "cell_type": "code",
   "execution_count": 2,
   "id": "aa195ce8-82f2-4b57-bf1c-7611558b2f7d",
   "metadata": {
    "tags": []
   },
   "outputs": [],
   "source": [
    "# additional imports \n",
    "sys.path.append('../../ab_testing_utils/')"
   ]
  },
  {
   "cell_type": "code",
   "execution_count": 3,
   "id": "4328ed2d-8465-4720-959e-59b8b8a5dd0d",
   "metadata": {
    "tags": []
   },
   "outputs": [],
   "source": [
    "import conversion_rate_utils"
   ]
  },
  {
   "cell_type": "code",
   "execution_count": 4,
   "id": "b07e0e40-bd0f-4894-b32b-4e4ffc8160cc",
   "metadata": {
    "tags": []
   },
   "outputs": [],
   "source": [
    "# Set pandas preferences\n",
    "pd.options.display.max_columns=500\n",
    "pd.options.display.max_colwidth=500\n",
    "pd.options.display.max_rows=500"
   ]
  },
  {
   "cell_type": "code",
   "execution_count": 5,
   "id": "514d4f63-6416-4732-9df1-377d3d889b57",
   "metadata": {
    "tags": []
   },
   "outputs": [],
   "source": [
    "# Set plot style\n",
    "style.use('fivethirtyeight')"
   ]
  },
  {
   "cell_type": "code",
   "execution_count": 6,
   "id": "6c81dde8-6495-4edf-baf3-9f356207d8e9",
   "metadata": {
    "tags": []
   },
   "outputs": [],
   "source": [
    "# Initialize tqdm for pandas\n",
    "tqdm.pandas()"
   ]
  },
  {
   "cell_type": "markdown",
   "id": "efb20d8d-37bd-4d60-9ab6-55d89bb06206",
   "metadata": {},
   "source": [
    "We'll continue to work in units of weeks for the experiment run times.  Suppose that we already know the average baseline conversion rate, as well as the average number of daily visitors from historical data. There could be variance in these estimates, but we'll ignore that problem here for now"
   ]
  },
  {
   "cell_type": "code",
   "execution_count": 8,
   "id": "8e1aa2dd-c05c-42b5-b98e-7412f74429c0",
   "metadata": {
    "tags": []
   },
   "outputs": [],
   "source": [
    "daily_num_observations = 10000\n",
    "monthly_num_observations = daily_num_observations * 7 * 4\n",
    "baseline_conversion_rate = 0.05"
   ]
  },
  {
   "cell_type": "code",
   "execution_count": 7,
   "id": "d986642e-2d79-4968-81af-b71d1ad452f2",
   "metadata": {
    "tags": []
   },
   "outputs": [],
   "source": [
    "number_of_weeks_for_experiment = 4\n",
    "number_of_days_for_experiment = number_of_weeks_for_experiment * 7"
   ]
  },
  {
   "cell_type": "code",
   "execution_count": 9,
   "id": "7fa9b1b0-e605-4bf4-ac29-502b2744484e",
   "metadata": {
    "tags": []
   },
   "outputs": [],
   "source": [
    "# First, we need to simulate the number of expected visitors per day\n",
    "daily_units = []\n",
    "day_list = []\n",
    "for i in range(number_of_days_for_experiment):\n",
    "    day_ = str(i)\n",
    "    number_of_observations = np.random.poisson(daily_num_observations)\n",
    "    observations = [1] * number_of_observations\n",
    "    daily_units = daily_units + observations\n",
    "    day_index = [day_] * number_of_observations\n",
    "    day_list = day_list + day_index"
   ]
  },
  {
   "cell_type": "code",
   "execution_count": 10,
   "id": "caa7ee43-979e-4ac4-8a59-00a89f7f3653",
   "metadata": {
    "tags": []
   },
   "outputs": [],
   "source": [
    "df_ab = pd.DataFrame()\n",
    "df_ab['day'] = day_list\n",
    "df_ab['units'] = daily_units"
   ]
  },
  {
   "cell_type": "code",
   "execution_count": 11,
   "id": "4bbb1c82-ee9c-4a17-83a3-97fe79554da4",
   "metadata": {
    "tags": []
   },
   "outputs": [
    {
     "data": {
      "text/html": [
       "<div>\n",
       "<style scoped>\n",
       "    .dataframe tbody tr th:only-of-type {\n",
       "        vertical-align: middle;\n",
       "    }\n",
       "\n",
       "    .dataframe tbody tr th {\n",
       "        vertical-align: top;\n",
       "    }\n",
       "\n",
       "    .dataframe thead th {\n",
       "        text-align: right;\n",
       "    }\n",
       "</style>\n",
       "<table border=\"1\" class=\"dataframe\">\n",
       "  <thead>\n",
       "    <tr style=\"text-align: right;\">\n",
       "      <th></th>\n",
       "      <th>day</th>\n",
       "      <th>units</th>\n",
       "    </tr>\n",
       "  </thead>\n",
       "  <tbody>\n",
       "    <tr>\n",
       "      <th>0</th>\n",
       "      <td>0</td>\n",
       "      <td>1</td>\n",
       "    </tr>\n",
       "    <tr>\n",
       "      <th>1</th>\n",
       "      <td>0</td>\n",
       "      <td>1</td>\n",
       "    </tr>\n",
       "    <tr>\n",
       "      <th>2</th>\n",
       "      <td>0</td>\n",
       "      <td>1</td>\n",
       "    </tr>\n",
       "    <tr>\n",
       "      <th>3</th>\n",
       "      <td>0</td>\n",
       "      <td>1</td>\n",
       "    </tr>\n",
       "    <tr>\n",
       "      <th>4</th>\n",
       "      <td>0</td>\n",
       "      <td>1</td>\n",
       "    </tr>\n",
       "  </tbody>\n",
       "</table>\n",
       "</div>"
      ],
      "text/plain": [
       "  day  units\n",
       "0   0      1\n",
       "1   0      1\n",
       "2   0      1\n",
       "3   0      1\n",
       "4   0      1"
      ]
     },
     "execution_count": 11,
     "metadata": {},
     "output_type": "execute_result"
    }
   ],
   "source": [
    "df_ab.head()"
   ]
  },
  {
   "cell_type": "code",
   "execution_count": null,
   "id": "8d187f8f-7ac7-41c4-be4c-6916596af3b3",
   "metadata": {},
   "outputs": [],
   "source": []
  }
 ],
 "metadata": {
  "kernelspec": {
   "display_name": "Python [conda env:causal_ml_py39] *",
   "language": "python",
   "name": "conda-env-causal_ml_py39-py"
  },
  "language_info": {
   "codemirror_mode": {
    "name": "ipython",
    "version": 3
   },
   "file_extension": ".py",
   "mimetype": "text/x-python",
   "name": "python",
   "nbconvert_exporter": "python",
   "pygments_lexer": "ipython3",
   "version": "3.9.15"
  }
 },
 "nbformat": 4,
 "nbformat_minor": 5
}
