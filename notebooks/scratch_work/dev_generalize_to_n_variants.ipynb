{
 "cells": [
  {
   "cell_type": "markdown",
   "id": "7a1c78c1-729d-4769-b599-a43e45ff59c5",
   "metadata": {},
   "source": [
    "Scratch code for generalization to n_variant a/b test + analysis"
   ]
  },
  {
   "cell_type": "code",
   "execution_count": 1,
   "id": "c6c4c6a4-c9ea-4bd0-bdcc-0b1d701cb861",
   "metadata": {
    "tags": []
   },
   "outputs": [],
   "source": [
    "import os\n",
    "import sys\n",
    "import pandas as pd\n",
    "import numpy as np\n",
    "import scipy.stats as stats\n",
    "import matplotlib.pyplot as plt\n",
    "%matplotlib inline\n",
    "import seaborn as sns\n",
    "import matplotlib.ticker as mtick\n",
    "\n",
    "from matplotlib import style\n",
    "import statsmodels.api as sm\n",
    "from statsmodels.stats.multitest import multipletests as mult_test\n",
    "from tqdm.auto import tqdm"
   ]
  },
  {
   "cell_type": "code",
   "execution_count": 2,
   "id": "aa195ce8-82f2-4b57-bf1c-7611558b2f7d",
   "metadata": {
    "tags": []
   },
   "outputs": [],
   "source": [
    "# additional imports \n",
    "sys.path.append('../../ab_testing_utils/')"
   ]
  },
  {
   "cell_type": "code",
   "execution_count": 3,
   "id": "4328ed2d-8465-4720-959e-59b8b8a5dd0d",
   "metadata": {
    "tags": []
   },
   "outputs": [],
   "source": [
    "import conversion_rate_utils"
   ]
  },
  {
   "cell_type": "code",
   "execution_count": null,
   "id": "3643c6cd-a0ed-4f54-ad1a-663cb10afc68",
   "metadata": {},
   "outputs": [],
   "source": []
  },
  {
   "cell_type": "code",
   "execution_count": 4,
   "id": "b07e0e40-bd0f-4894-b32b-4e4ffc8160cc",
   "metadata": {
    "tags": []
   },
   "outputs": [],
   "source": [
    "# Set pandas preferences\n",
    "pd.options.display.max_columns=500\n",
    "pd.options.display.max_colwidth=500\n",
    "pd.options.display.max_rows=500"
   ]
  },
  {
   "cell_type": "code",
   "execution_count": 5,
   "id": "514d4f63-6416-4732-9df1-377d3d889b57",
   "metadata": {
    "tags": []
   },
   "outputs": [],
   "source": [
    "# Set plot style\n",
    "style.use('fivethirtyeight')"
   ]
  },
  {
   "cell_type": "code",
   "execution_count": 6,
   "id": "6c81dde8-6495-4edf-baf3-9f356207d8e9",
   "metadata": {
    "tags": []
   },
   "outputs": [],
   "source": [
    "# Initialize tqdm for pandas\n",
    "tqdm.pandas()"
   ]
  },
  {
   "cell_type": "markdown",
   "id": "efb20d8d-37bd-4d60-9ab6-55d89bb06206",
   "metadata": {},
   "source": [
    "We'll continue to work in units of weeks for the experiment run times.  Suppose that we already know the average baseline conversion rate, as well as the average number of daily visitors from historical data. There could be variance in these estimates, but we'll ignore that problem here for now"
   ]
  },
  {
   "cell_type": "code",
   "execution_count": 8,
   "id": "8e1aa2dd-c05c-42b5-b98e-7412f74429c0",
   "metadata": {
    "tags": []
   },
   "outputs": [],
   "source": [
    "daily_num_observations = 10000\n",
    "monthly_num_observations = daily_num_observations * 7 * 4\n",
    "baseline_conversion_rate = 0.05"
   ]
  },
  {
   "cell_type": "code",
   "execution_count": 7,
   "id": "d986642e-2d79-4968-81af-b71d1ad452f2",
   "metadata": {
    "tags": []
   },
   "outputs": [],
   "source": [
    "number_of_weeks_for_experiment = 4\n",
    "number_of_days_for_experiment = number_of_weeks_for_experiment * 7"
   ]
  },
  {
   "cell_type": "code",
   "execution_count": 9,
   "id": "7fa9b1b0-e605-4bf4-ac29-502b2744484e",
   "metadata": {
    "tags": []
   },
   "outputs": [],
   "source": [
    "# First, we need to simulate the number of expected visitors per day\n",
    "daily_units = []\n",
    "day_list = []\n",
    "for i in range(number_of_days_for_experiment):\n",
    "    day_ = str(i)\n",
    "    number_of_observations = np.random.poisson(daily_num_observations)\n",
    "    observations = [1] * number_of_observations\n",
    "    daily_units = daily_units + observations\n",
    "    day_index = [day_] * number_of_observations\n",
    "    day_list = day_list + day_index"
   ]
  },
  {
   "cell_type": "code",
   "execution_count": 10,
   "id": "caa7ee43-979e-4ac4-8a59-00a89f7f3653",
   "metadata": {
    "tags": []
   },
   "outputs": [],
   "source": [
    "df_ab = pd.DataFrame()\n",
    "df_ab['day'] = day_list\n",
    "df_ab['units'] = daily_units"
   ]
  },
  {
   "cell_type": "code",
   "execution_count": 11,
   "id": "4bbb1c82-ee9c-4a17-83a3-97fe79554da4",
   "metadata": {
    "tags": []
   },
   "outputs": [
    {
     "data": {
      "text/html": [
       "<div>\n",
       "<style scoped>\n",
       "    .dataframe tbody tr th:only-of-type {\n",
       "        vertical-align: middle;\n",
       "    }\n",
       "\n",
       "    .dataframe tbody tr th {\n",
       "        vertical-align: top;\n",
       "    }\n",
       "\n",
       "    .dataframe thead th {\n",
       "        text-align: right;\n",
       "    }\n",
       "</style>\n",
       "<table border=\"1\" class=\"dataframe\">\n",
       "  <thead>\n",
       "    <tr style=\"text-align: right;\">\n",
       "      <th></th>\n",
       "      <th>day</th>\n",
       "      <th>units</th>\n",
       "    </tr>\n",
       "  </thead>\n",
       "  <tbody>\n",
       "    <tr>\n",
       "      <th>0</th>\n",
       "      <td>0</td>\n",
       "      <td>1</td>\n",
       "    </tr>\n",
       "    <tr>\n",
       "      <th>1</th>\n",
       "      <td>0</td>\n",
       "      <td>1</td>\n",
       "    </tr>\n",
       "    <tr>\n",
       "      <th>2</th>\n",
       "      <td>0</td>\n",
       "      <td>1</td>\n",
       "    </tr>\n",
       "    <tr>\n",
       "      <th>3</th>\n",
       "      <td>0</td>\n",
       "      <td>1</td>\n",
       "    </tr>\n",
       "    <tr>\n",
       "      <th>4</th>\n",
       "      <td>0</td>\n",
       "      <td>1</td>\n",
       "    </tr>\n",
       "  </tbody>\n",
       "</table>\n",
       "</div>"
      ],
      "text/plain": [
       "  day  units\n",
       "0   0      1\n",
       "1   0      1\n",
       "2   0      1\n",
       "3   0      1\n",
       "4   0      1"
      ]
     },
     "execution_count": 11,
     "metadata": {},
     "output_type": "execute_result"
    }
   ],
   "source": [
    "df_ab.head()"
   ]
  },
  {
   "cell_type": "code",
   "execution_count": 93,
   "id": "3706d17d-3af3-4539-8f54-c18bb67a608d",
   "metadata": {
    "tags": []
   },
   "outputs": [],
   "source": [
    "# Let's consider a 3 variant test with equal group sizes as a first test\n",
    "df_ab_3_var = assign_randomly(df=df_ab, n_variants=3, p_vals='equal')"
   ]
  },
  {
   "cell_type": "code",
   "execution_count": 92,
   "id": "0f7ebc7e-7326-4fda-9b45-a7cff1e26e70",
   "metadata": {
    "tags": []
   },
   "outputs": [],
   "source": [
    "def assign_randomly(df, n_variants=2, p_vals='equal'):\n",
    "    df_ = df.copy()\n",
    "    \n",
    "    if p_vals == 'equal':\n",
    "        p_vals = [1.0 / n_variants] * n_variants\n",
    "    else:\n",
    "        assert type(p_vals) in [list, np.ndarray], \"if p_vals is not 'equal', then it must be either a list of np.ndarray\"\n",
    "        assert sum(p_vals) == 1, \"probabilities of assignment to each group {0} must sum to 1\".format(p_vals)\n",
    "    \n",
    "    df_g = df_.groupby('day', as_index=False).sum()\n",
    "    assignment = []\n",
    "    for day_, num_obs in zip(df_g['day'].values, df_g['units'].values):\n",
    "        assignments_ = np.random.multinomial(n=1, pvals=p_vals, size=num_obs)\n",
    "        assignments_ = [np.argmax(x) for x in assignments_]\n",
    "        assignment = assignment + list(assignments_)\n",
    "    df_['group'] = assignment\n",
    "    df_['group'] = df_['group'].apply(lambda x: 'control' if x == 0 else 'treatment_{0}'.format(x))\n",
    "    \n",
    "    return df_"
   ]
  },
  {
   "cell_type": "code",
   "execution_count": 94,
   "id": "b519e3bf-47df-4e3e-873c-d0fa8e177868",
   "metadata": {
    "tags": []
   },
   "outputs": [
    {
     "data": {
      "text/html": [
       "<div>\n",
       "<style scoped>\n",
       "    .dataframe tbody tr th:only-of-type {\n",
       "        vertical-align: middle;\n",
       "    }\n",
       "\n",
       "    .dataframe tbody tr th {\n",
       "        vertical-align: top;\n",
       "    }\n",
       "\n",
       "    .dataframe thead th {\n",
       "        text-align: right;\n",
       "    }\n",
       "</style>\n",
       "<table border=\"1\" class=\"dataframe\">\n",
       "  <thead>\n",
       "    <tr style=\"text-align: right;\">\n",
       "      <th></th>\n",
       "      <th>day</th>\n",
       "      <th>units</th>\n",
       "      <th>group</th>\n",
       "    </tr>\n",
       "  </thead>\n",
       "  <tbody>\n",
       "    <tr>\n",
       "      <th>0</th>\n",
       "      <td>0</td>\n",
       "      <td>1</td>\n",
       "      <td>treatment_2</td>\n",
       "    </tr>\n",
       "    <tr>\n",
       "      <th>1</th>\n",
       "      <td>0</td>\n",
       "      <td>1</td>\n",
       "      <td>control</td>\n",
       "    </tr>\n",
       "    <tr>\n",
       "      <th>2</th>\n",
       "      <td>0</td>\n",
       "      <td>1</td>\n",
       "      <td>control</td>\n",
       "    </tr>\n",
       "    <tr>\n",
       "      <th>3</th>\n",
       "      <td>0</td>\n",
       "      <td>1</td>\n",
       "      <td>treatment_1</td>\n",
       "    </tr>\n",
       "    <tr>\n",
       "      <th>4</th>\n",
       "      <td>0</td>\n",
       "      <td>1</td>\n",
       "      <td>treatment_1</td>\n",
       "    </tr>\n",
       "  </tbody>\n",
       "</table>\n",
       "</div>"
      ],
      "text/plain": [
       "  day  units        group\n",
       "0   0      1  treatment_2\n",
       "1   0      1      control\n",
       "2   0      1      control\n",
       "3   0      1  treatment_1\n",
       "4   0      1  treatment_1"
      ]
     },
     "execution_count": 94,
     "metadata": {},
     "output_type": "execute_result"
    }
   ],
   "source": [
    "df_ab_3_var.head()"
   ]
  },
  {
   "cell_type": "code",
   "execution_count": 95,
   "id": "5116509d-3724-491b-9a2f-d806ec95a4e8",
   "metadata": {
    "tags": []
   },
   "outputs": [
    {
     "data": {
      "text/plain": [
       "treatment_1    0.334286\n",
       "control        0.333595\n",
       "treatment_2    0.332120\n",
       "Name: group, dtype: float64"
      ]
     },
     "execution_count": 95,
     "metadata": {},
     "output_type": "execute_result"
    }
   ],
   "source": [
    "df_ab_3_var['group'].value_counts(normalize=True)"
   ]
  },
  {
   "cell_type": "code",
   "execution_count": 96,
   "id": "f1ab3d02-e52b-4d5f-8f8e-053bd38b5a80",
   "metadata": {
    "scrolled": true,
    "tags": []
   },
   "outputs": [
    {
     "data": {
      "text/plain": [
       "day  group      \n",
       "0    control        0.337371\n",
       "     treatment_2    0.335303\n",
       "     treatment_1    0.327326\n",
       "1    control        0.341557\n",
       "     treatment_1    0.331728\n",
       "     treatment_2    0.326715\n",
       "10   treatment_1    0.335419\n",
       "     control        0.334511\n",
       "     treatment_2    0.330071\n",
       "11   control        0.335252\n",
       "     treatment_1    0.332727\n",
       "     treatment_2    0.332021\n",
       "12   treatment_2    0.336809\n",
       "     control        0.335205\n",
       "     treatment_1    0.327986\n",
       "13   treatment_2    0.340163\n",
       "     treatment_1    0.331626\n",
       "     control        0.328211\n",
       "14   treatment_1    0.335433\n",
       "     control        0.332382\n",
       "     treatment_2    0.332185\n",
       "15   control        0.334574\n",
       "     treatment_1    0.334280\n",
       "     treatment_2    0.331145\n",
       "16   control        0.344341\n",
       "     treatment_2    0.329531\n",
       "     treatment_1    0.326128\n",
       "17   treatment_2    0.336070\n",
       "     control        0.332566\n",
       "     treatment_1    0.331365\n",
       "18   treatment_2    0.334608\n",
       "     treatment_1    0.334004\n",
       "     control        0.331388\n",
       "19   treatment_1    0.335141\n",
       "     control        0.334056\n",
       "     treatment_2    0.330803\n",
       "2    treatment_2    0.335586\n",
       "     treatment_1    0.335288\n",
       "     control        0.329125\n",
       "20   treatment_2    0.339291\n",
       "     treatment_1    0.335597\n",
       "     control        0.325112\n",
       "21   treatment_1    0.338710\n",
       "     control        0.331196\n",
       "     treatment_2    0.330094\n",
       "22   control        0.341951\n",
       "     treatment_1    0.332421\n",
       "     treatment_2    0.325629\n",
       "23   control        0.334035\n",
       "     treatment_2    0.333934\n",
       "     treatment_1    0.332031\n",
       "24   control        0.343232\n",
       "     treatment_1    0.329427\n",
       "     treatment_2    0.327341\n",
       "25   treatment_1    0.341437\n",
       "     treatment_2    0.331972\n",
       "     control        0.326592\n",
       "26   treatment_1    0.338624\n",
       "     control        0.331427\n",
       "     treatment_2    0.329949\n",
       "27   treatment_1    0.341432\n",
       "     control        0.329284\n",
       "     treatment_2    0.329284\n",
       "3    treatment_2    0.338402\n",
       "     treatment_1    0.330898\n",
       "     control        0.330700\n",
       "4    treatment_1    0.341768\n",
       "     control        0.331888\n",
       "     treatment_2    0.326343\n",
       "5    treatment_1    0.336871\n",
       "     treatment_2    0.335269\n",
       "     control        0.327861\n",
       "6    treatment_1    0.341691\n",
       "     control        0.337925\n",
       "     treatment_2    0.320385\n",
       "7    treatment_2    0.334397\n",
       "     control        0.333101\n",
       "     treatment_1    0.332502\n",
       "8    control        0.337832\n",
       "     treatment_2    0.331338\n",
       "     treatment_1    0.330830\n",
       "9    treatment_1    0.337226\n",
       "     treatment_2    0.334810\n",
       "     control        0.327965\n",
       "dtype: float64"
      ]
     },
     "execution_count": 96,
     "metadata": {},
     "output_type": "execute_result"
    }
   ],
   "source": [
    "# Looks good\n",
    "df_ab_3_var[['day', 'group']].groupby('day').value_counts(normalize=True)"
   ]
  },
  {
   "cell_type": "code",
   "execution_count": 115,
   "id": "cd9b4a84-5702-49f6-b4f3-5f1aec7b4e91",
   "metadata": {
    "tags": []
   },
   "outputs": [],
   "source": [
    "# This is likely slow.  See below for better\n",
    "# def generate_conversions(df, conversion_rate_dict, group_col='group'):\n",
    "    \n",
    "#     df_ = df.copy()\n",
    "#     conversions = []\n",
    "    \n",
    "#     for n in df_[group_col].values:\n",
    "#         p_ = conversion_rate_dict[n]\n",
    "#         conv_ = np.random.binomial(n=1, p=p_)\n",
    "#         conversions.append(conv_)\n",
    "    \n",
    "#     df_['conversion'] = conversions"
   ]
  },
  {
   "cell_type": "code",
   "execution_count": 114,
   "id": "b25f6f31-abb9-4db5-8d6e-78ec61ec4e28",
   "metadata": {
    "tags": []
   },
   "outputs": [],
   "source": [
    "def generate_conversions(df, conversion_rate_dict, group_col='group'):\n",
    "    \n",
    "    df_ = df.copy()\n",
    "    df_cr = pd.DataFrame.from_dict(conversion_rate_dict, orient='index').reset_index()\n",
    "    df_cr.columns = [group_col, 'conversion_probability']\n",
    "    \n",
    "    df_ = df_.merge(df_cr, on=group_col, how='left')\n",
    "    \n",
    "    assert not df_cr.isnull().values.any(), 'Ensure that all treatment groups are represented in the input conversion_rate_dict'\n",
    "    \n",
    "    df_['conversion'] = df_['conversion_probability'].apply(lambda x: np.random.binomial(n=1, p=x))\n",
    "    \n",
    "    return df_"
   ]
  },
  {
   "cell_type": "markdown",
   "id": "579ac90c-5eb8-42be-a117-3d9f5831f40e",
   "metadata": {},
   "source": [
    "Let's suppose that the control conversion rate is the same as the input baseline (which it should be, on average, or at least close): 0.05\n",
    "Further, let's assume that treatment 1 is successfully and drives a true conversion rate of 0.2, while treatment 2 is not successful and drives a conversion rate of 0.01 (i.e. worse than control)"
   ]
  },
  {
   "cell_type": "code",
   "execution_count": 116,
   "id": "babb1360-e910-40a3-b4ea-f62016820033",
   "metadata": {
    "tags": []
   },
   "outputs": [],
   "source": [
    "simulate_conversion_rates_dict = {'control': baseline_conversion_rate, 'treatment_1': 0.2, 'treatment_2': 0.01}"
   ]
  },
  {
   "cell_type": "code",
   "execution_count": 117,
   "id": "6c2f0fc0-dcb1-4aed-83ab-1259305cd321",
   "metadata": {
    "tags": []
   },
   "outputs": [],
   "source": [
    "df_ab_3_var = generate_conversions(df=df_ab_3_var, conversion_rate_dict=simulate_conversion_rates_dict, group_col='group')"
   ]
  },
  {
   "cell_type": "code",
   "execution_count": 118,
   "id": "c57b1cce-f657-4be9-832b-33097378aae4",
   "metadata": {
    "tags": []
   },
   "outputs": [
    {
     "data": {
      "text/html": [
       "<div>\n",
       "<style scoped>\n",
       "    .dataframe tbody tr th:only-of-type {\n",
       "        vertical-align: middle;\n",
       "    }\n",
       "\n",
       "    .dataframe tbody tr th {\n",
       "        vertical-align: top;\n",
       "    }\n",
       "\n",
       "    .dataframe thead th {\n",
       "        text-align: right;\n",
       "    }\n",
       "</style>\n",
       "<table border=\"1\" class=\"dataframe\">\n",
       "  <thead>\n",
       "    <tr style=\"text-align: right;\">\n",
       "      <th></th>\n",
       "      <th>day</th>\n",
       "      <th>units</th>\n",
       "      <th>group</th>\n",
       "      <th>conversion_probability</th>\n",
       "      <th>conversion</th>\n",
       "    </tr>\n",
       "  </thead>\n",
       "  <tbody>\n",
       "    <tr>\n",
       "      <th>0</th>\n",
       "      <td>0</td>\n",
       "      <td>1</td>\n",
       "      <td>treatment_2</td>\n",
       "      <td>0.01</td>\n",
       "      <td>0</td>\n",
       "    </tr>\n",
       "    <tr>\n",
       "      <th>1</th>\n",
       "      <td>0</td>\n",
       "      <td>1</td>\n",
       "      <td>control</td>\n",
       "      <td>0.05</td>\n",
       "      <td>0</td>\n",
       "    </tr>\n",
       "    <tr>\n",
       "      <th>2</th>\n",
       "      <td>0</td>\n",
       "      <td>1</td>\n",
       "      <td>control</td>\n",
       "      <td>0.05</td>\n",
       "      <td>0</td>\n",
       "    </tr>\n",
       "    <tr>\n",
       "      <th>3</th>\n",
       "      <td>0</td>\n",
       "      <td>1</td>\n",
       "      <td>treatment_1</td>\n",
       "      <td>0.20</td>\n",
       "      <td>0</td>\n",
       "    </tr>\n",
       "    <tr>\n",
       "      <th>4</th>\n",
       "      <td>0</td>\n",
       "      <td>1</td>\n",
       "      <td>treatment_1</td>\n",
       "      <td>0.20</td>\n",
       "      <td>0</td>\n",
       "    </tr>\n",
       "  </tbody>\n",
       "</table>\n",
       "</div>"
      ],
      "text/plain": [
       "  day  units        group  conversion_probability  conversion\n",
       "0   0      1  treatment_2                    0.01           0\n",
       "1   0      1      control                    0.05           0\n",
       "2   0      1      control                    0.05           0\n",
       "3   0      1  treatment_1                    0.20           0\n",
       "4   0      1  treatment_1                    0.20           0"
      ]
     },
     "execution_count": 118,
     "metadata": {},
     "output_type": "execute_result"
    }
   ],
   "source": [
    "df_ab_3_var.head()"
   ]
  },
  {
   "cell_type": "code",
   "execution_count": 119,
   "id": "f7d5dd69-973e-4067-a568-2fe924a9e3c0",
   "metadata": {
    "tags": []
   },
   "outputs": [
    {
     "data": {
      "text/plain": [
       "group        conversion\n",
       "control      0             0.948913\n",
       "             1             0.051087\n",
       "treatment_1  0             0.799348\n",
       "             1             0.200652\n",
       "treatment_2  0             0.990389\n",
       "             1             0.009611\n",
       "dtype: float64"
      ]
     },
     "execution_count": 119,
     "metadata": {},
     "output_type": "execute_result"
    }
   ],
   "source": [
    "# Yep, very nice :) \n",
    "df_ab_3_var[['group', 'conversion']].groupby('group').value_counts(normalize=True)"
   ]
  },
  {
   "cell_type": "code",
   "execution_count": 120,
   "id": "a20fe6c3-a978-4e00-a6ce-cadf12d4594f",
   "metadata": {
    "tags": []
   },
   "outputs": [],
   "source": [
    "# This will be our simple simulation code for testing"
   ]
  },
  {
   "cell_type": "code",
   "execution_count": null,
   "id": "38f7fbb9-6ba4-47b8-ab82-53bcdc113594",
   "metadata": {},
   "outputs": [],
   "source": []
  }
 ],
 "metadata": {
  "kernelspec": {
   "display_name": "Python [conda env:causal_ml_py39] *",
   "language": "python",
   "name": "conda-env-causal_ml_py39-py"
  },
  "language_info": {
   "codemirror_mode": {
    "name": "ipython",
    "version": 3
   },
   "file_extension": ".py",
   "mimetype": "text/x-python",
   "name": "python",
   "nbconvert_exporter": "python",
   "pygments_lexer": "ipython3",
   "version": "3.9.15"
  }
 },
 "nbformat": 4,
 "nbformat_minor": 5
}
