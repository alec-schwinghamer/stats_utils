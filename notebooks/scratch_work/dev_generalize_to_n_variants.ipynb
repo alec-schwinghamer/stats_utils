{
 "cells": [
  {
   "cell_type": "markdown",
   "id": "7a1c78c1-729d-4769-b599-a43e45ff59c5",
   "metadata": {},
   "source": [
    "Scratch code for generalization to n_variant a/b test + analysis"
   ]
  },
  {
   "cell_type": "code",
   "execution_count": 1,
   "id": "c6c4c6a4-c9ea-4bd0-bdcc-0b1d701cb861",
   "metadata": {
    "tags": []
   },
   "outputs": [],
   "source": [
    "import os\n",
    "import sys\n",
    "import pandas as pd\n",
    "import numpy as np\n",
    "import scipy.stats as stats\n",
    "import matplotlib.pyplot as plt\n",
    "%matplotlib inline\n",
    "import seaborn as sns\n",
    "import matplotlib.ticker as mtick\n",
    "\n",
    "from matplotlib import style\n",
    "import statsmodels.api as sm\n",
    "from statsmodels.stats.multitest import multipletests as mult_test\n",
    "from tqdm.auto import tqdm"
   ]
  },
  {
   "cell_type": "code",
   "execution_count": 2,
   "id": "aa195ce8-82f2-4b57-bf1c-7611558b2f7d",
   "metadata": {
    "tags": []
   },
   "outputs": [],
   "source": [
    "# additional imports \n",
    "sys.path.append('../../ab_testing_utils/')"
   ]
  },
  {
   "cell_type": "code",
   "execution_count": 122,
   "id": "4328ed2d-8465-4720-959e-59b8b8a5dd0d",
   "metadata": {
    "tags": []
   },
   "outputs": [],
   "source": [
    "import conversion_rate_utils\n",
    "import sim_utils"
   ]
  },
  {
   "cell_type": "code",
   "execution_count": 121,
   "id": "3643c6cd-a0ed-4f54-ad1a-663cb10afc68",
   "metadata": {
    "tags": []
   },
   "outputs": [],
   "source": [
    "from importlib import reload"
   ]
  },
  {
   "cell_type": "code",
   "execution_count": 4,
   "id": "b07e0e40-bd0f-4894-b32b-4e4ffc8160cc",
   "metadata": {
    "tags": []
   },
   "outputs": [],
   "source": [
    "# Set pandas preferences\n",
    "pd.options.display.max_columns=500\n",
    "pd.options.display.max_colwidth=500\n",
    "pd.options.display.max_rows=500"
   ]
  },
  {
   "cell_type": "code",
   "execution_count": 5,
   "id": "514d4f63-6416-4732-9df1-377d3d889b57",
   "metadata": {
    "tags": []
   },
   "outputs": [],
   "source": [
    "# Set plot style\n",
    "style.use('fivethirtyeight')"
   ]
  },
  {
   "cell_type": "code",
   "execution_count": 6,
   "id": "6c81dde8-6495-4edf-baf3-9f356207d8e9",
   "metadata": {
    "tags": []
   },
   "outputs": [],
   "source": [
    "# Initialize tqdm for pandas\n",
    "tqdm.pandas()"
   ]
  },
  {
   "cell_type": "markdown",
   "id": "efb20d8d-37bd-4d60-9ab6-55d89bb06206",
   "metadata": {},
   "source": [
    "We'll continue to work in units of weeks for the experiment run times.  Suppose that we already know the average baseline conversion rate, as well as the average number of daily visitors from historical data. There could be variance in these estimates, but we'll ignore that problem here for now"
   ]
  },
  {
   "cell_type": "code",
   "execution_count": 8,
   "id": "8e1aa2dd-c05c-42b5-b98e-7412f74429c0",
   "metadata": {
    "tags": []
   },
   "outputs": [],
   "source": [
    "daily_num_observations = 10000\n",
    "monthly_num_observations = daily_num_observations * 7 * 4\n",
    "baseline_conversion_rate = 0.05"
   ]
  },
  {
   "cell_type": "code",
   "execution_count": 7,
   "id": "d986642e-2d79-4968-81af-b71d1ad452f2",
   "metadata": {
    "tags": []
   },
   "outputs": [],
   "source": [
    "number_of_weeks_for_experiment = 4\n",
    "number_of_days_for_experiment = number_of_weeks_for_experiment * 7"
   ]
  },
  {
   "cell_type": "code",
   "execution_count": 120,
   "id": "a20fe6c3-a978-4e00-a6ce-cadf12d4594f",
   "metadata": {
    "tags": []
   },
   "outputs": [],
   "source": [
    "# Simulate a variant test"
   ]
  },
  {
   "cell_type": "code",
   "execution_count": 123,
   "id": "38f7fbb9-6ba4-47b8-ab82-53bcdc113594",
   "metadata": {
    "tags": []
   },
   "outputs": [],
   "source": [
    "sim_ = sim_utils.SimulateABTest()"
   ]
  },
  {
   "cell_type": "code",
   "execution_count": 125,
   "id": "d57584a4-d3f5-477a-ab22-df568dbe9c1c",
   "metadata": {
    "tags": []
   },
   "outputs": [
    {
     "name": "stdout",
     "output_type": "stream",
     "text": [
      "Simulated group sizes: \n",
      "\n",
      "treatment_2    0.334503\n",
      "control        0.332976\n",
      "treatment_1    0.332522\n",
      "Name: group, dtype: float64\n",
      "\n",
      "\n",
      "Simulated daily group sizes: \n",
      "\n",
      "day  group      \n",
      "0    control        0.340257\n",
      "     treatment_2    0.334125\n",
      "     treatment_1    0.325618\n",
      "1    treatment_1    0.336545\n",
      "     treatment_2    0.334459\n",
      "     control        0.328996\n",
      "10   treatment_2    0.336997\n",
      "     treatment_1    0.332401\n",
      "     control        0.330602\n",
      "11   treatment_1    0.337688\n",
      "     control        0.332602\n",
      "     treatment_2    0.329710\n",
      "12   treatment_1    0.336662\n",
      "     treatment_2    0.335364\n",
      "     control        0.327974\n",
      "13   treatment_2    0.340688\n",
      "     control        0.334514\n",
      "     treatment_1    0.324798\n",
      "14   treatment_2    0.339081\n",
      "     treatment_1    0.338284\n",
      "     control        0.322635\n",
      "15   control        0.340038\n",
      "     treatment_2    0.332968\n",
      "     treatment_1    0.326994\n",
      "16   control        0.338755\n",
      "     treatment_2    0.335522\n",
      "     treatment_1    0.325722\n",
      "17   treatment_1    0.338332\n",
      "     control        0.333164\n",
      "     treatment_2    0.328503\n",
      "18   control        0.336413\n",
      "     treatment_2    0.335420\n",
      "     treatment_1    0.328167\n",
      "19   control        0.336003\n",
      "     treatment_2    0.334989\n",
      "     treatment_1    0.329007\n",
      "2    control        0.337089\n",
      "     treatment_2    0.335194\n",
      "     treatment_1    0.327717\n",
      "20   control        0.336726\n",
      "     treatment_2    0.335145\n",
      "     treatment_1    0.328130\n",
      "21   treatment_2    0.335348\n",
      "     control        0.332628\n",
      "     treatment_1    0.332024\n",
      "22   treatment_2    0.339952\n",
      "     treatment_1    0.331770\n",
      "     control        0.328278\n",
      "23   treatment_1    0.335806\n",
      "     control        0.333500\n",
      "     treatment_2    0.330694\n",
      "24   control        0.342603\n",
      "     treatment_2    0.334210\n",
      "     treatment_1    0.323187\n",
      "25   treatment_1    0.339412\n",
      "     treatment_2    0.336170\n",
      "     control        0.324417\n",
      "26   treatment_1    0.339270\n",
      "     treatment_2    0.331321\n",
      "     control        0.329409\n",
      "27   control        0.336788\n",
      "     treatment_1    0.333333\n",
      "     treatment_2    0.329879\n",
      "3    control        0.339240\n",
      "     treatment_1    0.333201\n",
      "     treatment_2    0.327559\n",
      "4    treatment_2    0.338106\n",
      "     treatment_1    0.331194\n",
      "     control        0.330700\n",
      "5    treatment_2    0.337078\n",
      "     treatment_1    0.336158\n",
      "     control        0.326764\n",
      "6    treatment_1    0.335638\n",
      "     treatment_2    0.333333\n",
      "     control        0.331029\n",
      "7    treatment_2    0.340272\n",
      "     treatment_1    0.330264\n",
      "     control        0.329464\n",
      "8    treatment_2    0.335184\n",
      "     control        0.332458\n",
      "     treatment_1    0.332357\n",
      "9    treatment_1    0.341069\n",
      "     control        0.330018\n",
      "     treatment_2    0.328913\n",
      "dtype: float64\n",
      "\n",
      "\n",
      "\n",
      "\n",
      "Simulated conversion rates by group: \n",
      "\n",
      "group        conversion\n",
      "control      0             0.949255\n",
      "             1             0.050745\n",
      "treatment_1  0             0.900350\n",
      "             1             0.099650\n",
      "treatment_2  0             0.748800\n",
      "             1             0.251200\n",
      "dtype: float64\n",
      "\n",
      "\n"
     ]
    }
   ],
   "source": [
    "df_ab = sim_.run_sim(daily_num_observations=daily_num_observations, \n",
    "             number_of_days_for_experiment=number_of_days_for_experiment, \n",
    "             expected_conversion_rates=[baseline_conversion_rate, 0.1, 0.25], \n",
    "             group_col='group', \n",
    "             p_vals='equal')"
   ]
  },
  {
   "cell_type": "code",
   "execution_count": 126,
   "id": "fede97d9-1913-4d6b-b9d5-571a58ad2009",
   "metadata": {
    "tags": []
   },
   "outputs": [
    {
     "data": {
      "text/html": [
       "<div>\n",
       "<style scoped>\n",
       "    .dataframe tbody tr th:only-of-type {\n",
       "        vertical-align: middle;\n",
       "    }\n",
       "\n",
       "    .dataframe tbody tr th {\n",
       "        vertical-align: top;\n",
       "    }\n",
       "\n",
       "    .dataframe thead th {\n",
       "        text-align: right;\n",
       "    }\n",
       "</style>\n",
       "<table border=\"1\" class=\"dataframe\">\n",
       "  <thead>\n",
       "    <tr style=\"text-align: right;\">\n",
       "      <th></th>\n",
       "      <th>day</th>\n",
       "      <th>units</th>\n",
       "      <th>group</th>\n",
       "      <th>conversion_probability</th>\n",
       "      <th>conversion</th>\n",
       "    </tr>\n",
       "  </thead>\n",
       "  <tbody>\n",
       "    <tr>\n",
       "      <th>0</th>\n",
       "      <td>0</td>\n",
       "      <td>1</td>\n",
       "      <td>control</td>\n",
       "      <td>0.05</td>\n",
       "      <td>0</td>\n",
       "    </tr>\n",
       "    <tr>\n",
       "      <th>1</th>\n",
       "      <td>0</td>\n",
       "      <td>1</td>\n",
       "      <td>treatment_2</td>\n",
       "      <td>0.25</td>\n",
       "      <td>0</td>\n",
       "    </tr>\n",
       "    <tr>\n",
       "      <th>2</th>\n",
       "      <td>0</td>\n",
       "      <td>1</td>\n",
       "      <td>control</td>\n",
       "      <td>0.05</td>\n",
       "      <td>0</td>\n",
       "    </tr>\n",
       "    <tr>\n",
       "      <th>3</th>\n",
       "      <td>0</td>\n",
       "      <td>1</td>\n",
       "      <td>control</td>\n",
       "      <td>0.05</td>\n",
       "      <td>0</td>\n",
       "    </tr>\n",
       "    <tr>\n",
       "      <th>4</th>\n",
       "      <td>0</td>\n",
       "      <td>1</td>\n",
       "      <td>treatment_1</td>\n",
       "      <td>0.10</td>\n",
       "      <td>1</td>\n",
       "    </tr>\n",
       "  </tbody>\n",
       "</table>\n",
       "</div>"
      ],
      "text/plain": [
       "  day  units        group  conversion_probability  conversion\n",
       "0   0      1      control                    0.05           0\n",
       "1   0      1  treatment_2                    0.25           0\n",
       "2   0      1      control                    0.05           0\n",
       "3   0      1      control                    0.05           0\n",
       "4   0      1  treatment_1                    0.10           1"
      ]
     },
     "execution_count": 126,
     "metadata": {},
     "output_type": "execute_result"
    }
   ],
   "source": [
    "df_ab.head()"
   ]
  },
  {
   "cell_type": "code",
   "execution_count": null,
   "id": "01cf14a0-ac08-4f6f-a96a-ab64abe9825e",
   "metadata": {},
   "outputs": [],
   "source": []
  }
 ],
 "metadata": {
  "kernelspec": {
   "display_name": "Python [conda env:causal_ml_py39] *",
   "language": "python",
   "name": "conda-env-causal_ml_py39-py"
  },
  "language_info": {
   "codemirror_mode": {
    "name": "ipython",
    "version": 3
   },
   "file_extension": ".py",
   "mimetype": "text/x-python",
   "name": "python",
   "nbconvert_exporter": "python",
   "pygments_lexer": "ipython3",
   "version": "3.9.15"
  }
 },
 "nbformat": 4,
 "nbformat_minor": 5
}
