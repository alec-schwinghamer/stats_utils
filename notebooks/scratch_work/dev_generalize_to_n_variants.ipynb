{
 "cells": [
  {
   "cell_type": "markdown",
   "id": "7a1c78c1-729d-4769-b599-a43e45ff59c5",
   "metadata": {},
   "source": [
    "Scratch code for generalization to n_variant a/b test + analysis"
   ]
  },
  {
   "cell_type": "code",
   "execution_count": null,
   "id": "c6c4c6a4-c9ea-4bd0-bdcc-0b1d701cb861",
   "metadata": {},
   "outputs": [],
   "source": [
    "import os\n",
    "import sys\n",
    "import pandas as pd\n",
    "import numpy as np\n",
    "import scipy.stats as stats\n",
    "import matplotlib.pyplot as plt\n",
    "%matplotlib inline\n",
    "import seaborn as sns\n"
   ]
  }
 ],
 "metadata": {
  "kernelspec": {
   "display_name": "Python [conda env:causal_ml_py39] *",
   "language": "python",
   "name": "conda-env-causal_ml_py39-py"
  },
  "language_info": {
   "codemirror_mode": {
    "name": "ipython",
    "version": 3
   },
   "file_extension": ".py",
   "mimetype": "text/x-python",
   "name": "python",
   "nbconvert_exporter": "python",
   "pygments_lexer": "ipython3",
   "version": "3.9.15"
  }
 },
 "nbformat": 4,
 "nbformat_minor": 5
}
