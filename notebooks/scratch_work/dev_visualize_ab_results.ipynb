{
 "cells": [
  {
   "cell_type": "markdown",
   "id": "92f408bd-a294-4abb-9f5a-4cf0e0889441",
   "metadata": {},
   "source": [
    "We already have code to look at the results of a simple AB test (50/50 split with two groups only). Let's visualize the results\n",
    "\n",
    "We'll also want to extend the existing functions to handle different splits as well as different numbers of variants"
   ]
  },
  {
   "cell_type": "code",
   "execution_count": 22,
   "id": "2d61624d-de40-4a78-98c2-02f80bd515a7",
   "metadata": {
    "tags": []
   },
   "outputs": [],
   "source": [
    "import os\n",
    "import sys\n",
    "import numpy as np\n",
    "import pandas as pd\n",
    "import matplotlib.pyplot as plt\n",
    "%matplotlib inline\n",
    "import seaborn as sns\n",
    "import scipy.stats as stats\n",
    "import matplotlib.ticker as mtick\n",
    "import statsmodels.api as sm\n",
    "from time import gmtime, strftime\n",
    "from matplotlib import style"
   ]
  },
  {
   "cell_type": "code",
   "execution_count": 23,
   "id": "eb09e866-9d2d-49ac-ad34-14293cd01a03",
   "metadata": {
    "tags": []
   },
   "outputs": [],
   "source": [
    "sys.path.append('../../ab_testing_utils/')"
   ]
  },
  {
   "cell_type": "code",
   "execution_count": 24,
   "id": "02cb5168-bc62-4359-aa98-29fb6c4e71e0",
   "metadata": {
    "tags": []
   },
   "outputs": [],
   "source": [
    "import conversion_rate_utils"
   ]
  },
  {
   "cell_type": "code",
   "execution_count": 52,
   "id": "5d2342b1-ffea-4152-b760-c4b1751575b4",
   "metadata": {
    "tags": []
   },
   "outputs": [],
   "source": [
    "from importlib import reload"
   ]
  },
  {
   "cell_type": "code",
   "execution_count": 25,
   "id": "0f1c1ed5-d8c3-4971-b5d8-b9c78fc360ad",
   "metadata": {
    "tags": []
   },
   "outputs": [],
   "source": [
    "# set pandas preferences\n",
    "pd.options.display.max_columns=500\n",
    "pd.options.display.max_colwidth=500\n",
    "pd.options.display.max_rows=500"
   ]
  },
  {
   "cell_type": "code",
   "execution_count": 26,
   "id": "d99b53a7-4d8e-4de9-beda-c2ad9a4fd4ba",
   "metadata": {
    "tags": []
   },
   "outputs": [],
   "source": [
    "# set plot style\n",
    "style.use('fivethirtyeight')"
   ]
  },
  {
   "cell_type": "code",
   "execution_count": 108,
   "id": "93fb91a6-3b35-4967-a915-03bc99be430d",
   "metadata": {
    "tags": []
   },
   "outputs": [
    {
     "data": {
      "text/plain": [
       "<module 'conversion_rate_utils' from '/Users/danielokeeffe/Documents/src/stats_utils/stats_utils/notebooks/scratch_work/../../ab_testing_utils/conversion_rate_utils.py'>"
      ]
     },
     "execution_count": 108,
     "metadata": {},
     "output_type": "execute_result"
    }
   ],
   "source": [
    "reload(conversion_rate_utils)"
   ]
  },
  {
   "cell_type": "markdown",
   "id": "df147a22-a7d8-4690-8caa-33e05a98f0cc",
   "metadata": {},
   "source": [
    "Generate some fake data"
   ]
  },
  {
   "cell_type": "code",
   "execution_count": 27,
   "id": "0cd4231f-5af2-4e6a-987f-65e4f60cfe48",
   "metadata": {
    "tags": []
   },
   "outputs": [],
   "source": [
    "daily_num_observations = 10000\n",
    "monthly_num_observations = daily_num_observations * 7 * 4\n",
    "baseline_conversion_rate = 0.05\n",
    "number_of_weeks_for_experiment = 2\n",
    "number_of_days_for_experiment = number_of_weeks_for_experiment * 7"
   ]
  },
  {
   "cell_type": "code",
   "execution_count": 28,
   "id": "f8bbd3fc-18e3-43be-828c-f34abf1529ec",
   "metadata": {
    "tags": []
   },
   "outputs": [],
   "source": [
    "daily_units = []\n",
    "day_list = []\n",
    "for i in range(number_of_days_for_experiment):\n",
    "    day_ = str(i)\n",
    "    number_of_observations = np.random.poisson(daily_num_observations)\n",
    "    observations = [1] * number_of_observations\n",
    "    daily_units = daily_units + observations\n",
    "    day_index = [day_] * number_of_observations\n",
    "    day_list = day_list + day_index"
   ]
  },
  {
   "cell_type": "code",
   "execution_count": 29,
   "id": "96ea3d29-116b-479d-924f-baa1fce61480",
   "metadata": {
    "tags": []
   },
   "outputs": [],
   "source": [
    "df_ab = pd.DataFrame()\n",
    "df_ab['day'] = day_list\n",
    "df_ab['units'] = daily_units"
   ]
  },
  {
   "cell_type": "code",
   "execution_count": 30,
   "id": "f250736a-42cb-4957-b270-99d2f99f94a7",
   "metadata": {
    "tags": []
   },
   "outputs": [],
   "source": [
    "# Now we need to do random assignment\n",
    "def assign_randomly(df, p=0.5):\n",
    "    df_ = df.copy()\n",
    "    df_g = df_.groupby('day', as_index=False).sum()\n",
    "    assignment = []\n",
    "    for day_, num_obs in zip(df_g['day'].unique(), df_g['units'].unique()):\n",
    "        assignments_ = np.random.binomial(n=1, p=0.5, size=num_obs)\n",
    "        assignment = assignment + list(assignments_)\n",
    "    df_['group'] = assignment\n",
    "    df_['group'] = df_['group'].apply(lambda x: 'treatment' if x == 1 else 'control')\n",
    "    \n",
    "    return df_"
   ]
  },
  {
   "cell_type": "code",
   "execution_count": 31,
   "id": "e64fe188-36bb-4c07-a23c-0b94fb3da4e3",
   "metadata": {
    "tags": []
   },
   "outputs": [],
   "source": [
    "df_ab = assign_randomly(df_ab)"
   ]
  },
  {
   "cell_type": "code",
   "execution_count": 32,
   "id": "926d0b34-afbc-4b9d-bee7-a32ef131cb4b",
   "metadata": {
    "tags": []
   },
   "outputs": [],
   "source": [
    "def generate_conversions(df, control_p, treatment_p, treatment_name, group_col='group'):\n",
    "    df_ = df.copy()\n",
    "    conversions = []\n",
    "    for n in df_[group_col].values:\n",
    "        if n == treatment_name:\n",
    "            p_ = treatment_p\n",
    "        else:\n",
    "            p_ = control_p\n",
    "        conv_ = np.random.binomial(n=1, p=p_)\n",
    "        conversions.append(conv_)\n",
    "    \n",
    "    df_['conversion'] = conversions\n",
    "    \n",
    "    return df_"
   ]
  },
  {
   "cell_type": "code",
   "execution_count": 33,
   "id": "76132546-43ec-4374-a804-ff5214dcca54",
   "metadata": {
    "tags": []
   },
   "outputs": [],
   "source": [
    "df_ab = generate_conversions(df=df_ab, control_p=baseline_conversion_rate, treatment_p=baseline_conversion_rate + 0.1*baseline_conversion_rate, treatment_name='treatment')"
   ]
  },
  {
   "cell_type": "code",
   "execution_count": 34,
   "id": "3ed66f9a-3cbc-4cc3-87fe-0894c20e13ab",
   "metadata": {
    "tags": []
   },
   "outputs": [],
   "source": [
    "# Let's run this manually and compare to the results of our code base"
   ]
  },
  {
   "cell_type": "code",
   "execution_count": 35,
   "id": "33507414-769c-45fe-81eb-737d111a77c7",
   "metadata": {
    "tags": []
   },
   "outputs": [],
   "source": [
    "df_ab_results = df_ab[['group', 'units', 'conversion']].groupby('group', as_index=False).sum()"
   ]
  },
  {
   "cell_type": "code",
   "execution_count": 36,
   "id": "205cfff4-312d-4b92-9b5e-5ca8f88682d8",
   "metadata": {
    "tags": []
   },
   "outputs": [],
   "source": [
    "df_ab_results['conversion_rate'] = df_ab_results['conversion'] / df_ab_results['units']"
   ]
  },
  {
   "cell_type": "code",
   "execution_count": 37,
   "id": "b527d986-d855-4559-8d99-f693895066fd",
   "metadata": {
    "tags": []
   },
   "outputs": [],
   "source": [
    "# Is this a significant result?\n",
    "z_score, p_value = sm.stats.proportions_ztest([df_ab_results.query(\"group=='control'\")['conversion'].values, df_ab_results.query(\"group=='treatment'\")['conversion'].values], \n",
    "                                              [df_ab_results.query(\"group=='control'\")['units'].values, df_ab_results.query(\"group=='treatment'\")['units'].values])"
   ]
  },
  {
   "cell_type": "code",
   "execution_count": 38,
   "id": "11d924b8-d3b5-4983-b2bb-39b2fdf0599f",
   "metadata": {
    "tags": []
   },
   "outputs": [
    {
     "data": {
      "text/plain": [
       "array([-4.28414083])"
      ]
     },
     "execution_count": 38,
     "metadata": {},
     "output_type": "execute_result"
    }
   ],
   "source": [
    "z_score"
   ]
  },
  {
   "cell_type": "code",
   "execution_count": 39,
   "id": "b7c1fb75-237e-4f6a-bdf6-6a0165173b14",
   "metadata": {
    "tags": []
   },
   "outputs": [
    {
     "data": {
      "text/plain": [
       "array([1.83446695e-05])"
      ]
     },
     "execution_count": 39,
     "metadata": {},
     "output_type": "execute_result"
    }
   ],
   "source": [
    "p_value"
   ]
  },
  {
   "cell_type": "code",
   "execution_count": 40,
   "id": "f01f4cc5-3522-4487-94c9-83d5eb7a4692",
   "metadata": {
    "tags": []
   },
   "outputs": [],
   "source": [
    "lift = (df_ab_results.query(\"group=='treatment'\")['conversion_rate'].iloc[0] - df_ab_results.query(\"group=='control'\")['conversion_rate'].iloc[0]) / df_ab_results.query(\"group=='control'\")['conversion_rate'].iloc[0]"
   ]
  },
  {
   "cell_type": "code",
   "execution_count": 41,
   "id": "d276f1e0-d6b4-4bdb-92f2-fa6f5bb93a94",
   "metadata": {
    "tags": []
   },
   "outputs": [],
   "source": [
    "lift = lift * 100"
   ]
  },
  {
   "cell_type": "code",
   "execution_count": 42,
   "id": "a382238c-27c0-41f5-b460-020ce70c326b",
   "metadata": {
    "tags": []
   },
   "outputs": [
    {
     "data": {
      "text/plain": [
       "10.220871367098388"
      ]
     },
     "execution_count": 42,
     "metadata": {},
     "output_type": "execute_result"
    }
   ],
   "source": [
    "lift"
   ]
  },
  {
   "cell_type": "code",
   "execution_count": 43,
   "id": "30d5bc85-6984-4708-acea-6456248e948c",
   "metadata": {
    "tags": []
   },
   "outputs": [],
   "source": [
    "# We'll compute a 95% confidence interval as well. We'll treat this as a Bernoulli random variable. We could probably also bootstrap this\n",
    "sigma_treated = df_ab_results.query(\"group=='treatment'\")['conversion_rate'].iloc[0] * (1 - df_ab_results.query(\"group=='treatment'\")['conversion_rate'].iloc[0])\n",
    "treatment_sample_size = df_ab_results.query(\"group=='treatment'\")['units'].iloc[0]"
   ]
  },
  {
   "cell_type": "code",
   "execution_count": 44,
   "id": "cc994780-3edb-4d76-b277-08f3c4c17d3c",
   "metadata": {
    "tags": []
   },
   "outputs": [],
   "source": [
    "se_treated = np.sqrt(sigma_treated / treatment_sample_size)"
   ]
  },
  {
   "cell_type": "code",
   "execution_count": 45,
   "id": "1290abbe-d62d-42f6-b0c1-09924e4af31c",
   "metadata": {
    "tags": []
   },
   "outputs": [],
   "source": [
    "treated_lower_ci_95 = df_ab_results.query(\"group=='treatment'\")['conversion_rate'].iloc[0] - 1.96 * se_treated\n",
    "treated_upper_ci_95 = df_ab_results.query(\"group=='treatment'\")['conversion_rate'].iloc[0] + 1.96 * se_treated"
   ]
  },
  {
   "cell_type": "code",
   "execution_count": 46,
   "id": "aa38ada5-2dbc-4d55-8b2f-3e3747620e47",
   "metadata": {
    "tags": []
   },
   "outputs": [],
   "source": [
    "# And for the control measurement:\n",
    "sigma_control = df_ab_results.query(\"group=='control'\")['conversion_rate'].iloc[0] * (1 - df_ab_results.query(\"group=='control'\")['conversion_rate'].iloc[0])\n",
    "control_sample_size = df_ab_results.query(\"group=='control'\")['units'].iloc[0]\n",
    "se_control = np.sqrt(sigma_control / control_sample_size)\n",
    "control_lower_ci_95 = df_ab_results.query(\"group=='control'\")['conversion_rate'].iloc[0] - 1.96 * se_control\n",
    "control_upper_ci_95 = df_ab_results.query(\"group=='control'\")['conversion_rate'].iloc[0] + 1.96 * se_control"
   ]
  },
  {
   "cell_type": "code",
   "execution_count": 47,
   "id": "3e7f1d3d-a01f-4f38-8b14-04711fbc6834",
   "metadata": {
    "tags": []
   },
   "outputs": [],
   "source": [
    "df_ab_results['lower_ci_95'] = [control_lower_ci_95, treated_lower_ci_95]\n",
    "df_ab_results['upper_ci_95'] = [control_upper_ci_95, treated_upper_ci_95]"
   ]
  },
  {
   "cell_type": "code",
   "execution_count": 48,
   "id": "3d72534e-0c1f-4073-9704-8dae20becf17",
   "metadata": {
    "tags": []
   },
   "outputs": [
    {
     "data": {
      "text/html": [
       "<div>\n",
       "<style scoped>\n",
       "    .dataframe tbody tr th:only-of-type {\n",
       "        vertical-align: middle;\n",
       "    }\n",
       "\n",
       "    .dataframe tbody tr th {\n",
       "        vertical-align: top;\n",
       "    }\n",
       "\n",
       "    .dataframe thead th {\n",
       "        text-align: right;\n",
       "    }\n",
       "</style>\n",
       "<table border=\"1\" class=\"dataframe\">\n",
       "  <thead>\n",
       "    <tr style=\"text-align: right;\">\n",
       "      <th></th>\n",
       "      <th>group</th>\n",
       "      <th>units</th>\n",
       "      <th>conversion</th>\n",
       "      <th>conversion_rate</th>\n",
       "      <th>lower_ci_95</th>\n",
       "      <th>upper_ci_95</th>\n",
       "    </tr>\n",
       "  </thead>\n",
       "  <tbody>\n",
       "    <tr>\n",
       "      <th>0</th>\n",
       "      <td>control</td>\n",
       "      <td>69750</td>\n",
       "      <td>3487</td>\n",
       "      <td>0.049993</td>\n",
       "      <td>0.048375</td>\n",
       "      <td>0.05161</td>\n",
       "    </tr>\n",
       "    <tr>\n",
       "      <th>1</th>\n",
       "      <td>treatment</td>\n",
       "      <td>70269</td>\n",
       "      <td>3872</td>\n",
       "      <td>0.055103</td>\n",
       "      <td>0.053415</td>\n",
       "      <td>0.05679</td>\n",
       "    </tr>\n",
       "  </tbody>\n",
       "</table>\n",
       "</div>"
      ],
      "text/plain": [
       "       group  units  conversion  conversion_rate  lower_ci_95  upper_ci_95\n",
       "0    control  69750        3487         0.049993     0.048375      0.05161\n",
       "1  treatment  70269        3872         0.055103     0.053415      0.05679"
      ]
     },
     "execution_count": 48,
     "metadata": {},
     "output_type": "execute_result"
    }
   ],
   "source": [
    "df_ab_results"
   ]
  },
  {
   "cell_type": "markdown",
   "id": "a590418b-8e54-47cb-916a-5b7cc2b5021d",
   "metadata": {},
   "source": [
    "Ok now compare this with our code base"
   ]
  },
  {
   "cell_type": "code",
   "execution_count": 50,
   "id": "64b908c4-d9ce-4b1e-af16-b1529f191e0d",
   "metadata": {
    "tags": []
   },
   "outputs": [
    {
     "data": {
      "text/html": [
       "<div>\n",
       "<style scoped>\n",
       "    .dataframe tbody tr th:only-of-type {\n",
       "        vertical-align: middle;\n",
       "    }\n",
       "\n",
       "    .dataframe tbody tr th {\n",
       "        vertical-align: top;\n",
       "    }\n",
       "\n",
       "    .dataframe thead th {\n",
       "        text-align: right;\n",
       "    }\n",
       "</style>\n",
       "<table border=\"1\" class=\"dataframe\">\n",
       "  <thead>\n",
       "    <tr style=\"text-align: right;\">\n",
       "      <th></th>\n",
       "      <th>day</th>\n",
       "      <th>units</th>\n",
       "      <th>group</th>\n",
       "      <th>conversion</th>\n",
       "    </tr>\n",
       "  </thead>\n",
       "  <tbody>\n",
       "    <tr>\n",
       "      <th>0</th>\n",
       "      <td>0</td>\n",
       "      <td>1</td>\n",
       "      <td>treatment</td>\n",
       "      <td>0</td>\n",
       "    </tr>\n",
       "    <tr>\n",
       "      <th>1</th>\n",
       "      <td>0</td>\n",
       "      <td>1</td>\n",
       "      <td>control</td>\n",
       "      <td>0</td>\n",
       "    </tr>\n",
       "    <tr>\n",
       "      <th>2</th>\n",
       "      <td>0</td>\n",
       "      <td>1</td>\n",
       "      <td>treatment</td>\n",
       "      <td>0</td>\n",
       "    </tr>\n",
       "    <tr>\n",
       "      <th>3</th>\n",
       "      <td>0</td>\n",
       "      <td>1</td>\n",
       "      <td>treatment</td>\n",
       "      <td>0</td>\n",
       "    </tr>\n",
       "    <tr>\n",
       "      <th>4</th>\n",
       "      <td>0</td>\n",
       "      <td>1</td>\n",
       "      <td>control</td>\n",
       "      <td>0</td>\n",
       "    </tr>\n",
       "  </tbody>\n",
       "</table>\n",
       "</div>"
      ],
      "text/plain": [
       "  day  units      group  conversion\n",
       "0   0      1  treatment           0\n",
       "1   0      1    control           0\n",
       "2   0      1  treatment           0\n",
       "3   0      1  treatment           0\n",
       "4   0      1    control           0"
      ]
     },
     "execution_count": 50,
     "metadata": {},
     "output_type": "execute_result"
    }
   ],
   "source": [
    "df_ab.head()"
   ]
  },
  {
   "cell_type": "code",
   "execution_count": 109,
   "id": "05ca3e0c-6e7d-4a48-93da-66cb6029538d",
   "metadata": {
    "tags": []
   },
   "outputs": [],
   "source": [
    "exp = conversion_rate_utils.ConversionExperiment()"
   ]
  },
  {
   "cell_type": "code",
   "execution_count": 107,
   "id": "0cd739ff-bbbe-4271-8863-c1b9c76a2adc",
   "metadata": {
    "tags": []
   },
   "outputs": [
    {
     "name": "stdout",
     "output_type": "stream",
     "text": [
      "Empty DataFrame\n",
      "Columns: [treatment_mean, treatment_confidence_interval_95.0_percent_lower, treatment_confidence_interval_95.0_percent_upper, control_mean, control_confidence_interval_95.0_percent_lower, control_confidence_interval_95.0_percent_upper, treatment_minus_control_mean, treatment_minus_control_95.0_percent_lower, treatment_minus_control_95.0_percent_upper, z_statistic, p_value]\n",
      "Index: []\n"
     ]
    }
   ],
   "source": [
    "df_code_res = exp.simple_ab_test(df=df_ab, group_column_name='group', treatment_name='treatment', outcome_column='conversion', alpha=0.05, null_hypothesis=0)"
   ]
  },
  {
   "cell_type": "code",
   "execution_count": 104,
   "id": "ea365cf4-b2f2-4b7b-bd2f-2055b7a92de1",
   "metadata": {
    "tags": []
   },
   "outputs": [
    {
     "data": {
      "text/html": [
       "<div>\n",
       "<style scoped>\n",
       "    .dataframe tbody tr th:only-of-type {\n",
       "        vertical-align: middle;\n",
       "    }\n",
       "\n",
       "    .dataframe tbody tr th {\n",
       "        vertical-align: top;\n",
       "    }\n",
       "\n",
       "    .dataframe thead th {\n",
       "        text-align: right;\n",
       "    }\n",
       "</style>\n",
       "<table border=\"1\" class=\"dataframe\">\n",
       "  <thead>\n",
       "    <tr style=\"text-align: right;\">\n",
       "      <th></th>\n",
       "      <th>treatment_mean</th>\n",
       "      <th>treatment_confidence_interval_95.0_percent_lower</th>\n",
       "      <th>treatment_confidence_interval_95.0_percent_upper</th>\n",
       "      <th>control_mean</th>\n",
       "      <th>control_confidence_interval_95.0_percent_lower</th>\n",
       "      <th>control_confidence_interval_95.0_percent_upper</th>\n",
       "      <th>treatment_minus_control_mean</th>\n",
       "      <th>treatment_minus_control_95.0_percent_lower</th>\n",
       "      <th>treatment_minus_control_95.0_percent_upper</th>\n",
       "      <th>z_statistic</th>\n",
       "      <th>p_value</th>\n",
       "    </tr>\n",
       "  </thead>\n",
       "  <tbody>\n",
       "  </tbody>\n",
       "</table>\n",
       "</div>"
      ],
      "text/plain": [
       "Empty DataFrame\n",
       "Columns: [treatment_mean, treatment_confidence_interval_95.0_percent_lower, treatment_confidence_interval_95.0_percent_upper, control_mean, control_confidence_interval_95.0_percent_lower, control_confidence_interval_95.0_percent_upper, treatment_minus_control_mean, treatment_minus_control_95.0_percent_lower, treatment_minus_control_95.0_percent_upper, z_statistic, p_value]\n",
       "Index: []"
      ]
     },
     "execution_count": 104,
     "metadata": {},
     "output_type": "execute_result"
    }
   ],
   "source": [
    "df_code_res"
   ]
  },
  {
   "cell_type": "code",
   "execution_count": null,
   "id": "acee34ce-c836-4c17-90b7-053236cc20a7",
   "metadata": {},
   "outputs": [],
   "source": []
  },
  {
   "cell_type": "code",
   "execution_count": null,
   "id": "a502f3b9-9b64-4f70-aba7-ce7d1482ff7c",
   "metadata": {},
   "outputs": [],
   "source": []
  },
  {
   "cell_type": "code",
   "execution_count": null,
   "id": "5974235b-8df8-4e5a-8b39-155ae62264ec",
   "metadata": {},
   "outputs": [],
   "source": []
  },
  {
   "cell_type": "code",
   "execution_count": 62,
   "id": "d27ddb26-2c4b-490e-ba90-a98ada65f86a",
   "metadata": {
    "tags": []
   },
   "outputs": [],
   "source": [
    "group_column_name = 'group'\n",
    "treatment_name='treatment' \n",
    "outcome_column='conversion'"
   ]
  },
  {
   "cell_type": "code",
   "execution_count": 68,
   "id": "6798d3ba-9e5d-4150-8919-6995c8495846",
   "metadata": {
    "tags": []
   },
   "outputs": [],
   "source": [
    "df_stats = df_ab.groupby(group_column_name).describe().reset_index()"
   ]
  },
  {
   "cell_type": "code",
   "execution_count": 71,
   "id": "a893fe54-819b-49b3-82b7-dff8855afe5b",
   "metadata": {
    "tags": []
   },
   "outputs": [
    {
     "data": {
      "text/plain": [
       "MultiIndex([(     'group',      ''),\n",
       "            (     'units', 'count'),\n",
       "            (     'units',  'mean'),\n",
       "            (     'units',   'std'),\n",
       "            (     'units',   'min'),\n",
       "            (     'units',   '25%'),\n",
       "            (     'units',   '50%'),\n",
       "            (     'units',   '75%'),\n",
       "            (     'units',   'max'),\n",
       "            ('conversion', 'count'),\n",
       "            ('conversion',  'mean'),\n",
       "            ('conversion',   'std'),\n",
       "            ('conversion',   'min'),\n",
       "            ('conversion',   '25%'),\n",
       "            ('conversion',   '50%'),\n",
       "            ('conversion',   '75%'),\n",
       "            ('conversion',   'max')],\n",
       "           )"
      ]
     },
     "execution_count": 71,
     "metadata": {},
     "output_type": "execute_result"
    }
   ],
   "source": [
    "df_stats.columns"
   ]
  },
  {
   "cell_type": "code",
   "execution_count": 74,
   "id": "008a33d5-e5a3-423f-b2a4-b988f497fecd",
   "metadata": {
    "tags": []
   },
   "outputs": [
    {
     "data": {
      "text/plain": [
       "['group',\n",
       " 'units_count',\n",
       " 'units_mean',\n",
       " 'units_std',\n",
       " 'units_min',\n",
       " 'units_25%',\n",
       " 'units_50%',\n",
       " 'units_75%',\n",
       " 'units_max',\n",
       " 'conversion_count',\n",
       " 'conversion_mean',\n",
       " 'conversion_std',\n",
       " 'conversion_min',\n",
       " 'conversion_25%',\n",
       " 'conversion_50%',\n",
       " 'conversion_75%',\n",
       " 'conversion_max']"
      ]
     },
     "execution_count": 74,
     "metadata": {},
     "output_type": "execute_result"
    }
   ],
   "source": [
    "['_'.join(col).strip().strip('_') for col in df_stats.columns.values]"
   ]
  },
  {
   "cell_type": "code",
   "execution_count": 75,
   "id": "dc27ab81-11ee-4b7f-81c5-0f84d94778db",
   "metadata": {
    "tags": []
   },
   "outputs": [],
   "source": [
    "df_stats.columns = ['_'.join(col).strip().strip('_') for col in df_stats.columns.values]"
   ]
  },
  {
   "cell_type": "code",
   "execution_count": 81,
   "id": "4cfb0029-0736-49e9-af98-655bceebff3a",
   "metadata": {
    "tags": []
   },
   "outputs": [
    {
     "data": {
      "text/plain": [
       "'group'"
      ]
     },
     "execution_count": 81,
     "metadata": {},
     "output_type": "execute_result"
    }
   ],
   "source": [
    "group_column_name"
   ]
  },
  {
   "cell_type": "code",
   "execution_count": 93,
   "id": "e7131958-6cb6-4184-908b-4bb43ee67d53",
   "metadata": {
    "tags": []
   },
   "outputs": [
    {
     "data": {
      "text/plain": [
       "'treatment'"
      ]
     },
     "execution_count": 93,
     "metadata": {},
     "output_type": "execute_result"
    }
   ],
   "source": [
    "treatment_name"
   ]
  },
  {
   "cell_type": "code",
   "execution_count": 100,
   "id": "64e79a60-69d7-4204-8c8d-7536ccc052b5",
   "metadata": {
    "tags": []
   },
   "outputs": [
    {
     "data": {
      "text/plain": [
       "0.05510253454581679"
      ]
     },
     "execution_count": 100,
     "metadata": {},
     "output_type": "execute_result"
    }
   ],
   "source": [
    "df_stats.query(\"{0} == @treatment_name\".format(group_column_name))[outcome_column + '_mean'].values[0]"
   ]
  },
  {
   "cell_type": "code",
   "execution_count": 79,
   "id": "e5e04c18-0758-4b5f-9d58-578392678b43",
   "metadata": {
    "tags": []
   },
   "outputs": [
    {
     "ename": "KeyError",
     "evalue": "False",
     "output_type": "error",
     "traceback": [
      "\u001b[0;31m---------------------------------------------------------------------------\u001b[0m",
      "\u001b[0;31mKeyError\u001b[0m                                  Traceback (most recent call last)",
      "Cell \u001b[0;32mIn[79], line 1\u001b[0m\n\u001b[0;32m----> 1\u001b[0m mu_treatment \u001b[38;5;241m=\u001b[39m \u001b[43mdf_stats\u001b[49m\u001b[38;5;241;43m.\u001b[39;49m\u001b[43mquery\u001b[49m\u001b[43m(\u001b[49m\u001b[38;5;124;43m\"\u001b[39;49m\u001b[38;5;124;43m@group_column_name == \u001b[39;49m\u001b[38;5;124;43m'\u001b[39;49m\u001b[38;5;124;43m@treatment_name\u001b[39;49m\u001b[38;5;124;43m'\u001b[39;49m\u001b[38;5;124;43m\"\u001b[39;49m\u001b[43m)\u001b[49m[(outcome_column, \u001b[38;5;124m'\u001b[39m\u001b[38;5;124mmean\u001b[39m\u001b[38;5;124m'\u001b[39m)]\n",
      "File \u001b[0;32m~/opt/miniconda3/envs/causal_ml_py39/lib/python3.9/site-packages/pandas/util/_decorators.py:331\u001b[0m, in \u001b[0;36mdeprecate_nonkeyword_arguments.<locals>.decorate.<locals>.wrapper\u001b[0;34m(*args, **kwargs)\u001b[0m\n\u001b[1;32m    325\u001b[0m \u001b[38;5;28;01mif\u001b[39;00m \u001b[38;5;28mlen\u001b[39m(args) \u001b[38;5;241m>\u001b[39m num_allow_args:\n\u001b[1;32m    326\u001b[0m     warnings\u001b[38;5;241m.\u001b[39mwarn(\n\u001b[1;32m    327\u001b[0m         msg\u001b[38;5;241m.\u001b[39mformat(arguments\u001b[38;5;241m=\u001b[39m_format_argument_list(allow_args)),\n\u001b[1;32m    328\u001b[0m         \u001b[38;5;167;01mFutureWarning\u001b[39;00m,\n\u001b[1;32m    329\u001b[0m         stacklevel\u001b[38;5;241m=\u001b[39mfind_stack_level(),\n\u001b[1;32m    330\u001b[0m     )\n\u001b[0;32m--> 331\u001b[0m \u001b[38;5;28;01mreturn\u001b[39;00m \u001b[43mfunc\u001b[49m\u001b[43m(\u001b[49m\u001b[38;5;241;43m*\u001b[39;49m\u001b[43margs\u001b[49m\u001b[43m,\u001b[49m\u001b[43m \u001b[49m\u001b[38;5;241;43m*\u001b[39;49m\u001b[38;5;241;43m*\u001b[39;49m\u001b[43mkwargs\u001b[49m\u001b[43m)\u001b[49m\n",
      "File \u001b[0;32m~/opt/miniconda3/envs/causal_ml_py39/lib/python3.9/site-packages/pandas/core/frame.py:4477\u001b[0m, in \u001b[0;36mDataFrame.query\u001b[0;34m(self, expr, inplace, **kwargs)\u001b[0m\n\u001b[1;32m   4474\u001b[0m res \u001b[38;5;241m=\u001b[39m \u001b[38;5;28mself\u001b[39m\u001b[38;5;241m.\u001b[39meval(expr, \u001b[38;5;241m*\u001b[39m\u001b[38;5;241m*\u001b[39mkwargs)\n\u001b[1;32m   4476\u001b[0m \u001b[38;5;28;01mtry\u001b[39;00m:\n\u001b[0;32m-> 4477\u001b[0m     result \u001b[38;5;241m=\u001b[39m \u001b[38;5;28;43mself\u001b[39;49m\u001b[38;5;241;43m.\u001b[39;49m\u001b[43mloc\u001b[49m\u001b[43m[\u001b[49m\u001b[43mres\u001b[49m\u001b[43m]\u001b[49m\n\u001b[1;32m   4478\u001b[0m \u001b[38;5;28;01mexcept\u001b[39;00m \u001b[38;5;167;01mValueError\u001b[39;00m:\n\u001b[1;32m   4479\u001b[0m     \u001b[38;5;66;03m# when res is multi-dimensional loc raises, but this is sometimes a\u001b[39;00m\n\u001b[1;32m   4480\u001b[0m     \u001b[38;5;66;03m# valid query\u001b[39;00m\n\u001b[1;32m   4481\u001b[0m     result \u001b[38;5;241m=\u001b[39m \u001b[38;5;28mself\u001b[39m[res]\n",
      "File \u001b[0;32m~/opt/miniconda3/envs/causal_ml_py39/lib/python3.9/site-packages/pandas/core/indexing.py:1073\u001b[0m, in \u001b[0;36m_LocationIndexer.__getitem__\u001b[0;34m(self, key)\u001b[0m\n\u001b[1;32m   1070\u001b[0m axis \u001b[38;5;241m=\u001b[39m \u001b[38;5;28mself\u001b[39m\u001b[38;5;241m.\u001b[39maxis \u001b[38;5;129;01mor\u001b[39;00m \u001b[38;5;241m0\u001b[39m\n\u001b[1;32m   1072\u001b[0m maybe_callable \u001b[38;5;241m=\u001b[39m com\u001b[38;5;241m.\u001b[39mapply_if_callable(key, \u001b[38;5;28mself\u001b[39m\u001b[38;5;241m.\u001b[39mobj)\n\u001b[0;32m-> 1073\u001b[0m \u001b[38;5;28;01mreturn\u001b[39;00m \u001b[38;5;28;43mself\u001b[39;49m\u001b[38;5;241;43m.\u001b[39;49m\u001b[43m_getitem_axis\u001b[49m\u001b[43m(\u001b[49m\u001b[43mmaybe_callable\u001b[49m\u001b[43m,\u001b[49m\u001b[43m \u001b[49m\u001b[43maxis\u001b[49m\u001b[38;5;241;43m=\u001b[39;49m\u001b[43maxis\u001b[49m\u001b[43m)\u001b[49m\n",
      "File \u001b[0;32m~/opt/miniconda3/envs/causal_ml_py39/lib/python3.9/site-packages/pandas/core/indexing.py:1312\u001b[0m, in \u001b[0;36m_LocIndexer._getitem_axis\u001b[0;34m(self, key, axis)\u001b[0m\n\u001b[1;32m   1310\u001b[0m \u001b[38;5;66;03m# fall thru to straight lookup\u001b[39;00m\n\u001b[1;32m   1311\u001b[0m \u001b[38;5;28mself\u001b[39m\u001b[38;5;241m.\u001b[39m_validate_key(key, axis)\n\u001b[0;32m-> 1312\u001b[0m \u001b[38;5;28;01mreturn\u001b[39;00m \u001b[38;5;28;43mself\u001b[39;49m\u001b[38;5;241;43m.\u001b[39;49m\u001b[43m_get_label\u001b[49m\u001b[43m(\u001b[49m\u001b[43mkey\u001b[49m\u001b[43m,\u001b[49m\u001b[43m \u001b[49m\u001b[43maxis\u001b[49m\u001b[38;5;241;43m=\u001b[39;49m\u001b[43maxis\u001b[49m\u001b[43m)\u001b[49m\n",
      "File \u001b[0;32m~/opt/miniconda3/envs/causal_ml_py39/lib/python3.9/site-packages/pandas/core/indexing.py:1260\u001b[0m, in \u001b[0;36m_LocIndexer._get_label\u001b[0;34m(self, label, axis)\u001b[0m\n\u001b[1;32m   1258\u001b[0m \u001b[38;5;28;01mdef\u001b[39;00m \u001b[38;5;21m_get_label\u001b[39m(\u001b[38;5;28mself\u001b[39m, label, axis: \u001b[38;5;28mint\u001b[39m):\n\u001b[1;32m   1259\u001b[0m     \u001b[38;5;66;03m# GH#5567 this will fail if the label is not present in the axis.\u001b[39;00m\n\u001b[0;32m-> 1260\u001b[0m     \u001b[38;5;28;01mreturn\u001b[39;00m \u001b[38;5;28;43mself\u001b[39;49m\u001b[38;5;241;43m.\u001b[39;49m\u001b[43mobj\u001b[49m\u001b[38;5;241;43m.\u001b[39;49m\u001b[43mxs\u001b[49m\u001b[43m(\u001b[49m\u001b[43mlabel\u001b[49m\u001b[43m,\u001b[49m\u001b[43m \u001b[49m\u001b[43maxis\u001b[49m\u001b[38;5;241;43m=\u001b[39;49m\u001b[43maxis\u001b[49m\u001b[43m)\u001b[49m\n",
      "File \u001b[0;32m~/opt/miniconda3/envs/causal_ml_py39/lib/python3.9/site-packages/pandas/core/generic.py:4056\u001b[0m, in \u001b[0;36mNDFrame.xs\u001b[0;34m(self, key, axis, level, drop_level)\u001b[0m\n\u001b[1;32m   4054\u001b[0m             new_index \u001b[38;5;241m=\u001b[39m index[loc]\n\u001b[1;32m   4055\u001b[0m \u001b[38;5;28;01melse\u001b[39;00m:\n\u001b[0;32m-> 4056\u001b[0m     loc \u001b[38;5;241m=\u001b[39m \u001b[43mindex\u001b[49m\u001b[38;5;241;43m.\u001b[39;49m\u001b[43mget_loc\u001b[49m\u001b[43m(\u001b[49m\u001b[43mkey\u001b[49m\u001b[43m)\u001b[49m\n\u001b[1;32m   4058\u001b[0m     \u001b[38;5;28;01mif\u001b[39;00m \u001b[38;5;28misinstance\u001b[39m(loc, np\u001b[38;5;241m.\u001b[39mndarray):\n\u001b[1;32m   4059\u001b[0m         \u001b[38;5;28;01mif\u001b[39;00m loc\u001b[38;5;241m.\u001b[39mdtype \u001b[38;5;241m==\u001b[39m np\u001b[38;5;241m.\u001b[39mbool_:\n",
      "File \u001b[0;32m~/opt/miniconda3/envs/causal_ml_py39/lib/python3.9/site-packages/pandas/core/indexes/range.py:395\u001b[0m, in \u001b[0;36mRangeIndex.get_loc\u001b[0;34m(self, key, method, tolerance)\u001b[0m\n\u001b[1;32m    393\u001b[0m             \u001b[38;5;28;01mraise\u001b[39;00m \u001b[38;5;167;01mKeyError\u001b[39;00m(key) \u001b[38;5;28;01mfrom\u001b[39;00m \u001b[38;5;21;01merr\u001b[39;00m\n\u001b[1;32m    394\u001b[0m     \u001b[38;5;28mself\u001b[39m\u001b[38;5;241m.\u001b[39m_check_indexing_error(key)\n\u001b[0;32m--> 395\u001b[0m     \u001b[38;5;28;01mraise\u001b[39;00m \u001b[38;5;167;01mKeyError\u001b[39;00m(key)\n\u001b[1;32m    396\u001b[0m \u001b[38;5;28;01mreturn\u001b[39;00m \u001b[38;5;28msuper\u001b[39m()\u001b[38;5;241m.\u001b[39mget_loc(key, method\u001b[38;5;241m=\u001b[39mmethod, tolerance\u001b[38;5;241m=\u001b[39mtolerance)\n",
      "\u001b[0;31mKeyError\u001b[0m: False"
     ]
    }
   ],
   "source": [
    "mu_treatment = df_stats.query(\"@group_column_name == '@treatment_name'\")[(outcome_column, 'mean')]"
   ]
  },
  {
   "cell_type": "code",
   "execution_count": 60,
   "id": "b4b02ce9-b9df-490a-a7c8-e85151be7b20",
   "metadata": {
    "tags": []
   },
   "outputs": [],
   "source": [
    "def simple_ab_test(self, df: pd.DataFrame, group_column_name: str, treatment_name: str, outcome_column: str, alpha: float, null_hypothesis: float) -> pd.DataFrame:\n",
    "    \"\"\"\n",
    "    Simple function to compare the outcomes in an A/B experiment (i.e. 2 variants).  This just compares the means of the control and treatment groups, modeled as the difference\n",
    "    between two normal distributions.  This will calculate the p-value, as well as compute the confidence interval at the desired significance level alpha.\n",
    "\n",
    "    :param df: DataFrame which contains the experiment results. There should be a column with the actual outcome variable, and a column indicating which group the observation\n",
    "               is from.\n",
    "    :param group_column_name: Name of the column which contains the group assignments\n",
    "    :param treatment_name: The name of the treatment group in the group_column_name column. This is a two variant test, so it's assumed that anything not in this group is in\n",
    "                           the control\n",
    "    :param outcome_column: The name of the column containing the measured outcome variable\n",
    "    :param alpha: The significance level of the test\n",
    "    :param null_hypothesis: The null difference we are testing against. Usually this is zero; i.e. the null hypothesis is that the difference in means between control and\n",
    "                            treatment groups is zero. This doesn't have to be the case, and you can specify a different value of this difference if you want.\n",
    "    :return: A DataFrame with the A/B test results. Namely, the observed means in both control and treatment (along with confidence intervals), as well as the difference in\n",
    "    means, its confidence interval, the measured Z statistic, and the p-value.\n",
    "    \"\"\"\n",
    "\n",
    "    df_stats = df.groupby(group_column_name).describe()\n",
    "\n",
    "    # group means\n",
    "    print(df_stats)\n",
    "    print(group_column_name)\n",
    "    mu_treatment = df_stats.query(\"@group_column_name == @treatment_name\")[(outcome_column, 'mean')]\n",
    "    mu_control = df_stats.query(\"@group_column_name != @treatment_name\")[(outcome_column, 'mean')]\n",
    "\n",
    "    # group standard deviations\n",
    "    std_treatment = df_stats.query(\"@group_column_name == @treatment_name\")[(outcome_column, 'std')]\n",
    "    std_control = df_stats.query(\"@group_column_name != @treatment_name\")[(outcome_column, 'std')]\n",
    "\n",
    "    # group sample sizes\n",
    "    count_treatment = df_stats.query(\"@group_column_name == @treatment_name\")[(outcome_column, 'count')]\n",
    "    count_control = df_stats.query(\"@group_column_name != @treatment_name\")[(outcome_column, 'count')]\n",
    "\n",
    "    # Compute standard errors\n",
    "    se_treatment = std_treatment / np.sqrt(count_treatment)\n",
    "    se_control = std_control / np.sqrt(count_control)\n",
    "\n",
    "    # Compute effect size:\n",
    "    diff_ = mu_treatment - mu_control\n",
    "\n",
    "    # Compute standard error for difference in treatment and control distributions\n",
    "    se_diff_ = np.sqrt(((std_treatment**2) / count_treatment) + ((std_control**2) / count_control))\n",
    "\n",
    "    z_statistic = (diff_ - null_hypothesis) / se_diff_\n",
    "    p_value = stats.norm.cdf(z_statistic)\n",
    "\n",
    "    df_results = pd.DataFrame()\n",
    "    df_results[treatment_name + '_mean'] = mu_treatment\n",
    "    df_results[treatment_name + '_confidence_interval_{0}_percent_lower'.format(np.round((1 - alpha)*100), 2)] = mu_treatment - self.calculate_critical_values_for_ci(se=se_treatment, alpha=alpha)\n",
    "    df_results[treatment_name + '_confidence_interval_{0}_percent_upper'.format(np.round((1 - alpha)*100), 2)] = mu_treatment + self.calculate_critical_values_for_ci(se=se_treatment, alpha=alpha)\n",
    "\n",
    "    df_results['control_mean'] = mu_control\n",
    "    df_results['control_confidence_interval_{0}_percent_lower'.format(np.round((1 - alpha)*100), 2)] = mu_control - self.calculate_critical_values_for_ci(se=se_control, alpha=alpha)\n",
    "    df_results['control_confidence_interval_{0}_percent_upper'.format(np.round((1 - alpha)*100), 2)] = mu_control + self.calculate_critical_values_for_ci(se=se_control, alpha=alpha)\n",
    "\n",
    "    df_results['treatment_minus_control_mean'] = diff_\n",
    "    df_results['treatment_minus_control_{0}_percent_lower'.format(np.round((1 - alpha)*100), 2)] = diff_ - self.calculate_critical_values_for_ci(se=se_diff_, alpha=alpha)\n",
    "    df_results['treatment_minus_control_{0}_percent_upper'.format(np.round((1 - alpha)*100), 2)] = diff_ + self.calculate_critical_values_for_ci(se=se_diff_, alpha=alpha)\n",
    "\n",
    "    df_results['z_statistic'] = z_statistic\n",
    "    df_results['p_value'] = p_value\n",
    "\n",
    "    return df_results"
   ]
  },
  {
   "cell_type": "code",
   "execution_count": null,
   "id": "00a1d0b1-7d07-41e6-8012-f74327d0d8ed",
   "metadata": {},
   "outputs": [],
   "source": []
  }
 ],
 "metadata": {
  "kernelspec": {
   "display_name": "Python [conda env:causal_ml_py39] *",
   "language": "python",
   "name": "conda-env-causal_ml_py39-py"
  },
  "language_info": {
   "codemirror_mode": {
    "name": "ipython",
    "version": 3
   },
   "file_extension": ".py",
   "mimetype": "text/x-python",
   "name": "python",
   "nbconvert_exporter": "python",
   "pygments_lexer": "ipython3",
   "version": "3.9.15"
  }
 },
 "nbformat": 4,
 "nbformat_minor": 5
}
