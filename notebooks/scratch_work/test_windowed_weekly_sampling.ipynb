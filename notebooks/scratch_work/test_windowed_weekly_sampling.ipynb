{
 "cells": [
  {
   "cell_type": "markdown",
   "id": "e880397f-57c8-4a28-bf64-fdc8d0ab0e9d",
   "metadata": {},
   "source": [
    "Testing the new windowed weekly sampling approach. This will also include parallelization "
   ]
  },
  {
   "cell_type": "code",
   "execution_count": 1,
   "id": "962401c3-fcb7-43ea-9be2-4652b6ce6417",
   "metadata": {
    "tags": []
   },
   "outputs": [],
   "source": [
    "# import packages\n",
    "import os\n",
    "import sys\n",
    "import numpy as np\n",
    "import pandas as pd\n",
    "import matplotlib.pyplot as plt\n",
    "%matplotlib inline\n",
    "import seaborn as sns\n",
    "import scipy.stats as stats\n",
    "\n",
    "from tqdm.auto import tqdm\n",
    "from matplotlib import style"
   ]
  },
  {
   "cell_type": "code",
   "execution_count": 2,
   "id": "f2c7461a-2985-4637-b20b-d568d7180ebf",
   "metadata": {
    "tags": []
   },
   "outputs": [],
   "source": [
    "import datetime"
   ]
  },
  {
   "cell_type": "code",
   "execution_count": 3,
   "id": "4fca996b-f9c8-45a6-b4ec-126fd88ce953",
   "metadata": {
    "tags": []
   },
   "outputs": [],
   "source": [
    "sys.path.append('../../ab_testing_utils/')"
   ]
  },
  {
   "cell_type": "code",
   "execution_count": 4,
   "id": "a8125420-c4cc-4f7c-a35f-a3cc5f0a8c4b",
   "metadata": {
    "tags": []
   },
   "outputs": [],
   "source": [
    "import skewed_metric_utils"
   ]
  },
  {
   "cell_type": "code",
   "execution_count": 5,
   "id": "694ddeba-fb20-4989-9394-1074d8c9b594",
   "metadata": {
    "tags": []
   },
   "outputs": [],
   "source": [
    "from typing import Union\n",
    "from importlib import reload"
   ]
  },
  {
   "cell_type": "code",
   "execution_count": 6,
   "id": "0d042a32-e5db-420d-a4b1-e7e27f010746",
   "metadata": {
    "tags": []
   },
   "outputs": [],
   "source": [
    "# additional imports\n",
    "import statsmodels.api as sm\n",
    "# import multiprocessing\n",
    "import multiprocess #ipython weirdness"
   ]
  },
  {
   "cell_type": "code",
   "execution_count": 7,
   "id": "24fd2365-00ed-4b64-b089-d50bc993360f",
   "metadata": {
    "tags": []
   },
   "outputs": [],
   "source": [
    "# pandas preferences\n",
    "pd.options.display.max_columns=500\n",
    "pd.options.display.max_colwidth=500\n",
    "pd.options.display.max_rows=500"
   ]
  },
  {
   "cell_type": "code",
   "execution_count": 8,
   "id": "c30843df-73bd-41a6-bef9-f1bd641f1623",
   "metadata": {
    "tags": []
   },
   "outputs": [],
   "source": [
    "# set plot style\n",
    "style.use('fivethirtyeight')"
   ]
  },
  {
   "cell_type": "code",
   "execution_count": 9,
   "id": "fbc9ff33-05dd-4277-bc14-63135ca7fe15",
   "metadata": {
    "tags": []
   },
   "outputs": [],
   "source": [
    "# initialize tqdm for pandas\n",
    "tqdm.pandas()"
   ]
  },
  {
   "cell_type": "code",
   "execution_count": 10,
   "id": "c01a3f4d-da57-4e49-8611-66ee65d7b05e",
   "metadata": {},
   "outputs": [],
   "source": [
    "df = pd.read_csv('../../../data/simulated_skewed_data_20240327a.csv')"
   ]
  },
  {
   "cell_type": "code",
   "execution_count": 11,
   "id": "220fc0d4-e1f3-43e8-9c23-aa5d96d10d03",
   "metadata": {},
   "outputs": [
    {
     "data": {
      "text/html": [
       "<div>\n",
       "<style scoped>\n",
       "    .dataframe tbody tr th:only-of-type {\n",
       "        vertical-align: middle;\n",
       "    }\n",
       "\n",
       "    .dataframe tbody tr th {\n",
       "        vertical-align: top;\n",
       "    }\n",
       "\n",
       "    .dataframe thead th {\n",
       "        text-align: right;\n",
       "    }\n",
       "</style>\n",
       "<table border=\"1\" class=\"dataframe\">\n",
       "  <thead>\n",
       "    <tr style=\"text-align: right;\">\n",
       "      <th></th>\n",
       "      <th>Unnamed: 0</th>\n",
       "      <th>day</th>\n",
       "      <th>units</th>\n",
       "      <th>date</th>\n",
       "      <th>outcome</th>\n",
       "      <th>is_dropout</th>\n",
       "    </tr>\n",
       "  </thead>\n",
       "  <tbody>\n",
       "    <tr>\n",
       "      <th>0</th>\n",
       "      <td>0</td>\n",
       "      <td>0</td>\n",
       "      <td>1</td>\n",
       "      <td>2023-01-01</td>\n",
       "      <td>0.0</td>\n",
       "      <td>1</td>\n",
       "    </tr>\n",
       "    <tr>\n",
       "      <th>1</th>\n",
       "      <td>7783</td>\n",
       "      <td>0</td>\n",
       "      <td>1</td>\n",
       "      <td>2023-01-01</td>\n",
       "      <td>0.0</td>\n",
       "      <td>0</td>\n",
       "    </tr>\n",
       "    <tr>\n",
       "      <th>2</th>\n",
       "      <td>7784</td>\n",
       "      <td>0</td>\n",
       "      <td>1</td>\n",
       "      <td>2023-01-01</td>\n",
       "      <td>0.0</td>\n",
       "      <td>0</td>\n",
       "    </tr>\n",
       "    <tr>\n",
       "      <th>3</th>\n",
       "      <td>7785</td>\n",
       "      <td>0</td>\n",
       "      <td>1</td>\n",
       "      <td>2023-01-01</td>\n",
       "      <td>0.0</td>\n",
       "      <td>1</td>\n",
       "    </tr>\n",
       "    <tr>\n",
       "      <th>4</th>\n",
       "      <td>7786</td>\n",
       "      <td>0</td>\n",
       "      <td>1</td>\n",
       "      <td>2023-01-01</td>\n",
       "      <td>0.0</td>\n",
       "      <td>0</td>\n",
       "    </tr>\n",
       "  </tbody>\n",
       "</table>\n",
       "</div>"
      ],
      "text/plain": [
       "   Unnamed: 0  day  units        date  outcome  is_dropout\n",
       "0           0    0      1  2023-01-01      0.0           1\n",
       "1        7783    0      1  2023-01-01      0.0           0\n",
       "2        7784    0      1  2023-01-01      0.0           0\n",
       "3        7785    0      1  2023-01-01      0.0           1\n",
       "4        7786    0      1  2023-01-01      0.0           0"
      ]
     },
     "execution_count": 11,
     "metadata": {},
     "output_type": "execute_result"
    }
   ],
   "source": [
    "df.head()"
   ]
  },
  {
   "cell_type": "code",
   "execution_count": 12,
   "id": "03bf2c27-7269-4e74-9e44-196f9b36978b",
   "metadata": {},
   "outputs": [],
   "source": [
    "df = df.drop('Unnamed: 0', axis=1)"
   ]
  },
  {
   "cell_type": "code",
   "execution_count": 13,
   "id": "12db2259-fa20-4b98-bfb1-b8fe149e87f2",
   "metadata": {},
   "outputs": [],
   "source": [
    "df['date'] = pd.to_datetime(df['date'], infer_datetime_format=True)"
   ]
  },
  {
   "cell_type": "code",
   "execution_count": 14,
   "id": "ff7e16e5-015c-4c03-be34-c670d458162d",
   "metadata": {},
   "outputs": [
    {
     "data": {
      "text/plain": [
       "count                 1830611\n",
       "unique                    183\n",
       "top       2023-04-22 00:00:00\n",
       "freq                    10241\n",
       "first     2023-01-01 00:00:00\n",
       "last      2023-07-02 00:00:00\n",
       "Name: date, dtype: object"
      ]
     },
     "execution_count": 14,
     "metadata": {},
     "output_type": "execute_result"
    }
   ],
   "source": [
    "df['date'].describe()"
   ]
  },
  {
   "cell_type": "code",
   "execution_count": 15,
   "id": "ccf2f0c0-b83b-402a-a0e0-03b42bb47341",
   "metadata": {},
   "outputs": [],
   "source": [
    "# df.loc[(df['date'] >= pd.to_datetime(end_date, infer_datetime_format=True))]"
   ]
  },
  {
   "cell_type": "code",
   "execution_count": 103,
   "id": "81fba3a2-7c84-4a2e-8af1-d3ab2106dadc",
   "metadata": {},
   "outputs": [],
   "source": [
    "# We need some constants\n",
    "min_weeks = 4\n",
    "max_weeks = 5\n",
    "start_date = '2023-01-01'\n",
    "end_date = '2023-07-02'\n",
    "sample_method = 'windowed_weekly_sample'\n",
    "# sample_method = 'simple'\n",
    "expected_4_week_sample_size = None\n",
    "date_column = 'date'\n",
    "test_statistic = {'function': 'difference_in_means', 'params': None}\n",
    "outcome_column_name = 'outcome'\n",
    "num_permutations = 10000\n",
    "sample_with_replacement = True\n",
    "use_multiprocessing = False"
   ]
  },
  {
   "cell_type": "code",
   "execution_count": 114,
   "id": "f78eb943-994a-40d6-85b3-fd14e5c12db4",
   "metadata": {},
   "outputs": [
    {
     "data": {
      "text/plain": [
       "<module 'skewed_metric_utils' from '/Users/danielokeeffe/Documents/src_dan/stats_utils/notebooks/scratch_work/../../ab_testing_utils/skewed_metric_utils.py'>"
      ]
     },
     "execution_count": 114,
     "metadata": {},
     "output_type": "execute_result"
    }
   ],
   "source": [
    "reload(skewed_metric_utils)"
   ]
  },
  {
   "cell_type": "code",
   "execution_count": 105,
   "id": "87b6b81b-afd3-4bd6-82be-453b48161686",
   "metadata": {},
   "outputs": [],
   "source": [
    "ri_1 = skewed_metric_utils.RandomizationInference()"
   ]
  },
  {
   "cell_type": "code",
   "execution_count": 106,
   "id": "f23db188-1c3c-4e12-9388-53e63d6115c5",
   "metadata": {
    "scrolled": true,
    "tags": []
   },
   "outputs": [
    {
     "data": {
      "application/vnd.jupyter.widget-view+json": {
       "model_id": "3a52c08ff04e4028801d228b73401773",
       "version_major": 2,
       "version_minor": 0
      },
      "text/plain": [
       "  0%|          | 0/2 [00:00<?, ?it/s]"
      ]
     },
     "metadata": {},
     "output_type": "display_data"
    },
    {
     "data": {
      "application/vnd.jupyter.widget-view+json": {
       "model_id": "f19f2aca08454fde9b3c63ace975be4d",
       "version_major": 2,
       "version_minor": 0
      },
      "text/plain": [
       "  0%|          | 0/23 [00:00<?, ?it/s]"
      ]
     },
     "metadata": {},
     "output_type": "display_data"
    },
    {
     "data": {
      "application/vnd.jupyter.widget-view+json": {
       "model_id": "4da529900d6c419aafc323def0efa986",
       "version_major": 2,
       "version_minor": 0
      },
      "text/plain": [
       "  0%|          | 0/10000 [00:00<?, ?it/s]"
      ]
     },
     "metadata": {},
     "output_type": "display_data"
    },
    {
     "ename": "KeyboardInterrupt",
     "evalue": "",
     "output_type": "error",
     "traceback": [
      "\u001b[0;31m---------------------------------------------------------------------------\u001b[0m",
      "\u001b[0;31mKeyboardInterrupt\u001b[0m                         Traceback (most recent call last)",
      "Cell \u001b[0;32mIn[106], line 2\u001b[0m\n\u001b[1;32m      1\u001b[0m \u001b[38;5;66;03m# This will take hours\u001b[39;00m\n\u001b[0;32m----> 2\u001b[0m df_mde_1 \u001b[38;5;241m=\u001b[39m \u001b[43mri_1\u001b[49m\u001b[38;5;241;43m.\u001b[39;49m\u001b[43mpower_calculation\u001b[49m\u001b[43m(\u001b[49m\u001b[43mdf\u001b[49m\u001b[38;5;241;43m=\u001b[39;49m\u001b[43mdf\u001b[49m\u001b[43m,\u001b[49m\u001b[43m \u001b[49m\n\u001b[1;32m      3\u001b[0m \u001b[43m                                  \u001b[49m\u001b[43muse_multiprocessing\u001b[49m\u001b[38;5;241;43m=\u001b[39;49m\u001b[43muse_multiprocessing\u001b[49m\u001b[43m,\u001b[49m\n\u001b[1;32m      4\u001b[0m \u001b[43m                                  \u001b[49m\u001b[43mmin_weeks\u001b[49m\u001b[38;5;241;43m=\u001b[39;49m\u001b[43mmin_weeks\u001b[49m\u001b[43m,\u001b[49m\u001b[43m \u001b[49m\n\u001b[1;32m      5\u001b[0m \u001b[43m                                  \u001b[49m\u001b[43mmax_weeks\u001b[49m\u001b[38;5;241;43m=\u001b[39;49m\u001b[43mmax_weeks\u001b[49m\u001b[43m,\u001b[49m\u001b[43m \u001b[49m\n\u001b[1;32m      6\u001b[0m \u001b[43m                                  \u001b[49m\u001b[43mstart_date\u001b[49m\u001b[38;5;241;43m=\u001b[39;49m\u001b[43mstart_date\u001b[49m\u001b[43m,\u001b[49m\u001b[43m \u001b[49m\n\u001b[1;32m      7\u001b[0m \u001b[43m                                  \u001b[49m\u001b[43mexpected_4_week_sample_size\u001b[49m\u001b[38;5;241;43m=\u001b[39;49m\u001b[43mexpected_4_week_sample_size\u001b[49m\u001b[43m,\u001b[49m\n\u001b[1;32m      8\u001b[0m \u001b[43m                                  \u001b[49m\u001b[43mend_date\u001b[49m\u001b[38;5;241;43m=\u001b[39;49m\u001b[43mend_date\u001b[49m\u001b[43m,\u001b[49m\u001b[43m \u001b[49m\n\u001b[1;32m      9\u001b[0m \u001b[43m                                  \u001b[49m\u001b[43msample_method\u001b[49m\u001b[38;5;241;43m=\u001b[39;49m\u001b[43msample_method\u001b[49m\u001b[43m,\u001b[49m\u001b[43m \u001b[49m\n\u001b[1;32m     10\u001b[0m \u001b[43m                                  \u001b[49m\u001b[43mdate_column\u001b[49m\u001b[38;5;241;43m=\u001b[39;49m\u001b[43mdate_column\u001b[49m\u001b[43m,\u001b[49m\u001b[43m \u001b[49m\n\u001b[1;32m     11\u001b[0m \u001b[43m                                  \u001b[49m\u001b[43mtest_statistic\u001b[49m\u001b[38;5;241;43m=\u001b[39;49m\u001b[43mtest_statistic\u001b[49m\u001b[43m,\u001b[49m\u001b[43m \u001b[49m\n\u001b[1;32m     12\u001b[0m \u001b[43m                                  \u001b[49m\u001b[43moutcome_column_name\u001b[49m\u001b[38;5;241;43m=\u001b[39;49m\u001b[43moutcome_column_name\u001b[49m\u001b[43m,\u001b[49m\u001b[43m \u001b[49m\n\u001b[1;32m     13\u001b[0m \u001b[43m                                  \u001b[49m\u001b[43msample_with_replacement\u001b[49m\u001b[38;5;241;43m=\u001b[39;49m\u001b[43msample_with_replacement\u001b[49m\u001b[43m,\u001b[49m\u001b[43m \u001b[49m\n\u001b[1;32m     14\u001b[0m \u001b[43m                                  \u001b[49m\u001b[43mnum_permutations\u001b[49m\u001b[38;5;241;43m=\u001b[39;49m\u001b[43mnum_permutations\u001b[49m\u001b[43m)\u001b[49m\n",
      "File \u001b[0;32m~/Documents/src_dan/stats_utils/notebooks/scratch_work/../../ab_testing_utils/skewed_metric_utils.py:749\u001b[0m, in \u001b[0;36mRandomizationInference.power_calculation\u001b[0;34m(self, df, min_weeks, max_weeks, expected_4_week_sample_size, start_date, end_date, sample_method, date_column, sharp_null_type, sharp_null_value, test_statistic, treatment_assignment_probability, outcome_column_name, num_permutations, alternative, alpha, power, sample_with_replacement, use_multiprocessing, filename, output_path, figsize)\u001b[0m\n\u001b[1;32m    747\u001b[0m date_tuples \u001b[38;5;241m=\u001b[39m [(d, d \u001b[38;5;241m+\u001b[39m datetime\u001b[38;5;241m.\u001b[39mtimedelta(weeks\u001b[38;5;241m=\u001b[39mweeks_)) \u001b[38;5;28;01mfor\u001b[39;00m d \u001b[38;5;129;01min\u001b[39;00m week_ranges \u001b[38;5;28;01mif\u001b[39;00m d \u001b[38;5;241m+\u001b[39m datetime\u001b[38;5;241m.\u001b[39mtimedelta(weeks\u001b[38;5;241m=\u001b[39mweeks_) \u001b[38;5;241m<\u001b[39m\u001b[38;5;241m=\u001b[39m end_date]\n\u001b[1;32m    748\u001b[0m \u001b[38;5;28;01mfor\u001b[39;00m date_tuple \u001b[38;5;129;01min\u001b[39;00m tqdm(date_tuples):\n\u001b[0;32m--> 749\u001b[0m     mde_nt \u001b[38;5;241m=\u001b[39m \u001b[38;5;28;43mself\u001b[39;49m\u001b[38;5;241;43m.\u001b[39;49m\u001b[43mcalculate_mde\u001b[49m\u001b[43m(\u001b[49m\u001b[43mdf\u001b[49m\u001b[38;5;241;43m=\u001b[39;49m\u001b[43mdf_\u001b[49m\u001b[43m,\u001b[49m\n\u001b[1;32m    750\u001b[0m \u001b[43m                                \u001b[49m\u001b[43mweeks\u001b[49m\u001b[38;5;241;43m=\u001b[39;49m\u001b[43mweeks_\u001b[49m\u001b[43m,\u001b[49m\n\u001b[1;32m    751\u001b[0m \u001b[43m                                \u001b[49m\u001b[43mdate_tuple\u001b[49m\u001b[38;5;241;43m=\u001b[39;49m\u001b[43mdate_tuple\u001b[49m\u001b[43m,\u001b[49m\n\u001b[1;32m    752\u001b[0m \u001b[43m                                \u001b[49m\u001b[43msample_method\u001b[49m\u001b[38;5;241;43m=\u001b[39;49m\u001b[43msample_method\u001b[49m\u001b[43m,\u001b[49m\n\u001b[1;32m    753\u001b[0m \u001b[43m                                \u001b[49m\u001b[43mdate_column\u001b[49m\u001b[38;5;241;43m=\u001b[39;49m\u001b[43mdate_column\u001b[49m\u001b[43m,\u001b[49m\n\u001b[1;32m    754\u001b[0m \u001b[43m                                \u001b[49m\u001b[43mexpected_weekly_sample_size\u001b[49m\u001b[38;5;241;43m=\u001b[39;49m\u001b[43mexpected_weekly_sample_size\u001b[49m\u001b[43m,\u001b[49m\n\u001b[1;32m    755\u001b[0m \u001b[43m                                \u001b[49m\u001b[43mtest_statistic_function\u001b[49m\u001b[38;5;241;43m=\u001b[39;49m\u001b[43mtest_statistic_function\u001b[49m\u001b[43m,\u001b[49m\n\u001b[1;32m    756\u001b[0m \u001b[43m                                \u001b[49m\u001b[43msharp_null_type\u001b[49m\u001b[38;5;241;43m=\u001b[39;49m\u001b[43msharp_null_type\u001b[49m\u001b[43m,\u001b[49m\n\u001b[1;32m    757\u001b[0m \u001b[43m                                \u001b[49m\u001b[43msharp_null_value\u001b[49m\u001b[38;5;241;43m=\u001b[39;49m\u001b[43msharp_null_value\u001b[49m\u001b[43m,\u001b[49m\n\u001b[1;32m    758\u001b[0m \u001b[43m                                \u001b[49m\u001b[43mtreatment_assignment_probability\u001b[49m\u001b[38;5;241;43m=\u001b[39;49m\u001b[43mtreatment_assignment_probability\u001b[49m\u001b[43m,\u001b[49m\n\u001b[1;32m    759\u001b[0m \u001b[43m                                \u001b[49m\u001b[43moutcome_column_name\u001b[49m\u001b[38;5;241;43m=\u001b[39;49m\u001b[43moutcome_column_name\u001b[49m\u001b[43m,\u001b[49m\n\u001b[1;32m    760\u001b[0m \u001b[43m                                \u001b[49m\u001b[43mnum_permutations\u001b[49m\u001b[38;5;241;43m=\u001b[39;49m\u001b[43mnum_permutations\u001b[49m\u001b[43m,\u001b[49m\n\u001b[1;32m    761\u001b[0m \u001b[43m                                \u001b[49m\u001b[43malternative\u001b[49m\u001b[38;5;241;43m=\u001b[39;49m\u001b[43malternative\u001b[49m\u001b[43m,\u001b[49m\n\u001b[1;32m    762\u001b[0m \u001b[43m                                \u001b[49m\u001b[43msample_with_replacement\u001b[49m\u001b[38;5;241;43m=\u001b[39;49m\u001b[43msample_with_replacement\u001b[49m\u001b[43m,\u001b[49m\n\u001b[1;32m    763\u001b[0m \u001b[43m                                \u001b[49m\u001b[43malpha\u001b[49m\u001b[38;5;241;43m=\u001b[39;49m\u001b[43malpha\u001b[49m\u001b[43m,\u001b[49m\n\u001b[1;32m    764\u001b[0m \u001b[43m                                \u001b[49m\u001b[43mpower\u001b[49m\u001b[38;5;241;43m=\u001b[39;49m\u001b[43mpower\u001b[49m\u001b[43m)\u001b[49m\n\u001b[1;32m    766\u001b[0m     \u001b[38;5;28;01mfor\u001b[39;00m key, list_ \u001b[38;5;129;01min\u001b[39;00m effect_size_dict\u001b[38;5;241m.\u001b[39mitems():\n\u001b[1;32m    767\u001b[0m         list_\u001b[38;5;241m.\u001b[39mappend(mde_nt\u001b[38;5;241m.\u001b[39m_asdict()[key])\n",
      "File \u001b[0;32m~/Documents/src_dan/stats_utils/notebooks/scratch_work/../../ab_testing_utils/skewed_metric_utils.py:628\u001b[0m, in \u001b[0;36mRandomizationInference.calculate_mde\u001b[0;34m(self, df, weeks, test_statistic_function, expected_weekly_sample_size, date_tuple, sample_method, date_column, sharp_null_type, sharp_null_value, treatment_assignment_probability, outcome_column_name, num_permutations, alternative, sample_with_replacement, alpha, power)\u001b[0m\n\u001b[1;32m    602\u001b[0m     q_significance \u001b[38;5;241m=\u001b[39m \u001b[38;5;241m1\u001b[39m \u001b[38;5;241m-\u001b[39m alpha\n\u001b[1;32m    604\u001b[0m \u001b[38;5;66;03m# TODO: Parallelize this\u001b[39;00m\n\u001b[1;32m    605\u001b[0m \u001b[38;5;66;03m# Be very careful, this won't actually work unless with sample with replacement. Otherwise, we risk repeats...\u001b[39;00m\n\u001b[1;32m    606\u001b[0m \u001b[38;5;66;03m# if sample_with_replacement:\u001b[39;00m\n\u001b[0;32m   (...)\u001b[0m\n\u001b[1;32m    626\u001b[0m \n\u001b[1;32m    627\u001b[0m \u001b[38;5;66;03m# TODO: Experiment here with moving the multiprocessing upstream\u001b[39;00m\n\u001b[0;32m--> 628\u001b[0m sim_dict \u001b[38;5;241m=\u001b[39m \u001b[38;5;28;43mself\u001b[39;49m\u001b[38;5;241;43m.\u001b[39;49m\u001b[43mrun_randomization_inference\u001b[49m\u001b[43m(\u001b[49m\u001b[43mdf_\u001b[49m\u001b[38;5;241;43m=\u001b[39;49m\u001b[43mdf_sample\u001b[49m\u001b[43m,\u001b[49m\n\u001b[1;32m    629\u001b[0m \u001b[43m                                            \u001b[49m\u001b[43mtest_statistic_function\u001b[49m\u001b[38;5;241;43m=\u001b[39;49m\u001b[43mtest_statistic_function\u001b[49m\u001b[43m,\u001b[49m\n\u001b[1;32m    630\u001b[0m \u001b[43m                                            \u001b[49m\u001b[43mtreatment_assignment_probability\u001b[49m\u001b[38;5;241;43m=\u001b[39;49m\u001b[43mtreatment_assignment_probability\u001b[49m\u001b[43m,\u001b[49m\n\u001b[1;32m    631\u001b[0m \u001b[43m                                            \u001b[49m\u001b[43mnum_perms\u001b[49m\u001b[38;5;241;43m=\u001b[39;49m\u001b[43mnum_permutations\u001b[49m\u001b[43m,\u001b[49m\n\u001b[1;32m    632\u001b[0m \u001b[43m                                            \u001b[49m\u001b[43msample_with_replacement\u001b[49m\u001b[38;5;241;43m=\u001b[39;49m\u001b[43msample_with_replacement\u001b[49m\u001b[43m)\u001b[49m\n\u001b[1;32m    634\u001b[0m df_sims \u001b[38;5;241m=\u001b[39m pd\u001b[38;5;241m.\u001b[39mDataFrame\u001b[38;5;241m.\u001b[39mfrom_dict(sim_dict, orient\u001b[38;5;241m=\u001b[39m\u001b[38;5;124m'\u001b[39m\u001b[38;5;124mindex\u001b[39m\u001b[38;5;124m'\u001b[39m)\n\u001b[1;32m    635\u001b[0m df_sims \u001b[38;5;241m=\u001b[39m df_sims\u001b[38;5;241m.\u001b[39mreset_index()\n",
      "File \u001b[0;32m~/Documents/src_dan/stats_utils/notebooks/scratch_work/../../ab_testing_utils/skewed_metric_utils.py:480\u001b[0m, in \u001b[0;36mRandomizationInference.run_randomization_inference\u001b[0;34m(self, num_perms, df_, test_statistic_function, treatment_assignment_probability, sample_with_replacement)\u001b[0m\n\u001b[1;32m    461\u001b[0m \u001b[38;5;250m\u001b[39m\u001b[38;5;124;03m\"\"\"\u001b[39;00m\n\u001b[1;32m    462\u001b[0m \u001b[38;5;124;03mFunction to handle running the randomization inference step. This just collects the results from make_hypothetical_assignments. We can probably remove this in future\u001b[39;00m\n\u001b[1;32m    463\u001b[0m \u001b[38;5;124;03mversions\u001b[39;00m\n\u001b[0;32m   (...)\u001b[0m\n\u001b[1;32m    475\u001b[0m \u001b[38;5;124;03m         hypothetical assignment\u001b[39;00m\n\u001b[1;32m    476\u001b[0m \u001b[38;5;124;03m\"\"\"\u001b[39;00m\n\u001b[1;32m    478\u001b[0m \u001b[38;5;28;01massert\u001b[39;00m \u001b[38;5;241m0\u001b[39m \u001b[38;5;241m<\u001b[39m treatment_assignment_probability \u001b[38;5;241m<\u001b[39m \u001b[38;5;241m1\u001b[39m, \u001b[38;5;124m\"\u001b[39m\u001b[38;5;124mTreatment assignment probabilities must be great than 0 and less than 1. Received \u001b[39m\u001b[38;5;132;01m{0}\u001b[39;00m\u001b[38;5;124m\"\u001b[39m\u001b[38;5;241m.\u001b[39mformat(treatment_assignment_probability)\n\u001b[0;32m--> 480\u001b[0m sim_dict \u001b[38;5;241m=\u001b[39m \u001b[38;5;28;43mself\u001b[39;49m\u001b[38;5;241;43m.\u001b[39;49m\u001b[43mmake_hypothetical_assignment\u001b[49m\u001b[43m(\u001b[49m\u001b[43mdf_\u001b[49m\u001b[38;5;241;43m=\u001b[39;49m\u001b[43mdf_\u001b[49m\u001b[43m,\u001b[49m\u001b[43m \u001b[49m\u001b[43mtreatment_assignment_probability\u001b[49m\u001b[38;5;241;43m=\u001b[39;49m\u001b[43mtreatment_assignment_probability\u001b[49m\u001b[43m,\u001b[49m\u001b[43m \u001b[49m\u001b[43mtest_statistic_function\u001b[49m\u001b[38;5;241;43m=\u001b[39;49m\u001b[43mtest_statistic_function\u001b[49m\u001b[43m,\u001b[49m\u001b[43m \u001b[49m\u001b[43mnum_perms\u001b[49m\u001b[38;5;241;43m=\u001b[39;49m\u001b[43mnum_perms\u001b[49m\u001b[43m,\u001b[49m\u001b[43m \u001b[49m\u001b[43msample_with_replacement\u001b[49m\u001b[38;5;241;43m=\u001b[39;49m\u001b[43msample_with_replacement\u001b[49m\u001b[43m)\u001b[49m\n\u001b[1;32m    482\u001b[0m \u001b[38;5;28;01mreturn\u001b[39;00m sim_dict\n",
      "File \u001b[0;32m~/Documents/src_dan/stats_utils/notebooks/scratch_work/../../ab_testing_utils/skewed_metric_utils.py:318\u001b[0m, in \u001b[0;36mRandomizationInference.make_hypothetical_assignment\u001b[0;34m(self, df_, treatment_assignment_probability, test_statistic_function, sample_with_replacement, num_perms)\u001b[0m\n\u001b[1;32m    316\u001b[0m             \u001b[38;5;28;01mfor\u001b[39;00m i \u001b[38;5;129;01min\u001b[39;00m tqdm(\u001b[38;5;28mrange\u001b[39m(num_perms)):\n\u001b[1;32m    317\u001b[0m                 assignment_list \u001b[38;5;241m=\u001b[39m stats\u001b[38;5;241m.\u001b[39mbinom\u001b[38;5;241m.\u001b[39mrvs(n\u001b[38;5;241m=\u001b[39m\u001b[38;5;241m1\u001b[39m, p\u001b[38;5;241m=\u001b[39mtreatment_assignment_probability, size\u001b[38;5;241m=\u001b[39mdf_\u001b[38;5;241m.\u001b[39mshape[\u001b[38;5;241m0\u001b[39m])\n\u001b[0;32m--> 318\u001b[0m                 sim_dict[i] \u001b[38;5;241m=\u001b[39m \u001b[38;5;28;43mself\u001b[39;49m\u001b[38;5;241;43m.\u001b[39;49m\u001b[43mcalculate_test_statistic\u001b[49m\u001b[43m(\u001b[49m\u001b[43mdf_\u001b[49m\u001b[38;5;241;43m=\u001b[39;49m\u001b[43mdf_\u001b[49m\u001b[43m,\u001b[49m\u001b[43m \u001b[49m\u001b[43mtest_statistic_function\u001b[49m\u001b[38;5;241;43m=\u001b[39;49m\u001b[43mtest_statistic_function\u001b[49m\u001b[43m,\u001b[49m\u001b[43m \u001b[49m\u001b[43massignments\u001b[49m\u001b[38;5;241;43m=\u001b[39;49m\u001b[43massignment_list\u001b[49m\u001b[43m)\u001b[49m\n\u001b[1;32m    319\u001b[0m         \u001b[38;5;66;03m# if self.use_multiprocessing:\u001b[39;00m\n\u001b[1;32m    320\u001b[0m         \u001b[38;5;66;03m#     for i in range(num_perms):\u001b[39;00m\n\u001b[1;32m    321\u001b[0m         \u001b[38;5;66;03m#         # TODO: move multiprocessing to here. I think this will be better to package up into a function and run\u001b[39;00m\n\u001b[0;32m   (...)\u001b[0m\n\u001b[1;32m    326\u001b[0m         \u001b[38;5;66;03m#         assignment_list = stats.binom.rvs(n=1, p=treatment_assignment_probability, size=df_.shape[0])\u001b[39;00m\n\u001b[1;32m    327\u001b[0m         \u001b[38;5;66;03m#         sim_dict[i] = self.calculate_test_statistic(df_=df_, test_statistic_function=test_statistic_function, assignments=assignment_list)\u001b[39;00m\n\u001b[1;32m    329\u001b[0m \u001b[38;5;28;01mreturn\u001b[39;00m sim_dict\n",
      "File \u001b[0;32m~/Documents/src_dan/stats_utils/notebooks/scratch_work/../../ab_testing_utils/skewed_metric_utils.py:215\u001b[0m, in \u001b[0;36mRandomizationInference.calculate_test_statistic\u001b[0;34m(df_, test_statistic_function, assignments, treatment_col, treatment_name, control_name)\u001b[0m\n\u001b[1;32m    213\u001b[0m df_[treatment_col] \u001b[38;5;241m=\u001b[39m assignments\n\u001b[1;32m    214\u001b[0m \u001b[38;5;66;03m# Handle numeric instability here\u001b[39;00m\n\u001b[0;32m--> 215\u001b[0m stat_ \u001b[38;5;241m=\u001b[39m np\u001b[38;5;241m.\u001b[39mround(\u001b[43mtest_statistic_function\u001b[49m\u001b[43m(\u001b[49m\u001b[43mdf\u001b[49m\u001b[38;5;241;43m=\u001b[39;49m\u001b[43mdf_\u001b[49m\u001b[43m,\u001b[49m\u001b[43m \u001b[49m\u001b[43moutcome_col\u001b[49m\u001b[38;5;241;43m=\u001b[39;49m\u001b[38;5;124;43m'\u001b[39;49m\u001b[38;5;124;43moutcome_sharp_null\u001b[39;49m\u001b[38;5;124;43m'\u001b[39;49m\u001b[43m,\u001b[49m\u001b[43m \u001b[49m\u001b[43mtreatment_col\u001b[49m\u001b[38;5;241;43m=\u001b[39;49m\u001b[43mtreatment_col\u001b[49m\u001b[43m,\u001b[49m\u001b[43m \u001b[49m\u001b[43mtreatment_name\u001b[49m\u001b[38;5;241;43m=\u001b[39;49m\u001b[43mtreatment_name\u001b[49m\u001b[43m,\u001b[49m\u001b[43m \u001b[49m\u001b[43mcontrol_name\u001b[49m\u001b[38;5;241;43m=\u001b[39;49m\u001b[43mcontrol_name\u001b[49m\u001b[43m)\u001b[49m, \u001b[38;5;241m10\u001b[39m)\n\u001b[1;32m    217\u001b[0m \u001b[38;5;28;01mreturn\u001b[39;00m stat_\n",
      "File \u001b[0;32m~/Documents/src_dan/stats_utils/notebooks/scratch_work/../../ab_testing_utils/skewed_metric_utils.py:69\u001b[0m, in \u001b[0;36mri_test_statistic_difference_in_means\u001b[0;34m(df, outcome_col, treatment_col, treatment_name, control_name)\u001b[0m\n\u001b[1;32m     52\u001b[0m \u001b[38;5;250m\u001b[39m\u001b[38;5;124;03m\"\"\"\u001b[39;00m\n\u001b[1;32m     53\u001b[0m \u001b[38;5;124;03mHelper function to calculate the difference in means between two groups (treatment and control). Each row of the input is meant to represent the assignment and outcome of a\u001b[39;00m\n\u001b[1;32m     54\u001b[0m \u001b[38;5;124;03msingle individual.\u001b[39;00m\n\u001b[0;32m   (...)\u001b[0m\n\u001b[1;32m     62\u001b[0m \u001b[38;5;124;03m:return: Difference in means\u001b[39;00m\n\u001b[1;32m     63\u001b[0m \u001b[38;5;124;03m\"\"\"\u001b[39;00m\n\u001b[1;32m     65\u001b[0m \u001b[38;5;66;03m# TODO: can we speed this up with loc instead?\u001b[39;00m\n\u001b[1;32m     66\u001b[0m \u001b[38;5;66;03m# sdo = df.query(\"{0}==@treatment_name\".format(treatment_col))[outcome_col].mean(numeric_only=True) - df.query(\"{0}==@control_name\".format(treatment_col))[\u001b[39;00m\n\u001b[1;32m     67\u001b[0m \u001b[38;5;66;03m#     outcome_col].mean(numeric_only=True)\u001b[39;00m\n\u001b[0;32m---> 69\u001b[0m sdo \u001b[38;5;241m=\u001b[39m df\u001b[38;5;241m.\u001b[39mloc[(\u001b[43mdf\u001b[49m\u001b[43m[\u001b[49m\u001b[43mtreatment_col\u001b[49m\u001b[43m]\u001b[49m\u001b[43m \u001b[49m\u001b[38;5;241;43m==\u001b[39;49m\u001b[43m \u001b[49m\u001b[43mtreatment_name\u001b[49m)][outcome_col]\u001b[38;5;241m.\u001b[39mmean() \u001b[38;5;241m-\u001b[39m df\u001b[38;5;241m.\u001b[39mloc[(df[treatment_col] \u001b[38;5;241m==\u001b[39m control_name)][outcome_col]\u001b[38;5;241m.\u001b[39mmean()\n\u001b[1;32m     71\u001b[0m \u001b[38;5;28;01mreturn\u001b[39;00m sdo\n",
      "File \u001b[0;32m~/miniconda3/envs/causal_ml_py39/lib/python3.9/site-packages/pandas/core/ops/common.py:72\u001b[0m, in \u001b[0;36m_unpack_zerodim_and_defer.<locals>.new_method\u001b[0;34m(self, other)\u001b[0m\n\u001b[1;32m     68\u001b[0m             \u001b[38;5;28;01mreturn\u001b[39;00m \u001b[38;5;28mNotImplemented\u001b[39m\n\u001b[1;32m     70\u001b[0m other \u001b[38;5;241m=\u001b[39m item_from_zerodim(other)\n\u001b[0;32m---> 72\u001b[0m \u001b[38;5;28;01mreturn\u001b[39;00m \u001b[43mmethod\u001b[49m\u001b[43m(\u001b[49m\u001b[38;5;28;43mself\u001b[39;49m\u001b[43m,\u001b[49m\u001b[43m \u001b[49m\u001b[43mother\u001b[49m\u001b[43m)\u001b[49m\n",
      "File \u001b[0;32m~/miniconda3/envs/causal_ml_py39/lib/python3.9/site-packages/pandas/core/arraylike.py:42\u001b[0m, in \u001b[0;36mOpsMixin.__eq__\u001b[0;34m(self, other)\u001b[0m\n\u001b[1;32m     40\u001b[0m \u001b[38;5;129m@unpack_zerodim_and_defer\u001b[39m(\u001b[38;5;124m\"\u001b[39m\u001b[38;5;124m__eq__\u001b[39m\u001b[38;5;124m\"\u001b[39m)\n\u001b[1;32m     41\u001b[0m \u001b[38;5;28;01mdef\u001b[39;00m \u001b[38;5;21m__eq__\u001b[39m(\u001b[38;5;28mself\u001b[39m, other):\n\u001b[0;32m---> 42\u001b[0m     \u001b[38;5;28;01mreturn\u001b[39;00m \u001b[38;5;28;43mself\u001b[39;49m\u001b[38;5;241;43m.\u001b[39;49m\u001b[43m_cmp_method\u001b[49m\u001b[43m(\u001b[49m\u001b[43mother\u001b[49m\u001b[43m,\u001b[49m\u001b[43m \u001b[49m\u001b[43moperator\u001b[49m\u001b[38;5;241;43m.\u001b[39;49m\u001b[43meq\u001b[49m\u001b[43m)\u001b[49m\n",
      "File \u001b[0;32m~/miniconda3/envs/causal_ml_py39/lib/python3.9/site-packages/pandas/core/series.py:6243\u001b[0m, in \u001b[0;36mSeries._cmp_method\u001b[0;34m(self, other, op)\u001b[0m\n\u001b[1;32m   6240\u001b[0m rvalues \u001b[38;5;241m=\u001b[39m extract_array(other, extract_numpy\u001b[38;5;241m=\u001b[39m\u001b[38;5;28;01mTrue\u001b[39;00m, extract_range\u001b[38;5;241m=\u001b[39m\u001b[38;5;28;01mTrue\u001b[39;00m)\n\u001b[1;32m   6242\u001b[0m \u001b[38;5;28;01mwith\u001b[39;00m np\u001b[38;5;241m.\u001b[39merrstate(\u001b[38;5;28mall\u001b[39m\u001b[38;5;241m=\u001b[39m\u001b[38;5;124m\"\u001b[39m\u001b[38;5;124mignore\u001b[39m\u001b[38;5;124m\"\u001b[39m):\n\u001b[0;32m-> 6243\u001b[0m     res_values \u001b[38;5;241m=\u001b[39m \u001b[43mops\u001b[49m\u001b[38;5;241;43m.\u001b[39;49m\u001b[43mcomparison_op\u001b[49m\u001b[43m(\u001b[49m\u001b[43mlvalues\u001b[49m\u001b[43m,\u001b[49m\u001b[43m \u001b[49m\u001b[43mrvalues\u001b[49m\u001b[43m,\u001b[49m\u001b[43m \u001b[49m\u001b[43mop\u001b[49m\u001b[43m)\u001b[49m\n\u001b[1;32m   6245\u001b[0m \u001b[38;5;28;01mreturn\u001b[39;00m \u001b[38;5;28mself\u001b[39m\u001b[38;5;241m.\u001b[39m_construct_result(res_values, name\u001b[38;5;241m=\u001b[39mres_name)\n",
      "File \u001b[0;32m~/miniconda3/envs/causal_ml_py39/lib/python3.9/site-packages/pandas/core/ops/array_ops.py:290\u001b[0m, in \u001b[0;36mcomparison_op\u001b[0;34m(left, right, op)\u001b[0m\n\u001b[1;32m    287\u001b[0m     res_values \u001b[38;5;241m=\u001b[39m comp_method_OBJECT_ARRAY(op, lvalues, rvalues)\n\u001b[1;32m    289\u001b[0m \u001b[38;5;28;01melse\u001b[39;00m:\n\u001b[0;32m--> 290\u001b[0m     res_values \u001b[38;5;241m=\u001b[39m \u001b[43m_na_arithmetic_op\u001b[49m\u001b[43m(\u001b[49m\u001b[43mlvalues\u001b[49m\u001b[43m,\u001b[49m\u001b[43m \u001b[49m\u001b[43mrvalues\u001b[49m\u001b[43m,\u001b[49m\u001b[43m \u001b[49m\u001b[43mop\u001b[49m\u001b[43m,\u001b[49m\u001b[43m \u001b[49m\u001b[43mis_cmp\u001b[49m\u001b[38;5;241;43m=\u001b[39;49m\u001b[38;5;28;43;01mTrue\u001b[39;49;00m\u001b[43m)\u001b[49m\n\u001b[1;32m    292\u001b[0m \u001b[38;5;28;01mreturn\u001b[39;00m res_values\n",
      "File \u001b[0;32m~/miniconda3/envs/causal_ml_py39/lib/python3.9/site-packages/pandas/core/ops/array_ops.py:165\u001b[0m, in \u001b[0;36m_na_arithmetic_op\u001b[0;34m(left, right, op, is_cmp)\u001b[0m\n\u001b[1;32m    162\u001b[0m     func \u001b[38;5;241m=\u001b[39m partial(expressions\u001b[38;5;241m.\u001b[39mevaluate, op)\n\u001b[1;32m    164\u001b[0m \u001b[38;5;28;01mtry\u001b[39;00m:\n\u001b[0;32m--> 165\u001b[0m     result \u001b[38;5;241m=\u001b[39m \u001b[43mfunc\u001b[49m\u001b[43m(\u001b[49m\u001b[43mleft\u001b[49m\u001b[43m,\u001b[49m\u001b[43m \u001b[49m\u001b[43mright\u001b[49m\u001b[43m)\u001b[49m\n\u001b[1;32m    166\u001b[0m \u001b[38;5;28;01mexcept\u001b[39;00m \u001b[38;5;167;01mTypeError\u001b[39;00m:\n\u001b[1;32m    167\u001b[0m     \u001b[38;5;28;01mif\u001b[39;00m \u001b[38;5;129;01mnot\u001b[39;00m is_cmp \u001b[38;5;129;01mand\u001b[39;00m (is_object_dtype(left\u001b[38;5;241m.\u001b[39mdtype) \u001b[38;5;129;01mor\u001b[39;00m is_object_dtype(right)):\n\u001b[1;32m    168\u001b[0m         \u001b[38;5;66;03m# For object dtype, fallback to a masked operation (only operating\u001b[39;00m\n\u001b[1;32m    169\u001b[0m         \u001b[38;5;66;03m#  on the non-missing values)\u001b[39;00m\n\u001b[1;32m    170\u001b[0m         \u001b[38;5;66;03m# Don't do this for comparisons, as that will handle complex numbers\u001b[39;00m\n\u001b[1;32m    171\u001b[0m         \u001b[38;5;66;03m#  incorrectly, see GH#32047\u001b[39;00m\n",
      "File \u001b[0;32m~/miniconda3/envs/causal_ml_py39/lib/python3.9/site-packages/pandas/core/computation/expressions.py:241\u001b[0m, in \u001b[0;36mevaluate\u001b[0;34m(op, a, b, use_numexpr)\u001b[0m\n\u001b[1;32m    238\u001b[0m \u001b[38;5;28;01mif\u001b[39;00m op_str \u001b[38;5;129;01mis\u001b[39;00m \u001b[38;5;129;01mnot\u001b[39;00m \u001b[38;5;28;01mNone\u001b[39;00m:\n\u001b[1;32m    239\u001b[0m     \u001b[38;5;28;01mif\u001b[39;00m use_numexpr:\n\u001b[1;32m    240\u001b[0m         \u001b[38;5;66;03m# error: \"None\" not callable\u001b[39;00m\n\u001b[0;32m--> 241\u001b[0m         \u001b[38;5;28;01mreturn\u001b[39;00m \u001b[43m_evaluate\u001b[49m\u001b[43m(\u001b[49m\u001b[43mop\u001b[49m\u001b[43m,\u001b[49m\u001b[43m \u001b[49m\u001b[43mop_str\u001b[49m\u001b[43m,\u001b[49m\u001b[43m \u001b[49m\u001b[43ma\u001b[49m\u001b[43m,\u001b[49m\u001b[43m \u001b[49m\u001b[43mb\u001b[49m\u001b[43m)\u001b[49m  \u001b[38;5;66;03m# type: ignore[misc]\u001b[39;00m\n\u001b[1;32m    242\u001b[0m \u001b[38;5;28;01mreturn\u001b[39;00m _evaluate_standard(op, op_str, a, b)\n",
      "File \u001b[0;32m~/miniconda3/envs/causal_ml_py39/lib/python3.9/site-packages/pandas/core/computation/expressions.py:129\u001b[0m, in \u001b[0;36m_evaluate_numexpr\u001b[0;34m(op, op_str, a, b)\u001b[0m\n\u001b[1;32m    126\u001b[0m     _store_test_result(result \u001b[38;5;129;01mis\u001b[39;00m \u001b[38;5;129;01mnot\u001b[39;00m \u001b[38;5;28;01mNone\u001b[39;00m)\n\u001b[1;32m    128\u001b[0m \u001b[38;5;28;01mif\u001b[39;00m result \u001b[38;5;129;01mis\u001b[39;00m \u001b[38;5;28;01mNone\u001b[39;00m:\n\u001b[0;32m--> 129\u001b[0m     result \u001b[38;5;241m=\u001b[39m \u001b[43m_evaluate_standard\u001b[49m\u001b[43m(\u001b[49m\u001b[43mop\u001b[49m\u001b[43m,\u001b[49m\u001b[43m \u001b[49m\u001b[43mop_str\u001b[49m\u001b[43m,\u001b[49m\u001b[43m \u001b[49m\u001b[43ma\u001b[49m\u001b[43m,\u001b[49m\u001b[43m \u001b[49m\u001b[43mb\u001b[49m\u001b[43m)\u001b[49m\n\u001b[1;32m    131\u001b[0m \u001b[38;5;28;01mreturn\u001b[39;00m result\n",
      "File \u001b[0;32m~/miniconda3/envs/causal_ml_py39/lib/python3.9/site-packages/pandas/core/computation/expressions.py:70\u001b[0m, in \u001b[0;36m_evaluate_standard\u001b[0;34m(op, op_str, a, b)\u001b[0m\n\u001b[1;32m     68\u001b[0m \u001b[38;5;28;01mif\u001b[39;00m _TEST_MODE:\n\u001b[1;32m     69\u001b[0m     _store_test_result(\u001b[38;5;28;01mFalse\u001b[39;00m)\n\u001b[0;32m---> 70\u001b[0m \u001b[38;5;28;01mreturn\u001b[39;00m \u001b[43mop\u001b[49m\u001b[43m(\u001b[49m\u001b[43ma\u001b[49m\u001b[43m,\u001b[49m\u001b[43m \u001b[49m\u001b[43mb\u001b[49m\u001b[43m)\u001b[49m\n",
      "\u001b[0;31mKeyboardInterrupt\u001b[0m: "
     ]
    }
   ],
   "source": [
    "# This will take hours\n",
    "df_mde_1 = ri_1.power_calculation(df=df, \n",
    "                                  use_multiprocessing=use_multiprocessing,\n",
    "                                  min_weeks=min_weeks, \n",
    "                                  max_weeks=max_weeks, \n",
    "                                  start_date=start_date, \n",
    "                                  expected_4_week_sample_size=expected_4_week_sample_size,\n",
    "                                  end_date=end_date, \n",
    "                                  sample_method=sample_method, \n",
    "                                  date_column=date_column, \n",
    "                                  test_statistic=test_statistic, \n",
    "                                  outcome_column_name=outcome_column_name, \n",
    "                                  sample_with_replacement=sample_with_replacement, \n",
    "                                  num_permutations=num_permutations)"
   ]
  },
  {
   "cell_type": "code",
   "execution_count": 115,
   "id": "174f72f8-6330-4480-8e13-6b71bd89cc7c",
   "metadata": {},
   "outputs": [],
   "source": [
    "min_weeks = 4\n",
    "max_weeks = 5\n",
    "# start_date = '2023-01-01'\n",
    "start_date = '2023-05-01'\n",
    "end_date = '2023-07-02'\n",
    "sample_method = 'windowed_weekly_sample'\n",
    "# sample_method = 'simple'\n",
    "expected_4_week_sample_size = None\n",
    "date_column = 'date'\n",
    "test_statistic = {'function': 'difference_in_means', 'params': None}\n",
    "outcome_column_name = 'outcome'\n",
    "num_permutations = 10000\n",
    "sample_with_replacement = True\n",
    "use_multiprocessing = True"
   ]
  },
  {
   "cell_type": "code",
   "execution_count": 116,
   "id": "3705dc12-d1d6-4a59-ac3e-5cd00d9af89a",
   "metadata": {},
   "outputs": [],
   "source": [
    "ri_2 = skewed_metric_utils.RandomizationInference()"
   ]
  },
  {
   "cell_type": "code",
   "execution_count": null,
   "id": "5f30bb09-6da2-4890-8a36-a3e04faeff07",
   "metadata": {},
   "outputs": [
    {
     "data": {
      "application/vnd.jupyter.widget-view+json": {
       "model_id": "1512dbf464c3425386e8295a963dc300",
       "version_major": 2,
       "version_minor": 0
      },
      "text/plain": [
       "  0%|          | 0/2 [00:00<?, ?it/s]"
      ]
     },
     "metadata": {},
     "output_type": "display_data"
    },
    {
     "data": {
      "application/vnd.jupyter.widget-view+json": {
       "model_id": "e3d2b696bab249beb1e9d685a175b779",
       "version_major": 2,
       "version_minor": 0
      },
      "text/plain": [
       "  0%|          | 0/5 [00:00<?, ?it/s]"
      ]
     },
     "metadata": {},
     "output_type": "display_data"
    },
    {
     "data": {
      "application/vnd.jupyter.widget-view+json": {
       "model_id": "6a7e17108cc64800a4d45c554d135fae",
       "version_major": 2,
       "version_minor": 0
      },
      "text/plain": [
       "  0%|          | 0/10000 [00:00<?, ?it/s]"
      ]
     },
     "metadata": {},
     "output_type": "display_data"
    },
    {
     "data": {
      "application/vnd.jupyter.widget-view+json": {
       "model_id": "ef06aca1f5c4416b9ccbaee0a26c2969",
       "version_major": 2,
       "version_minor": 0
      },
      "text/plain": [
       "  0%|          | 0/10000 [00:00<?, ?it/s]"
      ]
     },
     "metadata": {},
     "output_type": "display_data"
    }
   ],
   "source": [
    "# This is not any fast\n",
    "df_mde_2 = ri_2.power_calculation(df=df, \n",
    "                                  use_multiprocessing=use_multiprocessing,\n",
    "                                  min_weeks=min_weeks, \n",
    "                                  max_weeks=max_weeks, \n",
    "                                  start_date=start_date, \n",
    "                                  expected_4_week_sample_size=expected_4_week_sample_size,\n",
    "                                  end_date=end_date, \n",
    "                                  sample_method=sample_method, \n",
    "                                  date_column=date_column, \n",
    "                                  test_statistic=test_statistic, \n",
    "                                  outcome_column_name=outcome_column_name, \n",
    "                                  sample_with_replacement=sample_with_replacement, \n",
    "                                  num_permutations=num_permutations)"
   ]
  },
  {
   "cell_type": "code",
   "execution_count": null,
   "id": "a5cc9491-0daa-4c91-bba9-19c85adb8603",
   "metadata": {},
   "outputs": [],
   "source": [
    "# No substantial speed up "
   ]
  },
  {
   "cell_type": "code",
   "execution_count": 33,
   "id": "25c85913-ae30-48c9-bcc2-982f29d9508c",
   "metadata": {},
   "outputs": [
    {
     "data": {
      "text/html": [
       "<div>\n",
       "<style scoped>\n",
       "    .dataframe tbody tr th:only-of-type {\n",
       "        vertical-align: middle;\n",
       "    }\n",
       "\n",
       "    .dataframe tbody tr th {\n",
       "        vertical-align: top;\n",
       "    }\n",
       "\n",
       "    .dataframe thead th {\n",
       "        text-align: right;\n",
       "    }\n",
       "</style>\n",
       "<table border=\"1\" class=\"dataframe\">\n",
       "  <thead>\n",
       "    <tr style=\"text-align: right;\">\n",
       "      <th></th>\n",
       "      <th>weeks</th>\n",
       "      <th>days</th>\n",
       "      <th>total_sample_size</th>\n",
       "      <th>mde</th>\n",
       "      <th>critical_point</th>\n",
       "      <th>simulated_effect_size_beta_percentile</th>\n",
       "      <th>null_median</th>\n",
       "      <th>null_mean</th>\n",
       "      <th>null_ci_low</th>\n",
       "      <th>null_ci_high</th>\n",
       "    </tr>\n",
       "  </thead>\n",
       "  <tbody>\n",
       "    <tr>\n",
       "      <th>0</th>\n",
       "      <td>2</td>\n",
       "      <td>14</td>\n",
       "      <td>150175</td>\n",
       "      <td>14.894381</td>\n",
       "      <td>10.784834</td>\n",
       "      <td>-4.109547</td>\n",
       "      <td>-0.059347</td>\n",
       "      <td>0.084488</td>\n",
       "      <td>-10.332471</td>\n",
       "      <td>10.784834</td>\n",
       "    </tr>\n",
       "    <tr>\n",
       "      <th>1</th>\n",
       "      <td>2</td>\n",
       "      <td>14</td>\n",
       "      <td>150451</td>\n",
       "      <td>16.686020</td>\n",
       "      <td>11.761400</td>\n",
       "      <td>-4.924620</td>\n",
       "      <td>0.068677</td>\n",
       "      <td>-0.031544</td>\n",
       "      <td>-11.074309</td>\n",
       "      <td>11.761400</td>\n",
       "    </tr>\n",
       "    <tr>\n",
       "      <th>2</th>\n",
       "      <td>2</td>\n",
       "      <td>14</td>\n",
       "      <td>149875</td>\n",
       "      <td>14.034114</td>\n",
       "      <td>9.785437</td>\n",
       "      <td>-4.248677</td>\n",
       "      <td>0.168478</td>\n",
       "      <td>0.128608</td>\n",
       "      <td>-10.240034</td>\n",
       "      <td>9.785437</td>\n",
       "    </tr>\n",
       "    <tr>\n",
       "      <th>3</th>\n",
       "      <td>2</td>\n",
       "      <td>14</td>\n",
       "      <td>149996</td>\n",
       "      <td>13.865131</td>\n",
       "      <td>9.197125</td>\n",
       "      <td>-4.668006</td>\n",
       "      <td>-0.229713</td>\n",
       "      <td>-0.322505</td>\n",
       "      <td>-11.118751</td>\n",
       "      <td>9.197125</td>\n",
       "    </tr>\n",
       "    <tr>\n",
       "      <th>4</th>\n",
       "      <td>2</td>\n",
       "      <td>14</td>\n",
       "      <td>150007</td>\n",
       "      <td>14.198467</td>\n",
       "      <td>10.288440</td>\n",
       "      <td>-3.910026</td>\n",
       "      <td>0.310123</td>\n",
       "      <td>0.346838</td>\n",
       "      <td>-9.811929</td>\n",
       "      <td>10.288440</td>\n",
       "    </tr>\n",
       "  </tbody>\n",
       "</table>\n",
       "</div>"
      ],
      "text/plain": [
       "   weeks  days  total_sample_size        mde  critical_point  \\\n",
       "0      2    14             150175  14.894381       10.784834   \n",
       "1      2    14             150451  16.686020       11.761400   \n",
       "2      2    14             149875  14.034114        9.785437   \n",
       "3      2    14             149996  13.865131        9.197125   \n",
       "4      2    14             150007  14.198467       10.288440   \n",
       "\n",
       "   simulated_effect_size_beta_percentile  null_median  null_mean  null_ci_low  \\\n",
       "0                              -4.109547    -0.059347   0.084488   -10.332471   \n",
       "1                              -4.924620     0.068677  -0.031544   -11.074309   \n",
       "2                              -4.248677     0.168478   0.128608   -10.240034   \n",
       "3                              -4.668006    -0.229713  -0.322505   -11.118751   \n",
       "4                              -3.910026     0.310123   0.346838    -9.811929   \n",
       "\n",
       "   null_ci_high  \n",
       "0     10.784834  \n",
       "1     11.761400  \n",
       "2      9.785437  \n",
       "3      9.197125  \n",
       "4     10.288440  "
      ]
     },
     "execution_count": 33,
     "metadata": {},
     "output_type": "execute_result"
    }
   ],
   "source": [
    "# Ok so this is unimpressive. It's super slow\n",
    "df_mde_1.head()"
   ]
  },
  {
   "cell_type": "code",
   "execution_count": 35,
   "id": "ee96059c-6e0b-4b34-9b8f-d642eda30509",
   "metadata": {},
   "outputs": [
    {
     "data": {
      "text/html": [
       "<div>\n",
       "<style scoped>\n",
       "    .dataframe tbody tr th:only-of-type {\n",
       "        vertical-align: middle;\n",
       "    }\n",
       "\n",
       "    .dataframe tbody tr th {\n",
       "        vertical-align: top;\n",
       "    }\n",
       "\n",
       "    .dataframe thead th {\n",
       "        text-align: right;\n",
       "    }\n",
       "</style>\n",
       "<table border=\"1\" class=\"dataframe\">\n",
       "  <thead>\n",
       "    <tr style=\"text-align: right;\">\n",
       "      <th></th>\n",
       "      <th>mde</th>\n",
       "    </tr>\n",
       "    <tr>\n",
       "      <th>weeks</th>\n",
       "      <th></th>\n",
       "    </tr>\n",
       "  </thead>\n",
       "  <tbody>\n",
       "    <tr>\n",
       "      <th>2</th>\n",
       "      <td>16.686020</td>\n",
       "    </tr>\n",
       "    <tr>\n",
       "      <th>3</th>\n",
       "      <td>13.087897</td>\n",
       "    </tr>\n",
       "    <tr>\n",
       "      <th>4</th>\n",
       "      <td>11.175155</td>\n",
       "    </tr>\n",
       "  </tbody>\n",
       "</table>\n",
       "</div>"
      ],
      "text/plain": [
       "             mde\n",
       "weeks           \n",
       "2      16.686020\n",
       "3      13.087897\n",
       "4      11.175155"
      ]
     },
     "execution_count": 35,
     "metadata": {},
     "output_type": "execute_result"
    }
   ],
   "source": [
    "df_mde_1[['weeks', 'mde']].groupby('weeks').max()"
   ]
  },
  {
   "cell_type": "code",
   "execution_count": 36,
   "id": "c9877db0-0ff3-4fc2-a61d-177ea5f08121",
   "metadata": {},
   "outputs": [
    {
     "data": {
      "text/plain": [
       "count    75.000000\n",
       "mean      0.008162\n",
       "std       0.177351\n",
       "min      -0.366013\n",
       "25%      -0.092197\n",
       "50%      -0.012881\n",
       "75%       0.125762\n",
       "max       0.461129\n",
       "Name: null_median, dtype: float64"
      ]
     },
     "execution_count": 36,
     "metadata": {},
     "output_type": "execute_result"
    }
   ],
   "source": [
    "# This is probably a sample size issue\n",
    "df_mde_1['null_median'].describe()"
   ]
  },
  {
   "cell_type": "code",
   "execution_count": null,
   "id": "d285af4d-d421-4374-8a3e-9748a1d80b43",
   "metadata": {},
   "outputs": [],
   "source": []
  },
  {
   "cell_type": "code",
   "execution_count": 135,
   "id": "f8c1700f-18a4-421c-aedb-c61c7ac91172",
   "metadata": {},
   "outputs": [],
   "source": [
    "# I'm not sure why this isn't working...step through this one line at a time...sigh\n",
    "if sample_method == 'simple':\n",
    "    num_historical_units = df.shape[0]\n",
    "    expected_weekly_sample_size = expected_4_week_sample_size / 4\n",
    "\n",
    "    assert expected_weekly_sample_size * min_weeks < num_historical_units, \"Insufficient historical data for a minimum runtime of {0} weeks\".format(min_weeks)\n",
    "    assert expected_weekly_sample_size * max_weeks <= num_historical_units, \"Insufficient historical data for a maximum runtime of {0} weeks\".format(max_weeks)\n",
    "elif sample_method == 'weekly':\n",
    "    # TODO: Add additional check for weekly sampling method\n",
    "    expected_weekly_sample_size = None\n",
    "else:\n",
    "    expected_weekly_sample_size = None\n",
    "    end_date = pd.to_datetime(end_date, infer_datetime_format=True)\n",
    "    start_date = pd.to_datetime(start_date, infer_datetime_format=True)\n",
    "    assert start_date is not None, \"start_date must be specified in order to use the windowed_weekly_sample method\"\n",
    "    assert end_date is not None, \"end_date must be specified in order to use the windowed_weekly_sample_method\"\n",
    "    assert start_date + datetime.timedelta(weeks=max_weeks) <= end_date, \"{0} and {1} do not provide enough time to accommodate a maximum number of weeks {2}\".format(start_date, end_date, max_weeks)\n",
    "    week_ranges = pd.date_range(start=start_date, end=end_date, freq='1W')"
   ]
  },
  {
   "cell_type": "code",
   "execution_count": 136,
   "id": "cb3c77a3-f5f8-4c55-a167-578ade571442",
   "metadata": {},
   "outputs": [
    {
     "data": {
      "text/plain": [
       "DatetimeIndex(['2023-01-01', '2023-01-08', '2023-01-15', '2023-01-22',\n",
       "               '2023-01-29', '2023-02-05', '2023-02-12', '2023-02-19',\n",
       "               '2023-02-26', '2023-03-05', '2023-03-12', '2023-03-19',\n",
       "               '2023-03-26', '2023-04-02', '2023-04-09', '2023-04-16',\n",
       "               '2023-04-23', '2023-04-30', '2023-05-07', '2023-05-14',\n",
       "               '2023-05-21', '2023-05-28', '2023-06-04', '2023-06-11',\n",
       "               '2023-06-18', '2023-06-25', '2023-07-02'],\n",
       "              dtype='datetime64[ns]', freq='W-SUN')"
      ]
     },
     "execution_count": 136,
     "metadata": {},
     "output_type": "execute_result"
    }
   ],
   "source": [
    "week_ranges"
   ]
  },
  {
   "cell_type": "code",
   "execution_count": 137,
   "id": "1b210981-010d-4a0f-a5cc-48868ebe36bd",
   "metadata": {},
   "outputs": [],
   "source": [
    "df_ = df.copy()"
   ]
  },
  {
   "cell_type": "code",
   "execution_count": 138,
   "id": "bbc0ee96-bfff-46ff-9eae-f674247a4b50",
   "metadata": {},
   "outputs": [],
   "source": [
    "if type(test_statistic['function']) == str:\n",
    "    test_stat_name = test_statistic['function'].replace('_', ' ')\n",
    "else:\n",
    "    test_stat_name = 'custom test statistic'"
   ]
  },
  {
   "cell_type": "code",
   "execution_count": 139,
   "id": "79160016-58d1-4f19-b002-416b79c6f2f3",
   "metadata": {},
   "outputs": [],
   "source": [
    "sharp_null_type='additive'\n",
    "sharp_null_value=0"
   ]
  },
  {
   "cell_type": "code",
   "execution_count": 140,
   "id": "31d0bd31-bb19-4a67-8802-123edbaea557",
   "metadata": {},
   "outputs": [],
   "source": [
    "df_ = ri_1.sharp_null(df_=df_, sharp_null_type=sharp_null_type, sharp_null_value=sharp_null_value, outcome_column_name=outcome_column_name)"
   ]
  },
  {
   "cell_type": "code",
   "execution_count": 141,
   "id": "23f33be2-530b-4624-9ff3-6eee48761b65",
   "metadata": {},
   "outputs": [],
   "source": [
    "def ri_test_statistic_difference_in_means(df: pd.DataFrame, outcome_col: str, treatment_col: str, treatment_name: str, control_name: str) -> float:\n",
    "    \"\"\"\n",
    "    Helper function to calculate the difference in means between two groups (treatment and control). Each row of the input is meant to represent the assignment and outcome of a\n",
    "    single individual.\n",
    "\n",
    "    :param df: DataFrame with the outcome variable and treatment assignments. This assumes only two variants.\n",
    "    :param outcome_col: The name of the column containing the outcome\n",
    "    :param treatment_col: Name of the column containing the treatment assignments\n",
    "    :param treatment_name: Name of the treatment variant contained in the treatment_col column\n",
    "    :param control_name: Name of the control variant contained in the treatment_col column\n",
    "\n",
    "    :return: Difference in means\n",
    "    \"\"\"\n",
    "\n",
    "    sdo = df.query(\"{0}==@treatment_name\".format(treatment_col))[outcome_col].mean(numeric_only=True) - df.query(\"{0}==@control_name\".format(treatment_col))[\n",
    "        outcome_col].mean(numeric_only=True)\n",
    "\n",
    "    return sdo"
   ]
  },
  {
   "cell_type": "code",
   "execution_count": 142,
   "id": "8cc2766e-653e-4376-a93e-c2716b0294d7",
   "metadata": {},
   "outputs": [],
   "source": [
    "test_statistic_function = ri_1.select_test_statistic(test_statistic=test_statistic)"
   ]
  },
  {
   "cell_type": "code",
   "execution_count": 143,
   "id": "cff896c1-7db6-4a25-9940-fe08e3b80159",
   "metadata": {},
   "outputs": [],
   "source": [
    "effect_size_dict = {'weeks': [],\n",
    "                    'days': [],\n",
    "                    'total_sample_size': [],\n",
    "                    'mde': [],\n",
    "                    'critical_point': [],\n",
    "                    'simulated_effect_size_beta_percentile': [],\n",
    "                    'null_median': [],\n",
    "                    'null_mean': [],\n",
    "                    'null_ci_low': [],\n",
    "                    'null_ci_high': []}"
   ]
  },
  {
   "cell_type": "code",
   "execution_count": 144,
   "id": "8199682e-8a0f-4bbc-90c1-27fa9be591e4",
   "metadata": {},
   "outputs": [
    {
     "data": {
      "application/vnd.jupyter.widget-view+json": {
       "model_id": "20d0c315ef094229a6db1aad09026764",
       "version_major": 2,
       "version_minor": 0
      },
      "text/plain": [
       "  0%|          | 0/3 [00:00<?, ?it/s]"
      ]
     },
     "metadata": {},
     "output_type": "display_data"
    },
    {
     "name": "stdout",
     "output_type": "stream",
     "text": [
      "2\n",
      "3\n",
      "4\n"
     ]
    }
   ],
   "source": [
    "for weeks_ in tqdm(range(min_weeks, max_weeks + 1)):\n",
    "    print(weeks_)"
   ]
  },
  {
   "cell_type": "code",
   "execution_count": 145,
   "id": "85dedaf8-03ed-4ef2-beef-90716f6ad045",
   "metadata": {},
   "outputs": [],
   "source": [
    "# So keep it simple\n",
    "weeks_ = 2"
   ]
  },
  {
   "cell_type": "code",
   "execution_count": 146,
   "id": "34fae5fb-05e6-4793-9aab-562e88aa7f66",
   "metadata": {},
   "outputs": [],
   "source": [
    "date_tuples = [(d, d + datetime.timedelta(weeks=weeks_)) for d in week_ranges if d + datetime.timedelta(weeks=weeks_) <= end_date]"
   ]
  },
  {
   "cell_type": "code",
   "execution_count": 147,
   "id": "4fedad7f-bebd-44c6-a3a8-c11697c4ea96",
   "metadata": {
    "scrolled": true,
    "tags": []
   },
   "outputs": [
    {
     "data": {
      "text/plain": [
       "[(Timestamp('2023-01-01 00:00:00', freq='W-SUN'),\n",
       "  Timestamp('2023-01-15 00:00:00', freq='W-SUN')),\n",
       " (Timestamp('2023-01-08 00:00:00', freq='W-SUN'),\n",
       "  Timestamp('2023-01-22 00:00:00', freq='W-SUN')),\n",
       " (Timestamp('2023-01-15 00:00:00', freq='W-SUN'),\n",
       "  Timestamp('2023-01-29 00:00:00', freq='W-SUN')),\n",
       " (Timestamp('2023-01-22 00:00:00', freq='W-SUN'),\n",
       "  Timestamp('2023-02-05 00:00:00', freq='W-SUN')),\n",
       " (Timestamp('2023-01-29 00:00:00', freq='W-SUN'),\n",
       "  Timestamp('2023-02-12 00:00:00', freq='W-SUN')),\n",
       " (Timestamp('2023-02-05 00:00:00', freq='W-SUN'),\n",
       "  Timestamp('2023-02-19 00:00:00', freq='W-SUN')),\n",
       " (Timestamp('2023-02-12 00:00:00', freq='W-SUN'),\n",
       "  Timestamp('2023-02-26 00:00:00', freq='W-SUN')),\n",
       " (Timestamp('2023-02-19 00:00:00', freq='W-SUN'),\n",
       "  Timestamp('2023-03-05 00:00:00', freq='W-SUN')),\n",
       " (Timestamp('2023-02-26 00:00:00', freq='W-SUN'),\n",
       "  Timestamp('2023-03-12 00:00:00', freq='W-SUN')),\n",
       " (Timestamp('2023-03-05 00:00:00', freq='W-SUN'),\n",
       "  Timestamp('2023-03-19 00:00:00', freq='W-SUN')),\n",
       " (Timestamp('2023-03-12 00:00:00', freq='W-SUN'),\n",
       "  Timestamp('2023-03-26 00:00:00', freq='W-SUN')),\n",
       " (Timestamp('2023-03-19 00:00:00', freq='W-SUN'),\n",
       "  Timestamp('2023-04-02 00:00:00', freq='W-SUN')),\n",
       " (Timestamp('2023-03-26 00:00:00', freq='W-SUN'),\n",
       "  Timestamp('2023-04-09 00:00:00', freq='W-SUN')),\n",
       " (Timestamp('2023-04-02 00:00:00', freq='W-SUN'),\n",
       "  Timestamp('2023-04-16 00:00:00', freq='W-SUN')),\n",
       " (Timestamp('2023-04-09 00:00:00', freq='W-SUN'),\n",
       "  Timestamp('2023-04-23 00:00:00', freq='W-SUN')),\n",
       " (Timestamp('2023-04-16 00:00:00', freq='W-SUN'),\n",
       "  Timestamp('2023-04-30 00:00:00', freq='W-SUN')),\n",
       " (Timestamp('2023-04-23 00:00:00', freq='W-SUN'),\n",
       "  Timestamp('2023-05-07 00:00:00', freq='W-SUN')),\n",
       " (Timestamp('2023-04-30 00:00:00', freq='W-SUN'),\n",
       "  Timestamp('2023-05-14 00:00:00', freq='W-SUN')),\n",
       " (Timestamp('2023-05-07 00:00:00', freq='W-SUN'),\n",
       "  Timestamp('2023-05-21 00:00:00', freq='W-SUN')),\n",
       " (Timestamp('2023-05-14 00:00:00', freq='W-SUN'),\n",
       "  Timestamp('2023-05-28 00:00:00', freq='W-SUN')),\n",
       " (Timestamp('2023-05-21 00:00:00', freq='W-SUN'),\n",
       "  Timestamp('2023-06-04 00:00:00', freq='W-SUN')),\n",
       " (Timestamp('2023-05-28 00:00:00', freq='W-SUN'),\n",
       "  Timestamp('2023-06-11 00:00:00', freq='W-SUN')),\n",
       " (Timestamp('2023-06-04 00:00:00', freq='W-SUN'),\n",
       "  Timestamp('2023-06-18 00:00:00', freq='W-SUN')),\n",
       " (Timestamp('2023-06-11 00:00:00', freq='W-SUN'),\n",
       "  Timestamp('2023-06-25 00:00:00', freq='W-SUN')),\n",
       " (Timestamp('2023-06-18 00:00:00', freq='W-SUN'),\n",
       "  Timestamp('2023-07-02 00:00:00', freq='W-SUN'))]"
      ]
     },
     "execution_count": 147,
     "metadata": {},
     "output_type": "execute_result"
    }
   ],
   "source": [
    "date_tuples"
   ]
  },
  {
   "cell_type": "code",
   "execution_count": 148,
   "id": "32f3e64e-d054-4485-84b7-b024f87cc77b",
   "metadata": {},
   "outputs": [],
   "source": [
    "date_tuple = date_tuples[0]"
   ]
  },
  {
   "cell_type": "code",
   "execution_count": 149,
   "id": "3a511825-be67-4d2f-afe4-93f3234ebbdd",
   "metadata": {},
   "outputs": [
    {
     "data": {
      "text/plain": [
       "(Timestamp('2023-01-01 00:00:00', freq='W-SUN'),\n",
       " Timestamp('2023-01-15 00:00:00', freq='W-SUN'))"
      ]
     },
     "execution_count": 149,
     "metadata": {},
     "output_type": "execute_result"
    }
   ],
   "source": [
    "date_tuple"
   ]
  },
  {
   "cell_type": "code",
   "execution_count": 150,
   "id": "5f438cd9-bb14-489f-a1ff-0d20e09ccf35",
   "metadata": {},
   "outputs": [],
   "source": [
    "from functools import partial\n",
    "from collections import namedtuple, ChainMap"
   ]
  },
  {
   "cell_type": "code",
   "execution_count": 151,
   "id": "08e271bc-85a6-4fce-970d-6e120eacc31c",
   "metadata": {},
   "outputs": [],
   "source": [
    "alternative = 'two-sided'\n",
    "alpha = 0.05\n",
    "power = 0.8"
   ]
  },
  {
   "cell_type": "code",
   "execution_count": 152,
   "id": "6b103ca2-25ff-4169-b502-091a326f1b59",
   "metadata": {},
   "outputs": [],
   "source": [
    "if sample_method == 'simple':\n",
    "    num_to_sample = int(weeks * expected_weekly_sample_size)\n",
    "    df_sample = df_.sample(num_to_sample)\n",
    "elif sample_method == 'weekly':\n",
    "    assert date_column is not None, \"weekly sampling method requires a date column\"\n",
    "    end_date = df[date_column].max()\n",
    "    start_date = end_date - datetime.timedelta(weeks=weeks)\n",
    "    df_sample = df_.loc[(df_[date_column] <= end_date) & (df_[date_column] >= start_date)]\n",
    "    num_to_sample = df_sample.shape[0]\n",
    "else:\n",
    "    # This is the windowed_weekly_sample methodology\n",
    "    df_sample = df_.loc[(df_[date_column] >= date_tuple[0]) & (df_[date_column] <= date_tuple[1])]\n",
    "    num_to_sample = df_sample.shape[0]\n",
    "\n",
    "# define return type\n",
    "fields = ['weeks',\n",
    "          'days',\n",
    "          'total_sample_size',\n",
    "          'mde',\n",
    "          'critical_point',\n",
    "          'simulated_effect_size_beta_percentile',\n",
    "          'null_mean',\n",
    "          'null_median',\n",
    "          'null_ci_low',\n",
    "          'null_ci_high']\n",
    "mde_nt = namedtuple('mde', fields)\n",
    "\n",
    "# Determine the desired level of significance\n",
    "if alternative == 'two-sided':\n",
    "    q_significance = 1 - alpha/2\n",
    "else:\n",
    "    q_significance = 1 - alpha"
   ]
  },
  {
   "cell_type": "code",
   "execution_count": 153,
   "id": "4a0f46e6-c885-4b63-8cfe-d478fe1e0e27",
   "metadata": {},
   "outputs": [
    {
     "data": {
      "text/html": [
       "<div>\n",
       "<style scoped>\n",
       "    .dataframe tbody tr th:only-of-type {\n",
       "        vertical-align: middle;\n",
       "    }\n",
       "\n",
       "    .dataframe tbody tr th {\n",
       "        vertical-align: top;\n",
       "    }\n",
       "\n",
       "    .dataframe thead th {\n",
       "        text-align: right;\n",
       "    }\n",
       "</style>\n",
       "<table border=\"1\" class=\"dataframe\">\n",
       "  <thead>\n",
       "    <tr style=\"text-align: right;\">\n",
       "      <th></th>\n",
       "      <th>day</th>\n",
       "      <th>units</th>\n",
       "      <th>date</th>\n",
       "      <th>outcome</th>\n",
       "      <th>is_dropout</th>\n",
       "      <th>outcome_sharp_null</th>\n",
       "    </tr>\n",
       "  </thead>\n",
       "  <tbody>\n",
       "    <tr>\n",
       "      <th>0</th>\n",
       "      <td>0</td>\n",
       "      <td>1</td>\n",
       "      <td>2023-01-01</td>\n",
       "      <td>0.0</td>\n",
       "      <td>1</td>\n",
       "      <td>0.0</td>\n",
       "    </tr>\n",
       "    <tr>\n",
       "      <th>1</th>\n",
       "      <td>0</td>\n",
       "      <td>1</td>\n",
       "      <td>2023-01-01</td>\n",
       "      <td>0.0</td>\n",
       "      <td>0</td>\n",
       "      <td>0.0</td>\n",
       "    </tr>\n",
       "    <tr>\n",
       "      <th>2</th>\n",
       "      <td>0</td>\n",
       "      <td>1</td>\n",
       "      <td>2023-01-01</td>\n",
       "      <td>0.0</td>\n",
       "      <td>0</td>\n",
       "      <td>0.0</td>\n",
       "    </tr>\n",
       "    <tr>\n",
       "      <th>3</th>\n",
       "      <td>0</td>\n",
       "      <td>1</td>\n",
       "      <td>2023-01-01</td>\n",
       "      <td>0.0</td>\n",
       "      <td>1</td>\n",
       "      <td>0.0</td>\n",
       "    </tr>\n",
       "    <tr>\n",
       "      <th>4</th>\n",
       "      <td>0</td>\n",
       "      <td>1</td>\n",
       "      <td>2023-01-01</td>\n",
       "      <td>0.0</td>\n",
       "      <td>0</td>\n",
       "      <td>0.0</td>\n",
       "    </tr>\n",
       "  </tbody>\n",
       "</table>\n",
       "</div>"
      ],
      "text/plain": [
       "   day  units       date  outcome  is_dropout  outcome_sharp_null\n",
       "0    0      1 2023-01-01      0.0           1                 0.0\n",
       "1    0      1 2023-01-01      0.0           0                 0.0\n",
       "2    0      1 2023-01-01      0.0           0                 0.0\n",
       "3    0      1 2023-01-01      0.0           1                 0.0\n",
       "4    0      1 2023-01-01      0.0           0                 0.0"
      ]
     },
     "execution_count": 153,
     "metadata": {},
     "output_type": "execute_result"
    }
   ],
   "source": [
    "df_sample.head()"
   ]
  },
  {
   "cell_type": "code",
   "execution_count": 154,
   "id": "6d9aa8e2-f396-46fb-a150-0deac60a3fac",
   "metadata": {},
   "outputs": [],
   "source": [
    "arg_dict = {'df_': df_sample\n",
    "            ,\n",
    "                                  'test_statistic_function': test_statistic_function,\n",
    "                                  'treatment_assignment_probability': 0.5,\n",
    "                                  'sample_with_replacement': sample_with_replacement}"
   ]
  },
  {
   "cell_type": "code",
   "execution_count": 155,
   "id": "9b114b47-211a-4720-a8b5-26875e58378f",
   "metadata": {},
   "outputs": [],
   "source": [
    "arg_dict_2 = {'df_': df_sample,\n",
    "                                  'test_statistic_function': test_statistic_function,\n",
    "                                  'treatment_assignment_probability': 0.5,\n",
    "                                  'sample_with_replacement': sample_with_replacement, 'num_perms': 2}"
   ]
  },
  {
   "cell_type": "code",
   "execution_count": 156,
   "id": "2c80a414-fa09-462d-85f4-666b763b695b",
   "metadata": {},
   "outputs": [
    {
     "data": {
      "text/plain": [
       "0.5"
      ]
     },
     "execution_count": 156,
     "metadata": {},
     "output_type": "execute_result"
    }
   ],
   "source": [
    "arg_dict['treatment_assignment_probability']"
   ]
  },
  {
   "cell_type": "code",
   "execution_count": 157,
   "id": "d329444a-a6ca-41ac-b466-7bbe097c4308",
   "metadata": {},
   "outputs": [
    {
     "name": "stdout",
     "output_type": "stream",
     "text": [
      "0.5\n",
      "<class 'float'>\n",
      "Number of distinct assignment combinations practically too large. Running 2 simulated permutations\n"
     ]
    },
    {
     "data": {
      "application/vnd.jupyter.widget-view+json": {
       "model_id": "6c83783c8af84ed4a77c63cf4dffca56",
       "version_major": 2,
       "version_minor": 0
      },
      "text/plain": [
       "  0%|          | 0/2 [00:00<?, ?it/s]"
      ]
     },
     "metadata": {},
     "output_type": "display_data"
    },
    {
     "data": {
      "text/plain": [
       "{0: 4.222415256, 1: -6.4025385996}"
      ]
     },
     "execution_count": 157,
     "metadata": {},
     "output_type": "execute_result"
    }
   ],
   "source": [
    "ri_1.run_randomization_inference(df_=df_sample, test_statistic_function=test_statistic_function, treatment_assignment_probability=0.5, sample_with_replacement=sample_with_replacement, num_perms=2)"
   ]
  },
  {
   "cell_type": "code",
   "execution_count": 172,
   "id": "30956cb5-92c8-4f47-8a89-10f0be25e629",
   "metadata": {},
   "outputs": [
    {
     "name": "stdout",
     "output_type": "stream",
     "text": [
      "treatment_assignment_probability\n",
      "<class 'str'>\n"
     ]
    },
    {
     "ename": "TypeError",
     "evalue": "'<' not supported between instances of 'int' and 'str'",
     "output_type": "error",
     "traceback": [
      "\u001b[0;31m---------------------------------------------------------------------------\u001b[0m",
      "\u001b[0;31mTypeError\u001b[0m                                 Traceback (most recent call last)",
      "Cell \u001b[0;32mIn[172], line 1\u001b[0m\n\u001b[0;32m----> 1\u001b[0m \u001b[43mri_1\u001b[49m\u001b[38;5;241;43m.\u001b[39;49m\u001b[43mrun_randomization_inference\u001b[49m\u001b[43m(\u001b[49m\u001b[38;5;241;43m*\u001b[39;49m\u001b[43marg_dict_2\u001b[49m\u001b[43m)\u001b[49m\n",
      "File \u001b[0;32m~/Documents/src_dan/stats_utils/notebooks/scratch_work/../../ab_testing_utils/skewed_metric_utils.py:451\u001b[0m, in \u001b[0;36mRandomizationInference.run_randomization_inference\u001b[0;34m(self, df_, test_statistic_function, treatment_assignment_probability, sample_with_replacement, num_perms)\u001b[0m\n\u001b[1;32m    432\u001b[0m \u001b[38;5;250m\u001b[39m\u001b[38;5;124;03m\"\"\"\u001b[39;00m\n\u001b[1;32m    433\u001b[0m \u001b[38;5;124;03mFunction to handle running the randomization inference step. This just collects the results from make_hypothetical_assignments. We can probably remove this in future\u001b[39;00m\n\u001b[1;32m    434\u001b[0m \u001b[38;5;124;03mversions\u001b[39;00m\n\u001b[0;32m   (...)\u001b[0m\n\u001b[1;32m    446\u001b[0m \u001b[38;5;124;03m         hypothetical assignment\u001b[39;00m\n\u001b[1;32m    447\u001b[0m \u001b[38;5;124;03m\"\"\"\u001b[39;00m\n\u001b[1;32m    449\u001b[0m \u001b[38;5;28;01massert\u001b[39;00m \u001b[38;5;241m0\u001b[39m \u001b[38;5;241m<\u001b[39m treatment_assignment_probability \u001b[38;5;241m<\u001b[39m \u001b[38;5;241m1\u001b[39m, \u001b[38;5;124m\"\u001b[39m\u001b[38;5;124mTreatment assignment probabilities must be great than 0 and less than 1. Received \u001b[39m\u001b[38;5;132;01m{0}\u001b[39;00m\u001b[38;5;124m\"\u001b[39m\u001b[38;5;241m.\u001b[39mformat(treatment_assignment_probability)\n\u001b[0;32m--> 451\u001b[0m sim_dict \u001b[38;5;241m=\u001b[39m \u001b[38;5;28mself\u001b[39m\u001b[38;5;241m.\u001b[39mmake_hypothetical_assignment(df_\u001b[38;5;241m=\u001b[39mdf_, treatment_assignment_probability\u001b[38;5;241m=\u001b[39mtreatment_assignment_probability, test_statistic_function\u001b[38;5;241m=\u001b[39mtest_statistic_function, num_perms\u001b[38;5;241m=\u001b[39mnum_perms, sample_with_replacement\u001b[38;5;241m=\u001b[39msample_with_replacement)\n\u001b[1;32m    453\u001b[0m \u001b[38;5;28;01mreturn\u001b[39;00m sim_dict\n",
      "\u001b[0;31mTypeError\u001b[0m: '<' not supported between instances of 'int' and 'str'"
     ]
    }
   ],
   "source": [
    "ri_1.run_randomization_inference(**arg_dict_2)"
   ]
  },
  {
   "cell_type": "code",
   "execution_count": 159,
   "id": "cbe6dd8d-3d57-419c-83c4-b27c578e9bc6",
   "metadata": {},
   "outputs": [],
   "source": [
    "wtf_ = partial(ri_1.run_randomization_inference, **arg_dict)"
   ]
  },
  {
   "cell_type": "code",
   "execution_count": 160,
   "id": "aed4f4a8-f852-47b3-bc2a-ce2c4abbf624",
   "metadata": {},
   "outputs": [],
   "source": [
    "# ri_1.run_randomization_inference(**arg_dict_2)"
   ]
  },
  {
   "cell_type": "code",
   "execution_count": 161,
   "id": "17a04718-82e0-40b2-a1b0-1835965263bd",
   "metadata": {},
   "outputs": [
    {
     "name": "stdout",
     "output_type": "stream",
     "text": [
      "0.5\n",
      "<class 'float'>\n",
      "Number of distinct assignment combinations practically too large. Running 1 simulated permutations\n"
     ]
    },
    {
     "data": {
      "application/vnd.jupyter.widget-view+json": {
       "model_id": "7e3a813bcce74efb9cd0352164a64236",
       "version_major": 2,
       "version_minor": 0
      },
      "text/plain": [
       "  0%|          | 0/1 [00:00<?, ?it/s]"
      ]
     },
     "metadata": {},
     "output_type": "display_data"
    },
    {
     "data": {
      "text/plain": [
       "{0: 3.7697183528}"
      ]
     },
     "execution_count": 161,
     "metadata": {},
     "output_type": "execute_result"
    }
   ],
   "source": [
    "wtf_(num_perms=1)"
   ]
  },
  {
   "cell_type": "code",
   "execution_count": 165,
   "id": "f0d7ef4e-fbef-41ab-badb-aed1d77b916a",
   "metadata": {
    "scrolled": true,
    "tags": []
   },
   "outputs": [],
   "source": [
    "# list(range(num_permutations))"
   ]
  },
  {
   "cell_type": "code",
   "execution_count": 175,
   "id": "ff992efa-e18c-4c60-aa76-506e776d3682",
   "metadata": {},
   "outputs": [
    {
     "name": "stdout",
     "output_type": "stream",
     "text": [
      "Number of distinct assignment combinations practically too large. Running 0 simulated permutations\n",
      "Number of distinct assignment combinations practically too large. Running 1 simulated permutationsNumber of distinct assignment combinations practically too large. Running 2 simulated permutations\n",
      "\n",
      "Number of distinct assignment combinations practically too large. Running 3 simulated permutations\n",
      "Number of distinct assignment combinations practically too large. Running 5 simulated permutations\n"
     ]
    },
    {
     "data": {
      "application/vnd.jupyter.widget-view+json": {
       "model_id": "1129ef2bbf1144b496881f0ba7bfadd3",
       "version_major": 2,
       "version_minor": 0
      },
      "text/plain": [
       "0it [00:00, ?it/s]"
      ]
     },
     "metadata": {},
     "output_type": "display_data"
    },
    {
     "data": {
      "application/vnd.jupyter.widget-view+json": {
       "model_id": "8813a65452e34659aa79a6f6b13a2df3",
       "version_major": 2,
       "version_minor": 0
      },
      "text/plain": [
       "  0%|          | 0/1 [00:00<?, ?it/s]"
      ]
     },
     "metadata": {},
     "output_type": "display_data"
    },
    {
     "data": {
      "application/vnd.jupyter.widget-view+json": {
       "model_id": "68b26782709a4ddbb302b7403be12ec0",
       "version_major": 2,
       "version_minor": 0
      },
      "text/plain": [
       "  0%|          | 0/2 [00:00<?, ?it/s]"
      ]
     },
     "metadata": {},
     "output_type": "display_data"
    },
    {
     "data": {
      "application/vnd.jupyter.widget-view+json": {
       "model_id": "0b6b6c353abd4a0092019920b6ef3ebc",
       "version_major": 2,
       "version_minor": 0
      },
      "text/plain": [
       "  0%|          | 0/3 [00:00<?, ?it/s]"
      ]
     },
     "metadata": {},
     "output_type": "display_data"
    },
    {
     "name": "stdout",
     "output_type": "stream",
     "text": [
      "Number of distinct assignment combinations practically too large. Running 6 simulated permutations\n"
     ]
    },
    {
     "data": {
      "application/vnd.jupyter.widget-view+json": {
       "model_id": "9d6e8c60cf3d4dc699528d611a642644",
       "version_major": 2,
       "version_minor": 0
      },
      "text/plain": [
       "  0%|          | 0/5 [00:00<?, ?it/s]"
      ]
     },
     "metadata": {},
     "output_type": "display_data"
    },
    {
     "data": {
      "application/vnd.jupyter.widget-view+json": {
       "model_id": "2c1485914adb4280b687e1c49cf7b256",
       "version_major": 2,
       "version_minor": 0
      },
      "text/plain": [
       "  0%|          | 0/6 [00:00<?, ?it/s]"
      ]
     },
     "metadata": {},
     "output_type": "display_data"
    },
    {
     "name": "stdout",
     "output_type": "stream",
     "text": [
      "Number of distinct assignment combinations practically too large. Running 4 simulated permutations\n"
     ]
    },
    {
     "data": {
      "application/vnd.jupyter.widget-view+json": {
       "model_id": "bb1926910ffd448fbac9edd0d58e52fe",
       "version_major": 2,
       "version_minor": 0
      },
      "text/plain": [
       "  0%|          | 0/4 [00:00<?, ?it/s]"
      ]
     },
     "metadata": {},
     "output_type": "display_data"
    },
    {
     "name": "stdout",
     "output_type": "stream",
     "text": [
      "Number of distinct assignment combinations practically too large. Running 7 simulated permutations\n"
     ]
    },
    {
     "data": {
      "application/vnd.jupyter.widget-view+json": {
       "model_id": "8e78937fce964ce987a022d0f249373b",
       "version_major": 2,
       "version_minor": 0
      },
      "text/plain": [
       "  0%|          | 0/7 [00:00<?, ?it/s]"
      ]
     },
     "metadata": {},
     "output_type": "display_data"
    },
    {
     "name": "stdout",
     "output_type": "stream",
     "text": [
      "Number of distinct assignment combinations practically too large. Running 8 simulated permutations\n",
      "Number of distinct assignment combinations practically too large. Running 12 simulated permutations\n",
      "Number of distinct assignment combinations practically too large. Running 9 simulated permutations\n",
      "Number of distinct assignment combinations practically too large. Running 10 simulated permutations\n"
     ]
    },
    {
     "data": {
      "application/vnd.jupyter.widget-view+json": {
       "model_id": "a40dc5639f954adea10581b10dccbd05",
       "version_major": 2,
       "version_minor": 0
      },
      "text/plain": [
       "  0%|          | 0/8 [00:00<?, ?it/s]"
      ]
     },
     "metadata": {},
     "output_type": "display_data"
    },
    {
     "data": {
      "application/vnd.jupyter.widget-view+json": {
       "model_id": "e3890b165ea54d389853d7839bbf9a1c",
       "version_major": 2,
       "version_minor": 0
      },
      "text/plain": [
       "  0%|          | 0/12 [00:00<?, ?it/s]"
      ]
     },
     "metadata": {},
     "output_type": "display_data"
    },
    {
     "name": "stdout",
     "output_type": "stream",
     "text": [
      "Number of distinct assignment combinations practically too large. Running 11 simulated permutations"
     ]
    },
    {
     "data": {
      "application/vnd.jupyter.widget-view+json": {
       "model_id": "9b9f7c8384d242e3810beb5232b170cb",
       "version_major": 2,
       "version_minor": 0
      },
      "text/plain": [
       "  0%|          | 0/9 [00:00<?, ?it/s]"
      ]
     },
     "metadata": {},
     "output_type": "display_data"
    },
    {
     "name": "stdout",
     "output_type": "stream",
     "text": [
      "\n"
     ]
    },
    {
     "data": {
      "application/vnd.jupyter.widget-view+json": {
       "model_id": "20a6903b7959400fa95f775e71a71192",
       "version_major": 2,
       "version_minor": 0
      },
      "text/plain": [
       "  0%|          | 0/10 [00:00<?, ?it/s]"
      ]
     },
     "metadata": {},
     "output_type": "display_data"
    },
    {
     "data": {
      "application/vnd.jupyter.widget-view+json": {
       "model_id": "c6f8aec09076461799acd735648c1019",
       "version_major": 2,
       "version_minor": 0
      },
      "text/plain": [
       "  0%|          | 0/11 [00:00<?, ?it/s]"
      ]
     },
     "metadata": {},
     "output_type": "display_data"
    },
    {
     "name": "stdout",
     "output_type": "stream",
     "text": [
      "Number of distinct assignment combinations practically too large. Running 13 simulated permutations\n",
      "Number of distinct assignment combinations practically too large. Running 14 simulated permutations\n"
     ]
    },
    {
     "data": {
      "application/vnd.jupyter.widget-view+json": {
       "model_id": "320f5067cd7443bdb4c68b327c1eff1a",
       "version_major": 2,
       "version_minor": 0
      },
      "text/plain": [
       "  0%|          | 0/14 [00:00<?, ?it/s]"
      ]
     },
     "metadata": {},
     "output_type": "display_data"
    },
    {
     "data": {
      "application/vnd.jupyter.widget-view+json": {
       "model_id": "6f79973a61174425b617c99534b786e1",
       "version_major": 2,
       "version_minor": 0
      },
      "text/plain": [
       "  0%|          | 0/13 [00:00<?, ?it/s]"
      ]
     },
     "metadata": {},
     "output_type": "display_data"
    },
    {
     "name": "stdout",
     "output_type": "stream",
     "text": [
      "Number of distinct assignment combinations practically too large. Running 15 simulated permutations\n"
     ]
    },
    {
     "data": {
      "application/vnd.jupyter.widget-view+json": {
       "model_id": "57b901a1f83448f7b9fceb233d147b5a",
       "version_major": 2,
       "version_minor": 0
      },
      "text/plain": [
       "  0%|          | 0/15 [00:00<?, ?it/s]"
      ]
     },
     "metadata": {},
     "output_type": "display_data"
    },
    {
     "name": "stdout",
     "output_type": "stream",
     "text": [
      "Number of distinct assignment combinations practically too large. Running 16 simulated permutations\n",
      "Number of distinct assignment combinations practically too large. Running 18 simulated permutations\n",
      "Number of distinct assignment combinations practically too large. Running 17 simulated permutations\n"
     ]
    },
    {
     "data": {
      "application/vnd.jupyter.widget-view+json": {
       "model_id": "76db66f1612245d19e581ab50ce85b7b",
       "version_major": 2,
       "version_minor": 0
      },
      "text/plain": [
       "  0%|          | 0/16 [00:00<?, ?it/s]"
      ]
     },
     "metadata": {},
     "output_type": "display_data"
    },
    {
     "data": {
      "application/vnd.jupyter.widget-view+json": {
       "model_id": "b3e2dab4dceb4e86afd503c179b030e8",
       "version_major": 2,
       "version_minor": 0
      },
      "text/plain": [
       "  0%|          | 0/18 [00:00<?, ?it/s]"
      ]
     },
     "metadata": {},
     "output_type": "display_data"
    },
    {
     "data": {
      "application/vnd.jupyter.widget-view+json": {
       "model_id": "7d1d171d06f74c248a05ef5525415088",
       "version_major": 2,
       "version_minor": 0
      },
      "text/plain": [
       "  0%|          | 0/17 [00:00<?, ?it/s]"
      ]
     },
     "metadata": {},
     "output_type": "display_data"
    },
    {
     "name": "stdout",
     "output_type": "stream",
     "text": [
      "Number of distinct assignment combinations practically too large. Running 20 simulated permutations\n",
      "Number of distinct assignment combinations practically too large. Running 19 simulated permutations\n"
     ]
    },
    {
     "data": {
      "application/vnd.jupyter.widget-view+json": {
       "model_id": "e68af80fb7e84e4e86604fe71c1cd68c",
       "version_major": 2,
       "version_minor": 0
      },
      "text/plain": [
       "  0%|          | 0/19 [00:00<?, ?it/s]"
      ]
     },
     "metadata": {},
     "output_type": "display_data"
    },
    {
     "data": {
      "application/vnd.jupyter.widget-view+json": {
       "model_id": "40db92c8ad85426aaec4cdd7ac3cba8d",
       "version_major": 2,
       "version_minor": 0
      },
      "text/plain": [
       "  0%|          | 0/20 [00:00<?, ?it/s]"
      ]
     },
     "metadata": {},
     "output_type": "display_data"
    },
    {
     "name": "stdout",
     "output_type": "stream",
     "text": [
      "Number of distinct assignment combinations practically too large. Running 22 simulated permutations\n",
      "Number of distinct assignment combinations practically too large. Running 21 simulated permutations\n"
     ]
    },
    {
     "data": {
      "application/vnd.jupyter.widget-view+json": {
       "model_id": "84f87d32534a4619bda1ad2f1b6f93ab",
       "version_major": 2,
       "version_minor": 0
      },
      "text/plain": [
       "  0%|          | 0/22 [00:00<?, ?it/s]"
      ]
     },
     "metadata": {},
     "output_type": "display_data"
    },
    {
     "data": {
      "application/vnd.jupyter.widget-view+json": {
       "model_id": "7a0fc845f466434e9ffd048ea338e5f4",
       "version_major": 2,
       "version_minor": 0
      },
      "text/plain": [
       "  0%|          | 0/21 [00:00<?, ?it/s]"
      ]
     },
     "metadata": {},
     "output_type": "display_data"
    },
    {
     "name": "stdout",
     "output_type": "stream",
     "text": [
      "Number of distinct assignment combinations practically too large. Running 23 simulated permutations\n"
     ]
    },
    {
     "data": {
      "application/vnd.jupyter.widget-view+json": {
       "model_id": "197f125c5b6c4e889570b58117e458df",
       "version_major": 2,
       "version_minor": 0
      },
      "text/plain": [
       "  0%|          | 0/23 [00:00<?, ?it/s]"
      ]
     },
     "metadata": {},
     "output_type": "display_data"
    },
    {
     "name": "stdout",
     "output_type": "stream",
     "text": [
      "Number of distinct assignment combinations practically too large. Running 26 simulated permutations\n",
      "Number of distinct assignment combinations practically too large. Running 24 simulated permutations\n"
     ]
    },
    {
     "data": {
      "application/vnd.jupyter.widget-view+json": {
       "model_id": "c5aa8b7119514e1ba08612bbf34fe262",
       "version_major": 2,
       "version_minor": 0
      },
      "text/plain": [
       "  0%|          | 0/26 [00:00<?, ?it/s]"
      ]
     },
     "metadata": {},
     "output_type": "display_data"
    },
    {
     "data": {
      "application/vnd.jupyter.widget-view+json": {
       "model_id": "f1e51c76ca634a29a62d585dcb9b75aa",
       "version_major": 2,
       "version_minor": 0
      },
      "text/plain": [
       "  0%|          | 0/24 [00:00<?, ?it/s]"
      ]
     },
     "metadata": {},
     "output_type": "display_data"
    },
    {
     "name": "stdout",
     "output_type": "stream",
     "text": [
      "Number of distinct assignment combinations practically too large. Running 25 simulated permutations\n",
      "Number of distinct assignment combinations practically too large. Running 27 simulated permutations\n"
     ]
    },
    {
     "data": {
      "application/vnd.jupyter.widget-view+json": {
       "model_id": "d850bb31b8df4d058cc24c8bea9cbfb0",
       "version_major": 2,
       "version_minor": 0
      },
      "text/plain": [
       "  0%|          | 0/27 [00:00<?, ?it/s]"
      ]
     },
     "metadata": {},
     "output_type": "display_data"
    },
    {
     "data": {
      "application/vnd.jupyter.widget-view+json": {
       "model_id": "abb6254e848b4cc2aac2b19331d8e2fd",
       "version_major": 2,
       "version_minor": 0
      },
      "text/plain": [
       "  0%|          | 0/25 [00:00<?, ?it/s]"
      ]
     },
     "metadata": {},
     "output_type": "display_data"
    },
    {
     "name": "stdout",
     "output_type": "stream",
     "text": [
      "Number of distinct assignment combinations practically too large. Running 28 simulated permutations\n"
     ]
    },
    {
     "data": {
      "application/vnd.jupyter.widget-view+json": {
       "model_id": "0d574f73b42840e6b3ec4dd06c358c2c",
       "version_major": 2,
       "version_minor": 0
      },
      "text/plain": [
       "  0%|          | 0/28 [00:00<?, ?it/s]"
      ]
     },
     "metadata": {},
     "output_type": "display_data"
    },
    {
     "name": "stdout",
     "output_type": "stream",
     "text": [
      "Number of distinct assignment combinations practically too large. Running 29 simulated permutations\n",
      "Number of distinct assignment combinations practically too large. Running 30 simulated permutations\n",
      "Number of distinct assignment combinations practically too large. Running 31 simulated permutations"
     ]
    },
    {
     "data": {
      "application/vnd.jupyter.widget-view+json": {
       "model_id": "d6a377ceeb5840c6b61adc6bf4ed7e9d",
       "version_major": 2,
       "version_minor": 0
      },
      "text/plain": [
       "  0%|          | 0/29 [00:00<?, ?it/s]"
      ]
     },
     "metadata": {},
     "output_type": "display_data"
    },
    {
     "name": "stdout",
     "output_type": "stream",
     "text": [
      "\n"
     ]
    },
    {
     "data": {
      "application/vnd.jupyter.widget-view+json": {
       "model_id": "455dede784dd4d8ba8e3b838b1bb5338",
       "version_major": 2,
       "version_minor": 0
      },
      "text/plain": [
       "  0%|          | 0/30 [00:00<?, ?it/s]"
      ]
     },
     "metadata": {},
     "output_type": "display_data"
    },
    {
     "data": {
      "application/vnd.jupyter.widget-view+json": {
       "model_id": "b77061e966ba4bc58142c81992746471",
       "version_major": 2,
       "version_minor": 0
      },
      "text/plain": [
       "  0%|          | 0/31 [00:00<?, ?it/s]"
      ]
     },
     "metadata": {},
     "output_type": "display_data"
    },
    {
     "name": "stdout",
     "output_type": "stream",
     "text": [
      "Number of distinct assignment combinations practically too large. Running 35 simulated permutationsNumber of distinct assignment combinations practically too large. Running 36 simulated permutations\n",
      "\n",
      "Number of distinct assignment combinations practically too large. Running 34 simulated permutationsNumber of distinct assignment combinations practically too large. Running 32 simulated permutations\n",
      "\n"
     ]
    },
    {
     "data": {
      "application/vnd.jupyter.widget-view+json": {
       "model_id": "9c3f2e5b0c0f43788461036fa67536ea",
       "version_major": 2,
       "version_minor": 0
      },
      "text/plain": [
       "  0%|          | 0/35 [00:00<?, ?it/s]"
      ]
     },
     "metadata": {},
     "output_type": "display_data"
    },
    {
     "data": {
      "application/vnd.jupyter.widget-view+json": {
       "model_id": "c77c277242c145289a78b1b1d7dc4e77",
       "version_major": 2,
       "version_minor": 0
      },
      "text/plain": [
       "  0%|          | 0/36 [00:00<?, ?it/s]"
      ]
     },
     "metadata": {},
     "output_type": "display_data"
    },
    {
     "data": {
      "application/vnd.jupyter.widget-view+json": {
       "model_id": "756b25461f724587848368914c4c7f20",
       "version_major": 2,
       "version_minor": 0
      },
      "text/plain": [
       "  0%|          | 0/34 [00:00<?, ?it/s]"
      ]
     },
     "metadata": {},
     "output_type": "display_data"
    },
    {
     "data": {
      "application/vnd.jupyter.widget-view+json": {
       "model_id": "baabe25aaa7b4164b3b0efe503076f04",
       "version_major": 2,
       "version_minor": 0
      },
      "text/plain": [
       "  0%|          | 0/32 [00:00<?, ?it/s]"
      ]
     },
     "metadata": {},
     "output_type": "display_data"
    },
    {
     "name": "stdout",
     "output_type": "stream",
     "text": [
      "Number of distinct assignment combinations practically too large. Running 33 simulated permutations\n",
      "Number of distinct assignment combinations practically too large. Running 37 simulated permutations\n"
     ]
    },
    {
     "data": {
      "application/vnd.jupyter.widget-view+json": {
       "model_id": "c6c14296c7f34e93a26fcd39ef2a2d43",
       "version_major": 2,
       "version_minor": 0
      },
      "text/plain": [
       "  0%|          | 0/37 [00:00<?, ?it/s]"
      ]
     },
     "metadata": {},
     "output_type": "display_data"
    },
    {
     "data": {
      "application/vnd.jupyter.widget-view+json": {
       "model_id": "7ab14ac2f42740449036251ea33daf80",
       "version_major": 2,
       "version_minor": 0
      },
      "text/plain": [
       "  0%|          | 0/33 [00:00<?, ?it/s]"
      ]
     },
     "metadata": {},
     "output_type": "display_data"
    },
    {
     "name": "stdout",
     "output_type": "stream",
     "text": [
      "Number of distinct assignment combinations practically too large. Running 38 simulated permutations\n"
     ]
    },
    {
     "data": {
      "application/vnd.jupyter.widget-view+json": {
       "model_id": "7004865806c641369dc56105e743a1a2",
       "version_major": 2,
       "version_minor": 0
      },
      "text/plain": [
       "  0%|          | 0/38 [00:00<?, ?it/s]"
      ]
     },
     "metadata": {},
     "output_type": "display_data"
    },
    {
     "name": "stdout",
     "output_type": "stream",
     "text": [
      "Number of distinct assignment combinations practically too large. Running 39 simulated permutations\n"
     ]
    },
    {
     "data": {
      "application/vnd.jupyter.widget-view+json": {
       "model_id": "bdf5b1bb44c443a2b4cf322e9ecc04fd",
       "version_major": 2,
       "version_minor": 0
      },
      "text/plain": [
       "  0%|          | 0/39 [00:00<?, ?it/s]"
      ]
     },
     "metadata": {},
     "output_type": "display_data"
    },
    {
     "name": "stdout",
     "output_type": "stream",
     "text": [
      "Number of distinct assignment combinations practically too large. Running 42 simulated permutations\n",
      "Number of distinct assignment combinations practically too large. Running 41 simulated permutations\n",
      "Number of distinct assignment combinations practically too large. Running 40 simulated permutations\n"
     ]
    },
    {
     "data": {
      "application/vnd.jupyter.widget-view+json": {
       "model_id": "9b4b21e1b7684deea0f3dd6564841abe",
       "version_major": 2,
       "version_minor": 0
      },
      "text/plain": [
       "  0%|          | 0/42 [00:00<?, ?it/s]"
      ]
     },
     "metadata": {},
     "output_type": "display_data"
    },
    {
     "data": {
      "application/vnd.jupyter.widget-view+json": {
       "model_id": "e107c062e49c44cab130888cf2de36ba",
       "version_major": 2,
       "version_minor": 0
      },
      "text/plain": [
       "  0%|          | 0/41 [00:00<?, ?it/s]"
      ]
     },
     "metadata": {},
     "output_type": "display_data"
    },
    {
     "data": {
      "application/vnd.jupyter.widget-view+json": {
       "model_id": "427a22b70fb4470db96cce7598a1ac98",
       "version_major": 2,
       "version_minor": 0
      },
      "text/plain": [
       "  0%|          | 0/40 [00:00<?, ?it/s]"
      ]
     },
     "metadata": {},
     "output_type": "display_data"
    },
    {
     "name": "stdout",
     "output_type": "stream",
     "text": [
      "Number of distinct assignment combinations practically too large. Running 44 simulated permutations\n"
     ]
    },
    {
     "data": {
      "application/vnd.jupyter.widget-view+json": {
       "model_id": "d28ea56972b745ea98debeedf5cf7ca7",
       "version_major": 2,
       "version_minor": 0
      },
      "text/plain": [
       "  0%|          | 0/44 [00:00<?, ?it/s]"
      ]
     },
     "metadata": {},
     "output_type": "display_data"
    },
    {
     "name": "stdout",
     "output_type": "stream",
     "text": [
      "Number of distinct assignment combinations practically too large. Running 43 simulated permutations\n"
     ]
    },
    {
     "data": {
      "application/vnd.jupyter.widget-view+json": {
       "model_id": "4c7706ea3cd34a74826da1ac3c53092e",
       "version_major": 2,
       "version_minor": 0
      },
      "text/plain": [
       "  0%|          | 0/43 [00:00<?, ?it/s]"
      ]
     },
     "metadata": {},
     "output_type": "display_data"
    },
    {
     "name": "stdout",
     "output_type": "stream",
     "text": [
      "Number of distinct assignment combinations practically too large. Running 45 simulated permutations\n"
     ]
    },
    {
     "data": {
      "application/vnd.jupyter.widget-view+json": {
       "model_id": "b014bbfb5b3245508ae5b350a0aafe07",
       "version_major": 2,
       "version_minor": 0
      },
      "text/plain": [
       "  0%|          | 0/45 [00:00<?, ?it/s]"
      ]
     },
     "metadata": {},
     "output_type": "display_data"
    },
    {
     "name": "stdout",
     "output_type": "stream",
     "text": [
      "Number of distinct assignment combinations practically too large. Running 46 simulated permutations\n"
     ]
    },
    {
     "data": {
      "application/vnd.jupyter.widget-view+json": {
       "model_id": "947119774b6d4e92b0504235268fbc49",
       "version_major": 2,
       "version_minor": 0
      },
      "text/plain": [
       "  0%|          | 0/46 [00:00<?, ?it/s]"
      ]
     },
     "metadata": {},
     "output_type": "display_data"
    },
    {
     "name": "stdout",
     "output_type": "stream",
     "text": [
      "Number of distinct assignment combinations practically too large. Running 47 simulated permutations\n"
     ]
    },
    {
     "data": {
      "application/vnd.jupyter.widget-view+json": {
       "model_id": "4ca973fb48514f8abbdf867fb17db5c6",
       "version_major": 2,
       "version_minor": 0
      },
      "text/plain": [
       "  0%|          | 0/47 [00:00<?, ?it/s]"
      ]
     },
     "metadata": {},
     "output_type": "display_data"
    },
    {
     "name": "stdout",
     "output_type": "stream",
     "text": [
      "Number of distinct assignment combinations practically too large. Running 50 simulated permutations\n",
      "Number of distinct assignment combinations practically too large. Running 48 simulated permutations\n",
      "Number of distinct assignment combinations practically too large. Running 49 simulated permutations\n"
     ]
    },
    {
     "data": {
      "application/vnd.jupyter.widget-view+json": {
       "model_id": "35102d9c51824bc286d5157acb480f6d",
       "version_major": 2,
       "version_minor": 0
      },
      "text/plain": [
       "  0%|          | 0/48 [00:00<?, ?it/s]"
      ]
     },
     "metadata": {},
     "output_type": "display_data"
    },
    {
     "data": {
      "application/vnd.jupyter.widget-view+json": {
       "model_id": "acd65b2cc5384f8babdb0cba5e3a42d6",
       "version_major": 2,
       "version_minor": 0
      },
      "text/plain": [
       "  0%|          | 0/50 [00:00<?, ?it/s]"
      ]
     },
     "metadata": {},
     "output_type": "display_data"
    },
    {
     "data": {
      "application/vnd.jupyter.widget-view+json": {
       "model_id": "f75e228928a641c78a49ee33c36e3da0",
       "version_major": 2,
       "version_minor": 0
      },
      "text/plain": [
       "  0%|          | 0/49 [00:00<?, ?it/s]"
      ]
     },
     "metadata": {},
     "output_type": "display_data"
    },
    {
     "name": "stdout",
     "output_type": "stream",
     "text": [
      "Number of distinct assignment combinations practically too large. Running 51 simulated permutations\n",
      "Number of distinct assignment combinations practically too large. Running 52 simulated permutations\n"
     ]
    },
    {
     "data": {
      "application/vnd.jupyter.widget-view+json": {
       "model_id": "66f934aa5d014a599512d25fa4fa3284",
       "version_major": 2,
       "version_minor": 0
      },
      "text/plain": [
       "  0%|          | 0/52 [00:00<?, ?it/s]"
      ]
     },
     "metadata": {},
     "output_type": "display_data"
    },
    {
     "data": {
      "application/vnd.jupyter.widget-view+json": {
       "model_id": "bde4e40da41b41278365d6bd30ad845c",
       "version_major": 2,
       "version_minor": 0
      },
      "text/plain": [
       "  0%|          | 0/51 [00:00<?, ?it/s]"
      ]
     },
     "metadata": {},
     "output_type": "display_data"
    },
    {
     "name": "stdout",
     "output_type": "stream",
     "text": [
      "Number of distinct assignment combinations practically too large. Running 53 simulated permutations\n"
     ]
    },
    {
     "data": {
      "application/vnd.jupyter.widget-view+json": {
       "model_id": "9cc84c3b1af742ceadbe4081e1733482",
       "version_major": 2,
       "version_minor": 0
      },
      "text/plain": [
       "  0%|          | 0/53 [00:00<?, ?it/s]"
      ]
     },
     "metadata": {},
     "output_type": "display_data"
    },
    {
     "name": "stdout",
     "output_type": "stream",
     "text": [
      "Number of distinct assignment combinations practically too large. Running 54 simulated permutations\n"
     ]
    },
    {
     "data": {
      "application/vnd.jupyter.widget-view+json": {
       "model_id": "fee032c5edab4ef5944112957b65a952",
       "version_major": 2,
       "version_minor": 0
      },
      "text/plain": [
       "  0%|          | 0/54 [00:00<?, ?it/s]"
      ]
     },
     "metadata": {},
     "output_type": "display_data"
    },
    {
     "name": "stdout",
     "output_type": "stream",
     "text": [
      "Number of distinct assignment combinations practically too large. Running 55 simulated permutations\n"
     ]
    },
    {
     "data": {
      "application/vnd.jupyter.widget-view+json": {
       "model_id": "c5615cf2f6dc4366bec898e39eb14ec0",
       "version_major": 2,
       "version_minor": 0
      },
      "text/plain": [
       "  0%|          | 0/55 [00:00<?, ?it/s]"
      ]
     },
     "metadata": {},
     "output_type": "display_data"
    },
    {
     "name": "stdout",
     "output_type": "stream",
     "text": [
      "Number of distinct assignment combinations practically too large. Running 56 simulated permutations\n",
      "Number of distinct assignment combinations practically too large. Running 57 simulated permutations\n"
     ]
    },
    {
     "data": {
      "application/vnd.jupyter.widget-view+json": {
       "model_id": "c2eca3e1d19b43c1a28caaaea8bb918e",
       "version_major": 2,
       "version_minor": 0
      },
      "text/plain": [
       "  0%|          | 0/56 [00:00<?, ?it/s]"
      ]
     },
     "metadata": {},
     "output_type": "display_data"
    },
    {
     "data": {
      "application/vnd.jupyter.widget-view+json": {
       "model_id": "46ea28b69c994223872d20a9b81b5c8c",
       "version_major": 2,
       "version_minor": 0
      },
      "text/plain": [
       "  0%|          | 0/57 [00:00<?, ?it/s]"
      ]
     },
     "metadata": {},
     "output_type": "display_data"
    },
    {
     "name": "stdout",
     "output_type": "stream",
     "text": [
      "Number of distinct assignment combinations practically too large. Running 58 simulated permutations\n"
     ]
    },
    {
     "data": {
      "application/vnd.jupyter.widget-view+json": {
       "model_id": "5d83c6d930b34ddfbb8f5d6333747d85",
       "version_major": 2,
       "version_minor": 0
      },
      "text/plain": [
       "  0%|          | 0/58 [00:00<?, ?it/s]"
      ]
     },
     "metadata": {},
     "output_type": "display_data"
    },
    {
     "name": "stdout",
     "output_type": "stream",
     "text": [
      "Number of distinct assignment combinations practically too large. Running 59 simulated permutations\n"
     ]
    },
    {
     "data": {
      "application/vnd.jupyter.widget-view+json": {
       "model_id": "e7ecd0c199084cbfb3f1436db5f484fc",
       "version_major": 2,
       "version_minor": 0
      },
      "text/plain": [
       "  0%|          | 0/59 [00:00<?, ?it/s]"
      ]
     },
     "metadata": {},
     "output_type": "display_data"
    },
    {
     "name": "stdout",
     "output_type": "stream",
     "text": [
      "Number of distinct assignment combinations practically too large. Running 60 simulated permutations\n"
     ]
    },
    {
     "data": {
      "application/vnd.jupyter.widget-view+json": {
       "model_id": "c89f3360c82f4f73a8101d5c7e956e42",
       "version_major": 2,
       "version_minor": 0
      },
      "text/plain": [
       "  0%|          | 0/60 [00:00<?, ?it/s]"
      ]
     },
     "metadata": {},
     "output_type": "display_data"
    },
    {
     "name": "stdout",
     "output_type": "stream",
     "text": [
      "Number of distinct assignment combinations practically too large. Running 61 simulated permutations\n"
     ]
    },
    {
     "data": {
      "application/vnd.jupyter.widget-view+json": {
       "model_id": "cf6dd61857c34b518d9ad6803fd2d84d",
       "version_major": 2,
       "version_minor": 0
      },
      "text/plain": [
       "  0%|          | 0/61 [00:00<?, ?it/s]"
      ]
     },
     "metadata": {},
     "output_type": "display_data"
    },
    {
     "name": "stdout",
     "output_type": "stream",
     "text": [
      "Number of distinct assignment combinations practically too large. Running 62 simulated permutations\n"
     ]
    },
    {
     "data": {
      "application/vnd.jupyter.widget-view+json": {
       "model_id": "817136c9c4d6492b8713af85b97c28e7",
       "version_major": 2,
       "version_minor": 0
      },
      "text/plain": [
       "  0%|          | 0/62 [00:00<?, ?it/s]"
      ]
     },
     "metadata": {},
     "output_type": "display_data"
    },
    {
     "name": "stdout",
     "output_type": "stream",
     "text": [
      "Number of distinct assignment combinations practically too large. Running 63 simulated permutations\n"
     ]
    },
    {
     "data": {
      "application/vnd.jupyter.widget-view+json": {
       "model_id": "ea1da087340f40b6aad11fb26d21b716",
       "version_major": 2,
       "version_minor": 0
      },
      "text/plain": [
       "  0%|          | 0/63 [00:00<?, ?it/s]"
      ]
     },
     "metadata": {},
     "output_type": "display_data"
    },
    {
     "name": "stdout",
     "output_type": "stream",
     "text": [
      "Number of distinct assignment combinations practically too large. Running 64 simulated permutations\n"
     ]
    },
    {
     "data": {
      "application/vnd.jupyter.widget-view+json": {
       "model_id": "ca8004a33a7e4e8caa2a536159a56bb6",
       "version_major": 2,
       "version_minor": 0
      },
      "text/plain": [
       "  0%|          | 0/64 [00:00<?, ?it/s]"
      ]
     },
     "metadata": {},
     "output_type": "display_data"
    },
    {
     "name": "stdout",
     "output_type": "stream",
     "text": [
      "Number of distinct assignment combinations practically too large. Running 65 simulated permutations\n"
     ]
    },
    {
     "data": {
      "application/vnd.jupyter.widget-view+json": {
       "model_id": "1a02da8fd35b4e53b83c00a45f01687d",
       "version_major": 2,
       "version_minor": 0
      },
      "text/plain": [
       "  0%|          | 0/65 [00:00<?, ?it/s]"
      ]
     },
     "metadata": {},
     "output_type": "display_data"
    },
    {
     "name": "stdout",
     "output_type": "stream",
     "text": [
      "Number of distinct assignment combinations practically too large. Running 66 simulated permutations\n"
     ]
    },
    {
     "data": {
      "application/vnd.jupyter.widget-view+json": {
       "model_id": "815252327ad945479f9d449176508b62",
       "version_major": 2,
       "version_minor": 0
      },
      "text/plain": [
       "  0%|          | 0/66 [00:00<?, ?it/s]"
      ]
     },
     "metadata": {},
     "output_type": "display_data"
    },
    {
     "name": "stdout",
     "output_type": "stream",
     "text": [
      "Number of distinct assignment combinations practically too large. Running 68 simulated permutations\n",
      "Number of distinct assignment combinations practically too large. Running 67 simulated permutations\n"
     ]
    },
    {
     "data": {
      "application/vnd.jupyter.widget-view+json": {
       "model_id": "a79322cba4ef48bca7a757d226f685f5",
       "version_major": 2,
       "version_minor": 0
      },
      "text/plain": [
       "  0%|          | 0/68 [00:00<?, ?it/s]"
      ]
     },
     "metadata": {},
     "output_type": "display_data"
    },
    {
     "data": {
      "application/vnd.jupyter.widget-view+json": {
       "model_id": "6fa4f31e397a467692a7e11d4f886bb6",
       "version_major": 2,
       "version_minor": 0
      },
      "text/plain": [
       "  0%|          | 0/67 [00:00<?, ?it/s]"
      ]
     },
     "metadata": {},
     "output_type": "display_data"
    },
    {
     "name": "stdout",
     "output_type": "stream",
     "text": [
      "Number of distinct assignment combinations practically too large. Running 69 simulated permutations\n"
     ]
    },
    {
     "data": {
      "application/vnd.jupyter.widget-view+json": {
       "model_id": "bd8735dedc044fe98a156b036f8e8aac",
       "version_major": 2,
       "version_minor": 0
      },
      "text/plain": [
       "  0%|          | 0/69 [00:00<?, ?it/s]"
      ]
     },
     "metadata": {},
     "output_type": "display_data"
    },
    {
     "name": "stdout",
     "output_type": "stream",
     "text": [
      "Number of distinct assignment combinations practically too large. Running 70 simulated permutations\n"
     ]
    },
    {
     "data": {
      "application/vnd.jupyter.widget-view+json": {
       "model_id": "47b70ec3982e45569872daa86d9d286e",
       "version_major": 2,
       "version_minor": 0
      },
      "text/plain": [
       "  0%|          | 0/70 [00:00<?, ?it/s]"
      ]
     },
     "metadata": {},
     "output_type": "display_data"
    },
    {
     "name": "stdout",
     "output_type": "stream",
     "text": [
      "Number of distinct assignment combinations practically too large. Running 71 simulated permutations\n"
     ]
    },
    {
     "data": {
      "application/vnd.jupyter.widget-view+json": {
       "model_id": "d89301724fd746b4b90cc02b90145d3c",
       "version_major": 2,
       "version_minor": 0
      },
      "text/plain": [
       "  0%|          | 0/71 [00:00<?, ?it/s]"
      ]
     },
     "metadata": {},
     "output_type": "display_data"
    },
    {
     "name": "stdout",
     "output_type": "stream",
     "text": [
      "Number of distinct assignment combinations practically too large. Running 72 simulated permutations\n"
     ]
    },
    {
     "data": {
      "application/vnd.jupyter.widget-view+json": {
       "model_id": "40691140b42142ce9baf6ead58e71ccc",
       "version_major": 2,
       "version_minor": 0
      },
      "text/plain": [
       "  0%|          | 0/72 [00:00<?, ?it/s]"
      ]
     },
     "metadata": {},
     "output_type": "display_data"
    },
    {
     "name": "stdout",
     "output_type": "stream",
     "text": [
      "Number of distinct assignment combinations practically too large. Running 74 simulated permutations\n",
      "Number of distinct assignment combinations practically too large. Running 73 simulated permutations\n"
     ]
    },
    {
     "data": {
      "application/vnd.jupyter.widget-view+json": {
       "model_id": "f718e25317a64f749b5cc7abace4c0fb",
       "version_major": 2,
       "version_minor": 0
      },
      "text/plain": [
       "  0%|          | 0/74 [00:00<?, ?it/s]"
      ]
     },
     "metadata": {},
     "output_type": "display_data"
    },
    {
     "data": {
      "application/vnd.jupyter.widget-view+json": {
       "model_id": "b68e4dd287cd4b5289b9de9006779fc7",
       "version_major": 2,
       "version_minor": 0
      },
      "text/plain": [
       "  0%|          | 0/73 [00:00<?, ?it/s]"
      ]
     },
     "metadata": {},
     "output_type": "display_data"
    },
    {
     "name": "stdout",
     "output_type": "stream",
     "text": [
      "Number of distinct assignment combinations practically too large. Running 75 simulated permutations\n"
     ]
    },
    {
     "data": {
      "application/vnd.jupyter.widget-view+json": {
       "model_id": "ff6b60da8bf64b76bed94e7dfea755c3",
       "version_major": 2,
       "version_minor": 0
      },
      "text/plain": [
       "  0%|          | 0/75 [00:00<?, ?it/s]"
      ]
     },
     "metadata": {},
     "output_type": "display_data"
    },
    {
     "name": "stdout",
     "output_type": "stream",
     "text": [
      "Number of distinct assignment combinations practically too large. Running 76 simulated permutations\n"
     ]
    },
    {
     "data": {
      "application/vnd.jupyter.widget-view+json": {
       "model_id": "959731f483f14b438b5217f8c6e743dd",
       "version_major": 2,
       "version_minor": 0
      },
      "text/plain": [
       "  0%|          | 0/76 [00:00<?, ?it/s]"
      ]
     },
     "metadata": {},
     "output_type": "display_data"
    },
    {
     "name": "stdout",
     "output_type": "stream",
     "text": [
      "Number of distinct assignment combinations practically too large. Running 77 simulated permutations\n"
     ]
    },
    {
     "data": {
      "application/vnd.jupyter.widget-view+json": {
       "model_id": "48c311e49b834cc59ff46f2190957f7f",
       "version_major": 2,
       "version_minor": 0
      },
      "text/plain": [
       "  0%|          | 0/77 [00:00<?, ?it/s]"
      ]
     },
     "metadata": {},
     "output_type": "display_data"
    },
    {
     "name": "stdout",
     "output_type": "stream",
     "text": [
      "Number of distinct assignment combinations practically too large. Running 78 simulated permutations\n"
     ]
    },
    {
     "data": {
      "application/vnd.jupyter.widget-view+json": {
       "model_id": "7ad576671b704cc7a4859c61292421a6",
       "version_major": 2,
       "version_minor": 0
      },
      "text/plain": [
       "  0%|          | 0/78 [00:00<?, ?it/s]"
      ]
     },
     "metadata": {},
     "output_type": "display_data"
    },
    {
     "name": "stdout",
     "output_type": "stream",
     "text": [
      "Number of distinct assignment combinations practically too large. Running 79 simulated permutations\n"
     ]
    },
    {
     "data": {
      "application/vnd.jupyter.widget-view+json": {
       "model_id": "82362754cc654076b3fee82b6504f000",
       "version_major": 2,
       "version_minor": 0
      },
      "text/plain": [
       "  0%|          | 0/79 [00:00<?, ?it/s]"
      ]
     },
     "metadata": {},
     "output_type": "display_data"
    },
    {
     "name": "stdout",
     "output_type": "stream",
     "text": [
      "Number of distinct assignment combinations practically too large. Running 80 simulated permutations\n",
      "Number of distinct assignment combinations practically too large. Running 81 simulated permutations"
     ]
    },
    {
     "data": {
      "application/vnd.jupyter.widget-view+json": {
       "model_id": "3153cd8070d84455a28842c467259700",
       "version_major": 2,
       "version_minor": 0
      },
      "text/plain": [
       "  0%|          | 0/80 [00:00<?, ?it/s]"
      ]
     },
     "metadata": {},
     "output_type": "display_data"
    },
    {
     "name": "stdout",
     "output_type": "stream",
     "text": [
      "\n"
     ]
    },
    {
     "data": {
      "application/vnd.jupyter.widget-view+json": {
       "model_id": "8961f058f80f49d692a4e02f2569b5a1",
       "version_major": 2,
       "version_minor": 0
      },
      "text/plain": [
       "  0%|          | 0/81 [00:00<?, ?it/s]"
      ]
     },
     "metadata": {},
     "output_type": "display_data"
    },
    {
     "name": "stdout",
     "output_type": "stream",
     "text": [
      "Number of distinct assignment combinations practically too large. Running 82 simulated permutations\n"
     ]
    },
    {
     "data": {
      "application/vnd.jupyter.widget-view+json": {
       "model_id": "c4daa803d7234c52b06d10015fc33508",
       "version_major": 2,
       "version_minor": 0
      },
      "text/plain": [
       "  0%|          | 0/82 [00:00<?, ?it/s]"
      ]
     },
     "metadata": {},
     "output_type": "display_data"
    },
    {
     "name": "stdout",
     "output_type": "stream",
     "text": [
      "Number of distinct assignment combinations practically too large. Running 83 simulated permutations\n"
     ]
    },
    {
     "data": {
      "application/vnd.jupyter.widget-view+json": {
       "model_id": "6b75f4f7c2f8444b9f18c06deba34730",
       "version_major": 2,
       "version_minor": 0
      },
      "text/plain": [
       "  0%|          | 0/83 [00:00<?, ?it/s]"
      ]
     },
     "metadata": {},
     "output_type": "display_data"
    },
    {
     "name": "stdout",
     "output_type": "stream",
     "text": [
      "Number of distinct assignment combinations practically too large. Running 84 simulated permutations\n"
     ]
    },
    {
     "data": {
      "application/vnd.jupyter.widget-view+json": {
       "model_id": "2e065a8907b3445aa7240c4ea4d751aa",
       "version_major": 2,
       "version_minor": 0
      },
      "text/plain": [
       "  0%|          | 0/84 [00:00<?, ?it/s]"
      ]
     },
     "metadata": {},
     "output_type": "display_data"
    },
    {
     "name": "stdout",
     "output_type": "stream",
     "text": [
      "Number of distinct assignment combinations practically too large. Running 86 simulated permutations\n",
      "Number of distinct assignment combinations practically too large. Running 85 simulated permutations\n"
     ]
    },
    {
     "data": {
      "application/vnd.jupyter.widget-view+json": {
       "model_id": "cb7b3b0c81a34eff8c7ce106f41e3f51",
       "version_major": 2,
       "version_minor": 0
      },
      "text/plain": [
       "  0%|          | 0/86 [00:00<?, ?it/s]"
      ]
     },
     "metadata": {},
     "output_type": "display_data"
    },
    {
     "data": {
      "application/vnd.jupyter.widget-view+json": {
       "model_id": "05954e0fd465432bb30b2b0a07c47efc",
       "version_major": 2,
       "version_minor": 0
      },
      "text/plain": [
       "  0%|          | 0/85 [00:00<?, ?it/s]"
      ]
     },
     "metadata": {},
     "output_type": "display_data"
    },
    {
     "name": "stdout",
     "output_type": "stream",
     "text": [
      "Number of distinct assignment combinations practically too large. Running 87 simulated permutations\n"
     ]
    },
    {
     "data": {
      "application/vnd.jupyter.widget-view+json": {
       "model_id": "45f1bb53eee6497b9eb1cea8a91cb461",
       "version_major": 2,
       "version_minor": 0
      },
      "text/plain": [
       "  0%|          | 0/87 [00:00<?, ?it/s]"
      ]
     },
     "metadata": {},
     "output_type": "display_data"
    },
    {
     "name": "stdout",
     "output_type": "stream",
     "text": [
      "Number of distinct assignment combinations practically too large. Running 89 simulated permutations\n"
     ]
    },
    {
     "data": {
      "application/vnd.jupyter.widget-view+json": {
       "model_id": "4964146d88734056b43e4dd9daa4b5ea",
       "version_major": 2,
       "version_minor": 0
      },
      "text/plain": [
       "  0%|          | 0/89 [00:00<?, ?it/s]"
      ]
     },
     "metadata": {},
     "output_type": "display_data"
    },
    {
     "name": "stdout",
     "output_type": "stream",
     "text": [
      "Number of distinct assignment combinations practically too large. Running 88 simulated permutations\n",
      "Number of distinct assignment combinations practically too large. Running 90 simulated permutations\n"
     ]
    },
    {
     "data": {
      "application/vnd.jupyter.widget-view+json": {
       "model_id": "fd1ca4e978b84926bf6496f48413b2f4",
       "version_major": 2,
       "version_minor": 0
      },
      "text/plain": [
       "  0%|          | 0/88 [00:00<?, ?it/s]"
      ]
     },
     "metadata": {},
     "output_type": "display_data"
    },
    {
     "data": {
      "application/vnd.jupyter.widget-view+json": {
       "model_id": "621597fbfe9846fbb2bdf66d10738d68",
       "version_major": 2,
       "version_minor": 0
      },
      "text/plain": [
       "  0%|          | 0/90 [00:00<?, ?it/s]"
      ]
     },
     "metadata": {},
     "output_type": "display_data"
    },
    {
     "name": "stdout",
     "output_type": "stream",
     "text": [
      "Number of distinct assignment combinations practically too large. Running 91 simulated permutations\n"
     ]
    },
    {
     "data": {
      "application/vnd.jupyter.widget-view+json": {
       "model_id": "a42db794a5bb4297885a02cd606554a6",
       "version_major": 2,
       "version_minor": 0
      },
      "text/plain": [
       "  0%|          | 0/91 [00:00<?, ?it/s]"
      ]
     },
     "metadata": {},
     "output_type": "display_data"
    },
    {
     "name": "stdout",
     "output_type": "stream",
     "text": [
      "Number of distinct assignment combinations practically too large. Running 92 simulated permutations\n"
     ]
    },
    {
     "data": {
      "application/vnd.jupyter.widget-view+json": {
       "model_id": "238e0157d87744e9994eab2fdb23f102",
       "version_major": 2,
       "version_minor": 0
      },
      "text/plain": [
       "  0%|          | 0/92 [00:00<?, ?it/s]"
      ]
     },
     "metadata": {},
     "output_type": "display_data"
    },
    {
     "name": "stdout",
     "output_type": "stream",
     "text": [
      "Number of distinct assignment combinations practically too large. Running 94 simulated permutations\n",
      "Number of distinct assignment combinations practically too large. Running 93 simulated permutations\n"
     ]
    },
    {
     "data": {
      "application/vnd.jupyter.widget-view+json": {
       "model_id": "3b5fa9b84e304e95968d6f0051f1f94a",
       "version_major": 2,
       "version_minor": 0
      },
      "text/plain": [
       "  0%|          | 0/94 [00:00<?, ?it/s]"
      ]
     },
     "metadata": {},
     "output_type": "display_data"
    },
    {
     "data": {
      "application/vnd.jupyter.widget-view+json": {
       "model_id": "6e96bf98dd1d4af5acdc5336488a05c5",
       "version_major": 2,
       "version_minor": 0
      },
      "text/plain": [
       "  0%|          | 0/93 [00:00<?, ?it/s]"
      ]
     },
     "metadata": {},
     "output_type": "display_data"
    },
    {
     "name": "stdout",
     "output_type": "stream",
     "text": [
      "Number of distinct assignment combinations practically too large. Running 95 simulated permutations\n"
     ]
    },
    {
     "data": {
      "application/vnd.jupyter.widget-view+json": {
       "model_id": "1cb43a1a3f314277832381a71e9f4758",
       "version_major": 2,
       "version_minor": 0
      },
      "text/plain": [
       "  0%|          | 0/95 [00:00<?, ?it/s]"
      ]
     },
     "metadata": {},
     "output_type": "display_data"
    },
    {
     "name": "stdout",
     "output_type": "stream",
     "text": [
      "Number of distinct assignment combinations practically too large. Running 96 simulated permutations\n"
     ]
    },
    {
     "data": {
      "application/vnd.jupyter.widget-view+json": {
       "model_id": "885410089074408fae9975212e60d065",
       "version_major": 2,
       "version_minor": 0
      },
      "text/plain": [
       "  0%|          | 0/96 [00:00<?, ?it/s]"
      ]
     },
     "metadata": {},
     "output_type": "display_data"
    },
    {
     "name": "stdout",
     "output_type": "stream",
     "text": [
      "Number of distinct assignment combinations practically too large. Running 97 simulated permutations\n",
      "Number of distinct assignment combinations practically too large. Running 98 simulated permutations\n"
     ]
    },
    {
     "data": {
      "application/vnd.jupyter.widget-view+json": {
       "model_id": "772459bd8e3a4ceeb635d1919126569e",
       "version_major": 2,
       "version_minor": 0
      },
      "text/plain": [
       "  0%|          | 0/97 [00:00<?, ?it/s]"
      ]
     },
     "metadata": {},
     "output_type": "display_data"
    },
    {
     "data": {
      "application/vnd.jupyter.widget-view+json": {
       "model_id": "7b43d02fc3a7415bbe48c24db1f9a798",
       "version_major": 2,
       "version_minor": 0
      },
      "text/plain": [
       "  0%|          | 0/98 [00:00<?, ?it/s]"
      ]
     },
     "metadata": {},
     "output_type": "display_data"
    },
    {
     "name": "stdout",
     "output_type": "stream",
     "text": [
      "Number of distinct assignment combinations practically too large. Running 99 simulated permutations\n"
     ]
    },
    {
     "data": {
      "application/vnd.jupyter.widget-view+json": {
       "model_id": "6dcd4071914a4e7992854c8366947e39",
       "version_major": 2,
       "version_minor": 0
      },
      "text/plain": [
       "  0%|          | 0/99 [00:00<?, ?it/s]"
      ]
     },
     "metadata": {},
     "output_type": "display_data"
    }
   ],
   "source": [
    "with multiprocess.Pool(processes=multiprocess.cpu_count()) as pool:\n",
    "    # func_ = partial(ri_1.run_randomization_inference, **{'df_': df_sample,\n",
    "    #                               'test_statistic_function': test_statistic_function,\n",
    "    #                               'treatment_assignment_probability': 0.5,\n",
    "    #                               'sample_with_replacement': sample_with_replacement})\n",
    "    func_ = partial(ri_1.run_randomization_inference, **arg_dict)\n",
    "    res_object = pool.imap(func_, list(range(num_permutations)))\n",
    "    # print(res_object)\n",
    "    res_vals = list(res_object)"
   ]
  },
  {
   "cell_type": "code",
   "execution_count": 178,
   "id": "29422974-5a93-478b-a9ed-992095c1403c",
   "metadata": {},
   "outputs": [],
   "source": [
    "sim_dict = dict(ChainMap(*res_vals))"
   ]
  },
  {
   "cell_type": "code",
   "execution_count": 179,
   "id": "bd1ba715-f2b3-466f-ac65-fdcd10b814a7",
   "metadata": {},
   "outputs": [
    {
     "data": {
      "text/plain": [
       "{0: 8.4246201808,\n",
       " 1: 5.5916056998,\n",
       " 2: 1.7822437512,\n",
       " 3: 4.5584281049,\n",
       " 4: -4.1220582063,\n",
       " 5: -0.3992215615,\n",
       " 6: 2.6518268806,\n",
       " 7: 2.2356863475,\n",
       " 8: 1.5234134074,\n",
       " 9: -2.2217767406,\n",
       " 10: -6.4746536116,\n",
       " 11: 2.3559794877,\n",
       " 12: 10.8690044989,\n",
       " 13: 4.5436844433,\n",
       " 14: -3.5394973357,\n",
       " 15: -8.384766766,\n",
       " 16: -5.076882556,\n",
       " 17: 7.1402591503,\n",
       " 18: 0.8902870385,\n",
       " 19: 5.1959202907,\n",
       " 20: 4.1585964777,\n",
       " 21: -2.272961433,\n",
       " 22: -5.4792052759,\n",
       " 23: 4.2178680927,\n",
       " 24: 2.086103032,\n",
       " 25: -1.0057101469,\n",
       " 26: 11.5763667475,\n",
       " 27: 3.444981975,\n",
       " 28: 3.0101561624,\n",
       " 29: 0.9590780351,\n",
       " 30: 0.2826809089,\n",
       " 31: 2.637683749,\n",
       " 32: 8.2425553907,\n",
       " 33: 1.7094957902,\n",
       " 34: 0.2139975746,\n",
       " 35: 2.2283177486,\n",
       " 36: -1.5430428429,\n",
       " 37: 4.4029936203,\n",
       " 38: -4.277483487,\n",
       " 39: 2.7791543689,\n",
       " 40: 11.3656834875,\n",
       " 41: -0.9550760994,\n",
       " 42: -10.4530516777,\n",
       " 43: 7.7173173951,\n",
       " 44: -0.2933062631,\n",
       " 45: 9.4137736673,\n",
       " 46: -2.5811873614,\n",
       " 47: -1.2000107012,\n",
       " 48: 5.9581025002,\n",
       " 49: 1.9647813763,\n",
       " 50: 1.324148518,\n",
       " 51: 0.7385976731,\n",
       " 52: -2.5702804493,\n",
       " 53: -2.3968897001,\n",
       " 54: 5.7129993501,\n",
       " 55: -1.7365441795,\n",
       " 56: 2.3690132442,\n",
       " 57: -4.4719162962,\n",
       " 58: 0.8179066656,\n",
       " 59: -0.0775589736,\n",
       " 60: -3.3414415064,\n",
       " 61: -7.927668306,\n",
       " 62: -2.9335782959,\n",
       " 63: 9.8537951058,\n",
       " 64: 3.0844085648,\n",
       " 65: -0.50758726,\n",
       " 66: -1.4734833116,\n",
       " 67: -5.6231820747,\n",
       " 68: 3.6037580294,\n",
       " 69: -4.2363664835,\n",
       " 70: -11.7099840026,\n",
       " 71: -1.198467006,\n",
       " 72: -3.1721778144,\n",
       " 73: 15.9651288169,\n",
       " 74: 5.1152638016,\n",
       " 75: -3.3773827127,\n",
       " 76: 0.5364703753,\n",
       " 77: -0.545991322,\n",
       " 78: 2.4268744109,\n",
       " 79: 10.2645839552,\n",
       " 80: 8.0770530636,\n",
       " 81: 7.1406889205,\n",
       " 82: 6.3669193374,\n",
       " 83: 5.8182892975,\n",
       " 84: -1.4648363997,\n",
       " 85: -6.1295814588,\n",
       " 86: 13.5966877308,\n",
       " 87: 2.8340760952,\n",
       " 88: 5.0479842734,\n",
       " 89: -2.1692786737,\n",
       " 90: -4.6060925307,\n",
       " 91: -5.7464380328,\n",
       " 92: 0.0548798442,\n",
       " 93: 2.4548868295,\n",
       " 94: -7.4940087097,\n",
       " 95: 1.296874491,\n",
       " 96: 5.9301245016,\n",
       " 97: 3.3462208721,\n",
       " 98: -9.4009175506}"
      ]
     },
     "execution_count": 179,
     "metadata": {},
     "output_type": "execute_result"
    }
   ],
   "source": [
    "sim_dict"
   ]
  },
  {
   "cell_type": "code",
   "execution_count": 168,
   "id": "e1cee22b-e12a-4ec2-a3d8-c00dd8adaf76",
   "metadata": {},
   "outputs": [
    {
     "name": "stdout",
     "output_type": "stream",
     "text": [
      "0.5\n",
      "<class 'float'>\n",
      "Number of distinct assignment combinations practically too large. Running 1 simulated permutations\n"
     ]
    },
    {
     "data": {
      "application/vnd.jupyter.widget-view+json": {
       "model_id": "514526851c2c4651bb0b80cfe6f93d1a",
       "version_major": 2,
       "version_minor": 0
      },
      "text/plain": [
       "  0%|          | 0/1 [00:00<?, ?it/s]"
      ]
     },
     "metadata": {},
     "output_type": "display_data"
    },
    {
     "data": {
      "text/plain": [
       "{0: -3.8673990957}"
      ]
     },
     "execution_count": 168,
     "metadata": {},
     "output_type": "execute_result"
    }
   ],
   "source": [
    "func_(num_perms=1)"
   ]
  },
  {
   "cell_type": "code",
   "execution_count": 106,
   "id": "4e7d0bc0-7419-4c08-8be4-7cefff890c92",
   "metadata": {},
   "outputs": [
    {
     "ename": "KeyboardInterrupt",
     "evalue": "",
     "output_type": "error",
     "traceback": [
      "\u001b[0;31m---------------------------------------------------------------------------\u001b[0m",
      "\u001b[0;31mIndexError\u001b[0m                                Traceback (most recent call last)",
      "File \u001b[0;32m~/miniconda3/envs/causal_ml_py39/lib/python3.9/site-packages/multiprocess/pool.py:853\u001b[0m, in \u001b[0;36mIMapIterator.next\u001b[0;34m(self, timeout)\u001b[0m\n\u001b[1;32m    852\u001b[0m \u001b[38;5;28;01mtry\u001b[39;00m:\n\u001b[0;32m--> 853\u001b[0m     item \u001b[38;5;241m=\u001b[39m \u001b[38;5;28;43mself\u001b[39;49m\u001b[38;5;241;43m.\u001b[39;49m\u001b[43m_items\u001b[49m\u001b[38;5;241;43m.\u001b[39;49m\u001b[43mpopleft\u001b[49m\u001b[43m(\u001b[49m\u001b[43m)\u001b[49m\n\u001b[1;32m    854\u001b[0m \u001b[38;5;28;01mexcept\u001b[39;00m \u001b[38;5;167;01mIndexError\u001b[39;00m:\n",
      "\u001b[0;31mIndexError\u001b[0m: pop from an empty deque",
      "\nDuring handling of the above exception, another exception occurred:\n",
      "\u001b[0;31mKeyboardInterrupt\u001b[0m                         Traceback (most recent call last)",
      "Cell \u001b[0;32mIn[106], line 1\u001b[0m\n\u001b[0;32m----> 1\u001b[0m \u001b[43mres_object\u001b[49m\u001b[38;5;241;43m.\u001b[39;49m\u001b[43mnext\u001b[49m\u001b[43m(\u001b[49m\u001b[43m)\u001b[49m\n",
      "File \u001b[0;32m~/miniconda3/envs/causal_ml_py39/lib/python3.9/site-packages/multiprocess/pool.py:858\u001b[0m, in \u001b[0;36mIMapIterator.next\u001b[0;34m(self, timeout)\u001b[0m\n\u001b[1;32m    856\u001b[0m     \u001b[38;5;28mself\u001b[39m\u001b[38;5;241m.\u001b[39m_pool \u001b[38;5;241m=\u001b[39m \u001b[38;5;28;01mNone\u001b[39;00m\n\u001b[1;32m    857\u001b[0m     \u001b[38;5;28;01mraise\u001b[39;00m \u001b[38;5;167;01mStopIteration\u001b[39;00m \u001b[38;5;28;01mfrom\u001b[39;00m \u001b[38;5;28mNone\u001b[39m\n\u001b[0;32m--> 858\u001b[0m \u001b[38;5;28;43mself\u001b[39;49m\u001b[38;5;241;43m.\u001b[39;49m\u001b[43m_cond\u001b[49m\u001b[38;5;241;43m.\u001b[39;49m\u001b[43mwait\u001b[49m\u001b[43m(\u001b[49m\u001b[43mtimeout\u001b[49m\u001b[43m)\u001b[49m\n\u001b[1;32m    859\u001b[0m \u001b[38;5;28;01mtry\u001b[39;00m:\n\u001b[1;32m    860\u001b[0m     item \u001b[38;5;241m=\u001b[39m \u001b[38;5;28mself\u001b[39m\u001b[38;5;241m.\u001b[39m_items\u001b[38;5;241m.\u001b[39mpopleft()\n",
      "File \u001b[0;32m~/miniconda3/envs/causal_ml_py39/lib/python3.9/threading.py:312\u001b[0m, in \u001b[0;36mCondition.wait\u001b[0;34m(self, timeout)\u001b[0m\n\u001b[1;32m    310\u001b[0m \u001b[38;5;28;01mtry\u001b[39;00m:    \u001b[38;5;66;03m# restore state no matter what (e.g., KeyboardInterrupt)\u001b[39;00m\n\u001b[1;32m    311\u001b[0m     \u001b[38;5;28;01mif\u001b[39;00m timeout \u001b[38;5;129;01mis\u001b[39;00m \u001b[38;5;28;01mNone\u001b[39;00m:\n\u001b[0;32m--> 312\u001b[0m         \u001b[43mwaiter\u001b[49m\u001b[38;5;241;43m.\u001b[39;49m\u001b[43macquire\u001b[49m\u001b[43m(\u001b[49m\u001b[43m)\u001b[49m\n\u001b[1;32m    313\u001b[0m         gotit \u001b[38;5;241m=\u001b[39m \u001b[38;5;28;01mTrue\u001b[39;00m\n\u001b[1;32m    314\u001b[0m     \u001b[38;5;28;01melse\u001b[39;00m:\n",
      "\u001b[0;31mKeyboardInterrupt\u001b[0m: "
     ]
    }
   ],
   "source": [
    "res_object.next()"
   ]
  },
  {
   "cell_type": "code",
   "execution_count": 54,
   "id": "c0377828-d2c7-4e8a-b76e-79ea2cdf5600",
   "metadata": {},
   "outputs": [
    {
     "name": "stdout",
     "output_type": "stream",
     "text": [
      "33.7 s ± 190 ms per loop (mean ± std. dev. of 7 runs, 1 loop each)\n"
     ]
    }
   ],
   "source": [
    "%timeit for i in range(10000): stats.binom.rvs(n=1, p=0.5, size=200000)"
   ]
  },
  {
   "cell_type": "code",
   "execution_count": 55,
   "id": "bc53c329-232b-49ce-9bec-224ce1c9c69e",
   "metadata": {},
   "outputs": [
    {
     "name": "stdout",
     "output_type": "stream",
     "text": [
      "31.5 s ± 30.5 ms per loop (mean ± std. dev. of 7 runs, 1 loop each)\n"
     ]
    }
   ],
   "source": [
    "%timeit for i in range(10000): np.random.binomial(n=1, p=0.5, size=200000)"
   ]
  },
  {
   "cell_type": "code",
   "execution_count": 45,
   "id": "e1c10e83-1c1d-40fd-aa5e-135d7bdb7563",
   "metadata": {},
   "outputs": [
    {
     "name": "stdout",
     "output_type": "stream",
     "text": [
      "70.7 ms ± 543 µs per loop (mean ± std. dev. of 7 runs, 10 loops each)\n"
     ]
    }
   ],
   "source": [
    "%timeit for i in range(100): np.random.multinomial(n=1, pvals=[0.5], size=200000)"
   ]
  },
  {
   "cell_type": "code",
   "execution_count": 50,
   "id": "2b5badce-b22c-4acc-b95f-a4941b74a730",
   "metadata": {},
   "outputs": [],
   "source": [
    "test_ = np.random.multinomial(n=20, pvals=[0.5], size=1)"
   ]
  },
  {
   "cell_type": "code",
   "execution_count": 51,
   "id": "c3b459bd-33f5-42ad-8fa5-1712586d4624",
   "metadata": {},
   "outputs": [
    {
     "data": {
      "text/plain": [
       "array([[20]])"
      ]
     },
     "execution_count": 51,
     "metadata": {},
     "output_type": "execute_result"
    }
   ],
   "source": [
    "test_"
   ]
  },
  {
   "cell_type": "code",
   "execution_count": 73,
   "id": "e7ae341a-2ef5-44bf-b782-c709cdee736d",
   "metadata": {},
   "outputs": [
    {
     "name": "stdout",
     "output_type": "stream",
     "text": [
      "CPU times: user 32.7 s, sys: 602 ms, total: 33.4 s\n",
      "Wall time: 33.5 s\n"
     ]
    }
   ],
   "source": [
    "%%time\n",
    "for i in range(10000): \n",
    "    stats.binom.rvs(n=1, p=0.5, size=200000)"
   ]
  },
  {
   "cell_type": "code",
   "execution_count": 74,
   "id": "ef12880e-4324-4d47-940b-e852f2cea54f",
   "metadata": {},
   "outputs": [
    {
     "name": "stdout",
     "output_type": "stream",
     "text": [
      "CPU times: user 47.9 s, sys: 282 ms, total: 48.2 s\n",
      "Wall time: 48.7 s\n"
     ]
    }
   ],
   "source": [
    "%%time\n",
    "for i in range(10000):\n",
    "    test_mn = np.random.multinomial(n=200000, pvals=[0.5, 0.5])\n",
    "    assignments_ = [0]*test_mn[0] + [1]*test_mn[1]\n",
    "    np.random.shuffle(assignments_)"
   ]
  },
  {
   "cell_type": "code",
   "execution_count": 77,
   "id": "dc90778d-d686-4957-840f-1e87717df342",
   "metadata": {},
   "outputs": [
    {
     "name": "stdout",
     "output_type": "stream",
     "text": [
      "CPU times: user 40.9 s, sys: 1.1 s, total: 42 s\n",
      "Wall time: 42.2 s\n"
     ]
    }
   ],
   "source": [
    "%%time\n",
    "for i in range(10000):\n",
    "    np.random.choice([0, 1], size=(200000,), p=[0.5, 0.5])"
   ]
  },
  {
   "cell_type": "code",
   "execution_count": 68,
   "id": "27e3ba26-fc65-4b2a-885a-a49132125beb",
   "metadata": {},
   "outputs": [
    {
     "data": {
      "text/plain": [
       "200000"
      ]
     },
     "execution_count": 68,
     "metadata": {},
     "output_type": "execute_result"
    }
   ],
   "source": [
    "len(assignments_)"
   ]
  },
  {
   "cell_type": "code",
   "execution_count": 84,
   "id": "86d8e975-1db5-4f1e-95fe-3268f582a9fe",
   "metadata": {},
   "outputs": [],
   "source": [
    "from collections import ChainMap"
   ]
  },
  {
   "cell_type": "code",
   "execution_count": 81,
   "id": "5f8e0617-84cd-4645-b202-be53fcb7de83",
   "metadata": {},
   "outputs": [],
   "source": [
    "def run_assignment_test(iteration_):\n",
    "    assignment_list = stats.binom.rvs(n=1, p=0.5, size=200000)\n",
    "    return {iteration_: assignment_list}"
   ]
  },
  {
   "cell_type": "code",
   "execution_count": 82,
   "id": "fcf99d30-33d5-4cda-ae88-aa7e2fe2c5dc",
   "metadata": {},
   "outputs": [
    {
     "data": {
      "application/vnd.jupyter.widget-view+json": {
       "model_id": "1278f96af0014ac6b6df7ce0ab584989",
       "version_major": 2,
       "version_minor": 0
      },
      "text/plain": [
       "  0%|          | 0/10000 [00:00<?, ?it/s]"
      ]
     },
     "metadata": {},
     "output_type": "display_data"
    }
   ],
   "source": [
    "# This was crazy fast\n",
    "with multiprocess.Pool(processes=multiprocess.cpu_count()) as pool:\n",
    "    res_object = tqdm(pool.imap(run_assignment_test, list(range(10000))), total=10000, mininterval=1)\n",
    "    res_vals = list(res_object)"
   ]
  },
  {
   "cell_type": "code",
   "execution_count": 85,
   "id": "fba4f48c-b8f7-4e6e-8877-ecf84c702eb9",
   "metadata": {},
   "outputs": [],
   "source": [
    "res_dict = dict(ChainMap(*res_vals))"
   ]
  },
  {
   "cell_type": "code",
   "execution_count": 86,
   "id": "978d969a-00c2-4b88-aed7-adebf79f5994",
   "metadata": {},
   "outputs": [
    {
     "data": {
      "text/plain": [
       "array([0, 0, 1, ..., 1, 1, 0])"
      ]
     },
     "execution_count": 86,
     "metadata": {},
     "output_type": "execute_result"
    }
   ],
   "source": [
    "res_dict[0]"
   ]
  },
  {
   "cell_type": "code",
   "execution_count": null,
   "id": "44e04b4b-46f9-4b9d-8bef-a2201acadb4b",
   "metadata": {},
   "outputs": [],
   "source": []
  }
 ],
 "metadata": {
  "kernelspec": {
   "display_name": "Python [conda env:causal_ml_py39]",
   "language": "python",
   "name": "conda-env-causal_ml_py39-py"
  },
  "language_info": {
   "codemirror_mode": {
    "name": "ipython",
    "version": 3
   },
   "file_extension": ".py",
   "mimetype": "text/x-python",
   "name": "python",
   "nbconvert_exporter": "python",
   "pygments_lexer": "ipython3",
   "version": "3.9.16"
  }
 },
 "nbformat": 4,
 "nbformat_minor": 5
}
