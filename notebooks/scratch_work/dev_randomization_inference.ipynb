{
 "cells": [
  {
   "cell_type": "markdown",
   "id": "9d94b0ed-8c63-4eec-a646-2262add9ec69",
   "metadata": {},
   "source": [
    "Randomization inference is probably the way we want to go in order to handle very skewed distributions of continuous metrics.  We need to be able to supply the following functionality:\n",
    "\n",
    "1. Generic randomization inference for any scalar test statistic\n",
    "\n",
    "2. A selection of pre-built test statistics along with documentation about what they mean and when you might want to use them\n",
    "\n",
    "3. A method for doing hypothetical assignment, or supplying your own function (we may want to scale this up at some point to have some pre-built functions). We'll focus on binary assignment for now (i.e. only two variants), and we'll work to generalize this later.\n",
    "\n",
    "4. Power analysis. This is relatively easy, but we need a way to do run time estimations as well"
   ]
  },
  {
   "cell_type": "code",
   "execution_count": 3,
   "id": "d3811b02-c941-4e82-bee9-58a355ac859e",
   "metadata": {
    "tags": []
   },
   "outputs": [],
   "source": [
    "import os\n",
    "import sys\n",
    "import numpy as np\n",
    "import pandas as pd\n",
    "import scipy.stats as stats\n",
    "import matplotlib.pyplot as plt\n",
    "%matplotlib inline\n",
    "import seaborn as sns\n",
    "import scipy \n",
    "\n",
    "from matplotlib import style\n",
    "from tqdm.auto import tqdm"
   ]
  },
  {
   "cell_type": "code",
   "execution_count": 4,
   "id": "abd66597-92b7-4698-8aa5-e13012f0d554",
   "metadata": {
    "tags": []
   },
   "outputs": [],
   "source": [
    "# Set pandas preferences\n",
    "pd.options.display.max_columns=500\n",
    "pd.options.display.max_colwidth=500\n",
    "pd.options.display.max_rows=500"
   ]
  },
  {
   "cell_type": "code",
   "execution_count": 5,
   "id": "61133646-b5eb-4648-8e13-b79c1c04267c",
   "metadata": {
    "tags": []
   },
   "outputs": [],
   "source": [
    "# Set plot style\n",
    "style.use(\"fivethirtyeight\")"
   ]
  },
  {
   "cell_type": "code",
   "execution_count": 6,
   "id": "bb55e1c5-e0a1-4510-9f6e-d4d40d249439",
   "metadata": {
    "tags": []
   },
   "outputs": [],
   "source": [
    "# Initialize tqdm for pandas\n",
    "tqdm.pandas()"
   ]
  },
  {
   "cell_type": "code",
   "execution_count": 7,
   "id": "0b61ad14-4355-4f79-8153-da4e8bfb4c66",
   "metadata": {
    "tags": []
   },
   "outputs": [],
   "source": [
    "# Example dataset: from https://www.franciscoyira.com/post/randomization-inference-causal-mixtape/"
   ]
  },
  {
   "cell_type": "code",
   "execution_count": 8,
   "id": "46aad085-5687-46bb-bdca-b40e0d89bc68",
   "metadata": {
    "tags": []
   },
   "outputs": [],
   "source": [
    "name_list = ['Andy', 'Ben', 'Chad', 'Daniel', 'Edith', 'Frank', 'George', 'Hank']\n",
    "d_list = [1,1,1,1,0,0,0,0]\n",
    "y_list = [10,5,16,3,5,7,8,10]\n",
    "y0_list = [np.nan, np.nan, np.nan, np.nan, 5, 7, 8, 10]\n",
    "y1_list = [10,5,16,3,np.nan,np.nan,np.nan,np.nan]\n",
    "id_unit_list = [1,2,3,4,5,6,7,8]"
   ]
  },
  {
   "cell_type": "code",
   "execution_count": 9,
   "id": "8e82a843-b0cc-407d-82e1-7f1cf080b02a",
   "metadata": {
    "tags": []
   },
   "outputs": [],
   "source": [
    "df = pd.DataFrame()\n",
    "df['name'] = name_list\n",
    "df['d'] = d_list\n",
    "df['y'] = y_list\n",
    "df['y0'] = y0_list\n",
    "df['y1'] = y1_list\n",
    "df['id_unit'] = id_unit_list"
   ]
  },
  {
   "cell_type": "code",
   "execution_count": 10,
   "id": "5c449232-369b-41d1-a7d6-b574b8413ae3",
   "metadata": {
    "tags": []
   },
   "outputs": [
    {
     "data": {
      "text/html": [
       "<div>\n",
       "<style scoped>\n",
       "    .dataframe tbody tr th:only-of-type {\n",
       "        vertical-align: middle;\n",
       "    }\n",
       "\n",
       "    .dataframe tbody tr th {\n",
       "        vertical-align: top;\n",
       "    }\n",
       "\n",
       "    .dataframe thead th {\n",
       "        text-align: right;\n",
       "    }\n",
       "</style>\n",
       "<table border=\"1\" class=\"dataframe\">\n",
       "  <thead>\n",
       "    <tr style=\"text-align: right;\">\n",
       "      <th></th>\n",
       "      <th>name</th>\n",
       "      <th>d</th>\n",
       "      <th>y</th>\n",
       "      <th>y0</th>\n",
       "      <th>y1</th>\n",
       "      <th>id_unit</th>\n",
       "    </tr>\n",
       "  </thead>\n",
       "  <tbody>\n",
       "    <tr>\n",
       "      <th>0</th>\n",
       "      <td>Andy</td>\n",
       "      <td>1</td>\n",
       "      <td>10</td>\n",
       "      <td>NaN</td>\n",
       "      <td>10.0</td>\n",
       "      <td>1</td>\n",
       "    </tr>\n",
       "    <tr>\n",
       "      <th>1</th>\n",
       "      <td>Ben</td>\n",
       "      <td>1</td>\n",
       "      <td>5</td>\n",
       "      <td>NaN</td>\n",
       "      <td>5.0</td>\n",
       "      <td>2</td>\n",
       "    </tr>\n",
       "    <tr>\n",
       "      <th>2</th>\n",
       "      <td>Chad</td>\n",
       "      <td>1</td>\n",
       "      <td>16</td>\n",
       "      <td>NaN</td>\n",
       "      <td>16.0</td>\n",
       "      <td>3</td>\n",
       "    </tr>\n",
       "    <tr>\n",
       "      <th>3</th>\n",
       "      <td>Daniel</td>\n",
       "      <td>1</td>\n",
       "      <td>3</td>\n",
       "      <td>NaN</td>\n",
       "      <td>3.0</td>\n",
       "      <td>4</td>\n",
       "    </tr>\n",
       "    <tr>\n",
       "      <th>4</th>\n",
       "      <td>Edith</td>\n",
       "      <td>0</td>\n",
       "      <td>5</td>\n",
       "      <td>5.0</td>\n",
       "      <td>NaN</td>\n",
       "      <td>5</td>\n",
       "    </tr>\n",
       "    <tr>\n",
       "      <th>5</th>\n",
       "      <td>Frank</td>\n",
       "      <td>0</td>\n",
       "      <td>7</td>\n",
       "      <td>7.0</td>\n",
       "      <td>NaN</td>\n",
       "      <td>6</td>\n",
       "    </tr>\n",
       "    <tr>\n",
       "      <th>6</th>\n",
       "      <td>George</td>\n",
       "      <td>0</td>\n",
       "      <td>8</td>\n",
       "      <td>8.0</td>\n",
       "      <td>NaN</td>\n",
       "      <td>7</td>\n",
       "    </tr>\n",
       "    <tr>\n",
       "      <th>7</th>\n",
       "      <td>Hank</td>\n",
       "      <td>0</td>\n",
       "      <td>10</td>\n",
       "      <td>10.0</td>\n",
       "      <td>NaN</td>\n",
       "      <td>8</td>\n",
       "    </tr>\n",
       "  </tbody>\n",
       "</table>\n",
       "</div>"
      ],
      "text/plain": [
       "     name  d   y    y0    y1  id_unit\n",
       "0    Andy  1  10   NaN  10.0        1\n",
       "1     Ben  1   5   NaN   5.0        2\n",
       "2    Chad  1  16   NaN  16.0        3\n",
       "3  Daniel  1   3   NaN   3.0        4\n",
       "4   Edith  0   5   5.0   NaN        5\n",
       "5   Frank  0   7   7.0   NaN        6\n",
       "6  George  0   8   8.0   NaN        7\n",
       "7    Hank  0  10  10.0   NaN        8"
      ]
     },
     "execution_count": 10,
     "metadata": {},
     "output_type": "execute_result"
    }
   ],
   "source": [
    "df"
   ]
  },
  {
   "cell_type": "code",
   "execution_count": null,
   "id": "4070882c-9fae-48d1-9270-895dd1f5a03c",
   "metadata": {},
   "outputs": [],
   "source": [
    "ri_test_statistic_difference_in_means(df, outcome_col, treatment_col):\n",
    "    \n",
    "    sdo = df.query()"
   ]
  },
  {
   "cell_type": "code",
   "execution_count": null,
   "id": "9a72216b-a32d-4135-b849-94ea3ac9b637",
   "metadata": {},
   "outputs": [],
   "source": [
    "class RandomizationInference:\n",
    "    \n",
    "    def __init__(self, df, sharp_null, test_statistic, outcome_column_name='y', treatment_column_name='d', treatment_name=1, control_name=0, num_permutations=1000):\n",
    "        self.df = df\n",
    "        self.sharp_null = sharp_null\n",
    "        self.test_statistic = test_statistic\n",
    "        self.outcome_column_name = outcome_column_name\n",
    "        self.treatment_column_name = treatment_column_name\n",
    "        self.treatment_name = treatment_name\n",
    "        self.control_na\n",
    "        self.num_permutations = num_permutations\n",
    "    \n",
    "    "
   ]
  }
 ],
 "metadata": {
  "kernelspec": {
   "display_name": "Python [conda env:causal_ml_py39] *",
   "language": "python",
   "name": "conda-env-causal_ml_py39-py"
  },
  "language_info": {
   "codemirror_mode": {
    "name": "ipython",
    "version": 3
   },
   "file_extension": ".py",
   "mimetype": "text/x-python",
   "name": "python",
   "nbconvert_exporter": "python",
   "pygments_lexer": "ipython3",
   "version": "3.9.15"
  }
 },
 "nbformat": 4,
 "nbformat_minor": 5
}
