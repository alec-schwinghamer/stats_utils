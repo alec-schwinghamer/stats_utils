{
 "cells": [
  {
   "cell_type": "markdown",
   "id": "9d94b0ed-8c63-4eec-a646-2262add9ec69",
   "metadata": {},
   "source": [
    "Randomization inference is probably the way we want to go in order to handle very skewed distributions of continuous metrics.  We need to be able to supply the following functionality:\n",
    "\n",
    "1. Generic randomization inference for any scalar test statistic\n",
    "\n",
    "2. A selection of pre-built test statistics along with documentation about what they mean and when you might want to use them\n",
    "\n",
    "3. A method for doing hypothetical assignment, or supplying your own function (we may want to scale this up at some point to have some pre-built functions). We'll focus on binary assignment for now (i.e. only two variants), and we'll work to generalize this later.\n",
    "\n",
    "4. Power analysis. This is relatively easy, but we need a way to do run time estimations as well"
   ]
  },
  {
   "cell_type": "code",
   "execution_count": 1,
   "id": "d3811b02-c941-4e82-bee9-58a355ac859e",
   "metadata": {
    "tags": []
   },
   "outputs": [],
   "source": [
    "import os\n",
    "import sys\n",
    "import numpy as np\n",
    "import pandas as pd\n",
    "import scipy.stats as stats\n",
    "import matplotlib.pyplot as plt\n",
    "%matplotlib inline\n",
    "import seaborn as sns\n",
    "import scipy \n",
    "\n",
    "from matplotlib import style\n",
    "from tqdm.auto import tqdm"
   ]
  },
  {
   "cell_type": "code",
   "execution_count": 103,
   "id": "85aad336-204b-4cf9-b494-58f9b3a6e560",
   "metadata": {
    "tags": []
   },
   "outputs": [],
   "source": [
    "# Additional imports \n",
    "from functools import partial\n",
    "import math\n",
    "import itertools\n",
    "from time import gmtime, strftime"
   ]
  },
  {
   "cell_type": "code",
   "execution_count": 3,
   "id": "abd66597-92b7-4698-8aa5-e13012f0d554",
   "metadata": {
    "tags": []
   },
   "outputs": [],
   "source": [
    "# Set pandas preferences\n",
    "pd.options.display.max_columns=500\n",
    "pd.options.display.max_colwidth=500\n",
    "pd.options.display.max_rows=500"
   ]
  },
  {
   "cell_type": "code",
   "execution_count": 4,
   "id": "61133646-b5eb-4648-8e13-b79c1c04267c",
   "metadata": {
    "tags": []
   },
   "outputs": [],
   "source": [
    "# Set plot style\n",
    "style.use(\"fivethirtyeight\")"
   ]
  },
  {
   "cell_type": "code",
   "execution_count": 5,
   "id": "bb55e1c5-e0a1-4510-9f6e-d4d40d249439",
   "metadata": {
    "tags": []
   },
   "outputs": [],
   "source": [
    "# Initialize tqdm for pandas\n",
    "tqdm.pandas()"
   ]
  },
  {
   "cell_type": "code",
   "execution_count": 6,
   "id": "0b61ad14-4355-4f79-8153-da4e8bfb4c66",
   "metadata": {
    "tags": []
   },
   "outputs": [],
   "source": [
    "# Example dataset: from https://www.franciscoyira.com/post/randomization-inference-causal-mixtape/"
   ]
  },
  {
   "cell_type": "code",
   "execution_count": 7,
   "id": "46aad085-5687-46bb-bdca-b40e0d89bc68",
   "metadata": {
    "tags": []
   },
   "outputs": [],
   "source": [
    "name_list = ['Andy', 'Ben', 'Chad', 'Daniel', 'Edith', 'Frank', 'George', 'Hank']\n",
    "d_list = [1,1,1,1,0,0,0,0]\n",
    "y_list = [10,5,16,3,5,7,8,10]\n",
    "y0_list = [np.nan, np.nan, np.nan, np.nan, 5, 7, 8, 10]\n",
    "y1_list = [10,5,16,3,np.nan,np.nan,np.nan,np.nan]\n",
    "id_unit_list = [1,2,3,4,5,6,7,8]"
   ]
  },
  {
   "cell_type": "code",
   "execution_count": 8,
   "id": "8e82a843-b0cc-407d-82e1-7f1cf080b02a",
   "metadata": {
    "tags": []
   },
   "outputs": [],
   "source": [
    "df = pd.DataFrame()\n",
    "df['name'] = name_list\n",
    "df['d'] = d_list\n",
    "df['y'] = y_list\n",
    "df['y0'] = y0_list\n",
    "df['y1'] = y1_list\n",
    "df['id_unit'] = id_unit_list"
   ]
  },
  {
   "cell_type": "code",
   "execution_count": 9,
   "id": "5c449232-369b-41d1-a7d6-b574b8413ae3",
   "metadata": {
    "tags": []
   },
   "outputs": [
    {
     "data": {
      "text/html": [
       "<div>\n",
       "<style scoped>\n",
       "    .dataframe tbody tr th:only-of-type {\n",
       "        vertical-align: middle;\n",
       "    }\n",
       "\n",
       "    .dataframe tbody tr th {\n",
       "        vertical-align: top;\n",
       "    }\n",
       "\n",
       "    .dataframe thead th {\n",
       "        text-align: right;\n",
       "    }\n",
       "</style>\n",
       "<table border=\"1\" class=\"dataframe\">\n",
       "  <thead>\n",
       "    <tr style=\"text-align: right;\">\n",
       "      <th></th>\n",
       "      <th>name</th>\n",
       "      <th>d</th>\n",
       "      <th>y</th>\n",
       "      <th>y0</th>\n",
       "      <th>y1</th>\n",
       "      <th>id_unit</th>\n",
       "    </tr>\n",
       "  </thead>\n",
       "  <tbody>\n",
       "    <tr>\n",
       "      <th>0</th>\n",
       "      <td>Andy</td>\n",
       "      <td>1</td>\n",
       "      <td>10</td>\n",
       "      <td>NaN</td>\n",
       "      <td>10.0</td>\n",
       "      <td>1</td>\n",
       "    </tr>\n",
       "    <tr>\n",
       "      <th>1</th>\n",
       "      <td>Ben</td>\n",
       "      <td>1</td>\n",
       "      <td>5</td>\n",
       "      <td>NaN</td>\n",
       "      <td>5.0</td>\n",
       "      <td>2</td>\n",
       "    </tr>\n",
       "    <tr>\n",
       "      <th>2</th>\n",
       "      <td>Chad</td>\n",
       "      <td>1</td>\n",
       "      <td>16</td>\n",
       "      <td>NaN</td>\n",
       "      <td>16.0</td>\n",
       "      <td>3</td>\n",
       "    </tr>\n",
       "    <tr>\n",
       "      <th>3</th>\n",
       "      <td>Daniel</td>\n",
       "      <td>1</td>\n",
       "      <td>3</td>\n",
       "      <td>NaN</td>\n",
       "      <td>3.0</td>\n",
       "      <td>4</td>\n",
       "    </tr>\n",
       "    <tr>\n",
       "      <th>4</th>\n",
       "      <td>Edith</td>\n",
       "      <td>0</td>\n",
       "      <td>5</td>\n",
       "      <td>5.0</td>\n",
       "      <td>NaN</td>\n",
       "      <td>5</td>\n",
       "    </tr>\n",
       "    <tr>\n",
       "      <th>5</th>\n",
       "      <td>Frank</td>\n",
       "      <td>0</td>\n",
       "      <td>7</td>\n",
       "      <td>7.0</td>\n",
       "      <td>NaN</td>\n",
       "      <td>6</td>\n",
       "    </tr>\n",
       "    <tr>\n",
       "      <th>6</th>\n",
       "      <td>George</td>\n",
       "      <td>0</td>\n",
       "      <td>8</td>\n",
       "      <td>8.0</td>\n",
       "      <td>NaN</td>\n",
       "      <td>7</td>\n",
       "    </tr>\n",
       "    <tr>\n",
       "      <th>7</th>\n",
       "      <td>Hank</td>\n",
       "      <td>0</td>\n",
       "      <td>10</td>\n",
       "      <td>10.0</td>\n",
       "      <td>NaN</td>\n",
       "      <td>8</td>\n",
       "    </tr>\n",
       "  </tbody>\n",
       "</table>\n",
       "</div>"
      ],
      "text/plain": [
       "     name  d   y    y0    y1  id_unit\n",
       "0    Andy  1  10   NaN  10.0        1\n",
       "1     Ben  1   5   NaN   5.0        2\n",
       "2    Chad  1  16   NaN  16.0        3\n",
       "3  Daniel  1   3   NaN   3.0        4\n",
       "4   Edith  0   5   5.0   NaN        5\n",
       "5   Frank  0   7   7.0   NaN        6\n",
       "6  George  0   8   8.0   NaN        7\n",
       "7    Hank  0  10  10.0   NaN        8"
      ]
     },
     "execution_count": 9,
     "metadata": {},
     "output_type": "execute_result"
    }
   ],
   "source": [
    "df"
   ]
  },
  {
   "cell_type": "code",
   "execution_count": 10,
   "id": "eacb6356-6782-4117-b3b6-371345c41e3d",
   "metadata": {
    "tags": []
   },
   "outputs": [
    {
     "data": {
      "text/html": [
       "<div>\n",
       "<style scoped>\n",
       "    .dataframe tbody tr th:only-of-type {\n",
       "        vertical-align: middle;\n",
       "    }\n",
       "\n",
       "    .dataframe tbody tr th {\n",
       "        vertical-align: top;\n",
       "    }\n",
       "\n",
       "    .dataframe thead th {\n",
       "        text-align: right;\n",
       "    }\n",
       "</style>\n",
       "<table border=\"1\" class=\"dataframe\">\n",
       "  <thead>\n",
       "    <tr style=\"text-align: right;\">\n",
       "      <th></th>\n",
       "      <th>name</th>\n",
       "      <th>d</th>\n",
       "      <th>y</th>\n",
       "      <th>y0</th>\n",
       "      <th>y1</th>\n",
       "      <th>id_unit</th>\n",
       "    </tr>\n",
       "  </thead>\n",
       "  <tbody>\n",
       "    <tr>\n",
       "      <th>0</th>\n",
       "      <td>Andy</td>\n",
       "      <td>1</td>\n",
       "      <td>10</td>\n",
       "      <td>NaN</td>\n",
       "      <td>10.0</td>\n",
       "      <td>1</td>\n",
       "    </tr>\n",
       "    <tr>\n",
       "      <th>1</th>\n",
       "      <td>Ben</td>\n",
       "      <td>1</td>\n",
       "      <td>5</td>\n",
       "      <td>NaN</td>\n",
       "      <td>5.0</td>\n",
       "      <td>2</td>\n",
       "    </tr>\n",
       "    <tr>\n",
       "      <th>2</th>\n",
       "      <td>Chad</td>\n",
       "      <td>1</td>\n",
       "      <td>16</td>\n",
       "      <td>NaN</td>\n",
       "      <td>16.0</td>\n",
       "      <td>3</td>\n",
       "    </tr>\n",
       "    <tr>\n",
       "      <th>3</th>\n",
       "      <td>Daniel</td>\n",
       "      <td>1</td>\n",
       "      <td>3</td>\n",
       "      <td>NaN</td>\n",
       "      <td>3.0</td>\n",
       "      <td>4</td>\n",
       "    </tr>\n",
       "    <tr>\n",
       "      <th>4</th>\n",
       "      <td>Edith</td>\n",
       "      <td>0</td>\n",
       "      <td>5</td>\n",
       "      <td>5.0</td>\n",
       "      <td>NaN</td>\n",
       "      <td>5</td>\n",
       "    </tr>\n",
       "  </tbody>\n",
       "</table>\n",
       "</div>"
      ],
      "text/plain": [
       "     name  d   y   y0    y1  id_unit\n",
       "0    Andy  1  10  NaN  10.0        1\n",
       "1     Ben  1   5  NaN   5.0        2\n",
       "2    Chad  1  16  NaN  16.0        3\n",
       "3  Daniel  1   3  NaN   3.0        4\n",
       "4   Edith  0   5  5.0   NaN        5"
      ]
     },
     "execution_count": 10,
     "metadata": {},
     "output_type": "execute_result"
    }
   ],
   "source": [
    "df.head()"
   ]
  },
  {
   "cell_type": "code",
   "execution_count": 11,
   "id": "1a401dcc-94eb-4562-b323-cfca98860e14",
   "metadata": {
    "tags": []
   },
   "outputs": [],
   "source": [
    "df.to_csv('../../../data/test_data_for_ri.csv', index=False)"
   ]
  },
  {
   "cell_type": "code",
   "execution_count": 12,
   "id": "a5777a78-2dc3-4fee-82ba-ca753a2a8cd8",
   "metadata": {
    "tags": []
   },
   "outputs": [],
   "source": [
    "t = \"d\"\n",
    "val = 1"
   ]
  },
  {
   "cell_type": "code",
   "execution_count": 13,
   "id": "3a6647ed-059d-4ba8-8997-f40216a274e6",
   "metadata": {
    "tags": []
   },
   "outputs": [
    {
     "data": {
      "text/html": [
       "<div>\n",
       "<style scoped>\n",
       "    .dataframe tbody tr th:only-of-type {\n",
       "        vertical-align: middle;\n",
       "    }\n",
       "\n",
       "    .dataframe tbody tr th {\n",
       "        vertical-align: top;\n",
       "    }\n",
       "\n",
       "    .dataframe thead th {\n",
       "        text-align: right;\n",
       "    }\n",
       "</style>\n",
       "<table border=\"1\" class=\"dataframe\">\n",
       "  <thead>\n",
       "    <tr style=\"text-align: right;\">\n",
       "      <th></th>\n",
       "      <th>name</th>\n",
       "      <th>d</th>\n",
       "      <th>y</th>\n",
       "      <th>y0</th>\n",
       "      <th>y1</th>\n",
       "      <th>id_unit</th>\n",
       "    </tr>\n",
       "  </thead>\n",
       "  <tbody>\n",
       "    <tr>\n",
       "      <th>0</th>\n",
       "      <td>Andy</td>\n",
       "      <td>1</td>\n",
       "      <td>10</td>\n",
       "      <td>NaN</td>\n",
       "      <td>10.0</td>\n",
       "      <td>1</td>\n",
       "    </tr>\n",
       "    <tr>\n",
       "      <th>1</th>\n",
       "      <td>Ben</td>\n",
       "      <td>1</td>\n",
       "      <td>5</td>\n",
       "      <td>NaN</td>\n",
       "      <td>5.0</td>\n",
       "      <td>2</td>\n",
       "    </tr>\n",
       "    <tr>\n",
       "      <th>2</th>\n",
       "      <td>Chad</td>\n",
       "      <td>1</td>\n",
       "      <td>16</td>\n",
       "      <td>NaN</td>\n",
       "      <td>16.0</td>\n",
       "      <td>3</td>\n",
       "    </tr>\n",
       "    <tr>\n",
       "      <th>3</th>\n",
       "      <td>Daniel</td>\n",
       "      <td>1</td>\n",
       "      <td>3</td>\n",
       "      <td>NaN</td>\n",
       "      <td>3.0</td>\n",
       "      <td>4</td>\n",
       "    </tr>\n",
       "  </tbody>\n",
       "</table>\n",
       "</div>"
      ],
      "text/plain": [
       "     name  d   y  y0    y1  id_unit\n",
       "0    Andy  1  10 NaN  10.0        1\n",
       "1     Ben  1   5 NaN   5.0        2\n",
       "2    Chad  1  16 NaN  16.0        3\n",
       "3  Daniel  1   3 NaN   3.0        4"
      ]
     },
     "execution_count": 13,
     "metadata": {},
     "output_type": "execute_result"
    }
   ],
   "source": [
    "df.query(\"d==1\")"
   ]
  },
  {
   "cell_type": "code",
   "execution_count": 14,
   "id": "3f95696e-256c-4e29-9561-dec70bb511d3",
   "metadata": {
    "tags": []
   },
   "outputs": [
    {
     "data": {
      "text/html": [
       "<div>\n",
       "<style scoped>\n",
       "    .dataframe tbody tr th:only-of-type {\n",
       "        vertical-align: middle;\n",
       "    }\n",
       "\n",
       "    .dataframe tbody tr th {\n",
       "        vertical-align: top;\n",
       "    }\n",
       "\n",
       "    .dataframe thead th {\n",
       "        text-align: right;\n",
       "    }\n",
       "</style>\n",
       "<table border=\"1\" class=\"dataframe\">\n",
       "  <thead>\n",
       "    <tr style=\"text-align: right;\">\n",
       "      <th></th>\n",
       "      <th>name</th>\n",
       "      <th>d</th>\n",
       "      <th>y</th>\n",
       "      <th>y0</th>\n",
       "      <th>y1</th>\n",
       "      <th>id_unit</th>\n",
       "    </tr>\n",
       "  </thead>\n",
       "  <tbody>\n",
       "    <tr>\n",
       "      <th>0</th>\n",
       "      <td>Andy</td>\n",
       "      <td>1</td>\n",
       "      <td>10</td>\n",
       "      <td>NaN</td>\n",
       "      <td>10.0</td>\n",
       "      <td>1</td>\n",
       "    </tr>\n",
       "    <tr>\n",
       "      <th>1</th>\n",
       "      <td>Ben</td>\n",
       "      <td>1</td>\n",
       "      <td>5</td>\n",
       "      <td>NaN</td>\n",
       "      <td>5.0</td>\n",
       "      <td>2</td>\n",
       "    </tr>\n",
       "    <tr>\n",
       "      <th>2</th>\n",
       "      <td>Chad</td>\n",
       "      <td>1</td>\n",
       "      <td>16</td>\n",
       "      <td>NaN</td>\n",
       "      <td>16.0</td>\n",
       "      <td>3</td>\n",
       "    </tr>\n",
       "    <tr>\n",
       "      <th>3</th>\n",
       "      <td>Daniel</td>\n",
       "      <td>1</td>\n",
       "      <td>3</td>\n",
       "      <td>NaN</td>\n",
       "      <td>3.0</td>\n",
       "      <td>4</td>\n",
       "    </tr>\n",
       "  </tbody>\n",
       "</table>\n",
       "</div>"
      ],
      "text/plain": [
       "     name  d   y  y0    y1  id_unit\n",
       "0    Andy  1  10 NaN  10.0        1\n",
       "1     Ben  1   5 NaN   5.0        2\n",
       "2    Chad  1  16 NaN  16.0        3\n",
       "3  Daniel  1   3 NaN   3.0        4"
      ]
     },
     "execution_count": 14,
     "metadata": {},
     "output_type": "execute_result"
    }
   ],
   "source": [
    "df.query(\"{0}==@val\".format(t))"
   ]
  },
  {
   "cell_type": "code",
   "execution_count": 15,
   "id": "4070882c-9fae-48d1-9270-895dd1f5a03c",
   "metadata": {
    "tags": []
   },
   "outputs": [],
   "source": [
    "def ri_test_statistic_difference_in_means(df, outcome_col, treatment_col, treatment_name, control_name):\n",
    "    \n",
    "    sdo = df.query(\"{0}==@treatment_name\".format(treatment_col))[outcome_col].mean(numeric_only=True) - df.query(\"{0}==@control_name\".format(treatment_col))[outcome_col].mean(numeric_only=True)\n",
    "\n",
    "    return sdo"
   ]
  },
  {
   "cell_type": "code",
   "execution_count": 176,
   "id": "0b2b4d2e-4683-4bc5-a31e-c6ec28644a8b",
   "metadata": {
    "tags": []
   },
   "outputs": [],
   "source": [
    "def ri_test_statistic_difference_in_ks(df, outcome_col, treatment_col, treatment_name, control_name, alternative='two-sided'):\n",
    "    \n",
    "    ks_ = stats.ks_2samp(df.query(\"{0}==@treatment_name\".format(treatment_col))[outcome_col].values, df.query(\"{0}==@control_name\".format(treatment_col))[outcome_col].values, alternative=alternative)\n",
    "    \n",
    "    return ks_.statistic"
   ]
  },
  {
   "cell_type": "code",
   "execution_count": 17,
   "id": "8b2c7e11-167d-4c10-946f-1e8279c4d165",
   "metadata": {
    "tags": []
   },
   "outputs": [],
   "source": [
    "def ri_test_statistic_difference_in_quantiles(df, outcome_col, treatment_col, treatment_name, control_name, quantile=0.5):\n",
    "    \n",
    "    q_diff = df.query(\"{0}==@treatment_name\".format(treatment_col))[outcome_col].quantile(q=quantile) - df.query(\"{0}==@control_name\".format(treatment_col))[outcome_col].quantile(q=quantile)\n",
    "    \n",
    "    return q_diff"
   ]
  },
  {
   "cell_type": "markdown",
   "id": "4e3f6bff-05cb-4641-89d3-dcc1ffaf0332",
   "metadata": {},
   "source": [
    "The steps here for analyzing experimental data are:\n",
    "\n",
    "1. Choose a sharp null\n",
    "\n",
    "2. Pick a test statistic\n",
    "\n",
    "3. Select randomization procedure \n",
    "    \n",
    "    a. Run the permutations\n",
    "\n",
    "4. Get the p-values by comparing to the true statistic with the simulated distribution\n",
    "\n",
    "5. Calculate confidence intervals\n",
    "\n",
    "For power analysis:\n",
    "\n",
    "1. Choose a sharp null\n",
    "\n",
    "2. Pick a test statistic\n",
    "\n",
    "3. Select the desired power and confidence level\n",
    "\n",
    "4. compute mme\n",
    "\n",
    "We'll need to run sample size estimation as well, so probably we'll need to sample the historical data and run calculations from there. Then tie the sample sizes back to run times"
   ]
  },
  {
   "cell_type": "code",
   "execution_count": 18,
   "id": "025addcf-1fd9-4075-b187-c90f5fdfccc7",
   "metadata": {},
   "outputs": [],
   "source": [
    "def get_all_combinations(size, treatment_probability):\n",
    "    all_combs = list(itertools.combinations(list(range(size)), int(size*treatment_probability)))\n",
    "    hypothetical_assignments = {}\n",
    "    for i, comb in enumerate(all_combs):\n",
    "        assignment_vector = np.zeros(size)\n",
    "        assignment_vector[list(comb)] = 1\n",
    "        hypothetical_assignments[i] = tuple(assignment_vector)\n",
    "    \n",
    "    return hypothetical_assignments"
   ]
  },
  {
   "cell_type": "code",
   "execution_count": 19,
   "id": "6d4c9ce4-df96-4617-a742-082aa25af078",
   "metadata": {},
   "outputs": [],
   "source": [
    "def make_hypothetical_assignment(size, treatment_assignment_probability, num_perms=1000):\n",
    "    assert treatment_assignment_probability > 0 and treatment_assignment_probability < 1, \"Treatment assignment probabilities must be great than 0 and less than 1. Received {0}\".format(treatment_assignment_probability)\n",
    "    \n",
    "    # set the random seed\n",
    "    np.random.seed()\n",
    "    \n",
    "    try:\n",
    "        n_combs = math.comb(size, int(size*treatment_probability))\n",
    "    except ValueError:\n",
    "        n_combs = np.inf\n",
    "    \n",
    "    print(n_combs)\n",
    "    if n_combs <= num_perms:\n",
    "        print('this happened')\n",
    "        # Just get all possible assignment combinations\n",
    "        assignment_dict = get_all_combinations(size, treatment_probability)\n",
    "    else:\n",
    "        assignment_dict = {}\n",
    "        while len(assignment_dict) < num_perms: # I'm a little worried that this is going to run forever\n",
    "            assignment_tuple = tuple(stats.binom.rvs(n=1, p=treatment_assignment_probability, size=size))\n",
    "            hashed_key = hash(assignment_tuple)\n",
    "            if hashed_key not in assignment_dict:\n",
    "                assignment_dict[hashed_key] = assignment_tuple\n",
    "    \n",
    "    return assignment_dict"
   ]
  },
  {
   "cell_type": "code",
   "execution_count": 20,
   "id": "5310851f-25ce-45f8-b0f0-fbc59bb89882",
   "metadata": {},
   "outputs": [],
   "source": [
    "# Now we need a function to calculate the test statistic\n",
    "# Effectively this needs to replace\n",
    "# def make_hypothetical_assignments(df_, treatment_assignment_probability):\n",
    "#     # This is too simple. We need to actually sample from the space of assignment vectors without replacement. \n",
    "#     assert treatment_assignment_probability > 0 and treatment_assignment_probability < 1, \"Treatment assignment probabilities must be great than 0 and less than 1. Received {0}\".format(treatment_assignment_probability)\n",
    "\n",
    "#     # set the random seed\n",
    "#     np.random.seed()\n",
    "\n",
    "#     df_['ri_in_treatment'] = stats.binom.rvs(n=1, p=treatment_assignment_probability, size=df_.shape[0])\n",
    "\n",
    "#     return df_\n",
    "# AND\n",
    "# def run_randomization_inference(self, df, test_statistic_function, treatment_assignment_probability):\n",
    "\n",
    "#     df_ = self.make_hypothetical_assignments(df_=df, treatment_assignment_probability=treatment_assignment_probability)\n",
    "\n",
    "#     stat_ = test_statistic_function(df=df_, outcome_col='outcome_sharp_null', treatment_col='ri_in_treatment', treatment_name=1, control_name=0)\n",
    "\n",
    "#     return stat_\n",
    "def calculate_test_statistic(df, test_statistic_function, assignment_dict):\n",
    "    sim_dict = {}\n",
    "    for i, assignment_tuple in tqdm(enumerate(assignment_dict.values())):\n",
    "        df_['ri_in_treatment'] = assignment_tuple\n",
    "        stat_ = test_statistic_function(df=df_, outcome_col='outcome_sharp_null', treatment_col='ri_in_treatment', treatment_name=1, control_name=0)\n",
    "        sim_dict[i] = stat_\n",
    "    \n",
    "    return sim_dict"
   ]
  },
  {
   "cell_type": "code",
   "execution_count": 224,
   "id": "6a1a61c4-371d-4446-9fd0-b76e7a9bd128",
   "metadata": {},
   "outputs": [],
   "source": [
    "class RandomizationInference:\n",
    "    \n",
    "    def __init__(self):\n",
    "        \n",
    "        self._supported_test_statistics = {'difference_in_means': ri_test_statistic_difference_in_means, \n",
    "                              'difference_in_percentiles': ri_test_statistic_difference_in_quantiles, \n",
    "                              'difference_in_ks_statistic': ri_test_statistic_difference_in_ks}\n",
    "        # self._supported_ci_methods = ['percentile', 'pivotal']\n",
    "        self.df_sims = None\n",
    "        self.observed_test_statistic = None\n",
    "        self.p_val = None\n",
    "        self.ci = None\n",
    "\n",
    "        \n",
    "    @staticmethod\n",
    "    def sharp_null(df_, sharp_null_type, sharp_null_value, outcome_column_name):\n",
    "        \n",
    "        if sharp_null_type == 'additive':\n",
    "            df_['outcome_sharp_null'] = df_[outcome_column_name] + sharp_null_value\n",
    "        else:\n",
    "            df_['outcome_sharp_null'] = df_[outcome_column_name] * df_[outcome_column_name] * sharp_null_value\n",
    "        \n",
    "        return df_\n",
    "    \n",
    "    \n",
    "    def select_test_statistic(self, test_statistic: dict):\n",
    "        \n",
    "        if type(test_statistic['function']) == str:\n",
    "            assert test_statistic['function'] in self._supported_test_statistics, \"test statistic {0} is not currently support. Please select from {1} for implement your own function\".format(test_statstic['function'], self._supported_test_statistics)\n",
    "            test_statistic['function'] = self._supported_test_statistics[test_statistic['function']]\n",
    "        else:\n",
    "            assert callable(test_statistic['function']), \"supplied custom test statistic {0} is neither a supported type nor a function\".format(test_statstic['function'])\n",
    "        \n",
    "        if test_statistic['params'] is None:\n",
    "            test_statistic['params'] = {}\n",
    "        else:\n",
    "            assert type(test_statistic['params']) == dict, \"Please pass a dictionary of parameters to your test statistic function. The keys should be the parameter names and the values the parameter values.\"\n",
    "        \n",
    "        test_statistic_function = partial(test_statistic['function'], **test_statistic['params'])\n",
    "        \n",
    "        return test_statistic_function\n",
    "\n",
    "    \n",
    "#     @staticmethod\n",
    "#     def make_hypothetical_assignments(df_, treatment_assignment_probability):\n",
    "#         # This is too simple. We need to actually sample from the space of assignment vectors without replacement. \n",
    "#         assert treatment_assignment_probability > 0 and treatment_assignment_probability < 1, \"Treatment assignment probabilities must be great than 0 and less than 1. Received {0}\".format(treatment_assignment_probability)\n",
    "        \n",
    "#         # set the random seed\n",
    "#         np.random.seed()\n",
    "        \n",
    "#         df_['ri_in_treatment'] = stats.binom.rvs(n=1, p=treatment_assignment_probability, size=df_.shape[0])\n",
    "        \n",
    "#         return df_\n",
    "\n",
    "    @staticmethod \n",
    "    def calculate_test_statistic(df_, test_statistic_function, assignments):\n",
    "        \n",
    "        df_['ri_in_treatment'] = assignments\n",
    "        # Handle numeric instability here\n",
    "        stat_ = np.round(test_statistic_function(df=df_, outcome_col='outcome_sharp_null', treatment_col='ri_in_treatment', treatment_name=1, control_name=0), 10)\n",
    "        return stat_\n",
    "    \n",
    "\n",
    "    @staticmethod\n",
    "    def get_all_combinations(size, treatment_probability):\n",
    "        \n",
    "        all_combs = list(itertools.combinations(list(range(size)), int(size*treatment_probability)))\n",
    "        hypothetical_assignments = {}\n",
    "        for i, comb in enumerate(all_combs):\n",
    "            assignment_vector = np.zeros(size)\n",
    "            assignment_vector[list(comb)] = 1\n",
    "            hypothetical_assignments[i] = tuple(assignment_vector)\n",
    "\n",
    "        return hypothetical_assignments\n",
    "    \n",
    "    \n",
    "    def make_hypothetical_assignment(self, df_, treatment_assignment_probability, test_statistic_function, sample_with_replacement, num_perms=1000):\n",
    "        \n",
    "        sim_dict = {}\n",
    "            \n",
    "        # set the random seed\n",
    "        np.random.seed()\n",
    "\n",
    "        try:\n",
    "            n_combs = math.comb(df_.shape[0], int(df_.shape[0]*treatment_assignment_probability))\n",
    "        except ValueError:\n",
    "            n_combs = np.inf\n",
    "\n",
    "        if n_combs <= num_perms:\n",
    "            print('Found {0} distinct assignment combinations. All combinations will be simulated.')\n",
    "            # Just get all possible assignment combinations. This should be small enough to handle in memory\n",
    "            assignment_dict = self.get_all_combinations(size=df_.shape[0], treatment_probability=treatment_assignment_probability)\n",
    "            for i, comb in tqdm(assignment_dict.items()):\n",
    "                sim_dict[i] = self.calculate_test_statistic(df_=df_, test_statistic_function=test_statistic_function, assignments=comb)\n",
    "        else:\n",
    "            print('Number of distinct assignment combinations practically too large. Running {0} simulated permutations'.format(num_perms))\n",
    "            if not sample_with_replacement:\n",
    "                assignment_dict = {}\n",
    "                i = 0\n",
    "                pbar = tqdm(total=num_perms)\n",
    "                # TODO: Make this faster\n",
    "                # Actually, let's make it optional\n",
    "                while len(assignment_dict) < num_perms: # I'm a little worried that this is going to run forever \n",
    "                    assignment_tuple = tuple(stats.binom.rvs(n=1, p=treatment_assignment_probability, size=df_.shape[0]))\n",
    "                    hashed_key = hash(assignment_tuple)\n",
    "                    if hashed_key not in assignment_dict:\n",
    "                        assignment_dict[hashed_key] = hashed_key\n",
    "                        sim_dict[i] = self.calculate_test_statistic(df_=df_, test_statistic_function=test_statistic_function, assignments=assignment_tuple)\n",
    "                        i += 1\n",
    "                        pbar.update(1)\n",
    "                pbar.close()\n",
    "            else:\n",
    "                for i in tqdm(range(num_perms)):\n",
    "                    assignment_list = stats.binom.rvs(n=1, p=treatment_assignment_probability, size=df_.shape[0])\n",
    "                    sim_dict[i] = self.calculate_test_statistic(df_=df_, test_statistic_function=test_statistic_function, assignments=assignment_list)\n",
    "                    \n",
    "        return sim_dict\n",
    "    \n",
    "    \n",
    "#     @staticmethod\n",
    "#     def calculate_test_statistic(df_, test_statistic_function, assignment_dict):\n",
    "        \n",
    "#         sim_dict = {}\n",
    "#         for i, assignment_tuple in enumerate(tqdm(assignment_dict.values())):\n",
    "#             df_['ri_in_treatment'] = assignment_tuple\n",
    "#             # Handle numeric instability here\n",
    "#             stat_ = np.round(test_statistic_function(df=df_, outcome_col='outcome_sharp_null', treatment_col='ri_in_treatment', treatment_name=1, control_name=0), 10)\n",
    "#             sim_dict[i] = stat_\n",
    "\n",
    "#         return sim_dict\n",
    "    \n",
    "    \n",
    "    def p_value(self, alternative):\n",
    "        \n",
    "       #  df_ = self.df_sims.copy()\n",
    "        \n",
    "        if not self.observed_test_statistic in self.df_sims['test_statistic'].values:\n",
    "            add_row = pd.DataFrame({\"permutation\": [-1], \"test_statistic\": self.observed_test_statistic})\n",
    "            self.df_sims = pd.concat([add_row, self.df_sims])\n",
    "            observed_perm = -1\n",
    "        else:\n",
    "            observed_perm = self.df_sims.loc[(self.df_sims['test_statistic'] == self.observed_test_statistic)]['permutation'].values[0]\n",
    "        \n",
    "        if alternative == 'two-sided':\n",
    "            self.df_sims['rank_column'] = np.abs(self.df_sims['test_statistic'])\n",
    "        else:\n",
    "            self.df_sims['rank_column'] = self.df_sims['test_statistic']\n",
    "        \n",
    "        self.df_sims['rank'] = self.df_sims['rank_column'].rank(method='max', ascending=False)\n",
    "        \n",
    "        p_value = self.df_sims.query(\"permutation==@observed_perm\")['rank'].values[0] / self.df_sims.shape[0]\n",
    "        \n",
    "        return p_value\n",
    "    \n",
    "    \n",
    "    def get_ci(self, confidence, alternative):\n",
    "        \n",
    "        # TODO: This needs to be totally revamped. This is way too primitive of an approach. \n",
    "        # assert method in ['percentile', 'pivotal'], \"Confidence interval calculation method {0} is not supported. Currently supported methods are: {1}\".format(method, self._supported_ci_methods)\n",
    "        # We'll only support the basic method for now (this is actually implemented in scipy https://github.com/scipy/scipy/blob/v1.12.0/scipy/stats/_resampling.py#L279-L660)\n",
    "        \n",
    "        alpha = 1 - confidence\n",
    "        df_ = self.df_sims.copy()\n",
    "        df_ = df_.query(\"permutation != -1\")\n",
    "        \n",
    "        if alternative == 'two-sided':\n",
    "            alpha = ((1 - confidence)) / 2\n",
    "        else:\n",
    "            alpha = 1 - confidence\n",
    "        \n",
    "        interval = alpha, 1 - alpha\n",
    "        \n",
    "        # Calculate the percentiles\n",
    "        ci_low = np.percentile(df_['test_statistic'].values, interval[0]*100)\n",
    "        ci_high = np.percentile(df_['test_statistic'].values, interval[1]*100)\n",
    "        \n",
    "        ci_low, ci_high = 2 * self.observed_test_statistic - ci_high, 2 * self.observed_test_statistic - ci_low\n",
    "        \n",
    "        if alternative == 'less':\n",
    "            ci_low = np.full_like(ci_low, -np.inf)\n",
    "        elif alternative == 'greater':\n",
    "            ci_high = np.full_like(ci_high, np.inf)\n",
    "        \n",
    "        ci_ = np.array([ci_low, ci_high])\n",
    "        \n",
    "        return ci_\n",
    "        \n",
    "#         if method == 'percentile':\n",
    "#             # Not sure if this is actually right. Should probably default to using the pivotal method in any case\n",
    "#             ci_low = np.percentile(self.df_sims['test_statistic'].values, 100 * (alpha / 2.)) + self.observed_test_statistic\n",
    "#             ci_high = np.percentile(self.df_sims['test_statistic'].values, 100 * (1 - alpha / 2.)) + self.observed_test_statistic\n",
    "#         else:\n",
    "#             ci_low = 2 * self.observed_test_statistic - np.percentile(self.df_sims['test_statistic'].values, 100 * (1 - alpha / 2.))\n",
    "#             ci_high = 2 * self.observed_test_statistic - np.percentile(self.df_sims['test_statistic'].values, 100 * (alpha / 2.))\n",
    "        \n",
    "#         ci_ = np.array([ci_low, ci_high])\n",
    "    \n",
    "#         return ci_\n",
    "    \n",
    "    def plot_and_output_results(self, confidence, alternative, test_stat_name, filename, output_path):\n",
    "\n",
    "        df_for_ranking = self.df_sims.copy()\n",
    "        df_for_ranking['rejection'] = df_for_ranking['rank'] / df_for_ranking.shape[0]\n",
    "        rejection_edge = df_for_ranking.loc[(df_for_ranking['rejection'] <= (1 - confidence))]['rejection'].max()\n",
    "        rejection_edge_values = df_for_ranking.loc[(df_for_ranking['rejection'] == rejection_edge)]\n",
    "        \n",
    "        fig, ax = plt.subplots(figsize=(10,8))\n",
    "        sns.histplot(data=self.df_sims, x='test_statistic', fill=True, ax=ax, kde=True, label='Null distribution')\n",
    "        kde_x, kde_y = ax.lines[0].get_data()\n",
    "\n",
    "        p0 = plt.axvline(x=self.observed_test_statistic, color='green', linestyle='--', label='Observed test statistic: {0})'.format(np.round(self.observed_test_statistic, 2)))\n",
    "\n",
    "        # ax.fill_between(kde_x, kde_y, where=(kde_x > pos_gmv_experiment.ci[0]) | (kde_x > pos_gmv_experiment.ci[1]), interpolate=True, color='#EF9A9A', alpha=0.5)\n",
    "        # ax.fill_between(kde_x, kde_y, where=(kde_x > self.ci[0]) | (kde_x > self.ci[1]), interpolate=True, alpha=0.5, label=\"{0}% confidence interval\".format(int(confidence*100)))\n",
    "        # Fill in the area where the test statistic is more extreme than the observed \n",
    "        if alternative == 'two-sided':\n",
    "            ax.fill_between(kde_x, kde_y, where=(kde_x >= rejection_edge_values['test_statistic'].max()) | (kde_x <= rejection_edge_values['test_statistic'].min()), interpolate=True, alpha=0.5, label=\"Values more extreme than test statistic\")\n",
    "        elif alternative == 'less':\n",
    "            ax.fill_between(kde_x, kde_y, where=(kde_x <= rejection_edge_values['test_statistic'].min()), interpolate=True, alpha=0.5, label=\"Values more extreme than test statistic\")\n",
    "        elif alternative == 'greater':\n",
    "            ax.fill_between(kde_x, kde_y, where=(kde_x >= rejection_edge_values['test_statistic'].max()), interpolate=True, alpha=0.5, label=\"Values more extreme than test statistic\")\n",
    "        \n",
    "        ax.set_title('Distribution of test statistic under null. p-value: {0}'.format(np.round(self.p_val, 3)), fontsize=18)\n",
    "        ax.set_xlabel(\"{0}\".format(test_stat_name), fontsize=16)\n",
    "        plt.legend(bbox_to_anchor=(0.7, -0.1))\n",
    "\n",
    "        if filename is None:\n",
    "            current_time = strftime('%Y-%m-%d_%H%M%S', gmtime())\n",
    "            filename = 'experimental_analysis_{0}.png'.format(current_time)\n",
    "        else:\n",
    "            if not filename.endswith('.png'):\n",
    "                filename = filename.split('.')[0] + '.png'\n",
    "        \n",
    "        if output_path is None:\n",
    "            output_path = os.getcwd()\n",
    "        \n",
    "        save_path = os.path.join(output_path, filename)\n",
    "        \n",
    "        plt.savefig(save_path, dpi=300, bbox_inches='tight')  \n",
    "\n",
    "\n",
    "#     def plot_and_output_results(self, confidence, test_stat_name, filename, output_path):\n",
    "\n",
    "#         fig, ax = plt.subplots(figsize=(10,8))\n",
    "#         sns.histplot(data=self.df_sims, x='test_statistic', fill=True, ax=ax, kde=True, label='Null distribution')\n",
    "#         kde_x, kde_y = ax.lines[0].get_data()\n",
    "\n",
    "#         p0 = plt.axvline(x=self.observed_test_statistic, color='green', linestyle='--', label='Observed test statistic: {0} ({1}% CI: {2} - {3})'.format(np.round(self.observed_test_statistic, 2), int(confidence*100), np.round(self.ci[0], 2), np.round(self.ci[1], 2)))\n",
    "\n",
    "#         # ax.fill_between(kde_x, kde_y, where=(kde_x > pos_gmv_experiment.ci[0]) | (kde_x > pos_gmv_experiment.ci[1]), interpolate=True, color='#EF9A9A', alpha=0.5)\n",
    "#         ax.fill_between(kde_x, kde_y, where=(kde_x > self.ci[0]) | (kde_x > self.ci[1]), interpolate=True, alpha=0.5, label=\"{0}% confidence interval\".format(int(confidence*100)))\n",
    "\n",
    "\n",
    "#         ax.set_title('Distribution of test statistic under null. p-value: {0}'.format(np.round(self.p_val, 3)), fontsize=18)\n",
    "#         ax.set_xlabel(\"{0}\".format(test_stat_name), fontsize=16)\n",
    "#         plt.legend(bbox_to_anchor=(0.7, -0.1))\n",
    "\n",
    "#         if filename is None:\n",
    "#             current_time = strftime('%Y-%m-%d_%H%M%S', gmtime())\n",
    "#             filename = 'experimental_analysis_{0}.png'.format(current_time)\n",
    "#         else:\n",
    "#             if not filename.endswith('.png'):\n",
    "#                 filename = filename.split('.')[0] + '.png'\n",
    "        \n",
    "#         if output_path is None:\n",
    "#             output_path = os.getcwd()\n",
    "        \n",
    "#         save_path = os.path.join(output_path, filename)\n",
    "        \n",
    "#         plt.savefig(save_path, dpi=300, bbox_inches='tight')\n",
    "    \n",
    "    \n",
    "    \n",
    "    def run_randomization_inference(self, df_, test_statistic_function, treatment_assignment_probability, sample_with_replacement, num_perms=1000):\n",
    "        \n",
    "        assert treatment_assignment_probability > 0 and treatment_assignment_probability < 1, \"Treatment assignment probabilities must be great than 0 and less than 1. Received {0}\".format(treatment_assignment_probability)\n",
    "        \n",
    "        # This is not efficient. This will eat a lot of memory when the number of permutations goes above a few thousand\n",
    "        sim_dict= self.make_hypothetical_assignment(df_=df_, treatment_assignment_probability=treatment_assignment_probability, test_statistic_function=test_statistic_function, num_perms=num_perms, sample_with_replacement=sample_with_replacement)\n",
    "        \n",
    "        # sim_dict = self.calculate_test_statistic(df_=df_, test_statistic_function=test_statistic_function, assignment_dict=assignment_dict)\n",
    "        \n",
    "        return sim_dict\n",
    "    \n",
    "    \n",
    "    def experimental_analysis(self, df, sharp_null_type='additive', sharp_null_value=0, test_statistic={'function': 'difference_in_means', 'params': None}, treatment_assignment_probability=0.5, outcome_column_name='y', treatment_column_name='d', treatment_name=1, control_name=0, num_permutations=1000, alternative='two-sided', confidence=0.95, sample_with_replacement=False, filename=None, output_path=None):\n",
    "        \n",
    "        assert sharp_null_type in ['additive', 'multiplicative'], \"only additive or multiplicative sharp nulls are supported. Received {0}\".format(sharp_null_type)\n",
    "        \n",
    "        assert type(num_permutations) == int, \"Only an interger number of permutations is possible. Received {0}\".format(num_permutations)\n",
    "        \n",
    "        assert alternative in ['two-sided', 'less', 'greater'], \"Only {0} alternatives are supported. Received {0}\".format(alternative)\n",
    "        \n",
    "        # Copy the input DataFrame so that we don't modify the original data in_place\n",
    "        df_ = df.copy()\n",
    "        \n",
    "        # Save the input test statistic name if it's a string\n",
    "        if type(test_statistic['function']) == str:\n",
    "            test_stat_name = test_statistic['function'].replace('_', ' ')\n",
    "        else:\n",
    "            test_stat_name = 'custom test statistic'\n",
    "        \n",
    "        # Step 1: implement the selected sharp null\n",
    "        df_ = self.sharp_null(df_=df_, sharp_null_type=sharp_null_type, sharp_null_value=sharp_null_value, outcome_column_name=outcome_column_name)\n",
    "        \n",
    "        # Step 2: pick a test statistic. We have a list of pre-built ones, otherwise a function must be supplied\n",
    "        # This function must consume a DataFrame and return a single scalar value\n",
    "        test_statistic_function = self.select_test_statistic(test_statistic=test_statistic)\n",
    "        \n",
    "        # Step 3: Select a randomization proceedure. \n",
    "        # Currently this only supports random assignment via coin flip. The probability of being in the treatment group is customizable\n",
    "        # Also run the simulations\n",
    "        # print('Running {0} permutations'.format(num_permutations))\n",
    "        # sim_dict = {i: self.run_randomization_inference(df=df_, test_statistic_function=test_statistic_function, treatment_assignment_probability=treatment_assignment_probability) for i in tqdm(range(num_permutations))}\n",
    "        print('Running randomization inference...')\n",
    "        sim_dict = self.run_randomization_inference(df_=df_, test_statistic_function=test_statistic_function, treatment_assignment_probability=treatment_assignment_probability, num_perms=num_permutations, sample_with_replacement=sample_with_replacement)\n",
    "        \n",
    "        self.df_sims = pd.DataFrame.from_dict(sim_dict, orient='index')\n",
    "        self.df_sims = self.df_sims.reset_index()\n",
    "        self.df_sims.columns = ['permutation', 'test_statistic']\n",
    "    \n",
    "        # Step 4: calculate p-values\n",
    "        # First, calculate the observed statistic difference\n",
    "        self.observed_test_statistic = test_statistic_function(df=df_, outcome_col=outcome_column_name, treatment_col=treatment_column_name, treatment_name=treatment_name, control_name=control_name)\n",
    "\n",
    "        self.p_val = self.p_value(alternative=alternative)\n",
    "        \n",
    "        # Step 5: calculate confidence interval. This is the CI of the test statistic under the null\n",
    "        # self.ci = self.get_ci(confidence=confidence, alternative='two-sided')\n",
    "        \n",
    "        # final output. This should be summarized in a plot\n",
    "        self.plot_and_output_results(confidence=confidence, alternative=alternative, test_stat_name=test_stat_name, filename=filename, output_path=output_path)\n",
    "        \n",
    "                "
   ]
  },
  {
   "cell_type": "code",
   "execution_count": 225,
   "id": "9a72216b-a32d-4135-b849-94ea3ac9b637",
   "metadata": {
    "tags": []
   },
   "outputs": [],
   "source": [
    "# class RandomizationInference:\n",
    "    \n",
    "#     def __init__(self):\n",
    "        \n",
    "#         self._supported_test_statistics = {'difference_in_means': ri_test_statistic_difference_in_means, \n",
    "#                               'difference_in_percentiles': ri_test_statistic_difference_in_quantiles, \n",
    "#                               'difference_in_ks_statistic': ri_test_statistic_difference_in_ks}\n",
    "#         self.df_sims = None\n",
    "#         self.observed_test_statistic = None\n",
    "#         self.p_val = None\n",
    "#         self.ci = None\n",
    "#         # self.df = df\n",
    "#         # self.sharp_null = sharp_null\n",
    "#         # self.test_statistic = test_statistic\n",
    "#         # self.outcome_column_name = outcome_column_name\n",
    "#         # self.treatment_column_name = treatment_column_name\n",
    "#         # self.treatment_name = treatment_name\n",
    "#         # self.control_name = control_name\n",
    "#         # self.num_permutations = num_permutations\n",
    "        \n",
    "#     @staticmethod\n",
    "#     def sharp_null(df_, sharp_null_type, sharp_null_value, outcome_column_name):\n",
    "        \n",
    "#         if sharp_null_type == 'additive':\n",
    "#             df_['outcome_sharp_null'] = df_[outcome_column_name] + sharp_null_value\n",
    "#         else:\n",
    "#             df_['outcome_sharp_null'] = df_[outcome_column_name] * df_[outcome_column_name] * sharp_null_value\n",
    "        \n",
    "#         return df_\n",
    "    \n",
    "    \n",
    "#     def select_test_statistic(self, test_statistic: dict):\n",
    "        \n",
    "#         if type(test_statistic['function']) == str:\n",
    "#             assert test_statistic['function'] in self._supported_test_statistics, \"test statistic {0} is not currently support. Please select from {1} for implement your own function\".format(test_statstic['function'], self._supported_test_statistics)\n",
    "#             test_statistic['function'] = self._supported_test_statistics[test_statistic['function']]\n",
    "#         else:\n",
    "#             assert callable(test_statistic['function']), \"supplied custom test statistic {0} is neither a supported type nor a function\".format(test_statstic['function'])\n",
    "        \n",
    "#         if test_statistic['params'] is None:\n",
    "#             test_statistic['params'] = {}\n",
    "#         else:\n",
    "#             assert type(test_statistic['params']) == dict, \"Please pass a dictionary of parameters to your test statistic function. The keys should be the parameter names and the values the parameter values.\"\n",
    "        \n",
    "#         test_statistic_function = partial(test_statistic['function'], **test_statistic['params'])\n",
    "        \n",
    "#         return test_statistic_function\n",
    "\n",
    "    \n",
    "# #     @staticmethod\n",
    "# #     def make_hypothetical_assignments(df_, treatment_assignment_probability):\n",
    "# #         # This is too simple. We need to actually sample from the space of assignment vectors without replacement. \n",
    "# #         assert treatment_assignment_probability > 0 and treatment_assignment_probability < 1, \"Treatment assignment probabilities must be great than 0 and less than 1. Received {0}\".format(treatment_assignment_probability)\n",
    "        \n",
    "# #         # set the random seed\n",
    "# #         np.random.seed()\n",
    "        \n",
    "# #         df_['ri_in_treatment'] = stats.binom.rvs(n=1, p=treatment_assignment_probability, size=df_.shape[0])\n",
    "        \n",
    "# #         return df_\n",
    "\n",
    "#     @staticmethod\n",
    "#     def get_all_combinations(size, treatment_probability):\n",
    "        \n",
    "#         all_combs = list(itertools.combinations(list(range(size)), int(size*treatment_probability)))\n",
    "#         hypothetical_assignments = {}\n",
    "#         for i, comb in enumerate(all_combs):\n",
    "#             assignment_vector = np.zeros(size)\n",
    "#             assignment_vector[list(comb)] = 1\n",
    "#             hypothetical_assignments[i] = tuple(assignment_vector)\n",
    "\n",
    "#         return hypothetical_assignments\n",
    "    \n",
    "    \n",
    "#     @staticmethod\n",
    "#     def make_hypothetical_assignment(size, treatment_assignment_probability, num_perms=1000):\n",
    "        \n",
    "#         assert treatment_assignment_probability > 0 and treatment_assignment_probability < 1, \"Treatment assignment probabilities must be great than 0 and less than 1. Received {0}\".format(treatment_assignment_probability)\n",
    "\n",
    "#         # set the random seed\n",
    "#         np.random.seed()\n",
    "\n",
    "#         try:\n",
    "#             n_combs = math.comb(size, int(size*treatment_probability))\n",
    "#         except ValueError:\n",
    "#             n_combs = np.inf\n",
    "\n",
    "#         if n_combs <= num_perms:\n",
    "#             print('Found {0} distinct assignment combinations. All combinations will be simulated.')\n",
    "#             # Just get all possible assignment combinations\n",
    "#             assignment_dict = get_all_combinations(size, treatment_probability)\n",
    "#         else:\n",
    "#             print('Number of distinct assignment combinations practically too large. Running {0} simulated permutations'.format(num_perms))\n",
    "#             assignment_dict = {}\n",
    "#             while len(assignment_dict) < num_perms: # I'm a little worried that this is going to run forever\n",
    "#                 assignment_tuple = tuple(stats.binom.rvs(n=1, p=treatment_assignment_probability, size=size))\n",
    "#                 hashed_key = hash(assignment_tuple)\n",
    "#                 if hashed_key not in assignment_dict:\n",
    "#                     assignment_dict[hashed_key] = assignment_tuple\n",
    "\n",
    "#         return assignment_dict\n",
    "    \n",
    "    \n",
    "#     @staticmethod\n",
    "#     def calculate_test_statistic(df_, test_statistic_function, assignment_dict):\n",
    "        \n",
    "#         sim_dict = {}\n",
    "#         for i, assignment_tuple in tqdm(enumerate(assignment_dict.values())):\n",
    "#             df_['ri_in_treatment'] = assignment_tuple\n",
    "#             # Handle numeric instability here\n",
    "#             stat_ = np.round(test_statistic_function(df=df_, outcome_col='outcome_sharp_null', treatment_col='ri_in_treatment', treatment_name=1, control_name=0), 10)\n",
    "#             sim_dict[i] = stat_\n",
    "\n",
    "#         return sim_dict\n",
    "    \n",
    "    \n",
    "#     def p_value(self, alternative):\n",
    "        \n",
    "#        #  df_ = self.df_sims.copy()\n",
    "        \n",
    "#         if not self.observed_test_statistic in self.df_sims['test_statistic'].values:\n",
    "#             add_row = pd.DataFrame({\"permutation\": [-1], \"test_statistic\": self.observed_test_statistic})\n",
    "#             self.df_sims = pd.concat([add_row, self.df_sims])\n",
    "#             observed_perm = -1\n",
    "#         else:\n",
    "#             observed_perm = self.df_sims.loc[(self.df_sims['test_statistic'] == self.observed_test_statistic)]['permutation'].values[0]\n",
    "        \n",
    "#         if alternative == 'two-sided':\n",
    "#             self.df_sims['rank_column'] = np.abs(self.df_sims['test_statistic'])\n",
    "#         else:\n",
    "#             self.df_sims['rank_column'] = self.df_sims['test_statistic']\n",
    "        \n",
    "#         self.df_sims['rank'] = self.df_sims['rank_column'].rank(method='max', ascending=False)\n",
    "        \n",
    "#         p_value = self.df_sims.query(\"permutation==@observed_perm\")['rank'].values[0] / self.df_sims.shape[0]\n",
    "        \n",
    "#         return p_value\n",
    "    \n",
    "    \n",
    "#     def get_ci(self, confidence):\n",
    "\n",
    "#         ci_low = 100 * (1 - confidence) / 2\n",
    "#         ci_high = 100 * confidence + ci_low\n",
    "#         null_ci = np.percentile(self.df_sims['test_statistic'].values, [ci_low, ci_high])\n",
    "#         ci_ = null_ci + self.observed_test_statistic\n",
    "    \n",
    "#         return ci_\n",
    "    \n",
    "    \n",
    "# #     def run_randomization_inference(self, df, test_statistic_function, treatment_assignment_probability):\n",
    "        \n",
    "# #         df_ = self.make_hypothetical_assignments(df_=df, treatment_assignment_probability=treatment_assignment_probability)\n",
    "        \n",
    "# #         stat_ = test_statistic_function(df=df_, outcome_col='outcome_sharp_null', treatment_col='ri_in_treatment', treatment_name=1, control_name=0)\n",
    "        \n",
    "# #         return stat_\n",
    "    \n",
    "    \n",
    "#     def run_randomization_inference(self, df_, test_statistic_function, treatment_assignment_probability, num_perms=1000):\n",
    "        \n",
    "#         assignment_dict = self.make_hypothetical_assignment(size=df_.shape[0], treatment_assignment_probability=treatment_assignment_probability, num_perms=num_perms)\n",
    "        \n",
    "#         sim_dict = self.calculate_test_statistic(df_=df_, test_statistic_function=test_statistic_function, assignment_dict=assignment_dict)\n",
    "        \n",
    "#         return sim_dict\n",
    "    \n",
    "    \n",
    "#     def experimental_analysis(self, df, sharp_null_type='additive', sharp_null_value=0, test_statistic={'function': 'difference_in_means', 'params': None}, treatment_assignment_probability=0.5, outcome_column_name='y', treatment_column_name='d', treatment_name=1, control_name=0, num_permutations=1000, alternative='two-sided', confidence=0.95):\n",
    "        \n",
    "#         assert sharp_null_type in ['additive', 'multiplicative'], \"only additive or multiplicative sharp nulls are supported. Received {0}\".format(sharp_null_type)\n",
    "        \n",
    "#         assert type(num_permutations) == int, \"Only an interger number of permutations is possible. Received {0}\".format(num_permutations)\n",
    "        \n",
    "#         assert alternative in ['two-sided', 'less', 'greater'], \"Only {0} alternatives are supported. Received {0}\".format(alternative)\n",
    "        \n",
    "#         # Copy the input DataFrame so that we don't modify the original data in_place\n",
    "#         df_ = df.copy()\n",
    "        \n",
    "#         # Step 1: implement the selected sharp null\n",
    "#         df_ = self.sharp_null(df_=df_, sharp_null_type=sharp_null_type, sharp_null_value=sharp_null_value, outcome_column_name=outcome_column_name)\n",
    "        \n",
    "#         # Step 2: pick a test statistic. We have a list of pre-built ones, otherwise a function must be supplied\n",
    "#         # This function must consume a DataFrame and return a single scalar value\n",
    "#         test_statistic_function = self.select_test_statistic(test_statistic=test_statistic)\n",
    "        \n",
    "#         # Step 3: Select a randomization proceedure. \n",
    "#         # Currently this only supports random assignment via coin flip. The probability of being in the treatment group is customizable\n",
    "#         # Also run the simulations\n",
    "#         # print('Running {0} permutations'.format(num_permutations))\n",
    "#         # sim_dict = {i: self.run_randomization_inference(df=df_, test_statistic_function=test_statistic_function, treatment_assignment_probability=treatment_assignment_probability) for i in tqdm(range(num_permutations))}\n",
    "#         print('Running randomization inference...')\n",
    "#         sim_dict = self.run_randomization_inference(df_=df_, test_statistic_function=test_statistic_function, treatment_assignment_probability=treatment_assignment_probability, num_perms=num_permutations)\n",
    "        \n",
    "#         self.df_sims = pd.DataFrame.from_dict(sim_dict, orient='index')\n",
    "#         self.df_sims = self.df_sims.reset_index()\n",
    "#         self.df_sims.columns = ['permutation', 'test_statistic']\n",
    "    \n",
    "#         # Step 4: calculate p-values\n",
    "#         # First, calculate the observed statistic difference\n",
    "#         self.observed_test_statistic = test_statistic_function(df=df_, outcome_col=outcome_column_name, treatment_col=treatment_column_name, treatment_name=treatment_name, control_name=control_name)\n",
    "\n",
    "#         self.p_val = self.p_value(alternative=alternative)\n",
    "        \n",
    "#         # Step 5: calculate confidence interval. This is the CI of the test statistic under the null\n",
    "#         self.ci = self.get_ci(confidence=confidence)\n",
    "        \n",
    "#         # final output. This should be summarized in a plot\n",
    "        \n",
    "        \n",
    "                "
   ]
  },
  {
   "cell_type": "code",
   "execution_count": 226,
   "id": "f73c6a5f-ef9b-480c-9715-1364f9af0b58",
   "metadata": {
    "tags": []
   },
   "outputs": [],
   "source": [
    "test_run = RandomizationInference()"
   ]
  },
  {
   "cell_type": "code",
   "execution_count": 227,
   "id": "76bbccc2-11c3-481b-94d3-15d378131f56",
   "metadata": {
    "tags": []
   },
   "outputs": [
    {
     "name": "stdout",
     "output_type": "stream",
     "text": [
      "Running randomization inference...\n",
      "Found {0} distinct assignment combinations. All combinations will be simulated.\n"
     ]
    },
    {
     "data": {
      "application/vnd.jupyter.widget-view+json": {
       "model_id": "4af699cb95174dc28ee03cd6db2457a1",
       "version_major": 2,
       "version_minor": 0
      },
      "text/plain": [
       "  0%|          | 0/70 [00:00<?, ?it/s]"
      ]
     },
     "metadata": {},
     "output_type": "display_data"
    },
    {
     "data": {
      "image/png": "[encoded data removed]",
      "text/plain": [
       "<Figure size 1000x800 with 1 Axes>"
      ]
     },
     "metadata": {},
     "output_type": "display_data"
    }
   ],
   "source": [
    "test_run.experimental_analysis(df=df, \n",
    "                               sharp_null_type='additive', \n",
    "                               sharp_null_value=0, \n",
    "                               test_statistic={'function': 'difference_in_means', 'params': None}, \n",
    "                               treatment_assignment_probability=0.5, \n",
    "                               outcome_column_name='y', \n",
    "                               treatment_column_name='d', \n",
    "                               treatment_name=1, \n",
    "                               control_name=0, \n",
    "                               num_permutations=1000, \n",
    "                               alternative='two-sided', \n",
    "                               confidence=0.95, \n",
    "                               sample_with_replacement=True,\n",
    "                              )"
   ]
  },
  {
   "cell_type": "code",
   "execution_count": 207,
   "id": "a284f2d7-6e8f-4165-90a8-a0f342a8dd5b",
   "metadata": {},
   "outputs": [
    {
     "data": {
      "text/html": [
       "<div>\n",
       "<style scoped>\n",
       "    .dataframe tbody tr th:only-of-type {\n",
       "        vertical-align: middle;\n",
       "    }\n",
       "\n",
       "    .dataframe tbody tr th {\n",
       "        vertical-align: top;\n",
       "    }\n",
       "\n",
       "    .dataframe thead th {\n",
       "        text-align: right;\n",
       "    }\n",
       "</style>\n",
       "<table border=\"1\" class=\"dataframe\">\n",
       "  <thead>\n",
       "    <tr style=\"text-align: right;\">\n",
       "      <th></th>\n",
       "      <th>permutation</th>\n",
       "      <th>test_statistic</th>\n",
       "      <th>rank_column</th>\n",
       "      <th>rank</th>\n",
       "    </tr>\n",
       "  </thead>\n",
       "  <tbody>\n",
       "    <tr>\n",
       "      <th>0</th>\n",
       "      <td>0</td>\n",
       "      <td>1.0</td>\n",
       "      <td>1.0</td>\n",
       "      <td>60.0</td>\n",
       "    </tr>\n",
       "    <tr>\n",
       "      <th>1</th>\n",
       "      <td>1</td>\n",
       "      <td>2.0</td>\n",
       "      <td>2.0</td>\n",
       "      <td>46.0</td>\n",
       "    </tr>\n",
       "    <tr>\n",
       "      <th>2</th>\n",
       "      <td>2</td>\n",
       "      <td>3.0</td>\n",
       "      <td>3.0</td>\n",
       "      <td>30.0</td>\n",
       "    </tr>\n",
       "    <tr>\n",
       "      <th>3</th>\n",
       "      <td>3</td>\n",
       "      <td>3.5</td>\n",
       "      <td>3.5</td>\n",
       "      <td>22.0</td>\n",
       "    </tr>\n",
       "    <tr>\n",
       "      <th>4</th>\n",
       "      <td>4</td>\n",
       "      <td>4.5</td>\n",
       "      <td>4.5</td>\n",
       "      <td>12.0</td>\n",
       "    </tr>\n",
       "  </tbody>\n",
       "</table>\n",
       "</div>"
      ],
      "text/plain": [
       "   permutation  test_statistic  rank_column  rank\n",
       "0            0             1.0          1.0  60.0\n",
       "1            1             2.0          2.0  46.0\n",
       "2            2             3.0          3.0  30.0\n",
       "3            3             3.5          3.5  22.0\n",
       "4            4             4.5          4.5  12.0"
      ]
     },
     "execution_count": 207,
     "metadata": {},
     "output_type": "execute_result"
    }
   ],
   "source": [
    "test_run.df_sims.head()"
   ]
  },
  {
   "cell_type": "code",
   "execution_count": 209,
   "id": "89da09f9-0651-4303-afd3-f2d0dcc0abb2",
   "metadata": {},
   "outputs": [],
   "source": [
    "df_rank = test_run.df_sims.copy()"
   ]
  },
  {
   "cell_type": "code",
   "execution_count": 210,
   "id": "7da8bd37-e493-4f22-b78c-cb4b277a91c5",
   "metadata": {},
   "outputs": [],
   "source": [
    "df_rank['rejection'] = df_rank['rank'] / df_rank.shape[0]"
   ]
  },
  {
   "cell_type": "code",
   "execution_count": 216,
   "id": "c9fa45b9-e92b-4d87-a651-39760c64b50f",
   "metadata": {},
   "outputs": [],
   "source": [
    "rejection_edge = df_rank.loc[(df_rank['rejection'] <= (1 - confidence))]['rejection'].max()\n",
    "rejection_edge_values = df_rank.loc[(df_rank['rejection'] == rejection_edge)]"
   ]
  },
  {
   "cell_type": "code",
   "execution_count": 217,
   "id": "92d93a5b-7c97-43f5-87c0-b07e7f969890",
   "metadata": {},
   "outputs": [
    {
     "data": {
      "text/html": [
       "<div>\n",
       "<style scoped>\n",
       "    .dataframe tbody tr th:only-of-type {\n",
       "        vertical-align: middle;\n",
       "    }\n",
       "\n",
       "    .dataframe tbody tr th {\n",
       "        vertical-align: top;\n",
       "    }\n",
       "\n",
       "    .dataframe thead th {\n",
       "        text-align: right;\n",
       "    }\n",
       "</style>\n",
       "<table border=\"1\" class=\"dataframe\">\n",
       "  <thead>\n",
       "    <tr style=\"text-align: right;\">\n",
       "      <th></th>\n",
       "      <th>permutation</th>\n",
       "      <th>test_statistic</th>\n",
       "      <th>rank_column</th>\n",
       "      <th>rank</th>\n",
       "      <th>rejection</th>\n",
       "    </tr>\n",
       "  </thead>\n",
       "  <tbody>\n",
       "    <tr>\n",
       "      <th>24</th>\n",
       "      <td>24</td>\n",
       "      <td>6.0</td>\n",
       "      <td>6.0</td>\n",
       "      <td>2.0</td>\n",
       "      <td>0.028571</td>\n",
       "    </tr>\n",
       "    <tr>\n",
       "      <th>45</th>\n",
       "      <td>45</td>\n",
       "      <td>-6.0</td>\n",
       "      <td>6.0</td>\n",
       "      <td>2.0</td>\n",
       "      <td>0.028571</td>\n",
       "    </tr>\n",
       "  </tbody>\n",
       "</table>\n",
       "</div>"
      ],
      "text/plain": [
       "    permutation  test_statistic  rank_column  rank  rejection\n",
       "24           24             6.0          6.0   2.0   0.028571\n",
       "45           45            -6.0          6.0   2.0   0.028571"
      ]
     },
     "execution_count": 217,
     "metadata": {},
     "output_type": "execute_result"
    }
   ],
   "source": [
    "rejection_edge_values"
   ]
  },
  {
   "cell_type": "code",
   "execution_count": 214,
   "id": "ac7e9ec2-303c-4ac9-9148-ce9eba3825b3",
   "metadata": {},
   "outputs": [
    {
     "data": {
      "text/plain": [
       "0.050000000000000044"
      ]
     },
     "execution_count": 214,
     "metadata": {},
     "output_type": "execute_result"
    }
   ],
   "source": [
    "1 - confidence"
   ]
  },
  {
   "cell_type": "code",
   "execution_count": 170,
   "id": "2f37299f-8618-4ae8-9488-97dc4e4efec5",
   "metadata": {
    "tags": []
   },
   "outputs": [
    {
     "data": {
      "text/plain": [
       "0.8571428571428571"
      ]
     },
     "execution_count": 170,
     "metadata": {},
     "output_type": "execute_result"
    }
   ],
   "source": [
    "test_run.p_val"
   ]
  },
  {
   "cell_type": "code",
   "execution_count": 171,
   "id": "0e1108b9-388b-4751-b0e5-55140b9867bc",
   "metadata": {
    "tags": []
   },
   "outputs": [
    {
     "data": {
      "text/plain": [
       "1.0"
      ]
     },
     "execution_count": 171,
     "metadata": {},
     "output_type": "execute_result"
    }
   ],
   "source": [
    "test_run.observed_test_statistic"
   ]
  },
  {
   "cell_type": "code",
   "execution_count": 172,
   "id": "cf7faee6-5584-4ea9-bfba-2f8b782edc37",
   "metadata": {
    "tags": []
   },
   "outputs": [
    {
     "data": {
      "text/html": [
       "<div>\n",
       "<style scoped>\n",
       "    .dataframe tbody tr th:only-of-type {\n",
       "        vertical-align: middle;\n",
       "    }\n",
       "\n",
       "    .dataframe tbody tr th {\n",
       "        vertical-align: top;\n",
       "    }\n",
       "\n",
       "    .dataframe thead th {\n",
       "        text-align: right;\n",
       "    }\n",
       "</style>\n",
       "<table border=\"1\" class=\"dataframe\">\n",
       "  <thead>\n",
       "    <tr style=\"text-align: right;\">\n",
       "      <th></th>\n",
       "      <th>permutation</th>\n",
       "      <th>test_statistic</th>\n",
       "      <th>rank_column</th>\n",
       "      <th>rank</th>\n",
       "    </tr>\n",
       "  </thead>\n",
       "  <tbody>\n",
       "    <tr>\n",
       "      <th>0</th>\n",
       "      <td>0</td>\n",
       "      <td>1.0</td>\n",
       "      <td>1.0</td>\n",
       "      <td>60.0</td>\n",
       "    </tr>\n",
       "    <tr>\n",
       "      <th>1</th>\n",
       "      <td>1</td>\n",
       "      <td>2.0</td>\n",
       "      <td>2.0</td>\n",
       "      <td>46.0</td>\n",
       "    </tr>\n",
       "    <tr>\n",
       "      <th>2</th>\n",
       "      <td>2</td>\n",
       "      <td>3.0</td>\n",
       "      <td>3.0</td>\n",
       "      <td>30.0</td>\n",
       "    </tr>\n",
       "    <tr>\n",
       "      <th>3</th>\n",
       "      <td>3</td>\n",
       "      <td>3.5</td>\n",
       "      <td>3.5</td>\n",
       "      <td>22.0</td>\n",
       "    </tr>\n",
       "    <tr>\n",
       "      <th>4</th>\n",
       "      <td>4</td>\n",
       "      <td>4.5</td>\n",
       "      <td>4.5</td>\n",
       "      <td>12.0</td>\n",
       "    </tr>\n",
       "  </tbody>\n",
       "</table>\n",
       "</div>"
      ],
      "text/plain": [
       "   permutation  test_statistic  rank_column  rank\n",
       "0            0             1.0          1.0  60.0\n",
       "1            1             2.0          2.0  46.0\n",
       "2            2             3.0          3.0  30.0\n",
       "3            3             3.5          3.5  22.0\n",
       "4            4             4.5          4.5  12.0"
      ]
     },
     "execution_count": 172,
     "metadata": {},
     "output_type": "execute_result"
    }
   ],
   "source": [
    "test_run.df_sims.head()"
   ]
  },
  {
   "cell_type": "code",
   "execution_count": 173,
   "id": "515b5c5b-056d-4ddc-9d2c-eb42fa0b766f",
   "metadata": {},
   "outputs": [
    {
     "data": {
      "text/plain": [
       "array([-2.775,  6.775])"
      ]
     },
     "execution_count": 173,
     "metadata": {},
     "output_type": "execute_result"
    }
   ],
   "source": [
    "test_run.ci"
   ]
  },
  {
   "cell_type": "code",
   "execution_count": 185,
   "id": "c49194ff-a12f-4c78-8c79-cdb325f3dfdb",
   "metadata": {},
   "outputs": [],
   "source": [
    "test_run_ks = RandomizationInference()"
   ]
  },
  {
   "cell_type": "code",
   "execution_count": 186,
   "id": "9cf6b384-0d62-4d12-99a1-9e0f6c6facf3",
   "metadata": {},
   "outputs": [
    {
     "name": "stdout",
     "output_type": "stream",
     "text": [
      "Running randomization inference...\n",
      "Found {0} distinct assignment combinations. All combinations will be simulated.\n"
     ]
    },
    {
     "data": {
      "application/vnd.jupyter.widget-view+json": {
       "model_id": "806b3b02ca2741f28d37c113868e10b6",
       "version_major": 2,
       "version_minor": 0
      },
      "text/plain": [
       "  0%|          | 0/70 [00:00<?, ?it/s]"
      ]
     },
     "metadata": {},
     "output_type": "display_data"
    },
    {
     "data": {
      "image/png": "[encoded data removed]",
      "text/plain": [
       "<Figure size 1000x800 with 1 Axes>"
      ]
     },
     "metadata": {},
     "output_type": "display_data"
    }
   ],
   "source": [
    "test_run_ks.experimental_analysis(df=df, \n",
    "                               sharp_null_type='additive', \n",
    "                               sharp_null_value=0, \n",
    "                               test_statistic={'function': 'difference_in_ks_statistic', 'params': None}, \n",
    "                               treatment_assignment_probability=0.5, \n",
    "                               outcome_column_name='y', \n",
    "                               treatment_column_name='d', \n",
    "                               treatment_name=1, \n",
    "                               control_name=0, \n",
    "                               num_permutations=1000, \n",
    "                               alternative='two-sided', \n",
    "                               confidence=0.95, \n",
    "                               sample_with_replacement=True,\n",
    "                              )"
   ]
  },
  {
   "cell_type": "code",
   "execution_count": 187,
   "id": "3504db52-d09b-4806-b99d-417ec35a4899",
   "metadata": {},
   "outputs": [
    {
     "data": {
      "text/plain": [
       "0.25"
      ]
     },
     "execution_count": 187,
     "metadata": {},
     "output_type": "execute_result"
    }
   ],
   "source": [
    "test_run_ks.observed_test_statistic"
   ]
  },
  {
   "cell_type": "code",
   "execution_count": 188,
   "id": "f714aea0-4ffb-4ed8-ba4b-e4088c651f65",
   "metadata": {},
   "outputs": [
    {
     "data": {
      "text/plain": [
       "array([-0.31875,  0.25   ])"
      ]
     },
     "execution_count": 188,
     "metadata": {},
     "output_type": "execute_result"
    }
   ],
   "source": [
    "test_run_ks.ci"
   ]
  },
  {
   "cell_type": "code",
   "execution_count": 189,
   "id": "015e44bc-4a6e-47ef-9bd5-09510282c4af",
   "metadata": {},
   "outputs": [
    {
     "data": {
      "text/plain": [
       "1.0"
      ]
     },
     "execution_count": 189,
     "metadata": {},
     "output_type": "execute_result"
    }
   ],
   "source": [
    "test_run_ks.p_val"
   ]
  },
  {
   "cell_type": "code",
   "execution_count": 191,
   "id": "d68db034-ecf4-43cd-88c8-592da4c4377c",
   "metadata": {},
   "outputs": [],
   "source": [
    "# Well ok, I mean this is such a small sample, this could be all wacky. Let's try a median test and a 75th percentile test\n",
    "test_run_median = RandomizationInference()"
   ]
  },
  {
   "cell_type": "code",
   "execution_count": 193,
   "id": "fefa8cbd-7afb-4251-bed3-b9bab6798235",
   "metadata": {},
   "outputs": [
    {
     "name": "stdout",
     "output_type": "stream",
     "text": [
      "Running randomization inference...\n",
      "Found {0} distinct assignment combinations. All combinations will be simulated.\n"
     ]
    },
    {
     "data": {
      "application/vnd.jupyter.widget-view+json": {
       "model_id": "78124f7850884f33b00aaf804f3c601e",
       "version_major": 2,
       "version_minor": 0
      },
      "text/plain": [
       "  0%|          | 0/70 [00:00<?, ?it/s]"
      ]
     },
     "metadata": {},
     "output_type": "display_data"
    },
    {
     "data": {
      "image/png": "[encoded data removed]",
      "text/plain": [
       "<Figure size 1000x800 with 1 Axes>"
      ]
     },
     "metadata": {},
     "output_type": "display_data"
    }
   ],
   "source": [
    "test_run_median.experimental_analysis(df=df, \n",
    "                               sharp_null_type='additive', \n",
    "                               sharp_null_value=0, \n",
    "                               test_statistic={'function': 'difference_in_percentiles', 'params': {'quantile': 0.5}}, \n",
    "                               treatment_assignment_probability=0.5, \n",
    "                               outcome_column_name='y', \n",
    "                               treatment_column_name='d', \n",
    "                               treatment_name=1, \n",
    "                               control_name=0, \n",
    "                               num_permutations=1000, \n",
    "                               alternative='two-sided', \n",
    "                               confidence=0.95, \n",
    "                               sample_with_replacement=True,\n",
    "                              )"
   ]
  },
  {
   "cell_type": "code",
   "execution_count": 194,
   "id": "325738bf-1dc2-471a-a062-364e1b2ec7af",
   "metadata": {},
   "outputs": [],
   "source": [
    "test_run_75 = RandomizationInference()"
   ]
  },
  {
   "cell_type": "code",
   "execution_count": 195,
   "id": "de82930e-d63c-4813-ab6e-a2229d19a255",
   "metadata": {},
   "outputs": [
    {
     "name": "stdout",
     "output_type": "stream",
     "text": [
      "Running randomization inference...\n",
      "Found {0} distinct assignment combinations. All combinations will be simulated.\n"
     ]
    },
    {
     "data": {
      "application/vnd.jupyter.widget-view+json": {
       "model_id": "a9662288984e4c63b5e88fbff94b98c2",
       "version_major": 2,
       "version_minor": 0
      },
      "text/plain": [
       "  0%|          | 0/70 [00:00<?, ?it/s]"
      ]
     },
     "metadata": {},
     "output_type": "display_data"
    },
    {
     "data": {
      "image/png": "[encoded data removed]",
      "text/plain": [
       "<Figure size 1000x800 with 1 Axes>"
      ]
     },
     "metadata": {},
     "output_type": "display_data"
    }
   ],
   "source": [
    "test_run_median.experimental_analysis(df=df, \n",
    "                               sharp_null_type='additive', \n",
    "                               sharp_null_value=0, \n",
    "                               test_statistic={'function': 'difference_in_percentiles', 'params': {'quantile': 0.75}}, \n",
    "                               treatment_assignment_probability=0.5, \n",
    "                               outcome_column_name='y', \n",
    "                               treatment_column_name='d', \n",
    "                               treatment_name=1, \n",
    "                               control_name=0, \n",
    "                               num_permutations=1000, \n",
    "                               alternative='two-sided', \n",
    "                               confidence=0.95, \n",
    "                               sample_with_replacement=True,\n",
    "                              )"
   ]
  },
  {
   "cell_type": "code",
   "execution_count": 196,
   "id": "adf56831-7427-4a4a-8b0d-fc6933dc5390",
   "metadata": {},
   "outputs": [],
   "source": [
    "test_run_90 = RandomizationInference()"
   ]
  },
  {
   "cell_type": "code",
   "execution_count": 197,
   "id": "4fccce91-ec2e-4551-87ed-a2c0ff7b6116",
   "metadata": {},
   "outputs": [
    {
     "name": "stdout",
     "output_type": "stream",
     "text": [
      "Running randomization inference...\n",
      "Found {0} distinct assignment combinations. All combinations will be simulated.\n"
     ]
    },
    {
     "data": {
      "application/vnd.jupyter.widget-view+json": {
       "model_id": "8ed825de86a647a2831c4146aa209b98",
       "version_major": 2,
       "version_minor": 0
      },
      "text/plain": [
       "  0%|          | 0/70 [00:00<?, ?it/s]"
      ]
     },
     "metadata": {},
     "output_type": "display_data"
    },
    {
     "data": {
      "image/png": "[encoded data removed]",
      "text/plain": [
       "<Figure size 1000x800 with 1 Axes>"
      ]
     },
     "metadata": {},
     "output_type": "display_data"
    }
   ],
   "source": [
    "test_run_median.experimental_analysis(df=df, \n",
    "                               sharp_null_type='additive', \n",
    "                               sharp_null_value=0, \n",
    "                               test_statistic={'function': 'difference_in_percentiles', 'params': {'quantile': 0.9}}, \n",
    "                               treatment_assignment_probability=0.5, \n",
    "                               outcome_column_name='y', \n",
    "                               treatment_column_name='d', \n",
    "                               treatment_name=1, \n",
    "                               control_name=0, \n",
    "                               num_permutations=1000, \n",
    "                               alternative='two-sided', \n",
    "                               confidence=0.95, \n",
    "                               sample_with_replacement=True,\n",
    "                              )"
   ]
  },
  {
   "cell_type": "code",
   "execution_count": null,
   "id": "b5d10517-d409-4f1d-8eb7-18e53d8004f9",
   "metadata": {},
   "outputs": [],
   "source": []
  },
  {
   "cell_type": "code",
   "execution_count": null,
   "id": "b9ff3ec9-69cc-4e94-b4b2-e97a0e267a83",
   "metadata": {},
   "outputs": [],
   "source": []
  },
  {
   "cell_type": "code",
   "execution_count": null,
   "id": "10398baf-6337-481b-879b-1f3ad6d679e4",
   "metadata": {},
   "outputs": [],
   "source": []
  },
  {
   "cell_type": "code",
   "execution_count": 140,
   "id": "e91016ff-e097-406f-8e99-731bbc98acb1",
   "metadata": {},
   "outputs": [
    {
     "data": {
      "text/plain": [
       "4.7749999999999915"
      ]
     },
     "execution_count": 140,
     "metadata": {},
     "output_type": "execute_result"
    }
   ],
   "source": [
    "np.percentile(test_run.df_sims['test_statistic'].values, 100 * (1 - 0.05 / 2.0))"
   ]
  },
  {
   "cell_type": "code",
   "execution_count": 141,
   "id": "86b3bbfd-3b8a-4ab2-a50c-c6d4d0bf825a",
   "metadata": {},
   "outputs": [
    {
     "data": {
      "text/plain": [
       "-4.775"
      ]
     },
     "execution_count": 141,
     "metadata": {},
     "output_type": "execute_result"
    }
   ],
   "source": [
    "np.percentile(test_run.df_sims['test_statistic'].values, 100 * (0.05 / 2.0))"
   ]
  },
  {
   "cell_type": "code",
   "execution_count": 142,
   "id": "0f7a4488-406f-4471-8c30-9565478416a5",
   "metadata": {},
   "outputs": [
    {
     "data": {
      "text/plain": [
       "-2.7749999999999915"
      ]
     },
     "execution_count": 142,
     "metadata": {},
     "output_type": "execute_result"
    }
   ],
   "source": [
    "test_run.ci[0]"
   ]
  },
  {
   "cell_type": "code",
   "execution_count": 143,
   "id": "12b515b5-ed48-45d2-ac28-49e4cd260e66",
   "metadata": {},
   "outputs": [
    {
     "data": {
      "text/plain": [
       "array(-inf)"
      ]
     },
     "execution_count": 143,
     "metadata": {},
     "output_type": "execute_result"
    }
   ],
   "source": [
    "np.full_like(test_run.ci[0], -np.inf)"
   ]
  },
  {
   "cell_type": "code",
   "execution_count": 127,
   "id": "fdc43827-544a-4307-a8c4-a5fab454cba0",
   "metadata": {},
   "outputs": [],
   "source": [
    "# Pivotal on mean\n",
    "low_mean_pivot = 2 * test_run.observed_test_statistic - np.percentile(test_run.df_sims['test_statistic'].values, 100 * (1 - 0.05 / 2.0))\n",
    "high_mean_pivot = 2 * test_run.observed_test_statistic - np.percentile(test_run.df_sims['test_statistic'].values, 100 * (0.05 / 2.0))"
   ]
  },
  {
   "cell_type": "code",
   "execution_count": 128,
   "id": "36220e44-0b1f-43c8-be57-ba643be1eebb",
   "metadata": {},
   "outputs": [
    {
     "data": {
      "text/plain": [
       "-2.7749999999999915"
      ]
     },
     "execution_count": 128,
     "metadata": {},
     "output_type": "execute_result"
    }
   ],
   "source": [
    "low_mean_pivot"
   ]
  },
  {
   "cell_type": "code",
   "execution_count": 129,
   "id": "08c155e4-d4a1-49dc-98cd-32d2c37bf26f",
   "metadata": {},
   "outputs": [
    {
     "data": {
      "text/plain": [
       "6.775"
      ]
     },
     "execution_count": 129,
     "metadata": {},
     "output_type": "execute_result"
    }
   ],
   "source": [
    "high_mean_pivot"
   ]
  },
  {
   "cell_type": "code",
   "execution_count": 153,
   "id": "8a576bfb-c829-4771-9336-b55b862d3fc6",
   "metadata": {},
   "outputs": [],
   "source": [
    "confidence = 0.95\n",
    "df_ = test_run.df_sims.copy()\n",
    "df_ = df_.query(\"permutation != -1\")"
   ]
  },
  {
   "cell_type": "code",
   "execution_count": 154,
   "id": "26ef617f-e15e-4c78-a0bd-9f2b618bb567",
   "metadata": {},
   "outputs": [],
   "source": [
    "alternative = 'two-sided'"
   ]
  },
  {
   "cell_type": "code",
   "execution_count": 155,
   "id": "8d286d21-d74d-454d-9790-5b07750d86dc",
   "metadata": {},
   "outputs": [],
   "source": [
    "if alternative == 'two-sided':\n",
    "    alpha = ((1 - confidence)) / 2\n",
    "else:\n",
    "    alpha = 1 - confidence"
   ]
  },
  {
   "cell_type": "code",
   "execution_count": 156,
   "id": "f0038460-4801-441c-8ed6-1495f72f122d",
   "metadata": {},
   "outputs": [
    {
     "data": {
      "text/plain": [
       "0.025000000000000022"
      ]
     },
     "execution_count": 156,
     "metadata": {},
     "output_type": "execute_result"
    }
   ],
   "source": [
    "alpha"
   ]
  },
  {
   "cell_type": "code",
   "execution_count": 157,
   "id": "432b58cc-bc5f-4d34-ba65-dde105ea1701",
   "metadata": {},
   "outputs": [],
   "source": [
    "interval = alpha, 1 - alpha"
   ]
  },
  {
   "cell_type": "code",
   "execution_count": 158,
   "id": "57ad777e-974d-4b22-ac92-da4024c9dd02",
   "metadata": {},
   "outputs": [
    {
     "data": {
      "text/plain": [
       "(0.025000000000000022, 0.975)"
      ]
     },
     "execution_count": 158,
     "metadata": {},
     "output_type": "execute_result"
    }
   ],
   "source": [
    "interval"
   ]
  },
  {
   "cell_type": "code",
   "execution_count": 159,
   "id": "3aecd2ab-9306-43ca-9395-d0d114c6b5d9",
   "metadata": {},
   "outputs": [],
   "source": [
    "ci_low = np.percentile(df_['test_statistic'].values, interval[0]*100)"
   ]
  },
  {
   "cell_type": "code",
   "execution_count": 160,
   "id": "d685858a-5ceb-4f81-8955-7667074bdbc9",
   "metadata": {},
   "outputs": [
    {
     "data": {
      "text/plain": [
       "-4.774999999999999"
      ]
     },
     "execution_count": 160,
     "metadata": {},
     "output_type": "execute_result"
    }
   ],
   "source": [
    "ci_low"
   ]
  },
  {
   "cell_type": "code",
   "execution_count": 161,
   "id": "47c323ca-afbb-459c-9880-45af215ff977",
   "metadata": {},
   "outputs": [],
   "source": [
    "ci_high = np.percentile(df_['test_statistic'].values, interval[1]*100)"
   ]
  },
  {
   "cell_type": "code",
   "execution_count": 162,
   "id": "0c381b7e-4cdf-4f38-937c-b8c03991aea1",
   "metadata": {},
   "outputs": [
    {
     "data": {
      "text/plain": [
       "4.7749999999999915"
      ]
     },
     "execution_count": 162,
     "metadata": {},
     "output_type": "execute_result"
    }
   ],
   "source": [
    "ci_high"
   ]
  },
  {
   "cell_type": "code",
   "execution_count": 163,
   "id": "c61446f7-bc83-499a-a43c-172b13187a74",
   "metadata": {},
   "outputs": [],
   "source": [
    "ci_low, ci_high = 2 * test_run.observed_test_statistic - ci_high, 2 * test_run.observed_test_statistic - ci_low"
   ]
  },
  {
   "cell_type": "code",
   "execution_count": 164,
   "id": "2c237624-9257-4947-8c6c-2c463e3ce0ba",
   "metadata": {},
   "outputs": [
    {
     "data": {
      "text/plain": [
       "-2.7749999999999915"
      ]
     },
     "execution_count": 164,
     "metadata": {},
     "output_type": "execute_result"
    }
   ],
   "source": [
    "ci_low"
   ]
  },
  {
   "cell_type": "code",
   "execution_count": 165,
   "id": "3754c953-191b-45a3-8c50-7d138fc70cf7",
   "metadata": {},
   "outputs": [
    {
     "data": {
      "text/plain": [
       "6.774999999999999"
      ]
     },
     "execution_count": 165,
     "metadata": {},
     "output_type": "execute_result"
    }
   ],
   "source": [
    "ci_high"
   ]
  },
  {
   "cell_type": "code",
   "execution_count": null,
   "id": "411bbc58-ab71-48c8-9338-4c8b8637dede",
   "metadata": {},
   "outputs": [],
   "source": [
    "        alpha = 1 - confidence\n",
    "        df_ = self.df_sims.copy()\n",
    "        df_ = df_.query(\"permutation != -1\")\n",
    "        \n",
    "        if alternative == 'two-sided':\n",
    "            alpha = ((1 - confidence)) / 2\n",
    "        else:\n",
    "            alpha = 1 - confidence\n",
    "        \n",
    "        interval = alpha, 1 - alpha\n",
    "        \n",
    "        # Calculate the percentiles\n",
    "        ci_low = np.percentile(df_['test_statistic'].values, interval[0]*100)\n",
    "        ci_high = np.percentile(df_['test_statistic'].values, interval[1]*100)\n",
    "        \n",
    "        ci_low, ci_high = 2 * df_['test_statistic'] - ci_high, 2 * df_['test_statistic'] - ci_low\n",
    "        \n",
    "        if alternative == 'less':\n",
    "            ci_low = np.full_like(ci_low, -np.inf)\n",
    "        elif alternative == 'greater':\n",
    "            ci_high = np.full_like(ci_high, np.inf)\n",
    "        \n",
    "        ci_ = np.array([ci_low, ci_high])\n",
    "        \n",
    "        return ci_"
   ]
  },
  {
   "cell_type": "code",
   "execution_count": null,
   "id": "39c0629b-b0c8-4aeb-9f26-b0f4cbcc8947",
   "metadata": {},
   "outputs": [],
   "source": []
  },
  {
   "cell_type": "code",
   "execution_count": null,
   "id": "7a555e06-10df-489e-aec4-4342d2e87ef3",
   "metadata": {},
   "outputs": [],
   "source": []
  },
  {
   "cell_type": "code",
   "execution_count": null,
   "id": "f42e7503-62a2-4ce3-9401-b48ea08e5f90",
   "metadata": {},
   "outputs": [],
   "source": []
  },
  {
   "cell_type": "code",
   "execution_count": null,
   "id": "c4d13910-1633-45ed-b21a-609ec1c0c979",
   "metadata": {},
   "outputs": [],
   "source": []
  },
  {
   "cell_type": "code",
   "execution_count": 206,
   "id": "cb1b386b-8d75-4615-8e78-c139c678676d",
   "metadata": {},
   "outputs": [
    {
     "data": {
      "text/plain": [
       "<Axes: xlabel='test_statistic', ylabel='Density'>"
      ]
     },
     "execution_count": 206,
     "metadata": {},
     "output_type": "execute_result"
    }
   ],
   "source": [
    "ax.ax"
   ]
  },
  {
   "cell_type": "code",
   "execution_count": 220,
   "id": "9e01f74f-9880-4e5c-96e9-3f667b905a47",
   "metadata": {},
   "outputs": [
    {
     "data": {
      "image/png": "[encoded data removed]",
      "text/plain": [
       "<Figure size 640x480 with 1 Axes>"
      ]
     },
     "metadata": {},
     "output_type": "display_data"
    }
   ],
   "source": [
    "ax = plt.gca()"
   ]
  },
  {
   "cell_type": "code",
   "execution_count": 237,
   "id": "4f113fd8-b5ac-4626-9584-48de37e5d5c5",
   "metadata": {},
   "outputs": [
    {
     "data": {
      "text/plain": [
       "<Axes: xlabel='test_statistic', ylabel='Density'>"
      ]
     },
     "execution_count": 237,
     "metadata": {},
     "output_type": "execute_result"
    }
   ],
   "source": [
    "g.ax"
   ]
  },
  {
   "cell_type": "code",
   "execution_count": 256,
   "id": "2378aaef-4ced-4061-af1f-6aeddf1645b8",
   "metadata": {},
   "outputs": [
    {
     "ename": "IndexError",
     "evalue": "list index out of range",
     "output_type": "error",
     "traceback": [
      "\u001b[0;31m---------------------------------------------------------------------------\u001b[0m",
      "\u001b[0;31mIndexError\u001b[0m                                Traceback (most recent call last)",
      "Cell \u001b[0;32mIn[256], line 3\u001b[0m\n\u001b[1;32m      1\u001b[0m ax \u001b[38;5;241m=\u001b[39m sns\u001b[38;5;241m.\u001b[39mkdeplot(data\u001b[38;5;241m=\u001b[39mtest_run\u001b[38;5;241m.\u001b[39mdf_sims, x\u001b[38;5;241m=\u001b[39m\u001b[38;5;124m'\u001b[39m\u001b[38;5;124mtest_statistic\u001b[39m\u001b[38;5;124m'\u001b[39m, fill\u001b[38;5;241m=\u001b[39m\u001b[38;5;28;01mTrue\u001b[39;00m)\n\u001b[0;32m----> 3\u001b[0m kde_x, kde_y \u001b[38;5;241m=\u001b[39m \u001b[43max\u001b[49m\u001b[38;5;241;43m.\u001b[39;49m\u001b[43mlines\u001b[49m\u001b[43m[\u001b[49m\u001b[38;5;241;43m0\u001b[39;49m\u001b[43m]\u001b[49m\u001b[38;5;241m.\u001b[39mget_data()\n\u001b[1;32m      5\u001b[0m p0 \u001b[38;5;241m=\u001b[39m plt\u001b[38;5;241m.\u001b[39maxvline(x\u001b[38;5;241m=\u001b[39mtest_run\u001b[38;5;241m.\u001b[39mobserved_test_statistic, color\u001b[38;5;241m=\u001b[39m\u001b[38;5;124m'\u001b[39m\u001b[38;5;124mgreen\u001b[39m\u001b[38;5;124m'\u001b[39m)\n\u001b[1;32m      6\u001b[0m p1 \u001b[38;5;241m=\u001b[39m plt\u001b[38;5;241m.\u001b[39maxvline(x\u001b[38;5;241m=\u001b[39mtest_run\u001b[38;5;241m.\u001b[39mci[\u001b[38;5;241m0\u001b[39m], color\u001b[38;5;241m=\u001b[39m\u001b[38;5;124m'\u001b[39m\u001b[38;5;124m#EF9A9A\u001b[39m\u001b[38;5;124m'\u001b[39m)\n",
      "File \u001b[0;32m~/miniconda3/envs/causal_ml_py39/lib/python3.9/site-packages/matplotlib/axes/_base.py:1457\u001b[0m, in \u001b[0;36m_AxesBase.ArtistList.__getitem__\u001b[0;34m(self, key)\u001b[0m\n\u001b[1;32m   1456\u001b[0m \u001b[38;5;28;01mdef\u001b[39;00m \u001b[38;5;21m__getitem__\u001b[39m(\u001b[38;5;28mself\u001b[39m, key):\n\u001b[0;32m-> 1457\u001b[0m     \u001b[38;5;28;01mreturn\u001b[39;00m \u001b[43m[\u001b[49m\u001b[43martist\u001b[49m\n\u001b[1;32m   1458\u001b[0m \u001b[43m            \u001b[49m\u001b[38;5;28;43;01mfor\u001b[39;49;00m\u001b[43m \u001b[49m\u001b[43martist\u001b[49m\u001b[43m \u001b[49m\u001b[38;5;129;43;01min\u001b[39;49;00m\u001b[43m \u001b[49m\u001b[38;5;28;43mself\u001b[39;49m\u001b[38;5;241;43m.\u001b[39;49m\u001b[43m_axes\u001b[49m\u001b[38;5;241;43m.\u001b[39;49m\u001b[43m_children\u001b[49m\n\u001b[1;32m   1459\u001b[0m \u001b[43m            \u001b[49m\u001b[38;5;28;43;01mif\u001b[39;49;00m\u001b[43m \u001b[49m\u001b[38;5;28;43mself\u001b[39;49m\u001b[38;5;241;43m.\u001b[39;49m\u001b[43m_type_check\u001b[49m\u001b[43m(\u001b[49m\u001b[43martist\u001b[49m\u001b[43m)\u001b[49m\u001b[43m]\u001b[49m\u001b[43m[\u001b[49m\u001b[43mkey\u001b[49m\u001b[43m]\u001b[49m\n",
      "\u001b[0;31mIndexError\u001b[0m: list index out of range"
     ]
    },
    {
     "data": {
      "image/png": "[encoded data removed]",
      "text/plain": [
       "<Figure size 640x480 with 1 Axes>"
      ]
     },
     "metadata": {},
     "output_type": "display_data"
    }
   ],
   "source": [
    "ax = sns.kdeplot(data=test_run.df_sims, x='test_statistic', fill=True)\n",
    "\n",
    "kde_x, kde_y = ax.lines[0].get_data()\n",
    "\n",
    "p0 = plt.axvline(x=test_run.observed_test_statistic, color='green')\n",
    "p1 = plt.axvline(x=test_run.ci[0], color='#EF9A9A')\n",
    "p2 = plt.axvline(x=test_run.ci[1], color='#EF9A9A')\n",
    "\n",
    "ax.fill_between(kde_x, kde_y, where=(kde_x < test_run.ci[0]) | (kde_x > test_run.ci[1]) , \n",
    "                interpolate=True, color='#EF9A9A')"
   ]
  },
  {
   "cell_type": "code",
   "execution_count": 260,
   "id": "f421cbe7-a941-49c5-a06a-6e3ecd0cf4b0",
   "metadata": {},
   "outputs": [
    {
     "data": {
      "text/plain": [
       "<matplotlib.collections.PolyCollection at 0x17d3c84c0>"
      ]
     },
     "execution_count": 260,
     "metadata": {},
     "output_type": "execute_result"
    },
    {
     "data": {
      "image/png": "[encoded data removed]",
      "text/plain": [
       "<Figure size 500x500 with 1 Axes>"
      ]
     },
     "metadata": {},
     "output_type": "display_data"
    }
   ],
   "source": [
    "g = sns.displot(data=test_run.df_sims, x='test_statistic', kind='hist', fill=True, kde=True)\n",
    "\n",
    "kde_x, kde_y = g.ax.lines[0].get_data()\n",
    "\n",
    "g.ax.axvline(x=test_run.observed_test_statistic, color='green')\n",
    "g.ax.axvline(x=test_run.ci[0], color='#EF9A9A')\n",
    "g.ax.axvline(x=test_run.ci[1], color='#EF9A9A')\n",
    "\n",
    "g.ax.fill_between(kde_x, kde_y, where=(kde_x > test_run.ci[0]) | (kde_x < test_run.ci[1]) , \n",
    "                interpolate=True, color='#EF9A9A')\n",
    "\n",
    "# ax = g.ax\n",
    "# ax = plt.gca()\n",
    "# kde_x, kde_y = ax.lines[0].get_data()\n",
    "\n",
    "# p0 = plt.axvline(x=test_run.observed_test_statistic, color='green')\n",
    "# p1 = plt.axvline(x=test_run.ci[0], color='#EF9A9A')\n",
    "# p2 = plt.axvline(x=test_run.ci[1], color='#EF9A9A')\n",
    "\n",
    "# ax.fill_between(test_run.ci[0], test_run.ci[1])\n",
    "\n",
    "# g.ax.fill_between(kde_x, kde_y, where=(kde_x < test_run.ci[0]) | (kde_x > test_run.ci[1]) , \n",
    "#                 interpolate=True, color='#EF9A9A')"
   ]
  },
  {
   "cell_type": "code",
   "execution_count": 252,
   "id": "6985bcf1-0a33-4026-9920-c4ace8b4543a",
   "metadata": {},
   "outputs": [
    {
     "data": {
      "text/plain": [
       "[0, 1]"
      ]
     },
     "execution_count": 252,
     "metadata": {},
     "output_type": "execute_result"
    }
   ],
   "source": [
    "kde_y"
   ]
  },
  {
   "cell_type": "code",
   "execution_count": 229,
   "id": "5259d050-2a08-4269-bf46-0b2df6def2ff",
   "metadata": {},
   "outputs": [
    {
     "name": "stdout",
     "output_type": "stream",
     "text": [
      "Axes(0.195583,0.146833;0.762417x0.811167)\n"
     ]
    }
   ],
   "source": [
    "print(g.axes[0,0])"
   ]
  },
  {
   "cell_type": "code",
   "execution_count": 204,
   "id": "15560c55-cb7b-4cec-a964-787b1fc3d6de",
   "metadata": {},
   "outputs": [
    {
     "name": "stderr",
     "output_type": "stream",
     "text": [
      "/var/folders/_w/zg400xvx6bzgj250lxvqktwr0000gn/T/ipykernel_23562/1075755712.py:1: UserWarning: \n",
      "\n",
      "`distplot` is a deprecated function and will be removed in seaborn v0.14.0.\n",
      "\n",
      "Please adapt your code to use either `displot` (a figure-level function with\n",
      "similar flexibility) or `histplot` (an axes-level function for histograms).\n",
      "\n",
      "For a guide to updating your code to use the new functions, please see\n",
      "https://gist.github.com/mwaskom/de44147ed2974457ad6372750bbe5751\n",
      "\n",
      "  ax = sns.distplot(a=test_run.df_sims['test_statistic'].values, hist=True, color='#388E3C')\n"
     ]
    },
    {
     "data": {
      "text/plain": [
       "<matplotlib.collections.PolyCollection at 0x16b8d7880>"
      ]
     },
     "execution_count": 204,
     "metadata": {},
     "output_type": "execute_result"
    },
    {
     "data": {
      "image/png": "[encoded data removed]",
      "text/plain": [
       "<Figure size 640x480 with 1 Axes>"
      ]
     },
     "metadata": {},
     "output_type": "display_data"
    }
   ],
   "source": [
    "ax = sns.distplot(a=test_run.df_sims['test_statistic'].values, hist=True, color='#388E3C')\n",
    "kde_x, kde_y = ax.lines[0].get_data()\n",
    "\n",
    "#plotting the two lines\n",
    "p1 = plt.axvline(x=test_run.ci[0], color='#EF9A9A')\n",
    "p2 = plt.axvline(x=test_run.ci[1], color='#EF9A9A')\n",
    "\n",
    "\n",
    "ax.fill_between(kde_x, kde_y, where=(kde_x < test_run.ci[0]) | (kde_x > test_run.ci[1]) , \n",
    "                interpolate=True, color='#EF9A9A')"
   ]
  },
  {
   "cell_type": "code",
   "execution_count": 201,
   "id": "65214251-b1c3-4c4f-91b9-fc0f60cec694",
   "metadata": {},
   "outputs": [
    {
     "data": {
      "text/plain": [
       "<matplotlib.lines.Line2D at 0x16b444430>"
      ]
     },
     "execution_count": 201,
     "metadata": {},
     "output_type": "execute_result"
    },
    {
     "data": {
      "image/png": "[encoded data removed]",
      "text/plain": [
       "<Figure size 500x500 with 1 Axes>"
      ]
     },
     "metadata": {},
     "output_type": "display_data"
    }
   ],
   "source": [
    "ax = sns.displot(data=test_run.df_sims, x='test_statistic', kind='kde', fill=True)\n",
    "plt.axvline(x=test_run.observed_test_statistic, color='green', linestyle='-')\n",
    "plt.axvline(x=test_run.ci[0], color='black', linestyle='-', ymax=0.1)\n",
    "plt.axvline(x=test_run.ci[1], color='black', linestyle='-', ymax=0.1)\n",
    "plt.axhline(y=0.005, xmin=test_run.ci[0], xmax=test_run.ci[1], linestyle='--')"
   ]
  },
  {
   "cell_type": "code",
   "execution_count": null,
   "id": "26902108-3d6a-4c83-97ac-7b0d8c1bc77f",
   "metadata": {},
   "outputs": [],
   "source": []
  },
  {
   "cell_type": "code",
   "execution_count": 167,
   "id": "4186f427-e52b-4a46-be3a-09e2ac7e8ddb",
   "metadata": {
    "tags": []
   },
   "outputs": [
    {
     "data": {
      "text/plain": [
       "21"
      ]
     },
     "execution_count": 167,
     "metadata": {},
     "output_type": "execute_result"
    }
   ],
   "source": [
    "test_run.df_sims['test_statistic'].nunique()"
   ]
  },
  {
   "cell_type": "code",
   "execution_count": 168,
   "id": "c2dfe336-47dc-4d45-b7cc-58602a875fe6",
   "metadata": {},
   "outputs": [
    {
     "data": {
      "text/plain": [
       "(70, 4)"
      ]
     },
     "execution_count": 168,
     "metadata": {},
     "output_type": "execute_result"
    }
   ],
   "source": [
    "test_run.df_sims.shape"
   ]
  },
  {
   "cell_type": "code",
   "execution_count": 169,
   "id": "9eaea31d-e8b5-4184-975e-c5e8323ce2cc",
   "metadata": {},
   "outputs": [
    {
     "data": {
      "text/html": [
       "<div>\n",
       "<style scoped>\n",
       "    .dataframe tbody tr th:only-of-type {\n",
       "        vertical-align: middle;\n",
       "    }\n",
       "\n",
       "    .dataframe tbody tr th {\n",
       "        vertical-align: top;\n",
       "    }\n",
       "\n",
       "    .dataframe thead th {\n",
       "        text-align: right;\n",
       "    }\n",
       "</style>\n",
       "<table border=\"1\" class=\"dataframe\">\n",
       "  <thead>\n",
       "    <tr style=\"text-align: right;\">\n",
       "      <th></th>\n",
       "      <th>permutation</th>\n",
       "      <th>test_statistic</th>\n",
       "      <th>rank_column</th>\n",
       "      <th>rank</th>\n",
       "    </tr>\n",
       "  </thead>\n",
       "  <tbody>\n",
       "    <tr>\n",
       "      <th>0</th>\n",
       "      <td>0</td>\n",
       "      <td>1.0</td>\n",
       "      <td>1.0</td>\n",
       "      <td>60.0</td>\n",
       "    </tr>\n",
       "    <tr>\n",
       "      <th>1</th>\n",
       "      <td>1</td>\n",
       "      <td>2.0</td>\n",
       "      <td>2.0</td>\n",
       "      <td>46.0</td>\n",
       "    </tr>\n",
       "    <tr>\n",
       "      <th>2</th>\n",
       "      <td>2</td>\n",
       "      <td>3.0</td>\n",
       "      <td>3.0</td>\n",
       "      <td>30.0</td>\n",
       "    </tr>\n",
       "    <tr>\n",
       "      <th>3</th>\n",
       "      <td>3</td>\n",
       "      <td>3.5</td>\n",
       "      <td>3.5</td>\n",
       "      <td>22.0</td>\n",
       "    </tr>\n",
       "    <tr>\n",
       "      <th>4</th>\n",
       "      <td>4</td>\n",
       "      <td>4.5</td>\n",
       "      <td>4.5</td>\n",
       "      <td>12.0</td>\n",
       "    </tr>\n",
       "    <tr>\n",
       "      <th>5</th>\n",
       "      <td>5</td>\n",
       "      <td>-4.5</td>\n",
       "      <td>4.5</td>\n",
       "      <td>12.0</td>\n",
       "    </tr>\n",
       "    <tr>\n",
       "      <th>6</th>\n",
       "      <td>6</td>\n",
       "      <td>-3.5</td>\n",
       "      <td>3.5</td>\n",
       "      <td>22.0</td>\n",
       "    </tr>\n",
       "    <tr>\n",
       "      <th>7</th>\n",
       "      <td>7</td>\n",
       "      <td>-3.0</td>\n",
       "      <td>3.0</td>\n",
       "      <td>30.0</td>\n",
       "    </tr>\n",
       "    <tr>\n",
       "      <th>8</th>\n",
       "      <td>8</td>\n",
       "      <td>-2.0</td>\n",
       "      <td>2.0</td>\n",
       "      <td>46.0</td>\n",
       "    </tr>\n",
       "    <tr>\n",
       "      <th>9</th>\n",
       "      <td>9</td>\n",
       "      <td>-2.5</td>\n",
       "      <td>2.5</td>\n",
       "      <td>34.0</td>\n",
       "    </tr>\n",
       "    <tr>\n",
       "      <th>10</th>\n",
       "      <td>10</td>\n",
       "      <td>-2.0</td>\n",
       "      <td>2.0</td>\n",
       "      <td>46.0</td>\n",
       "    </tr>\n",
       "    <tr>\n",
       "      <th>11</th>\n",
       "      <td>11</td>\n",
       "      <td>-1.0</td>\n",
       "      <td>1.0</td>\n",
       "      <td>60.0</td>\n",
       "    </tr>\n",
       "    <tr>\n",
       "      <th>12</th>\n",
       "      <td>12</td>\n",
       "      <td>-1.0</td>\n",
       "      <td>1.0</td>\n",
       "      <td>60.0</td>\n",
       "    </tr>\n",
       "    <tr>\n",
       "      <th>13</th>\n",
       "      <td>13</td>\n",
       "      <td>0.0</td>\n",
       "      <td>0.0</td>\n",
       "      <td>70.0</td>\n",
       "    </tr>\n",
       "    <tr>\n",
       "      <th>14</th>\n",
       "      <td>14</td>\n",
       "      <td>0.5</td>\n",
       "      <td>0.5</td>\n",
       "      <td>66.0</td>\n",
       "    </tr>\n",
       "    <tr>\n",
       "      <th>15</th>\n",
       "      <td>15</td>\n",
       "      <td>1.0</td>\n",
       "      <td>1.0</td>\n",
       "      <td>60.0</td>\n",
       "    </tr>\n",
       "    <tr>\n",
       "      <th>16</th>\n",
       "      <td>16</td>\n",
       "      <td>2.0</td>\n",
       "      <td>2.0</td>\n",
       "      <td>46.0</td>\n",
       "    </tr>\n",
       "    <tr>\n",
       "      <th>17</th>\n",
       "      <td>17</td>\n",
       "      <td>2.5</td>\n",
       "      <td>2.5</td>\n",
       "      <td>34.0</td>\n",
       "    </tr>\n",
       "    <tr>\n",
       "      <th>18</th>\n",
       "      <td>18</td>\n",
       "      <td>3.5</td>\n",
       "      <td>3.5</td>\n",
       "      <td>22.0</td>\n",
       "    </tr>\n",
       "    <tr>\n",
       "      <th>19</th>\n",
       "      <td>19</td>\n",
       "      <td>3.0</td>\n",
       "      <td>3.0</td>\n",
       "      <td>30.0</td>\n",
       "    </tr>\n",
       "    <tr>\n",
       "      <th>20</th>\n",
       "      <td>20</td>\n",
       "      <td>3.5</td>\n",
       "      <td>3.5</td>\n",
       "      <td>22.0</td>\n",
       "    </tr>\n",
       "    <tr>\n",
       "      <th>21</th>\n",
       "      <td>21</td>\n",
       "      <td>4.5</td>\n",
       "      <td>4.5</td>\n",
       "      <td>12.0</td>\n",
       "    </tr>\n",
       "    <tr>\n",
       "      <th>22</th>\n",
       "      <td>22</td>\n",
       "      <td>4.5</td>\n",
       "      <td>4.5</td>\n",
       "      <td>12.0</td>\n",
       "    </tr>\n",
       "    <tr>\n",
       "      <th>23</th>\n",
       "      <td>23</td>\n",
       "      <td>5.5</td>\n",
       "      <td>5.5</td>\n",
       "      <td>4.0</td>\n",
       "    </tr>\n",
       "    <tr>\n",
       "      <th>24</th>\n",
       "      <td>24</td>\n",
       "      <td>6.0</td>\n",
       "      <td>6.0</td>\n",
       "      <td>2.0</td>\n",
       "    </tr>\n",
       "    <tr>\n",
       "      <th>25</th>\n",
       "      <td>25</td>\n",
       "      <td>-3.5</td>\n",
       "      <td>3.5</td>\n",
       "      <td>22.0</td>\n",
       "    </tr>\n",
       "    <tr>\n",
       "      <th>26</th>\n",
       "      <td>26</td>\n",
       "      <td>-3.0</td>\n",
       "      <td>3.0</td>\n",
       "      <td>30.0</td>\n",
       "    </tr>\n",
       "    <tr>\n",
       "      <th>27</th>\n",
       "      <td>27</td>\n",
       "      <td>-2.0</td>\n",
       "      <td>2.0</td>\n",
       "      <td>46.0</td>\n",
       "    </tr>\n",
       "    <tr>\n",
       "      <th>28</th>\n",
       "      <td>28</td>\n",
       "      <td>-2.0</td>\n",
       "      <td>2.0</td>\n",
       "      <td>46.0</td>\n",
       "    </tr>\n",
       "    <tr>\n",
       "      <th>29</th>\n",
       "      <td>29</td>\n",
       "      <td>-1.0</td>\n",
       "      <td>1.0</td>\n",
       "      <td>60.0</td>\n",
       "    </tr>\n",
       "    <tr>\n",
       "      <th>30</th>\n",
       "      <td>30</td>\n",
       "      <td>-0.5</td>\n",
       "      <td>0.5</td>\n",
       "      <td>66.0</td>\n",
       "    </tr>\n",
       "    <tr>\n",
       "      <th>31</th>\n",
       "      <td>31</td>\n",
       "      <td>-1.0</td>\n",
       "      <td>1.0</td>\n",
       "      <td>60.0</td>\n",
       "    </tr>\n",
       "    <tr>\n",
       "      <th>32</th>\n",
       "      <td>32</td>\n",
       "      <td>0.0</td>\n",
       "      <td>0.0</td>\n",
       "      <td>70.0</td>\n",
       "    </tr>\n",
       "    <tr>\n",
       "      <th>33</th>\n",
       "      <td>33</td>\n",
       "      <td>0.5</td>\n",
       "      <td>0.5</td>\n",
       "      <td>66.0</td>\n",
       "    </tr>\n",
       "    <tr>\n",
       "      <th>34</th>\n",
       "      <td>34</td>\n",
       "      <td>1.5</td>\n",
       "      <td>1.5</td>\n",
       "      <td>48.0</td>\n",
       "    </tr>\n",
       "    <tr>\n",
       "      <th>35</th>\n",
       "      <td>35</td>\n",
       "      <td>-1.5</td>\n",
       "      <td>1.5</td>\n",
       "      <td>48.0</td>\n",
       "    </tr>\n",
       "    <tr>\n",
       "      <th>36</th>\n",
       "      <td>36</td>\n",
       "      <td>-0.5</td>\n",
       "      <td>0.5</td>\n",
       "      <td>66.0</td>\n",
       "    </tr>\n",
       "    <tr>\n",
       "      <th>37</th>\n",
       "      <td>37</td>\n",
       "      <td>0.0</td>\n",
       "      <td>0.0</td>\n",
       "      <td>70.0</td>\n",
       "    </tr>\n",
       "    <tr>\n",
       "      <th>38</th>\n",
       "      <td>38</td>\n",
       "      <td>1.0</td>\n",
       "      <td>1.0</td>\n",
       "      <td>60.0</td>\n",
       "    </tr>\n",
       "    <tr>\n",
       "      <th>39</th>\n",
       "      <td>39</td>\n",
       "      <td>0.5</td>\n",
       "      <td>0.5</td>\n",
       "      <td>66.0</td>\n",
       "    </tr>\n",
       "    <tr>\n",
       "      <th>40</th>\n",
       "      <td>40</td>\n",
       "      <td>1.0</td>\n",
       "      <td>1.0</td>\n",
       "      <td>60.0</td>\n",
       "    </tr>\n",
       "    <tr>\n",
       "      <th>41</th>\n",
       "      <td>41</td>\n",
       "      <td>2.0</td>\n",
       "      <td>2.0</td>\n",
       "      <td>46.0</td>\n",
       "    </tr>\n",
       "    <tr>\n",
       "      <th>42</th>\n",
       "      <td>42</td>\n",
       "      <td>2.0</td>\n",
       "      <td>2.0</td>\n",
       "      <td>46.0</td>\n",
       "    </tr>\n",
       "    <tr>\n",
       "      <th>43</th>\n",
       "      <td>43</td>\n",
       "      <td>3.0</td>\n",
       "      <td>3.0</td>\n",
       "      <td>30.0</td>\n",
       "    </tr>\n",
       "    <tr>\n",
       "      <th>44</th>\n",
       "      <td>44</td>\n",
       "      <td>3.5</td>\n",
       "      <td>3.5</td>\n",
       "      <td>22.0</td>\n",
       "    </tr>\n",
       "    <tr>\n",
       "      <th>45</th>\n",
       "      <td>45</td>\n",
       "      <td>-6.0</td>\n",
       "      <td>6.0</td>\n",
       "      <td>2.0</td>\n",
       "    </tr>\n",
       "    <tr>\n",
       "      <th>46</th>\n",
       "      <td>46</td>\n",
       "      <td>-5.5</td>\n",
       "      <td>5.5</td>\n",
       "      <td>4.0</td>\n",
       "    </tr>\n",
       "    <tr>\n",
       "      <th>47</th>\n",
       "      <td>47</td>\n",
       "      <td>-4.5</td>\n",
       "      <td>4.5</td>\n",
       "      <td>12.0</td>\n",
       "    </tr>\n",
       "    <tr>\n",
       "      <th>48</th>\n",
       "      <td>48</td>\n",
       "      <td>-4.5</td>\n",
       "      <td>4.5</td>\n",
       "      <td>12.0</td>\n",
       "    </tr>\n",
       "    <tr>\n",
       "      <th>49</th>\n",
       "      <td>49</td>\n",
       "      <td>-3.5</td>\n",
       "      <td>3.5</td>\n",
       "      <td>22.0</td>\n",
       "    </tr>\n",
       "    <tr>\n",
       "      <th>50</th>\n",
       "      <td>50</td>\n",
       "      <td>-3.0</td>\n",
       "      <td>3.0</td>\n",
       "      <td>30.0</td>\n",
       "    </tr>\n",
       "    <tr>\n",
       "      <th>51</th>\n",
       "      <td>51</td>\n",
       "      <td>-3.5</td>\n",
       "      <td>3.5</td>\n",
       "      <td>22.0</td>\n",
       "    </tr>\n",
       "    <tr>\n",
       "      <th>52</th>\n",
       "      <td>52</td>\n",
       "      <td>-2.5</td>\n",
       "      <td>2.5</td>\n",
       "      <td>34.0</td>\n",
       "    </tr>\n",
       "    <tr>\n",
       "      <th>53</th>\n",
       "      <td>53</td>\n",
       "      <td>-2.0</td>\n",
       "      <td>2.0</td>\n",
       "      <td>46.0</td>\n",
       "    </tr>\n",
       "    <tr>\n",
       "      <th>54</th>\n",
       "      <td>54</td>\n",
       "      <td>-1.0</td>\n",
       "      <td>1.0</td>\n",
       "      <td>60.0</td>\n",
       "    </tr>\n",
       "    <tr>\n",
       "      <th>55</th>\n",
       "      <td>55</td>\n",
       "      <td>-0.5</td>\n",
       "      <td>0.5</td>\n",
       "      <td>66.0</td>\n",
       "    </tr>\n",
       "    <tr>\n",
       "      <th>56</th>\n",
       "      <td>56</td>\n",
       "      <td>0.0</td>\n",
       "      <td>0.0</td>\n",
       "      <td>70.0</td>\n",
       "    </tr>\n",
       "    <tr>\n",
       "      <th>57</th>\n",
       "      <td>57</td>\n",
       "      <td>1.0</td>\n",
       "      <td>1.0</td>\n",
       "      <td>60.0</td>\n",
       "    </tr>\n",
       "    <tr>\n",
       "      <th>58</th>\n",
       "      <td>58</td>\n",
       "      <td>1.0</td>\n",
       "      <td>1.0</td>\n",
       "      <td>60.0</td>\n",
       "    </tr>\n",
       "    <tr>\n",
       "      <th>59</th>\n",
       "      <td>59</td>\n",
       "      <td>2.0</td>\n",
       "      <td>2.0</td>\n",
       "      <td>46.0</td>\n",
       "    </tr>\n",
       "    <tr>\n",
       "      <th>60</th>\n",
       "      <td>60</td>\n",
       "      <td>2.5</td>\n",
       "      <td>2.5</td>\n",
       "      <td>34.0</td>\n",
       "    </tr>\n",
       "    <tr>\n",
       "      <th>61</th>\n",
       "      <td>61</td>\n",
       "      <td>2.0</td>\n",
       "      <td>2.0</td>\n",
       "      <td>46.0</td>\n",
       "    </tr>\n",
       "    <tr>\n",
       "      <th>62</th>\n",
       "      <td>62</td>\n",
       "      <td>3.0</td>\n",
       "      <td>3.0</td>\n",
       "      <td>30.0</td>\n",
       "    </tr>\n",
       "    <tr>\n",
       "      <th>63</th>\n",
       "      <td>63</td>\n",
       "      <td>3.5</td>\n",
       "      <td>3.5</td>\n",
       "      <td>22.0</td>\n",
       "    </tr>\n",
       "    <tr>\n",
       "      <th>64</th>\n",
       "      <td>64</td>\n",
       "      <td>4.5</td>\n",
       "      <td>4.5</td>\n",
       "      <td>12.0</td>\n",
       "    </tr>\n",
       "    <tr>\n",
       "      <th>65</th>\n",
       "      <td>65</td>\n",
       "      <td>-4.5</td>\n",
       "      <td>4.5</td>\n",
       "      <td>12.0</td>\n",
       "    </tr>\n",
       "    <tr>\n",
       "      <th>66</th>\n",
       "      <td>66</td>\n",
       "      <td>-3.5</td>\n",
       "      <td>3.5</td>\n",
       "      <td>22.0</td>\n",
       "    </tr>\n",
       "    <tr>\n",
       "      <th>67</th>\n",
       "      <td>67</td>\n",
       "      <td>-3.0</td>\n",
       "      <td>3.0</td>\n",
       "      <td>30.0</td>\n",
       "    </tr>\n",
       "    <tr>\n",
       "      <th>68</th>\n",
       "      <td>68</td>\n",
       "      <td>-2.0</td>\n",
       "      <td>2.0</td>\n",
       "      <td>46.0</td>\n",
       "    </tr>\n",
       "    <tr>\n",
       "      <th>69</th>\n",
       "      <td>69</td>\n",
       "      <td>-1.0</td>\n",
       "      <td>1.0</td>\n",
       "      <td>60.0</td>\n",
       "    </tr>\n",
       "  </tbody>\n",
       "</table>\n",
       "</div>"
      ],
      "text/plain": [
       "    permutation  test_statistic  rank_column  rank\n",
       "0             0             1.0          1.0  60.0\n",
       "1             1             2.0          2.0  46.0\n",
       "2             2             3.0          3.0  30.0\n",
       "3             3             3.5          3.5  22.0\n",
       "4             4             4.5          4.5  12.0\n",
       "5             5            -4.5          4.5  12.0\n",
       "6             6            -3.5          3.5  22.0\n",
       "7             7            -3.0          3.0  30.0\n",
       "8             8            -2.0          2.0  46.0\n",
       "9             9            -2.5          2.5  34.0\n",
       "10           10            -2.0          2.0  46.0\n",
       "11           11            -1.0          1.0  60.0\n",
       "12           12            -1.0          1.0  60.0\n",
       "13           13             0.0          0.0  70.0\n",
       "14           14             0.5          0.5  66.0\n",
       "15           15             1.0          1.0  60.0\n",
       "16           16             2.0          2.0  46.0\n",
       "17           17             2.5          2.5  34.0\n",
       "18           18             3.5          3.5  22.0\n",
       "19           19             3.0          3.0  30.0\n",
       "20           20             3.5          3.5  22.0\n",
       "21           21             4.5          4.5  12.0\n",
       "22           22             4.5          4.5  12.0\n",
       "23           23             5.5          5.5   4.0\n",
       "24           24             6.0          6.0   2.0\n",
       "25           25            -3.5          3.5  22.0\n",
       "26           26            -3.0          3.0  30.0\n",
       "27           27            -2.0          2.0  46.0\n",
       "28           28            -2.0          2.0  46.0\n",
       "29           29            -1.0          1.0  60.0\n",
       "30           30            -0.5          0.5  66.0\n",
       "31           31            -1.0          1.0  60.0\n",
       "32           32             0.0          0.0  70.0\n",
       "33           33             0.5          0.5  66.0\n",
       "34           34             1.5          1.5  48.0\n",
       "35           35            -1.5          1.5  48.0\n",
       "36           36            -0.5          0.5  66.0\n",
       "37           37             0.0          0.0  70.0\n",
       "38           38             1.0          1.0  60.0\n",
       "39           39             0.5          0.5  66.0\n",
       "40           40             1.0          1.0  60.0\n",
       "41           41             2.0          2.0  46.0\n",
       "42           42             2.0          2.0  46.0\n",
       "43           43             3.0          3.0  30.0\n",
       "44           44             3.5          3.5  22.0\n",
       "45           45            -6.0          6.0   2.0\n",
       "46           46            -5.5          5.5   4.0\n",
       "47           47            -4.5          4.5  12.0\n",
       "48           48            -4.5          4.5  12.0\n",
       "49           49            -3.5          3.5  22.0\n",
       "50           50            -3.0          3.0  30.0\n",
       "51           51            -3.5          3.5  22.0\n",
       "52           52            -2.5          2.5  34.0\n",
       "53           53            -2.0          2.0  46.0\n",
       "54           54            -1.0          1.0  60.0\n",
       "55           55            -0.5          0.5  66.0\n",
       "56           56             0.0          0.0  70.0\n",
       "57           57             1.0          1.0  60.0\n",
       "58           58             1.0          1.0  60.0\n",
       "59           59             2.0          2.0  46.0\n",
       "60           60             2.5          2.5  34.0\n",
       "61           61             2.0          2.0  46.0\n",
       "62           62             3.0          3.0  30.0\n",
       "63           63             3.5          3.5  22.0\n",
       "64           64             4.5          4.5  12.0\n",
       "65           65            -4.5          4.5  12.0\n",
       "66           66            -3.5          3.5  22.0\n",
       "67           67            -3.0          3.0  30.0\n",
       "68           68            -2.0          2.0  46.0\n",
       "69           69            -1.0          1.0  60.0"
      ]
     },
     "execution_count": 169,
     "metadata": {},
     "output_type": "execute_result"
    }
   ],
   "source": [
    "test_run.df_sims"
   ]
  },
  {
   "cell_type": "code",
   "execution_count": 29,
   "id": "233a038f-ce14-4458-8067-52a4d9966407",
   "metadata": {
    "tags": []
   },
   "outputs": [
    {
     "data": {
      "text/plain": [
       "array([-1.        ,  3.42857143,  4.5       , -4.        , -3.2       ,\n",
       "       -2.13333333, -0.5       , -2.66666667,  4.8       , -0.53333333,\n",
       "        6.66666667,  5.33333333,  3.        ,  2.66666667, -1.14285714,\n",
       "        2.5       , -3.5       , -3.        , -3.73333333,  0.        ,\n",
       "        2.        , -6.        , -0.66666667, -2.5       ,  1.        ,\n",
       "        2.13333333,  3.5       , -3.33333333, -4.26666667, -5.71428571,\n",
       "        5.5       , -2.        , -1.06666667, -4.8       ,  1.6       ,\n",
       "        4.        , -6.4       ,  4.8       , -6.66666667, -9.14285714,\n",
       "       -1.06666667, -5.86666667, -1.6       , -0.66666667,  2.28571429,\n",
       "       -1.5       ,  0.53333333,  4.26666667,  3.33333333,  0.66666667,\n",
       "        0.53333333, -5.33333333, -0.53333333, -3.33333333,  3.2       ,\n",
       "        1.06666667, -3.73333333, -3.42857143,  1.5       ,  6.4       ,\n",
       "       -4.5       ,  3.73333333,  6.        ,  4.66666667, -1.33333333,\n",
       "        5.71428571, -2.28571429,  1.06666667,  2.66666667,         nan,\n",
       "        1.33333333,  9.14285714,  0.5       , -2.66666667,  3.73333333,\n",
       "        3.33333333,  5.33333333,  0.66666667,  5.86666667, -4.66666667,\n",
       "       -5.5       , -4.8       ,  1.14285714, -5.33333333])"
      ]
     },
     "execution_count": 29,
     "metadata": {},
     "output_type": "execute_result"
    }
   ],
   "source": [
    "test_run.df_sims['test_statistic'].unique()"
   ]
  },
  {
   "cell_type": "code",
   "execution_count": 30,
   "id": "1532bd85-0bdf-41d4-b519-19ea40bb5e56",
   "metadata": {
    "tags": []
   },
   "outputs": [
    {
     "data": {
      "text/plain": [
       "0"
      ]
     },
     "execution_count": 30,
     "metadata": {},
     "output_type": "execute_result"
    }
   ],
   "source": [
    "test_run.df_sims['permutation'].min()"
   ]
  },
  {
   "cell_type": "code",
   "execution_count": 31,
   "id": "9a9d58f2-fb11-4b38-a63c-ecf422264d3c",
   "metadata": {
    "scrolled": true,
    "tags": []
   },
   "outputs": [
    {
     "data": {
      "text/html": [
       "<div>\n",
       "<style scoped>\n",
       "    .dataframe tbody tr th:only-of-type {\n",
       "        vertical-align: middle;\n",
       "    }\n",
       "\n",
       "    .dataframe tbody tr th {\n",
       "        vertical-align: top;\n",
       "    }\n",
       "\n",
       "    .dataframe thead th {\n",
       "        text-align: right;\n",
       "    }\n",
       "</style>\n",
       "<table border=\"1\" class=\"dataframe\">\n",
       "  <thead>\n",
       "    <tr style=\"text-align: right;\">\n",
       "      <th></th>\n",
       "      <th>permutation</th>\n",
       "      <th>test_statistic</th>\n",
       "      <th>rank_column</th>\n",
       "      <th>rank</th>\n",
       "    </tr>\n",
       "  </thead>\n",
       "  <tbody>\n",
       "    <tr>\n",
       "      <th>32</th>\n",
       "      <td>32</td>\n",
       "      <td>1.0</td>\n",
       "      <td>1.0</td>\n",
       "      <td>817.0</td>\n",
       "    </tr>\n",
       "    <tr>\n",
       "      <th>95</th>\n",
       "      <td>95</td>\n",
       "      <td>1.0</td>\n",
       "      <td>1.0</td>\n",
       "      <td>817.0</td>\n",
       "    </tr>\n",
       "    <tr>\n",
       "      <th>101</th>\n",
       "      <td>101</td>\n",
       "      <td>1.0</td>\n",
       "      <td>1.0</td>\n",
       "      <td>817.0</td>\n",
       "    </tr>\n",
       "    <tr>\n",
       "      <th>192</th>\n",
       "      <td>192</td>\n",
       "      <td>1.0</td>\n",
       "      <td>1.0</td>\n",
       "      <td>817.0</td>\n",
       "    </tr>\n",
       "    <tr>\n",
       "      <th>194</th>\n",
       "      <td>194</td>\n",
       "      <td>1.0</td>\n",
       "      <td>1.0</td>\n",
       "      <td>817.0</td>\n",
       "    </tr>\n",
       "    <tr>\n",
       "      <th>242</th>\n",
       "      <td>242</td>\n",
       "      <td>1.0</td>\n",
       "      <td>1.0</td>\n",
       "      <td>817.0</td>\n",
       "    </tr>\n",
       "    <tr>\n",
       "      <th>281</th>\n",
       "      <td>281</td>\n",
       "      <td>1.0</td>\n",
       "      <td>1.0</td>\n",
       "      <td>817.0</td>\n",
       "    </tr>\n",
       "    <tr>\n",
       "      <th>328</th>\n",
       "      <td>328</td>\n",
       "      <td>1.0</td>\n",
       "      <td>1.0</td>\n",
       "      <td>817.0</td>\n",
       "    </tr>\n",
       "    <tr>\n",
       "      <th>336</th>\n",
       "      <td>336</td>\n",
       "      <td>1.0</td>\n",
       "      <td>1.0</td>\n",
       "      <td>817.0</td>\n",
       "    </tr>\n",
       "    <tr>\n",
       "      <th>381</th>\n",
       "      <td>381</td>\n",
       "      <td>1.0</td>\n",
       "      <td>1.0</td>\n",
       "      <td>817.0</td>\n",
       "    </tr>\n",
       "    <tr>\n",
       "      <th>416</th>\n",
       "      <td>416</td>\n",
       "      <td>1.0</td>\n",
       "      <td>1.0</td>\n",
       "      <td>817.0</td>\n",
       "    </tr>\n",
       "    <tr>\n",
       "      <th>425</th>\n",
       "      <td>425</td>\n",
       "      <td>1.0</td>\n",
       "      <td>1.0</td>\n",
       "      <td>817.0</td>\n",
       "    </tr>\n",
       "    <tr>\n",
       "      <th>498</th>\n",
       "      <td>498</td>\n",
       "      <td>1.0</td>\n",
       "      <td>1.0</td>\n",
       "      <td>817.0</td>\n",
       "    </tr>\n",
       "    <tr>\n",
       "      <th>579</th>\n",
       "      <td>579</td>\n",
       "      <td>1.0</td>\n",
       "      <td>1.0</td>\n",
       "      <td>817.0</td>\n",
       "    </tr>\n",
       "    <tr>\n",
       "      <th>591</th>\n",
       "      <td>591</td>\n",
       "      <td>1.0</td>\n",
       "      <td>1.0</td>\n",
       "      <td>817.0</td>\n",
       "    </tr>\n",
       "    <tr>\n",
       "      <th>693</th>\n",
       "      <td>693</td>\n",
       "      <td>1.0</td>\n",
       "      <td>1.0</td>\n",
       "      <td>817.0</td>\n",
       "    </tr>\n",
       "    <tr>\n",
       "      <th>718</th>\n",
       "      <td>718</td>\n",
       "      <td>1.0</td>\n",
       "      <td>1.0</td>\n",
       "      <td>817.0</td>\n",
       "    </tr>\n",
       "    <tr>\n",
       "      <th>724</th>\n",
       "      <td>724</td>\n",
       "      <td>1.0</td>\n",
       "      <td>1.0</td>\n",
       "      <td>817.0</td>\n",
       "    </tr>\n",
       "    <tr>\n",
       "      <th>727</th>\n",
       "      <td>727</td>\n",
       "      <td>1.0</td>\n",
       "      <td>1.0</td>\n",
       "      <td>817.0</td>\n",
       "    </tr>\n",
       "    <tr>\n",
       "      <th>730</th>\n",
       "      <td>730</td>\n",
       "      <td>1.0</td>\n",
       "      <td>1.0</td>\n",
       "      <td>817.0</td>\n",
       "    </tr>\n",
       "    <tr>\n",
       "      <th>811</th>\n",
       "      <td>811</td>\n",
       "      <td>1.0</td>\n",
       "      <td>1.0</td>\n",
       "      <td>817.0</td>\n",
       "    </tr>\n",
       "    <tr>\n",
       "      <th>817</th>\n",
       "      <td>817</td>\n",
       "      <td>1.0</td>\n",
       "      <td>1.0</td>\n",
       "      <td>817.0</td>\n",
       "    </tr>\n",
       "    <tr>\n",
       "      <th>829</th>\n",
       "      <td>829</td>\n",
       "      <td>1.0</td>\n",
       "      <td>1.0</td>\n",
       "      <td>817.0</td>\n",
       "    </tr>\n",
       "    <tr>\n",
       "      <th>885</th>\n",
       "      <td>885</td>\n",
       "      <td>1.0</td>\n",
       "      <td>1.0</td>\n",
       "      <td>817.0</td>\n",
       "    </tr>\n",
       "    <tr>\n",
       "      <th>926</th>\n",
       "      <td>926</td>\n",
       "      <td>1.0</td>\n",
       "      <td>1.0</td>\n",
       "      <td>817.0</td>\n",
       "    </tr>\n",
       "    <tr>\n",
       "      <th>928</th>\n",
       "      <td>928</td>\n",
       "      <td>1.0</td>\n",
       "      <td>1.0</td>\n",
       "      <td>817.0</td>\n",
       "    </tr>\n",
       "    <tr>\n",
       "      <th>963</th>\n",
       "      <td>963</td>\n",
       "      <td>1.0</td>\n",
       "      <td>1.0</td>\n",
       "      <td>817.0</td>\n",
       "    </tr>\n",
       "    <tr>\n",
       "      <th>984</th>\n",
       "      <td>984</td>\n",
       "      <td>1.0</td>\n",
       "      <td>1.0</td>\n",
       "      <td>817.0</td>\n",
       "    </tr>\n",
       "  </tbody>\n",
       "</table>\n",
       "</div>"
      ],
      "text/plain": [
       "     permutation  test_statistic  rank_column   rank\n",
       "32            32             1.0          1.0  817.0\n",
       "95            95             1.0          1.0  817.0\n",
       "101          101             1.0          1.0  817.0\n",
       "192          192             1.0          1.0  817.0\n",
       "194          194             1.0          1.0  817.0\n",
       "242          242             1.0          1.0  817.0\n",
       "281          281             1.0          1.0  817.0\n",
       "328          328             1.0          1.0  817.0\n",
       "336          336             1.0          1.0  817.0\n",
       "381          381             1.0          1.0  817.0\n",
       "416          416             1.0          1.0  817.0\n",
       "425          425             1.0          1.0  817.0\n",
       "498          498             1.0          1.0  817.0\n",
       "579          579             1.0          1.0  817.0\n",
       "591          591             1.0          1.0  817.0\n",
       "693          693             1.0          1.0  817.0\n",
       "718          718             1.0          1.0  817.0\n",
       "724          724             1.0          1.0  817.0\n",
       "727          727             1.0          1.0  817.0\n",
       "730          730             1.0          1.0  817.0\n",
       "811          811             1.0          1.0  817.0\n",
       "817          817             1.0          1.0  817.0\n",
       "829          829             1.0          1.0  817.0\n",
       "885          885             1.0          1.0  817.0\n",
       "926          926             1.0          1.0  817.0\n",
       "928          928             1.0          1.0  817.0\n",
       "963          963             1.0          1.0  817.0\n",
       "984          984             1.0          1.0  817.0"
      ]
     },
     "execution_count": 31,
     "metadata": {},
     "output_type": "execute_result"
    }
   ],
   "source": [
    "test_run.df_sims.query(\"test_statistic==1\")"
   ]
  },
  {
   "cell_type": "code",
   "execution_count": 32,
   "id": "98649942-c113-4290-a06b-6b8550e992e3",
   "metadata": {
    "scrolled": true,
    "tags": []
   },
   "outputs": [
    {
     "data": {
      "text/html": [
       "<div>\n",
       "<style scoped>\n",
       "    .dataframe tbody tr th:only-of-type {\n",
       "        vertical-align: middle;\n",
       "    }\n",
       "\n",
       "    .dataframe tbody tr th {\n",
       "        vertical-align: top;\n",
       "    }\n",
       "\n",
       "    .dataframe thead th {\n",
       "        text-align: right;\n",
       "    }\n",
       "</style>\n",
       "<table border=\"1\" class=\"dataframe\">\n",
       "  <thead>\n",
       "    <tr style=\"text-align: right;\">\n",
       "      <th></th>\n",
       "      <th>permutation</th>\n",
       "      <th>test_statistic</th>\n",
       "      <th>rank_column</th>\n",
       "      <th>rank</th>\n",
       "    </tr>\n",
       "  </thead>\n",
       "  <tbody>\n",
       "    <tr>\n",
       "      <th>0</th>\n",
       "      <td>0</td>\n",
       "      <td>-1.0</td>\n",
       "      <td>1.0</td>\n",
       "      <td>817.0</td>\n",
       "    </tr>\n",
       "    <tr>\n",
       "      <th>9</th>\n",
       "      <td>9</td>\n",
       "      <td>-1.0</td>\n",
       "      <td>1.0</td>\n",
       "      <td>817.0</td>\n",
       "    </tr>\n",
       "    <tr>\n",
       "      <th>58</th>\n",
       "      <td>58</td>\n",
       "      <td>-1.0</td>\n",
       "      <td>1.0</td>\n",
       "      <td>817.0</td>\n",
       "    </tr>\n",
       "    <tr>\n",
       "      <th>74</th>\n",
       "      <td>74</td>\n",
       "      <td>-1.0</td>\n",
       "      <td>1.0</td>\n",
       "      <td>817.0</td>\n",
       "    </tr>\n",
       "    <tr>\n",
       "      <th>109</th>\n",
       "      <td>109</td>\n",
       "      <td>-1.0</td>\n",
       "      <td>1.0</td>\n",
       "      <td>817.0</td>\n",
       "    </tr>\n",
       "    <tr>\n",
       "      <th>196</th>\n",
       "      <td>196</td>\n",
       "      <td>-1.0</td>\n",
       "      <td>1.0</td>\n",
       "      <td>817.0</td>\n",
       "    </tr>\n",
       "    <tr>\n",
       "      <th>198</th>\n",
       "      <td>198</td>\n",
       "      <td>-1.0</td>\n",
       "      <td>1.0</td>\n",
       "      <td>817.0</td>\n",
       "    </tr>\n",
       "    <tr>\n",
       "      <th>388</th>\n",
       "      <td>388</td>\n",
       "      <td>-1.0</td>\n",
       "      <td>1.0</td>\n",
       "      <td>817.0</td>\n",
       "    </tr>\n",
       "    <tr>\n",
       "      <th>403</th>\n",
       "      <td>403</td>\n",
       "      <td>-1.0</td>\n",
       "      <td>1.0</td>\n",
       "      <td>817.0</td>\n",
       "    </tr>\n",
       "    <tr>\n",
       "      <th>408</th>\n",
       "      <td>408</td>\n",
       "      <td>-1.0</td>\n",
       "      <td>1.0</td>\n",
       "      <td>817.0</td>\n",
       "    </tr>\n",
       "    <tr>\n",
       "      <th>420</th>\n",
       "      <td>420</td>\n",
       "      <td>-1.0</td>\n",
       "      <td>1.0</td>\n",
       "      <td>817.0</td>\n",
       "    </tr>\n",
       "    <tr>\n",
       "      <th>451</th>\n",
       "      <td>451</td>\n",
       "      <td>-1.0</td>\n",
       "      <td>1.0</td>\n",
       "      <td>817.0</td>\n",
       "    </tr>\n",
       "    <tr>\n",
       "      <th>453</th>\n",
       "      <td>453</td>\n",
       "      <td>-1.0</td>\n",
       "      <td>1.0</td>\n",
       "      <td>817.0</td>\n",
       "    </tr>\n",
       "    <tr>\n",
       "      <th>456</th>\n",
       "      <td>456</td>\n",
       "      <td>-1.0</td>\n",
       "      <td>1.0</td>\n",
       "      <td>817.0</td>\n",
       "    </tr>\n",
       "    <tr>\n",
       "      <th>497</th>\n",
       "      <td>497</td>\n",
       "      <td>-1.0</td>\n",
       "      <td>1.0</td>\n",
       "      <td>817.0</td>\n",
       "    </tr>\n",
       "    <tr>\n",
       "      <th>526</th>\n",
       "      <td>526</td>\n",
       "      <td>-1.0</td>\n",
       "      <td>1.0</td>\n",
       "      <td>817.0</td>\n",
       "    </tr>\n",
       "    <tr>\n",
       "      <th>739</th>\n",
       "      <td>739</td>\n",
       "      <td>-1.0</td>\n",
       "      <td>1.0</td>\n",
       "      <td>817.0</td>\n",
       "    </tr>\n",
       "    <tr>\n",
       "      <th>745</th>\n",
       "      <td>745</td>\n",
       "      <td>-1.0</td>\n",
       "      <td>1.0</td>\n",
       "      <td>817.0</td>\n",
       "    </tr>\n",
       "    <tr>\n",
       "      <th>784</th>\n",
       "      <td>784</td>\n",
       "      <td>-1.0</td>\n",
       "      <td>1.0</td>\n",
       "      <td>817.0</td>\n",
       "    </tr>\n",
       "    <tr>\n",
       "      <th>787</th>\n",
       "      <td>787</td>\n",
       "      <td>-1.0</td>\n",
       "      <td>1.0</td>\n",
       "      <td>817.0</td>\n",
       "    </tr>\n",
       "    <tr>\n",
       "      <th>860</th>\n",
       "      <td>860</td>\n",
       "      <td>-1.0</td>\n",
       "      <td>1.0</td>\n",
       "      <td>817.0</td>\n",
       "    </tr>\n",
       "    <tr>\n",
       "      <th>912</th>\n",
       "      <td>912</td>\n",
       "      <td>-1.0</td>\n",
       "      <td>1.0</td>\n",
       "      <td>817.0</td>\n",
       "    </tr>\n",
       "    <tr>\n",
       "      <th>919</th>\n",
       "      <td>919</td>\n",
       "      <td>-1.0</td>\n",
       "      <td>1.0</td>\n",
       "      <td>817.0</td>\n",
       "    </tr>\n",
       "    <tr>\n",
       "      <th>942</th>\n",
       "      <td>942</td>\n",
       "      <td>-1.0</td>\n",
       "      <td>1.0</td>\n",
       "      <td>817.0</td>\n",
       "    </tr>\n",
       "  </tbody>\n",
       "</table>\n",
       "</div>"
      ],
      "text/plain": [
       "     permutation  test_statistic  rank_column   rank\n",
       "0              0            -1.0          1.0  817.0\n",
       "9              9            -1.0          1.0  817.0\n",
       "58            58            -1.0          1.0  817.0\n",
       "74            74            -1.0          1.0  817.0\n",
       "109          109            -1.0          1.0  817.0\n",
       "196          196            -1.0          1.0  817.0\n",
       "198          198            -1.0          1.0  817.0\n",
       "388          388            -1.0          1.0  817.0\n",
       "403          403            -1.0          1.0  817.0\n",
       "408          408            -1.0          1.0  817.0\n",
       "420          420            -1.0          1.0  817.0\n",
       "451          451            -1.0          1.0  817.0\n",
       "453          453            -1.0          1.0  817.0\n",
       "456          456            -1.0          1.0  817.0\n",
       "497          497            -1.0          1.0  817.0\n",
       "526          526            -1.0          1.0  817.0\n",
       "739          739            -1.0          1.0  817.0\n",
       "745          745            -1.0          1.0  817.0\n",
       "784          784            -1.0          1.0  817.0\n",
       "787          787            -1.0          1.0  817.0\n",
       "860          860            -1.0          1.0  817.0\n",
       "912          912            -1.0          1.0  817.0\n",
       "919          919            -1.0          1.0  817.0\n",
       "942          942            -1.0          1.0  817.0"
      ]
     },
     "execution_count": 32,
     "metadata": {},
     "output_type": "execute_result"
    }
   ],
   "source": [
    "test_run.df_sims.query(\"test_statistic==-1\")"
   ]
  },
  {
   "cell_type": "code",
   "execution_count": 33,
   "id": "b48f4f69-d783-4d58-af24-aecf60b41507",
   "metadata": {
    "tags": []
   },
   "outputs": [
    {
     "data": {
      "text/plain": [
       "42"
      ]
     },
     "execution_count": 33,
     "metadata": {},
     "output_type": "execute_result"
    }
   ],
   "source": [
    "# So why is this different?\n",
    "test_run.df_sims['rank'].nunique()"
   ]
  },
  {
   "cell_type": "code",
   "execution_count": 34,
   "id": "e2a7185c-a64b-4de6-a75b-620fffc0f4b6",
   "metadata": {
    "tags": []
   },
   "outputs": [
    {
     "data": {
      "text/plain": [
       "60.000003"
      ]
     },
     "execution_count": 34,
     "metadata": {},
     "output_type": "execute_result"
    }
   ],
   "source": [
    " 0.8571429 * 70"
   ]
  },
  {
   "cell_type": "code",
   "execution_count": 35,
   "id": "bdc68af6-6dbb-492b-bd81-185681f76019",
   "metadata": {
    "tags": []
   },
   "outputs": [
    {
     "data": {
      "text/plain": [
       "42"
      ]
     },
     "execution_count": 35,
     "metadata": {},
     "output_type": "execute_result"
    }
   ],
   "source": [
    "test_run.df_sims['rank_column'].nunique()"
   ]
  },
  {
   "cell_type": "code",
   "execution_count": 36,
   "id": "2891f78c-3df9-4d32-ad24-0f13d5328855",
   "metadata": {
    "tags": []
   },
   "outputs": [
    {
     "data": {
      "text/plain": [
       "0.8056"
      ]
     },
     "execution_count": 36,
     "metadata": {},
     "output_type": "execute_result"
    }
   ],
   "source": [
    "8056/10000"
   ]
  },
  {
   "cell_type": "code",
   "execution_count": 37,
   "id": "323ead30-4be4-405a-ab46-3b487c8b070c",
   "metadata": {
    "tags": []
   },
   "outputs": [
    {
     "data": {
      "text/plain": [
       "999"
      ]
     },
     "execution_count": 37,
     "metadata": {},
     "output_type": "execute_result"
    }
   ],
   "source": [
    "# So I think the problem is the permutations are being correctly labeled.  \n",
    "test_run.df_sims['permutation'].max()"
   ]
  },
  {
   "cell_type": "code",
   "execution_count": 38,
   "id": "d77912e4-a5d4-494d-8f0a-f5d760d81fc1",
   "metadata": {
    "tags": []
   },
   "outputs": [
    {
     "data": {
      "text/html": [
       "<div>\n",
       "<style scoped>\n",
       "    .dataframe tbody tr th:only-of-type {\n",
       "        vertical-align: middle;\n",
       "    }\n",
       "\n",
       "    .dataframe tbody tr th {\n",
       "        vertical-align: top;\n",
       "    }\n",
       "\n",
       "    .dataframe thead th {\n",
       "        text-align: right;\n",
       "    }\n",
       "</style>\n",
       "<table border=\"1\" class=\"dataframe\">\n",
       "  <thead>\n",
       "    <tr style=\"text-align: right;\">\n",
       "      <th></th>\n",
       "      <th>permutation</th>\n",
       "      <th>test_statistic</th>\n",
       "      <th>rank_column</th>\n",
       "      <th>rank</th>\n",
       "    </tr>\n",
       "  </thead>\n",
       "  <tbody>\n",
       "    <tr>\n",
       "      <th>0</th>\n",
       "      <td>0</td>\n",
       "      <td>-1.000000</td>\n",
       "      <td>1.000000</td>\n",
       "      <td>817.0</td>\n",
       "    </tr>\n",
       "    <tr>\n",
       "      <th>1</th>\n",
       "      <td>1</td>\n",
       "      <td>3.428571</td>\n",
       "      <td>3.428571</td>\n",
       "      <td>302.0</td>\n",
       "    </tr>\n",
       "    <tr>\n",
       "      <th>2</th>\n",
       "      <td>2</td>\n",
       "      <td>4.500000</td>\n",
       "      <td>4.500000</td>\n",
       "      <td>172.0</td>\n",
       "    </tr>\n",
       "    <tr>\n",
       "      <th>3</th>\n",
       "      <td>3</td>\n",
       "      <td>-4.000000</td>\n",
       "      <td>4.000000</td>\n",
       "      <td>201.0</td>\n",
       "    </tr>\n",
       "    <tr>\n",
       "      <th>4</th>\n",
       "      <td>4</td>\n",
       "      <td>4.500000</td>\n",
       "      <td>4.500000</td>\n",
       "      <td>172.0</td>\n",
       "    </tr>\n",
       "  </tbody>\n",
       "</table>\n",
       "</div>"
      ],
      "text/plain": [
       "   permutation  test_statistic  rank_column   rank\n",
       "0            0       -1.000000     1.000000  817.0\n",
       "1            1        3.428571     3.428571  302.0\n",
       "2            2        4.500000     4.500000  172.0\n",
       "3            3       -4.000000     4.000000  201.0\n",
       "4            4        4.500000     4.500000  172.0"
      ]
     },
     "execution_count": 38,
     "metadata": {},
     "output_type": "execute_result"
    }
   ],
   "source": [
    "test_run.df_sims.head()"
   ]
  },
  {
   "cell_type": "code",
   "execution_count": 40,
   "id": "79a6d476-a930-43aa-9b04-204035bb5ff3",
   "metadata": {
    "tags": []
   },
   "outputs": [
    {
     "data": {
      "text/plain": [
       "32     817.0\n",
       "95     817.0\n",
       "101    817.0\n",
       "192    817.0\n",
       "194    817.0\n",
       "242    817.0\n",
       "281    817.0\n",
       "328    817.0\n",
       "336    817.0\n",
       "381    817.0\n",
       "416    817.0\n",
       "425    817.0\n",
       "498    817.0\n",
       "579    817.0\n",
       "591    817.0\n",
       "693    817.0\n",
       "718    817.0\n",
       "724    817.0\n",
       "727    817.0\n",
       "730    817.0\n",
       "811    817.0\n",
       "817    817.0\n",
       "829    817.0\n",
       "885    817.0\n",
       "926    817.0\n",
       "928    817.0\n",
       "963    817.0\n",
       "984    817.0\n",
       "Name: rank, dtype: float64"
      ]
     },
     "execution_count": 40,
     "metadata": {},
     "output_type": "execute_result"
    }
   ],
   "source": [
    "test_run.df_sims.query(\"test_statistic==@test_run.observed_test_statistic\")['rank']"
   ]
  },
  {
   "cell_type": "code",
   "execution_count": 41,
   "id": "5be2dfa0-1cd7-427e-ab79-791a33351101",
   "metadata": {
    "tags": []
   },
   "outputs": [
    {
     "data": {
      "text/plain": [
       "0.817"
      ]
     },
     "execution_count": 41,
     "metadata": {},
     "output_type": "execute_result"
    }
   ],
   "source": [
    "817/1000"
   ]
  },
  {
   "cell_type": "code",
   "execution_count": 42,
   "id": "b2360f82-e62f-48a9-8b82-c36e4b04b62a",
   "metadata": {
    "tags": []
   },
   "outputs": [],
   "source": [
    "df_from_r = pd.read_csv('../../../data/r_output_ri.csv')"
   ]
  },
  {
   "cell_type": "code",
   "execution_count": 43,
   "id": "5d15e773-7d5c-431b-8558-6df32f7b4edb",
   "metadata": {
    "tags": []
   },
   "outputs": [
    {
     "data": {
      "text/html": [
       "<div>\n",
       "<style scoped>\n",
       "    .dataframe tbody tr th:only-of-type {\n",
       "        vertical-align: middle;\n",
       "    }\n",
       "\n",
       "    .dataframe tbody tr th {\n",
       "        vertical-align: top;\n",
       "    }\n",
       "\n",
       "    .dataframe thead th {\n",
       "        text-align: right;\n",
       "    }\n",
       "</style>\n",
       "<table border=\"1\" class=\"dataframe\">\n",
       "  <thead>\n",
       "    <tr style=\"text-align: right;\">\n",
       "      <th></th>\n",
       "      <th>Unnamed: 0</th>\n",
       "      <th>est_sim</th>\n",
       "      <th>est_obs</th>\n",
       "      <th>term</th>\n",
       "    </tr>\n",
       "  </thead>\n",
       "  <tbody>\n",
       "    <tr>\n",
       "      <th>0</th>\n",
       "      <td>1</td>\n",
       "      <td>-1.0</td>\n",
       "      <td>1</td>\n",
       "      <td>Custom Test Statistic</td>\n",
       "    </tr>\n",
       "    <tr>\n",
       "      <th>1</th>\n",
       "      <td>2</td>\n",
       "      <td>-2.0</td>\n",
       "      <td>1</td>\n",
       "      <td>Custom Test Statistic</td>\n",
       "    </tr>\n",
       "    <tr>\n",
       "      <th>2</th>\n",
       "      <td>3</td>\n",
       "      <td>-3.0</td>\n",
       "      <td>1</td>\n",
       "      <td>Custom Test Statistic</td>\n",
       "    </tr>\n",
       "    <tr>\n",
       "      <th>3</th>\n",
       "      <td>4</td>\n",
       "      <td>-3.5</td>\n",
       "      <td>1</td>\n",
       "      <td>Custom Test Statistic</td>\n",
       "    </tr>\n",
       "    <tr>\n",
       "      <th>4</th>\n",
       "      <td>5</td>\n",
       "      <td>-4.5</td>\n",
       "      <td>1</td>\n",
       "      <td>Custom Test Statistic</td>\n",
       "    </tr>\n",
       "  </tbody>\n",
       "</table>\n",
       "</div>"
      ],
      "text/plain": [
       "   Unnamed: 0  est_sim  est_obs                   term\n",
       "0           1     -1.0        1  Custom Test Statistic\n",
       "1           2     -2.0        1  Custom Test Statistic\n",
       "2           3     -3.0        1  Custom Test Statistic\n",
       "3           4     -3.5        1  Custom Test Statistic\n",
       "4           5     -4.5        1  Custom Test Statistic"
      ]
     },
     "execution_count": 43,
     "metadata": {},
     "output_type": "execute_result"
    }
   ],
   "source": [
    "df_from_r.head()"
   ]
  },
  {
   "cell_type": "code",
   "execution_count": 44,
   "id": "529f8a30-faf0-45c8-abd0-111b40608989",
   "metadata": {
    "tags": []
   },
   "outputs": [],
   "source": [
    "df_from_r.columns = ['permutation', 'test_statistic', 'est_obs', 'term']"
   ]
  },
  {
   "cell_type": "code",
   "execution_count": 45,
   "id": "92274345-a19c-4745-a350-2e73608344d7",
   "metadata": {
    "tags": []
   },
   "outputs": [
    {
     "data": {
      "text/html": [
       "<div>\n",
       "<style scoped>\n",
       "    .dataframe tbody tr th:only-of-type {\n",
       "        vertical-align: middle;\n",
       "    }\n",
       "\n",
       "    .dataframe tbody tr th {\n",
       "        vertical-align: top;\n",
       "    }\n",
       "\n",
       "    .dataframe thead th {\n",
       "        text-align: right;\n",
       "    }\n",
       "</style>\n",
       "<table border=\"1\" class=\"dataframe\">\n",
       "  <thead>\n",
       "    <tr style=\"text-align: right;\">\n",
       "      <th></th>\n",
       "      <th>permutation</th>\n",
       "      <th>test_statistic</th>\n",
       "      <th>est_obs</th>\n",
       "      <th>term</th>\n",
       "    </tr>\n",
       "  </thead>\n",
       "  <tbody>\n",
       "    <tr>\n",
       "      <th>0</th>\n",
       "      <td>1</td>\n",
       "      <td>-1.0</td>\n",
       "      <td>1</td>\n",
       "      <td>Custom Test Statistic</td>\n",
       "    </tr>\n",
       "    <tr>\n",
       "      <th>1</th>\n",
       "      <td>2</td>\n",
       "      <td>-2.0</td>\n",
       "      <td>1</td>\n",
       "      <td>Custom Test Statistic</td>\n",
       "    </tr>\n",
       "    <tr>\n",
       "      <th>2</th>\n",
       "      <td>3</td>\n",
       "      <td>-3.0</td>\n",
       "      <td>1</td>\n",
       "      <td>Custom Test Statistic</td>\n",
       "    </tr>\n",
       "    <tr>\n",
       "      <th>3</th>\n",
       "      <td>4</td>\n",
       "      <td>-3.5</td>\n",
       "      <td>1</td>\n",
       "      <td>Custom Test Statistic</td>\n",
       "    </tr>\n",
       "    <tr>\n",
       "      <th>4</th>\n",
       "      <td>5</td>\n",
       "      <td>-4.5</td>\n",
       "      <td>1</td>\n",
       "      <td>Custom Test Statistic</td>\n",
       "    </tr>\n",
       "  </tbody>\n",
       "</table>\n",
       "</div>"
      ],
      "text/plain": [
       "   permutation  test_statistic  est_obs                   term\n",
       "0            1            -1.0        1  Custom Test Statistic\n",
       "1            2            -2.0        1  Custom Test Statistic\n",
       "2            3            -3.0        1  Custom Test Statistic\n",
       "3            4            -3.5        1  Custom Test Statistic\n",
       "4            5            -4.5        1  Custom Test Statistic"
      ]
     },
     "execution_count": 45,
     "metadata": {},
     "output_type": "execute_result"
    }
   ],
   "source": [
    "df_from_r.head()"
   ]
  },
  {
   "cell_type": "code",
   "execution_count": 46,
   "id": "e1d5e2a7-b64b-41bd-be6b-d7db68c85688",
   "metadata": {
    "tags": []
   },
   "outputs": [],
   "source": [
    "def p_value_test(df_sims, alternative, observed_test_statistic):\n",
    "\n",
    "   #  df_ = self.df_sims.copy()\n",
    "\n",
    "    if not observed_test_statistic in df_sims['test_statistic'].values:\n",
    "        add_row = pd.DataFrame({\"permutation\": [-1], \"test_statistic\": observed_test_statistic})\n",
    "        df_sims = pd.concat([add_row, df_sims])\n",
    "        observed_perm = -1\n",
    "    else:\n",
    "        observed_perm = df_sims.loc[(df_sims['test_statistic'] == observed_test_statistic)]['permutation'].values[0]\n",
    "\n",
    "    if alternative == 'two-sided':\n",
    "        df_sims['rank_column'] = np.abs(df_sims['test_statistic'])\n",
    "    else:\n",
    "        df_sims['rank_column'] = df_sims['test_statistic']\n",
    "\n",
    "    df_sims['rank'] = df_sims['rank_column'].rank(method='max', ascending=False)\n",
    "\n",
    "    p_value = df_sims.query(\"permutation==@observed_perm\")['rank'].values[0] / df_sims.shape[0]\n",
    "\n",
    "    return p_value"
   ]
  },
  {
   "cell_type": "code",
   "execution_count": 47,
   "id": "c21fe42f-c360-4def-937e-046d58b1ea38",
   "metadata": {
    "tags": []
   },
   "outputs": [
    {
     "data": {
      "text/plain": [
       "0.8571428571428571"
      ]
     },
     "execution_count": 47,
     "metadata": {},
     "output_type": "execute_result"
    }
   ],
   "source": [
    "p_value_test(df_sims=df_from_r, alternative='two-sided', observed_test_statistic=1.0)"
   ]
  },
  {
   "cell_type": "code",
   "execution_count": 48,
   "id": "3ee377e8-cc54-4de9-8acf-19fe003a4fdc",
   "metadata": {
    "tags": []
   },
   "outputs": [],
   "source": [
    "# Ok so this works. This p-value is correct. the problem is in deciding on the number of simulations to run"
   ]
  },
  {
   "cell_type": "code",
   "execution_count": 49,
   "id": "0a0ecddd-e30b-44f3-a559-fa3ffd044441",
   "metadata": {
    "tags": []
   },
   "outputs": [],
   "source": [
    "import math\n",
    "import itertools"
   ]
  },
  {
   "cell_type": "code",
   "execution_count": 50,
   "id": "bd1eac4e-c488-4926-9b65-a6f1799f0490",
   "metadata": {
    "tags": []
   },
   "outputs": [
    {
     "data": {
      "text/plain": [
       "70"
      ]
     },
     "execution_count": 50,
     "metadata": {},
     "output_type": "execute_result"
    }
   ],
   "source": [
    "math.comb(8, 4)"
   ]
  },
  {
   "cell_type": "code",
   "execution_count": 51,
   "id": "48545b09-7ce1-448e-b3f8-1c6377d09aa5",
   "metadata": {
    "tags": []
   },
   "outputs": [
    {
     "data": {
      "text/html": [
       "<div>\n",
       "<style scoped>\n",
       "    .dataframe tbody tr th:only-of-type {\n",
       "        vertical-align: middle;\n",
       "    }\n",
       "\n",
       "    .dataframe tbody tr th {\n",
       "        vertical-align: top;\n",
       "    }\n",
       "\n",
       "    .dataframe thead th {\n",
       "        text-align: right;\n",
       "    }\n",
       "</style>\n",
       "<table border=\"1\" class=\"dataframe\">\n",
       "  <thead>\n",
       "    <tr style=\"text-align: right;\">\n",
       "      <th></th>\n",
       "      <th>name</th>\n",
       "      <th>d</th>\n",
       "      <th>y</th>\n",
       "      <th>y0</th>\n",
       "      <th>y1</th>\n",
       "      <th>id_unit</th>\n",
       "    </tr>\n",
       "  </thead>\n",
       "  <tbody>\n",
       "    <tr>\n",
       "      <th>0</th>\n",
       "      <td>Andy</td>\n",
       "      <td>1</td>\n",
       "      <td>10</td>\n",
       "      <td>NaN</td>\n",
       "      <td>10.0</td>\n",
       "      <td>1</td>\n",
       "    </tr>\n",
       "    <tr>\n",
       "      <th>1</th>\n",
       "      <td>Ben</td>\n",
       "      <td>1</td>\n",
       "      <td>5</td>\n",
       "      <td>NaN</td>\n",
       "      <td>5.0</td>\n",
       "      <td>2</td>\n",
       "    </tr>\n",
       "    <tr>\n",
       "      <th>2</th>\n",
       "      <td>Chad</td>\n",
       "      <td>1</td>\n",
       "      <td>16</td>\n",
       "      <td>NaN</td>\n",
       "      <td>16.0</td>\n",
       "      <td>3</td>\n",
       "    </tr>\n",
       "    <tr>\n",
       "      <th>3</th>\n",
       "      <td>Daniel</td>\n",
       "      <td>1</td>\n",
       "      <td>3</td>\n",
       "      <td>NaN</td>\n",
       "      <td>3.0</td>\n",
       "      <td>4</td>\n",
       "    </tr>\n",
       "    <tr>\n",
       "      <th>4</th>\n",
       "      <td>Edith</td>\n",
       "      <td>0</td>\n",
       "      <td>5</td>\n",
       "      <td>5.0</td>\n",
       "      <td>NaN</td>\n",
       "      <td>5</td>\n",
       "    </tr>\n",
       "    <tr>\n",
       "      <th>5</th>\n",
       "      <td>Frank</td>\n",
       "      <td>0</td>\n",
       "      <td>7</td>\n",
       "      <td>7.0</td>\n",
       "      <td>NaN</td>\n",
       "      <td>6</td>\n",
       "    </tr>\n",
       "    <tr>\n",
       "      <th>6</th>\n",
       "      <td>George</td>\n",
       "      <td>0</td>\n",
       "      <td>8</td>\n",
       "      <td>8.0</td>\n",
       "      <td>NaN</td>\n",
       "      <td>7</td>\n",
       "    </tr>\n",
       "    <tr>\n",
       "      <th>7</th>\n",
       "      <td>Hank</td>\n",
       "      <td>0</td>\n",
       "      <td>10</td>\n",
       "      <td>10.0</td>\n",
       "      <td>NaN</td>\n",
       "      <td>8</td>\n",
       "    </tr>\n",
       "  </tbody>\n",
       "</table>\n",
       "</div>"
      ],
      "text/plain": [
       "     name  d   y    y0    y1  id_unit\n",
       "0    Andy  1  10   NaN  10.0        1\n",
       "1     Ben  1   5   NaN   5.0        2\n",
       "2    Chad  1  16   NaN  16.0        3\n",
       "3  Daniel  1   3   NaN   3.0        4\n",
       "4   Edith  0   5   5.0   NaN        5\n",
       "5   Frank  0   7   7.0   NaN        6\n",
       "6  George  0   8   8.0   NaN        7\n",
       "7    Hank  0  10  10.0   NaN        8"
      ]
     },
     "execution_count": 51,
     "metadata": {},
     "output_type": "execute_result"
    }
   ],
   "source": [
    "df"
   ]
  },
  {
   "cell_type": "code",
   "execution_count": 52,
   "id": "a62102cc-b745-450d-b053-e458777d15d1",
   "metadata": {
    "tags": []
   },
   "outputs": [],
   "source": [
    "combs_ = itertools.combinations(df['id_unit'].values, 4)"
   ]
  },
  {
   "cell_type": "code",
   "execution_count": 53,
   "id": "246d4a39-30d1-459e-a397-8749a746b56c",
   "metadata": {
    "tags": []
   },
   "outputs": [],
   "source": [
    "combs_ = list(combs_)"
   ]
  },
  {
   "cell_type": "code",
   "execution_count": 54,
   "id": "c0c855a3-d040-4fc2-99aa-f2184086f861",
   "metadata": {
    "tags": []
   },
   "outputs": [
    {
     "data": {
      "text/plain": [
       "70"
      ]
     },
     "execution_count": 54,
     "metadata": {},
     "output_type": "execute_result"
    }
   ],
   "source": [
    "len(combs_)"
   ]
  },
  {
   "cell_type": "code",
   "execution_count": 55,
   "id": "1edf073b-a79d-4ce9-a7f3-bcbc12c0b859",
   "metadata": {
    "tags": []
   },
   "outputs": [],
   "source": [
    "# combs_"
   ]
  },
  {
   "cell_type": "code",
   "execution_count": 56,
   "id": "2335e3de-8549-4336-8739-1a27950b1e00",
   "metadata": {
    "tags": []
   },
   "outputs": [
    {
     "data": {
      "text/plain": [
       "270288240945436569515614693625975275496152008446548287007392875106625428705522193898612483924502370165362606085021546104802209750050679917549894219699518475423665484263751733356162464079737887344364574161119497604571044985756287880514600994219426752366915856603136862602484428109296905863799821216320"
      ]
     },
     "execution_count": 56,
     "metadata": {},
     "output_type": "execute_result"
    }
   ],
   "source": [
    "# So this is all the combinations\n",
    "math.comb(1000, int(1000/2))"
   ]
  },
  {
   "cell_type": "code",
   "execution_count": 57,
   "id": "8e822a34-2862-4d86-80e1-1bf4f57c1f3b",
   "metadata": {
    "tags": []
   },
   "outputs": [
    {
     "data": {
      "text/plain": [
       "5"
      ]
     },
     "execution_count": 57,
     "metadata": {},
     "output_type": "execute_result"
    }
   ],
   "source": [
    "int(10/2)"
   ]
  },
  {
   "cell_type": "code",
   "execution_count": 58,
   "id": "22dbddbb-82c9-4190-b624-6a56b5a78b42",
   "metadata": {
    "tags": []
   },
   "outputs": [
    {
     "data": {
      "text/html": [
       "<div>\n",
       "<style scoped>\n",
       "    .dataframe tbody tr th:only-of-type {\n",
       "        vertical-align: middle;\n",
       "    }\n",
       "\n",
       "    .dataframe tbody tr th {\n",
       "        vertical-align: top;\n",
       "    }\n",
       "\n",
       "    .dataframe thead th {\n",
       "        text-align: right;\n",
       "    }\n",
       "</style>\n",
       "<table border=\"1\" class=\"dataframe\">\n",
       "  <thead>\n",
       "    <tr style=\"text-align: right;\">\n",
       "      <th></th>\n",
       "      <th>name</th>\n",
       "      <th>d</th>\n",
       "      <th>y</th>\n",
       "      <th>y0</th>\n",
       "      <th>y1</th>\n",
       "      <th>id_unit</th>\n",
       "    </tr>\n",
       "  </thead>\n",
       "  <tbody>\n",
       "    <tr>\n",
       "      <th>0</th>\n",
       "      <td>Andy</td>\n",
       "      <td>1</td>\n",
       "      <td>10</td>\n",
       "      <td>NaN</td>\n",
       "      <td>10.0</td>\n",
       "      <td>1</td>\n",
       "    </tr>\n",
       "    <tr>\n",
       "      <th>1</th>\n",
       "      <td>Ben</td>\n",
       "      <td>1</td>\n",
       "      <td>5</td>\n",
       "      <td>NaN</td>\n",
       "      <td>5.0</td>\n",
       "      <td>2</td>\n",
       "    </tr>\n",
       "    <tr>\n",
       "      <th>2</th>\n",
       "      <td>Chad</td>\n",
       "      <td>1</td>\n",
       "      <td>16</td>\n",
       "      <td>NaN</td>\n",
       "      <td>16.0</td>\n",
       "      <td>3</td>\n",
       "    </tr>\n",
       "    <tr>\n",
       "      <th>3</th>\n",
       "      <td>Daniel</td>\n",
       "      <td>1</td>\n",
       "      <td>3</td>\n",
       "      <td>NaN</td>\n",
       "      <td>3.0</td>\n",
       "      <td>4</td>\n",
       "    </tr>\n",
       "    <tr>\n",
       "      <th>4</th>\n",
       "      <td>Edith</td>\n",
       "      <td>0</td>\n",
       "      <td>5</td>\n",
       "      <td>5.0</td>\n",
       "      <td>NaN</td>\n",
       "      <td>5</td>\n",
       "    </tr>\n",
       "  </tbody>\n",
       "</table>\n",
       "</div>"
      ],
      "text/plain": [
       "     name  d   y   y0    y1  id_unit\n",
       "0    Andy  1  10  NaN  10.0        1\n",
       "1     Ben  1   5  NaN   5.0        2\n",
       "2    Chad  1  16  NaN  16.0        3\n",
       "3  Daniel  1   3  NaN   3.0        4\n",
       "4   Edith  0   5  5.0   NaN        5"
      ]
     },
     "execution_count": 58,
     "metadata": {},
     "output_type": "execute_result"
    }
   ],
   "source": [
    "df.head()"
   ]
  },
  {
   "cell_type": "code",
   "execution_count": 59,
   "id": "49436c70-3c80-49ab-8deb-5be506ad9a35",
   "metadata": {
    "tags": []
   },
   "outputs": [],
   "source": [
    "assignments_ = []"
   ]
  },
  {
   "cell_type": "code",
   "execution_count": 60,
   "id": "996c803c-79ce-4d0f-8a34-5fcb0d54b7c6",
   "metadata": {
    "tags": []
   },
   "outputs": [],
   "source": [
    "# This is not efficient. Here's a potential solution\n",
    "# step 1: return assignments as a tuple\n",
    "# step 2: has tuple\n",
    "# step 3: save tuple and hash in a dictionary. The keys are the hash, the values are the tuples\n",
    "# step 4: repeat until there are num_sims hashes in the dictionary. These will all be unique permutations\n",
    "# step 0: Only do this if the number of possible assignment combinations is huge. Otherwise, default to using every possible assignment combination (how do we handle odd assignment probabilities?)\n",
    "# for x in range(100):\n",
    "#     assignment_ = stats.binom.rvs(n=1, p=0.5, size=df['id_unit'].nunique())\n",
    "#     if assignment_ not in assignments_:\n",
    "#         assignments_.append(assignment_)"
   ]
  },
  {
   "cell_type": "code",
   "execution_count": null,
   "id": "71a9cf6b-2ef3-4492-a56b-7770bcfea65b",
   "metadata": {},
   "outputs": [],
   "source": [
    "def make_hypothetical_assignments(df_, treatment_assignment_probability):\n",
    "    # This is too simple. We need to actually sample from the space of assignment vectors without replacement. \n",
    "    assert treatment_assignment_probability > 0 and treatment_assignment_probability < 1, \"Treatment assignment probabilities must be great than 0 and less than 1. Received {0}\".format(treatment_assignment_probability)\n",
    "\n",
    "    # set the random seed\n",
    "    np.random.seed()\n",
    "\n",
    "    df_['ri_in_treatment'] = stats.binom.rvs(n=1, p=treatment_assignment_probability, size=df_.shape[0])\n",
    "\n",
    "    return df_"
   ]
  },
  {
   "cell_type": "code",
   "execution_count": 64,
   "id": "0ae5bc2a-1482-44ac-b62e-b4bfb515d45e",
   "metadata": {},
   "outputs": [],
   "source": [
    "def memoized_hypothetical_assignment(size, treatment_assignment_probability, num_perms):\n",
    "    assert treatment_assignment_probability > 0 and treatment_assignment_probability < 1, \"Treatment assignment probabilities must be great than 0 and less than 1. Received {0}\".format(treatment_assignment_probability)\n",
    "    \n",
    "    # set the random seed\n",
    "    np.random.seed()\n",
    "    \n",
    "    # Make assignment\n",
    "    assignment_dict = {}\n",
    "    # Ok so this isn't it. It will just keep going an going if there are no more possible permutations, so we need to be careful with this implementation\n",
    "    \n",
    "    while len(assignment_dict) < num_perms:\n",
    "        assignment_tuple = tuple(stats.binom.rvs(n=1, p=treatment_assignment_probability, size=size))\n",
    "        hashed_key = hash(assignment_tuple)\n",
    "        if hashed_key not in assignment_dict:\n",
    "            assignment_dict[hashed_key] = assignment_tuple\n",
    "    \n",
    "    return assignment_dict\n",
    "        "
   ]
  },
  {
   "cell_type": "code",
   "execution_count": 100,
   "id": "85a80c6b-e119-43a7-ab16-612bcdc8b9d2",
   "metadata": {},
   "outputs": [],
   "source": [
    "size = 8\n",
    "treatment_probability = 0.5"
   ]
  },
  {
   "cell_type": "code",
   "execution_count": 102,
   "id": "167dcd1d-edeb-47a6-bafd-4428ee2a48d7",
   "metadata": {},
   "outputs": [],
   "source": [
    "all_combs = list(itertools.combinations(list(range(size)), int(size*treatment_probability)))"
   ]
  },
  {
   "cell_type": "code",
   "execution_count": 104,
   "id": "ed8e7dfe-e9f1-4686-970f-cb2c7e8b4999",
   "metadata": {},
   "outputs": [
    {
     "data": {
      "text/plain": [
       "70"
      ]
     },
     "execution_count": 104,
     "metadata": {},
     "output_type": "execute_result"
    }
   ],
   "source": [
    "len(all_combs)"
   ]
  },
  {
   "cell_type": "code",
   "execution_count": 134,
   "id": "b77c3c3b-c395-49cf-b638-f0d98fd1d6fa",
   "metadata": {},
   "outputs": [],
   "source": [
    "hypothetical_assignments = {}\n",
    "for i, comb in enumerate(all_combs):\n",
    "    assignment_vector = np.zeros(size)\n",
    "    assignment_vector[list(comb)] = 1\n",
    "    hypothetical_assignments[i] = assignment_vector"
   ]
  },
  {
   "cell_type": "code",
   "execution_count": 110,
   "id": "f4ec1e73-7fd4-40fb-b632-ac50e8da45ee",
   "metadata": {
    "scrolled": true,
    "tags": []
   },
   "outputs": [
    {
     "data": {
      "text/plain": [
       "{0: array([1., 1., 1., 1., 0., 0., 0., 0.]),\n",
       " 1: array([1., 1., 1., 0., 1., 0., 0., 0.]),\n",
       " 2: array([1., 1., 1., 0., 0., 1., 0., 0.]),\n",
       " 3: array([1., 1., 1., 0., 0., 0., 1., 0.]),\n",
       " 4: array([1., 1., 1., 0., 0., 0., 0., 1.]),\n",
       " 5: array([1., 1., 0., 1., 1., 0., 0., 0.]),\n",
       " 6: array([1., 1., 0., 1., 0., 1., 0., 0.]),\n",
       " 7: array([1., 1., 0., 1., 0., 0., 1., 0.]),\n",
       " 8: array([1., 1., 0., 1., 0., 0., 0., 1.]),\n",
       " 9: array([1., 1., 0., 0., 1., 1., 0., 0.]),\n",
       " 10: array([1., 1., 0., 0., 1., 0., 1., 0.]),\n",
       " 11: array([1., 1., 0., 0., 1., 0., 0., 1.]),\n",
       " 12: array([1., 1., 0., 0., 0., 1., 1., 0.]),\n",
       " 13: array([1., 1., 0., 0., 0., 1., 0., 1.]),\n",
       " 14: array([1., 1., 0., 0., 0., 0., 1., 1.]),\n",
       " 15: array([1., 0., 1., 1., 1., 0., 0., 0.]),\n",
       " 16: array([1., 0., 1., 1., 0., 1., 0., 0.]),\n",
       " 17: array([1., 0., 1., 1., 0., 0., 1., 0.]),\n",
       " 18: array([1., 0., 1., 1., 0., 0., 0., 1.]),\n",
       " 19: array([1., 0., 1., 0., 1., 1., 0., 0.]),\n",
       " 20: array([1., 0., 1., 0., 1., 0., 1., 0.]),\n",
       " 21: array([1., 0., 1., 0., 1., 0., 0., 1.]),\n",
       " 22: array([1., 0., 1., 0., 0., 1., 1., 0.]),\n",
       " 23: array([1., 0., 1., 0., 0., 1., 0., 1.]),\n",
       " 24: array([1., 0., 1., 0., 0., 0., 1., 1.]),\n",
       " 25: array([1., 0., 0., 1., 1., 1., 0., 0.]),\n",
       " 26: array([1., 0., 0., 1., 1., 0., 1., 0.]),\n",
       " 27: array([1., 0., 0., 1., 1., 0., 0., 1.]),\n",
       " 28: array([1., 0., 0., 1., 0., 1., 1., 0.]),\n",
       " 29: array([1., 0., 0., 1., 0., 1., 0., 1.]),\n",
       " 30: array([1., 0., 0., 1., 0., 0., 1., 1.]),\n",
       " 31: array([1., 0., 0., 0., 1., 1., 1., 0.]),\n",
       " 32: array([1., 0., 0., 0., 1., 1., 0., 1.]),\n",
       " 33: array([1., 0., 0., 0., 1., 0., 1., 1.]),\n",
       " 34: array([1., 0., 0., 0., 0., 1., 1., 1.]),\n",
       " 35: array([0., 1., 1., 1., 1., 0., 0., 0.]),\n",
       " 36: array([0., 1., 1., 1., 0., 1., 0., 0.]),\n",
       " 37: array([0., 1., 1., 1., 0., 0., 1., 0.]),\n",
       " 38: array([0., 1., 1., 1., 0., 0., 0., 1.]),\n",
       " 39: array([0., 1., 1., 0., 1., 1., 0., 0.]),\n",
       " 40: array([0., 1., 1., 0., 1., 0., 1., 0.]),\n",
       " 41: array([0., 1., 1., 0., 1., 0., 0., 1.]),\n",
       " 42: array([0., 1., 1., 0., 0., 1., 1., 0.]),\n",
       " 43: array([0., 1., 1., 0., 0., 1., 0., 1.]),\n",
       " 44: array([0., 1., 1., 0., 0., 0., 1., 1.]),\n",
       " 45: array([0., 1., 0., 1., 1., 1., 0., 0.]),\n",
       " 46: array([0., 1., 0., 1., 1., 0., 1., 0.]),\n",
       " 47: array([0., 1., 0., 1., 1., 0., 0., 1.]),\n",
       " 48: array([0., 1., 0., 1., 0., 1., 1., 0.]),\n",
       " 49: array([0., 1., 0., 1., 0., 1., 0., 1.]),\n",
       " 50: array([0., 1., 0., 1., 0., 0., 1., 1.]),\n",
       " 51: array([0., 1., 0., 0., 1., 1., 1., 0.]),\n",
       " 52: array([0., 1., 0., 0., 1., 1., 0., 1.]),\n",
       " 53: array([0., 1., 0., 0., 1., 0., 1., 1.]),\n",
       " 54: array([0., 1., 0., 0., 0., 1., 1., 1.]),\n",
       " 55: array([0., 0., 1., 1., 1., 1., 0., 0.]),\n",
       " 56: array([0., 0., 1., 1., 1., 0., 1., 0.]),\n",
       " 57: array([0., 0., 1., 1., 1., 0., 0., 1.]),\n",
       " 58: array([0., 0., 1., 1., 0., 1., 1., 0.]),\n",
       " 59: array([0., 0., 1., 1., 0., 1., 0., 1.]),\n",
       " 60: array([0., 0., 1., 1., 0., 0., 1., 1.]),\n",
       " 61: array([0., 0., 1., 0., 1., 1., 1., 0.]),\n",
       " 62: array([0., 0., 1., 0., 1., 1., 0., 1.]),\n",
       " 63: array([0., 0., 1., 0., 1., 0., 1., 1.]),\n",
       " 64: array([0., 0., 1., 0., 0., 1., 1., 1.]),\n",
       " 65: array([0., 0., 0., 1., 1., 1., 1., 0.]),\n",
       " 66: array([0., 0., 0., 1., 1., 1., 0., 1.]),\n",
       " 67: array([0., 0., 0., 1., 1., 0., 1., 1.]),\n",
       " 68: array([0., 0., 0., 1., 0., 1., 1., 1.]),\n",
       " 69: array([0., 0., 0., 0., 1., 1., 1., 1.])}"
      ]
     },
     "execution_count": 110,
     "metadata": {},
     "output_type": "execute_result"
    }
   ],
   "source": [
    "hypothetical_assignments"
   ]
  },
  {
   "cell_type": "code",
   "execution_count": 111,
   "id": "74ac2135-460e-401a-90f3-5e76d22a9f15",
   "metadata": {},
   "outputs": [
    {
     "data": {
      "text/plain": [
       "70"
      ]
     },
     "execution_count": 111,
     "metadata": {},
     "output_type": "execute_result"
    }
   ],
   "source": [
    "len(hypothetical_assignments)"
   ]
  },
  {
   "cell_type": "code",
   "execution_count": null,
   "id": "596e3629-c58d-41bc-b619-2995348967b4",
   "metadata": {},
   "outputs": [],
   "source": []
  },
  {
   "cell_type": "code",
   "execution_count": 96,
   "id": "3f9b9e5a-c296-4def-8db4-f91f9522cf79",
   "metadata": {},
   "outputs": [],
   "source": [
    "all_combs = list(itertools.combinations(df['id_unit'].values, 4))"
   ]
  },
  {
   "cell_type": "code",
   "execution_count": null,
   "id": "c58e1b0c-0116-4d1d-a774-31ffa76b098d",
   "metadata": {},
   "outputs": [],
   "source": [
    "l = [3,4,7,9]\n",
    "m = np.zeros(max(l)+1)\n",
    "m[l] = 1"
   ]
  },
  {
   "cell_type": "code",
   "execution_count": 98,
   "id": "d08d1074-f57c-4da0-ad6a-26c5afc11f30",
   "metadata": {},
   "outputs": [],
   "source": [
    "assignments_array = np.zeros(df['id_unit'].nunique())"
   ]
  },
  {
   "cell_type": "code",
   "execution_count": 99,
   "id": "7ff5370a-66bc-41cb-ba4d-d24037c25a0a",
   "metadata": {},
   "outputs": [
    {
     "data": {
      "text/plain": [
       "array([0., 0., 0., 0., 0., 0., 0., 0.])"
      ]
     },
     "execution_count": 99,
     "metadata": {},
     "output_type": "execute_result"
    }
   ],
   "source": [
    "assignments_array"
   ]
  },
  {
   "cell_type": "code",
   "execution_count": 145,
   "id": "ab861c66-d14a-42a8-ba16-6d98aad34272",
   "metadata": {},
   "outputs": [],
   "source": [
    "def get_all_combinations(size, treatment_probability):\n",
    "    all_combs = list(itertools.combinations(list(range(size)), int(size*treatment_probability)))\n",
    "    hypothetical_assignments = {}\n",
    "    for i, comb in enumerate(all_combs):\n",
    "        assignment_vector = np.zeros(size)\n",
    "        assignment_vector[list(comb)] = 1\n",
    "        hypothetical_assignments[i] = tuple(assignment_vector)\n",
    "    \n",
    "    return hypothetical_assignments"
   ]
  },
  {
   "cell_type": "code",
   "execution_count": 146,
   "id": "4de00a69-6266-436b-b354-30eb472b45dd",
   "metadata": {},
   "outputs": [],
   "source": [
    "def make_hypothetical_assignment(size, treatment_assignment_probability, num_perms=1000):\n",
    "    assert treatment_assignment_probability > 0 and treatment_assignment_probability < 1, \"Treatment assignment probabilities must be great than 0 and less than 1. Received {0}\".format(treatment_assignment_probability)\n",
    "    \n",
    "    # set the random seed\n",
    "    np.random.seed()\n",
    "    \n",
    "    try:\n",
    "        n_combs = math.comb(size, int(size*treatment_probability))\n",
    "    except ValueError:\n",
    "        n_combs = np.inf\n",
    "    \n",
    "    print(n_combs)\n",
    "    if n_combs <= num_perms:\n",
    "        print('this happened')\n",
    "        # Just get all possible assignment combinations\n",
    "        assignment_dict = get_all_combinations(size, treatment_probability)\n",
    "    else:\n",
    "        assignment_dict = {}\n",
    "        while len(assignment_dict) < num_perms: # I'm a little worried that this is going to run forever\n",
    "            assignment_tuple = tuple(stats.binom.rvs(n=1, p=treatment_assignment_probability, size=size))\n",
    "            hashed_key = hash(assignment_tuple)\n",
    "            if hashed_key not in assignment_dict:\n",
    "                assignment_dict[hashed_key] = assignment_tuple\n",
    "    \n",
    "    return assignment_dict"
   ]
  },
  {
   "cell_type": "code",
   "execution_count": null,
   "id": "fef8863c-6ee6-4924-9bf0-4491324c232b",
   "metadata": {},
   "outputs": [],
   "source": [
    "# Now we need a function to calculate the test statistic\n",
    "# Effectively this needs to replace\n",
    "# def make_hypothetical_assignments(df_, treatment_assignment_probability):\n",
    "#     # This is too simple. We need to actually sample from the space of assignment vectors without replacement. \n",
    "#     assert treatment_assignment_probability > 0 and treatment_assignment_probability < 1, \"Treatment assignment probabilities must be great than 0 and less than 1. Received {0}\".format(treatment_assignment_probability)\n",
    "\n",
    "#     # set the random seed\n",
    "#     np.random.seed()\n",
    "\n",
    "#     df_['ri_in_treatment'] = stats.binom.rvs(n=1, p=treatment_assignment_probability, size=df_.shape[0])\n",
    "\n",
    "#     return df_\n",
    "# AND\n",
    "# def run_randomization_inference(self, df, test_statistic_function, treatment_assignment_probability):\n",
    "\n",
    "#     df_ = self.make_hypothetical_assignments(df_=df, treatment_assignment_probability=treatment_assignment_probability)\n",
    "\n",
    "#     stat_ = test_statistic_function(df=df_, outcome_col='outcome_sharp_null', treatment_col='ri_in_treatment', treatment_name=1, control_name=0)\n",
    "\n",
    "#     return stat_\n",
    "def calculate_test_statistic(df, test_statistic_function, assignment_dict):\n",
    "    sim_dict = {}\n",
    "    for i, assignment_tuple in tqdm(enumerate(assignment_dict.values())):\n",
    "        df_['ri_in_treatment'] = assignment_tuple\n",
    "        stat_ = test_statistic_function(df=df_, outcome_col='outcome_sharp_null', treatment_col='ri_in_treatment', treatment_name=1, control_name=0)\n",
    "        sim_dict[i] = stat_\n",
    "    \n",
    "    return sim_dict"
   ]
  },
  {
   "cell_type": "code",
   "execution_count": 147,
   "id": "37a00f11-a9af-40f9-8ab9-f6795b6e611e",
   "metadata": {},
   "outputs": [
    {
     "name": "stdout",
     "output_type": "stream",
     "text": [
      "70\n",
      "this happened\n"
     ]
    }
   ],
   "source": [
    "test_assignment_dict = make_hypothetical_assignment(size=df.shape[0], treatment_assignment_probability=0.5, num_perms=700)"
   ]
  },
  {
   "cell_type": "code",
   "execution_count": 148,
   "id": "65ad696d-4153-45cc-9ff5-2f46f9071471",
   "metadata": {},
   "outputs": [
    {
     "data": {
      "text/plain": [
       "70"
      ]
     },
     "execution_count": 148,
     "metadata": {},
     "output_type": "execute_result"
    }
   ],
   "source": [
    "len(test_assignment_dict)"
   ]
  },
  {
   "cell_type": "code",
   "execution_count": 149,
   "id": "4866afd7-64e5-4d36-967f-1e194e3bef65",
   "metadata": {},
   "outputs": [],
   "source": [
    "assignments_list = list(test_assignment_dict.values())"
   ]
  },
  {
   "cell_type": "code",
   "execution_count": 150,
   "id": "c1a45a42-ae31-4bd8-9051-5f6ea7b17eb7",
   "metadata": {},
   "outputs": [
    {
     "data": {
      "text/plain": [
       "70"
      ]
     },
     "execution_count": 150,
     "metadata": {},
     "output_type": "execute_result"
    }
   ],
   "source": [
    "len(assignments_list)"
   ]
  },
  {
   "cell_type": "code",
   "execution_count": 151,
   "id": "d9a597fd-15cb-4adf-87a8-297eb9a1044b",
   "metadata": {
    "scrolled": true,
    "tags": []
   },
   "outputs": [
    {
     "data": {
      "text/plain": [
       "[(1, 0, 1, 1, 1, 0, 0, 0),\n",
       " (0, 1, 1, 1, 1, 0, 0, 0),\n",
       " (0, 1, 0, 0, 1, 1, 0, 0),\n",
       " (1, 0, 0, 0, 0, 0, 0, 0),\n",
       " (1, 1, 0, 0, 0, 0, 0, 0),\n",
       " (0, 1, 0, 1, 0, 1, 1, 0),\n",
       " (1, 0, 1, 0, 1, 1, 1, 0),\n",
       " (0, 1, 1, 0, 0, 1, 1, 1),\n",
       " (0, 1, 0, 1, 1, 0, 1, 0),\n",
       " (0, 0, 0, 0, 0, 0, 1, 0),\n",
       " (1, 1, 0, 0, 0, 1, 0, 1),\n",
       " (1, 1, 1, 0, 1, 0, 0, 0),\n",
       " (1, 1, 1, 0, 1, 1, 1, 1),\n",
       " (1, 1, 0, 1, 1, 0, 1, 1),\n",
       " (0, 0, 1, 0, 1, 1, 1, 0),\n",
       " (0, 0, 1, 1, 0, 1, 1, 0),\n",
       " (0, 0, 1, 0, 1, 0, 0, 1),\n",
       " (0, 0, 0, 1, 1, 0, 1, 1),\n",
       " (0, 1, 1, 1, 0, 1, 0, 0),\n",
       " (1, 0, 0, 0, 1, 0, 0, 1),\n",
       " (1, 1, 0, 1, 1, 1, 1, 1),\n",
       " (0, 1, 0, 1, 0, 0, 1, 1),\n",
       " (1, 0, 0, 0, 0, 1, 0, 0),\n",
       " (1, 0, 1, 0, 0, 0, 1, 0),\n",
       " (0, 0, 1, 0, 0, 0, 1, 1),\n",
       " (0, 0, 1, 1, 1, 1, 0, 1),\n",
       " (1, 1, 1, 1, 1, 1, 0, 1),\n",
       " (1, 0, 0, 1, 1, 1, 1, 1),\n",
       " (1, 0, 1, 0, 1, 1, 0, 1),\n",
       " (0, 1, 0, 0, 1, 1, 0, 1),\n",
       " (0, 0, 1, 0, 0, 0, 1, 0),\n",
       " (0, 1, 1, 0, 0, 0, 1, 1),\n",
       " (0, 0, 0, 0, 1, 0, 1, 1),\n",
       " (1, 0, 0, 1, 1, 0, 1, 1),\n",
       " (0, 0, 0, 1, 0, 0, 1, 1),\n",
       " (0, 1, 1, 1, 1, 0, 1, 1),\n",
       " (1, 1, 0, 1, 0, 1, 1, 0),\n",
       " (0, 0, 1, 1, 0, 0, 0, 1),\n",
       " (0, 0, 1, 0, 0, 1, 0, 0),\n",
       " (0, 1, 0, 0, 0, 0, 1, 1),\n",
       " (0, 0, 0, 1, 1, 1, 1, 0),\n",
       " (0, 1, 1, 0, 1, 0, 1, 0),\n",
       " (1, 1, 0, 1, 1, 1, 1, 0),\n",
       " (1, 0, 1, 0, 1, 0, 0, 0),\n",
       " (1, 0, 0, 1, 1, 0, 0, 1),\n",
       " (0, 0, 0, 1, 1, 1, 0, 1),\n",
       " (1, 1, 1, 1, 0, 1, 1, 1),\n",
       " (0, 1, 1, 0, 1, 1, 0, 0),\n",
       " (1, 0, 1, 1, 0, 1, 0, 0),\n",
       " (1, 0, 0, 1, 0, 0, 1, 1)]"
      ]
     },
     "execution_count": 151,
     "metadata": {},
     "output_type": "execute_result"
    }
   ],
   "source": [
    "assigmments_list"
   ]
  },
  {
   "cell_type": "code",
   "execution_count": 152,
   "id": "ba1f42cc-80aa-4efb-8c49-fe789818f847",
   "metadata": {},
   "outputs": [
    {
     "data": {
      "text/plain": [
       "(1.0, 1.0, 1.0, 1.0, 0.0, 0.0, 0.0, 0.0)"
      ]
     },
     "execution_count": 152,
     "metadata": {},
     "output_type": "execute_result"
    }
   ],
   "source": [
    "assignments_list[0]"
   ]
  },
  {
   "cell_type": "code",
   "execution_count": 153,
   "id": "1f370b37-4bae-48a5-8bb5-cf70eab5a3df",
   "metadata": {},
   "outputs": [
    {
     "data": {
      "text/plain": [
       "70"
      ]
     },
     "execution_count": 153,
     "metadata": {},
     "output_type": "execute_result"
    }
   ],
   "source": [
    "len(set(assignments_list))"
   ]
  },
  {
   "cell_type": "code",
   "execution_count": 77,
   "id": "68138707-9461-4003-8032-d63de5d8b579",
   "metadata": {},
   "outputs": [],
   "source": [
    "# Nice, they are all unique.  All we need to do now if compute the test statistic based on these assignments :) \n",
    "# We can add a check in here to just get the total combinations if the total is small enough (how small?)"
   ]
  },
  {
   "cell_type": "code",
   "execution_count": 78,
   "id": "923e572c-2fd9-4bfb-86ae-99b761517d79",
   "metadata": {},
   "outputs": [
    {
     "data": {
      "text/plain": [
       "70"
      ]
     },
     "execution_count": 78,
     "metadata": {},
     "output_type": "execute_result"
    }
   ],
   "source": [
    "math.comb(8, 4)"
   ]
  },
  {
   "cell_type": "code",
   "execution_count": 79,
   "id": "88da03b0-348d-4224-8443-2e9ff3a5b8fa",
   "metadata": {},
   "outputs": [],
   "source": [
    "test_assignment_dict = memoized_hypothetical_assignment(size=df.shape[0], treatment_assignment_probability=0.5, num_perms=70)"
   ]
  },
  {
   "cell_type": "code",
   "execution_count": 80,
   "id": "c122ad2d-dc79-481b-bd1f-835c26c6f872",
   "metadata": {},
   "outputs": [
    {
     "data": {
      "text/plain": [
       "70"
      ]
     },
     "execution_count": 80,
     "metadata": {},
     "output_type": "execute_result"
    }
   ],
   "source": [
    "len(test_assignment_dict)"
   ]
  },
  {
   "cell_type": "code",
   "execution_count": 83,
   "id": "ccbc0551-0ed3-46d7-9b52-29941062426b",
   "metadata": {},
   "outputs": [
    {
     "data": {
      "text/plain": [
       "70"
      ]
     },
     "execution_count": 83,
     "metadata": {},
     "output_type": "execute_result"
    }
   ],
   "source": [
    "math.comb(8, 4)"
   ]
  },
  {
   "cell_type": "code",
   "execution_count": 92,
   "id": "fd27f56f-dea2-40fc-823e-2a056aff35db",
   "metadata": {},
   "outputs": [
    {
     "ename": "ValueError",
     "evalue": "Exceeds the limit (4300) for integer string conversion; use sys.set_int_max_str_digits() to increase the limit",
     "output_type": "error",
     "traceback": [
      "\u001b[0;31m---------------------------------------------------------------------------\u001b[0m",
      "\u001b[0;31mValueError\u001b[0m                                Traceback (most recent call last)",
      "File \u001b[0;32m~/miniconda3/envs/causal_ml_py39/lib/python3.9/site-packages/IPython/core/formatters.py:708\u001b[0m, in \u001b[0;36mPlainTextFormatter.__call__\u001b[0;34m(self, obj)\u001b[0m\n\u001b[1;32m    701\u001b[0m stream \u001b[38;5;241m=\u001b[39m StringIO()\n\u001b[1;32m    702\u001b[0m printer \u001b[38;5;241m=\u001b[39m pretty\u001b[38;5;241m.\u001b[39mRepresentationPrinter(stream, \u001b[38;5;28mself\u001b[39m\u001b[38;5;241m.\u001b[39mverbose,\n\u001b[1;32m    703\u001b[0m     \u001b[38;5;28mself\u001b[39m\u001b[38;5;241m.\u001b[39mmax_width, \u001b[38;5;28mself\u001b[39m\u001b[38;5;241m.\u001b[39mnewline,\n\u001b[1;32m    704\u001b[0m     max_seq_length\u001b[38;5;241m=\u001b[39m\u001b[38;5;28mself\u001b[39m\u001b[38;5;241m.\u001b[39mmax_seq_length,\n\u001b[1;32m    705\u001b[0m     singleton_pprinters\u001b[38;5;241m=\u001b[39m\u001b[38;5;28mself\u001b[39m\u001b[38;5;241m.\u001b[39msingleton_printers,\n\u001b[1;32m    706\u001b[0m     type_pprinters\u001b[38;5;241m=\u001b[39m\u001b[38;5;28mself\u001b[39m\u001b[38;5;241m.\u001b[39mtype_printers,\n\u001b[1;32m    707\u001b[0m     deferred_pprinters\u001b[38;5;241m=\u001b[39m\u001b[38;5;28mself\u001b[39m\u001b[38;5;241m.\u001b[39mdeferred_printers)\n\u001b[0;32m--> 708\u001b[0m \u001b[43mprinter\u001b[49m\u001b[38;5;241;43m.\u001b[39;49m\u001b[43mpretty\u001b[49m\u001b[43m(\u001b[49m\u001b[43mobj\u001b[49m\u001b[43m)\u001b[49m\n\u001b[1;32m    709\u001b[0m printer\u001b[38;5;241m.\u001b[39mflush()\n\u001b[1;32m    710\u001b[0m \u001b[38;5;28;01mreturn\u001b[39;00m stream\u001b[38;5;241m.\u001b[39mgetvalue()\n",
      "File \u001b[0;32m~/miniconda3/envs/causal_ml_py39/lib/python3.9/site-packages/IPython/lib/pretty.py:393\u001b[0m, in \u001b[0;36mRepresentationPrinter.pretty\u001b[0;34m(self, obj)\u001b[0m\n\u001b[1;32m    390\u001b[0m \u001b[38;5;28;01mfor\u001b[39;00m \u001b[38;5;28mcls\u001b[39m \u001b[38;5;129;01min\u001b[39;00m _get_mro(obj_class):\n\u001b[1;32m    391\u001b[0m     \u001b[38;5;28;01mif\u001b[39;00m \u001b[38;5;28mcls\u001b[39m \u001b[38;5;129;01min\u001b[39;00m \u001b[38;5;28mself\u001b[39m\u001b[38;5;241m.\u001b[39mtype_pprinters:\n\u001b[1;32m    392\u001b[0m         \u001b[38;5;66;03m# printer registered in self.type_pprinters\u001b[39;00m\n\u001b[0;32m--> 393\u001b[0m         \u001b[38;5;28;01mreturn\u001b[39;00m \u001b[38;5;28;43mself\u001b[39;49m\u001b[38;5;241;43m.\u001b[39;49m\u001b[43mtype_pprinters\u001b[49m\u001b[43m[\u001b[49m\u001b[38;5;28;43mcls\u001b[39;49m\u001b[43m]\u001b[49m\u001b[43m(\u001b[49m\u001b[43mobj\u001b[49m\u001b[43m,\u001b[49m\u001b[43m \u001b[49m\u001b[38;5;28;43mself\u001b[39;49m\u001b[43m,\u001b[49m\u001b[43m \u001b[49m\u001b[43mcycle\u001b[49m\u001b[43m)\u001b[49m\n\u001b[1;32m    394\u001b[0m     \u001b[38;5;28;01melse\u001b[39;00m:\n\u001b[1;32m    395\u001b[0m         \u001b[38;5;66;03m# deferred printer\u001b[39;00m\n\u001b[1;32m    396\u001b[0m         printer \u001b[38;5;241m=\u001b[39m \u001b[38;5;28mself\u001b[39m\u001b[38;5;241m.\u001b[39m_in_deferred_types(\u001b[38;5;28mcls\u001b[39m)\n",
      "File \u001b[0;32m~/miniconda3/envs/causal_ml_py39/lib/python3.9/site-packages/IPython/lib/pretty.py:778\u001b[0m, in \u001b[0;36m_repr_pprint\u001b[0;34m(obj, p, cycle)\u001b[0m\n\u001b[1;32m    776\u001b[0m \u001b[38;5;250m\u001b[39m\u001b[38;5;124;03m\"\"\"A pprint that just redirects to the normal repr function.\"\"\"\u001b[39;00m\n\u001b[1;32m    777\u001b[0m \u001b[38;5;66;03m# Find newlines and replace them with p.break_()\u001b[39;00m\n\u001b[0;32m--> 778\u001b[0m output \u001b[38;5;241m=\u001b[39m \u001b[38;5;28;43mrepr\u001b[39;49m\u001b[43m(\u001b[49m\u001b[43mobj\u001b[49m\u001b[43m)\u001b[49m\n\u001b[1;32m    779\u001b[0m lines \u001b[38;5;241m=\u001b[39m output\u001b[38;5;241m.\u001b[39msplitlines()\n\u001b[1;32m    780\u001b[0m \u001b[38;5;28;01mwith\u001b[39;00m p\u001b[38;5;241m.\u001b[39mgroup():\n",
      "\u001b[0;31mValueError\u001b[0m: Exceeds the limit (4300) for integer string conversion; use sys.set_int_max_str_digits() to increase the limit"
     ]
    }
   ],
   "source": [
    "math.comb(100000, 50000)"
   ]
  },
  {
   "cell_type": "code",
   "execution_count": 91,
   "id": "0f80f40b-b23a-4eb1-b229-80c8ea2f5f7e",
   "metadata": {},
   "outputs": [
    {
     "data": {
      "text/plain": [
       "70"
      ]
     },
     "execution_count": 91,
     "metadata": {},
     "output_type": "execute_result"
    }
   ],
   "source": [
    "math.comb(8, int(8*0.5))"
   ]
  },
  {
   "cell_type": "code",
   "execution_count": null,
   "id": "80dba8a8-777e-467b-9aaf-7f7cbb3d22fc",
   "metadata": {},
   "outputs": [],
   "source": []
  }
 ],
 "metadata": {
  "kernelspec": {
   "display_name": "Python [conda env:causal_ml_py39] *",
   "language": "python",
   "name": "conda-env-causal_ml_py39-py"
  },
  "language_info": {
   "codemirror_mode": {
    "name": "ipython",
    "version": 3
   },
   "file_extension": ".py",
   "mimetype": "text/x-python",
   "name": "python",
   "nbconvert_exporter": "python",
   "pygments_lexer": "ipython3",
   "version": "3.9.15"
  }
 },
 "nbformat": 4,
 "nbformat_minor": 5
}
