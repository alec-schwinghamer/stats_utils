{
 "cells": [
  {
   "cell_type": "markdown",
   "id": "9d94b0ed-8c63-4eec-a646-2262add9ec69",
   "metadata": {},
   "source": [
    "Randomization inference is probably the way we want to go in order to handle very skewed distributions of continuous metrics.  We need to be able to supply the following functionality:\n",
    "\n",
    "1. Generic randomization inference for any scalar test statistic\n",
    "\n",
    "2. A selection of pre-built test statistics along with documentation about what they mean and when you might want to use them\n",
    "\n",
    "3. A method for doing hypothetical assignment, or supplying your own function (we may want to scale this up at some point to have some pre-built functions). We'll focus on binary assignment for now (i.e. only two variants), and we'll work to generalize this later.\n",
    "\n",
    "4. Power analysis. This is relatively easy, but we need a way to do run time estimations as well"
   ]
  },
  {
   "cell_type": "code",
   "execution_count": 3,
   "id": "d3811b02-c941-4e82-bee9-58a355ac859e",
   "metadata": {
    "tags": []
   },
   "outputs": [],
   "source": [
    "import os\n",
    "import sys\n",
    "import numpy as np\n",
    "import pandas as pd\n",
    "import scipy.stats as stats\n",
    "import matplotlib.pyplot as plt\n",
    "%matplotlib inline\n",
    "import seaborn as sns\n",
    "import scipy \n",
    "\n",
    "from matplotlib import style\n",
    "from tqdm.auto import tqdm"
   ]
  },
  {
   "cell_type": "code",
   "execution_count": 40,
   "id": "85aad336-204b-4cf9-b494-58f9b3a6e560",
   "metadata": {
    "tags": []
   },
   "outputs": [],
   "source": [
    "# Additional imports \n",
    "from functools import partial"
   ]
  },
  {
   "cell_type": "code",
   "execution_count": 4,
   "id": "abd66597-92b7-4698-8aa5-e13012f0d554",
   "metadata": {
    "tags": []
   },
   "outputs": [],
   "source": [
    "# Set pandas preferences\n",
    "pd.options.display.max_columns=500\n",
    "pd.options.display.max_colwidth=500\n",
    "pd.options.display.max_rows=500"
   ]
  },
  {
   "cell_type": "code",
   "execution_count": 5,
   "id": "61133646-b5eb-4648-8e13-b79c1c04267c",
   "metadata": {
    "tags": []
   },
   "outputs": [],
   "source": [
    "# Set plot style\n",
    "style.use(\"fivethirtyeight\")"
   ]
  },
  {
   "cell_type": "code",
   "execution_count": 6,
   "id": "bb55e1c5-e0a1-4510-9f6e-d4d40d249439",
   "metadata": {
    "tags": []
   },
   "outputs": [],
   "source": [
    "# Initialize tqdm for pandas\n",
    "tqdm.pandas()"
   ]
  },
  {
   "cell_type": "code",
   "execution_count": 7,
   "id": "0b61ad14-4355-4f79-8153-da4e8bfb4c66",
   "metadata": {
    "tags": []
   },
   "outputs": [],
   "source": [
    "# Example dataset: from https://www.franciscoyira.com/post/randomization-inference-causal-mixtape/"
   ]
  },
  {
   "cell_type": "code",
   "execution_count": 8,
   "id": "46aad085-5687-46bb-bdca-b40e0d89bc68",
   "metadata": {
    "tags": []
   },
   "outputs": [],
   "source": [
    "name_list = ['Andy', 'Ben', 'Chad', 'Daniel', 'Edith', 'Frank', 'George', 'Hank']\n",
    "d_list = [1,1,1,1,0,0,0,0]\n",
    "y_list = [10,5,16,3,5,7,8,10]\n",
    "y0_list = [np.nan, np.nan, np.nan, np.nan, 5, 7, 8, 10]\n",
    "y1_list = [10,5,16,3,np.nan,np.nan,np.nan,np.nan]\n",
    "id_unit_list = [1,2,3,4,5,6,7,8]"
   ]
  },
  {
   "cell_type": "code",
   "execution_count": 9,
   "id": "8e82a843-b0cc-407d-82e1-7f1cf080b02a",
   "metadata": {
    "tags": []
   },
   "outputs": [],
   "source": [
    "df = pd.DataFrame()\n",
    "df['name'] = name_list\n",
    "df['d'] = d_list\n",
    "df['y'] = y_list\n",
    "df['y0'] = y0_list\n",
    "df['y1'] = y1_list\n",
    "df['id_unit'] = id_unit_list"
   ]
  },
  {
   "cell_type": "code",
   "execution_count": 10,
   "id": "5c449232-369b-41d1-a7d6-b574b8413ae3",
   "metadata": {
    "tags": []
   },
   "outputs": [
    {
     "data": {
      "text/html": [
       "<div>\n",
       "<style scoped>\n",
       "    .dataframe tbody tr th:only-of-type {\n",
       "        vertical-align: middle;\n",
       "    }\n",
       "\n",
       "    .dataframe tbody tr th {\n",
       "        vertical-align: top;\n",
       "    }\n",
       "\n",
       "    .dataframe thead th {\n",
       "        text-align: right;\n",
       "    }\n",
       "</style>\n",
       "<table border=\"1\" class=\"dataframe\">\n",
       "  <thead>\n",
       "    <tr style=\"text-align: right;\">\n",
       "      <th></th>\n",
       "      <th>name</th>\n",
       "      <th>d</th>\n",
       "      <th>y</th>\n",
       "      <th>y0</th>\n",
       "      <th>y1</th>\n",
       "      <th>id_unit</th>\n",
       "    </tr>\n",
       "  </thead>\n",
       "  <tbody>\n",
       "    <tr>\n",
       "      <th>0</th>\n",
       "      <td>Andy</td>\n",
       "      <td>1</td>\n",
       "      <td>10</td>\n",
       "      <td>NaN</td>\n",
       "      <td>10.0</td>\n",
       "      <td>1</td>\n",
       "    </tr>\n",
       "    <tr>\n",
       "      <th>1</th>\n",
       "      <td>Ben</td>\n",
       "      <td>1</td>\n",
       "      <td>5</td>\n",
       "      <td>NaN</td>\n",
       "      <td>5.0</td>\n",
       "      <td>2</td>\n",
       "    </tr>\n",
       "    <tr>\n",
       "      <th>2</th>\n",
       "      <td>Chad</td>\n",
       "      <td>1</td>\n",
       "      <td>16</td>\n",
       "      <td>NaN</td>\n",
       "      <td>16.0</td>\n",
       "      <td>3</td>\n",
       "    </tr>\n",
       "    <tr>\n",
       "      <th>3</th>\n",
       "      <td>Daniel</td>\n",
       "      <td>1</td>\n",
       "      <td>3</td>\n",
       "      <td>NaN</td>\n",
       "      <td>3.0</td>\n",
       "      <td>4</td>\n",
       "    </tr>\n",
       "    <tr>\n",
       "      <th>4</th>\n",
       "      <td>Edith</td>\n",
       "      <td>0</td>\n",
       "      <td>5</td>\n",
       "      <td>5.0</td>\n",
       "      <td>NaN</td>\n",
       "      <td>5</td>\n",
       "    </tr>\n",
       "    <tr>\n",
       "      <th>5</th>\n",
       "      <td>Frank</td>\n",
       "      <td>0</td>\n",
       "      <td>7</td>\n",
       "      <td>7.0</td>\n",
       "      <td>NaN</td>\n",
       "      <td>6</td>\n",
       "    </tr>\n",
       "    <tr>\n",
       "      <th>6</th>\n",
       "      <td>George</td>\n",
       "      <td>0</td>\n",
       "      <td>8</td>\n",
       "      <td>8.0</td>\n",
       "      <td>NaN</td>\n",
       "      <td>7</td>\n",
       "    </tr>\n",
       "    <tr>\n",
       "      <th>7</th>\n",
       "      <td>Hank</td>\n",
       "      <td>0</td>\n",
       "      <td>10</td>\n",
       "      <td>10.0</td>\n",
       "      <td>NaN</td>\n",
       "      <td>8</td>\n",
       "    </tr>\n",
       "  </tbody>\n",
       "</table>\n",
       "</div>"
      ],
      "text/plain": [
       "     name  d   y    y0    y1  id_unit\n",
       "0    Andy  1  10   NaN  10.0        1\n",
       "1     Ben  1   5   NaN   5.0        2\n",
       "2    Chad  1  16   NaN  16.0        3\n",
       "3  Daniel  1   3   NaN   3.0        4\n",
       "4   Edith  0   5   5.0   NaN        5\n",
       "5   Frank  0   7   7.0   NaN        6\n",
       "6  George  0   8   8.0   NaN        7\n",
       "7    Hank  0  10  10.0   NaN        8"
      ]
     },
     "execution_count": 10,
     "metadata": {},
     "output_type": "execute_result"
    }
   ],
   "source": [
    "df"
   ]
  },
  {
   "cell_type": "code",
   "execution_count": 26,
   "id": "a5777a78-2dc3-4fee-82ba-ca753a2a8cd8",
   "metadata": {
    "tags": []
   },
   "outputs": [],
   "source": [
    "t = \"d\"\n",
    "val = 1"
   ]
  },
  {
   "cell_type": "code",
   "execution_count": 30,
   "id": "3a6647ed-059d-4ba8-8997-f40216a274e6",
   "metadata": {
    "tags": []
   },
   "outputs": [
    {
     "data": {
      "text/html": [
       "<div>\n",
       "<style scoped>\n",
       "    .dataframe tbody tr th:only-of-type {\n",
       "        vertical-align: middle;\n",
       "    }\n",
       "\n",
       "    .dataframe tbody tr th {\n",
       "        vertical-align: top;\n",
       "    }\n",
       "\n",
       "    .dataframe thead th {\n",
       "        text-align: right;\n",
       "    }\n",
       "</style>\n",
       "<table border=\"1\" class=\"dataframe\">\n",
       "  <thead>\n",
       "    <tr style=\"text-align: right;\">\n",
       "      <th></th>\n",
       "      <th>name</th>\n",
       "      <th>d</th>\n",
       "      <th>y</th>\n",
       "      <th>y0</th>\n",
       "      <th>y1</th>\n",
       "      <th>id_unit</th>\n",
       "    </tr>\n",
       "  </thead>\n",
       "  <tbody>\n",
       "    <tr>\n",
       "      <th>0</th>\n",
       "      <td>Andy</td>\n",
       "      <td>1</td>\n",
       "      <td>10</td>\n",
       "      <td>NaN</td>\n",
       "      <td>10.0</td>\n",
       "      <td>1</td>\n",
       "    </tr>\n",
       "    <tr>\n",
       "      <th>1</th>\n",
       "      <td>Ben</td>\n",
       "      <td>1</td>\n",
       "      <td>5</td>\n",
       "      <td>NaN</td>\n",
       "      <td>5.0</td>\n",
       "      <td>2</td>\n",
       "    </tr>\n",
       "    <tr>\n",
       "      <th>2</th>\n",
       "      <td>Chad</td>\n",
       "      <td>1</td>\n",
       "      <td>16</td>\n",
       "      <td>NaN</td>\n",
       "      <td>16.0</td>\n",
       "      <td>3</td>\n",
       "    </tr>\n",
       "    <tr>\n",
       "      <th>3</th>\n",
       "      <td>Daniel</td>\n",
       "      <td>1</td>\n",
       "      <td>3</td>\n",
       "      <td>NaN</td>\n",
       "      <td>3.0</td>\n",
       "      <td>4</td>\n",
       "    </tr>\n",
       "  </tbody>\n",
       "</table>\n",
       "</div>"
      ],
      "text/plain": [
       "     name  d   y  y0    y1  id_unit\n",
       "0    Andy  1  10 NaN  10.0        1\n",
       "1     Ben  1   5 NaN   5.0        2\n",
       "2    Chad  1  16 NaN  16.0        3\n",
       "3  Daniel  1   3 NaN   3.0        4"
      ]
     },
     "execution_count": 30,
     "metadata": {},
     "output_type": "execute_result"
    }
   ],
   "source": [
    "df.query(\"d==1\")"
   ]
  },
  {
   "cell_type": "code",
   "execution_count": 31,
   "id": "3f95696e-256c-4e29-9561-dec70bb511d3",
   "metadata": {
    "tags": []
   },
   "outputs": [
    {
     "data": {
      "text/html": [
       "<div>\n",
       "<style scoped>\n",
       "    .dataframe tbody tr th:only-of-type {\n",
       "        vertical-align: middle;\n",
       "    }\n",
       "\n",
       "    .dataframe tbody tr th {\n",
       "        vertical-align: top;\n",
       "    }\n",
       "\n",
       "    .dataframe thead th {\n",
       "        text-align: right;\n",
       "    }\n",
       "</style>\n",
       "<table border=\"1\" class=\"dataframe\">\n",
       "  <thead>\n",
       "    <tr style=\"text-align: right;\">\n",
       "      <th></th>\n",
       "      <th>name</th>\n",
       "      <th>d</th>\n",
       "      <th>y</th>\n",
       "      <th>y0</th>\n",
       "      <th>y1</th>\n",
       "      <th>id_unit</th>\n",
       "    </tr>\n",
       "  </thead>\n",
       "  <tbody>\n",
       "    <tr>\n",
       "      <th>0</th>\n",
       "      <td>Andy</td>\n",
       "      <td>1</td>\n",
       "      <td>10</td>\n",
       "      <td>NaN</td>\n",
       "      <td>10.0</td>\n",
       "      <td>1</td>\n",
       "    </tr>\n",
       "    <tr>\n",
       "      <th>1</th>\n",
       "      <td>Ben</td>\n",
       "      <td>1</td>\n",
       "      <td>5</td>\n",
       "      <td>NaN</td>\n",
       "      <td>5.0</td>\n",
       "      <td>2</td>\n",
       "    </tr>\n",
       "    <tr>\n",
       "      <th>2</th>\n",
       "      <td>Chad</td>\n",
       "      <td>1</td>\n",
       "      <td>16</td>\n",
       "      <td>NaN</td>\n",
       "      <td>16.0</td>\n",
       "      <td>3</td>\n",
       "    </tr>\n",
       "    <tr>\n",
       "      <th>3</th>\n",
       "      <td>Daniel</td>\n",
       "      <td>1</td>\n",
       "      <td>3</td>\n",
       "      <td>NaN</td>\n",
       "      <td>3.0</td>\n",
       "      <td>4</td>\n",
       "    </tr>\n",
       "  </tbody>\n",
       "</table>\n",
       "</div>"
      ],
      "text/plain": [
       "     name  d   y  y0    y1  id_unit\n",
       "0    Andy  1  10 NaN  10.0        1\n",
       "1     Ben  1   5 NaN   5.0        2\n",
       "2    Chad  1  16 NaN  16.0        3\n",
       "3  Daniel  1   3 NaN   3.0        4"
      ]
     },
     "execution_count": 31,
     "metadata": {},
     "output_type": "execute_result"
    }
   ],
   "source": [
    "df.query(\"{0}==@val\".format(t))"
   ]
  },
  {
   "cell_type": "code",
   "execution_count": 32,
   "id": "4070882c-9fae-48d1-9270-895dd1f5a03c",
   "metadata": {
    "tags": []
   },
   "outputs": [],
   "source": [
    "def ri_test_statistic_difference_in_means(df, outcome_col, treatment_col, treatment_name, control_name):\n",
    "    \n",
    "    sdo = df.query(\"{0}==@treatment_name\".format(treatment_col))[outcome_col].mean() - df.query(\"{0}==@control_name\".format(treatment_col)).mean()\n",
    "    \n",
    "    return sdo"
   ]
  },
  {
   "cell_type": "code",
   "execution_count": 34,
   "id": "0b2b4d2e-4683-4bc5-a31e-c6ec28644a8b",
   "metadata": {
    "tags": []
   },
   "outputs": [],
   "source": [
    "def ri_test_statistic_difference_in_ks(df, outcome_col, treatment_col, treatment_name, control_name, alternative='two-sided'):\n",
    "    \n",
    "    ks_ = stats.ks_2samp(df.query(\"{0}==@treatment_name\".format(treatment_col))[outcome_col].values - df.query(\"{0}==@control_name\".format(treatment_col)).values, alternative=alternative)\n",
    "    \n",
    "    return ks_"
   ]
  },
  {
   "cell_type": "code",
   "execution_count": 39,
   "id": "8b2c7e11-167d-4c10-946f-1e8279c4d165",
   "metadata": {
    "tags": []
   },
   "outputs": [],
   "source": [
    "def ri_test_statistic_difference_in_quantiles(df, outcome_col, treatment_col, treatment_name, control_name, quantile=0.5):\n",
    "    \n",
    "    q_diff = df.query(\"{0}==@treatment_name\".format(treatment_col))[outcome_col].quantile(q=quantile) - df.query(\"{0}==@control_name\".format(treatment_col)).quantile(q=quantile)\n",
    "    \n",
    "    return q_diff"
   ]
  },
  {
   "cell_type": "markdown",
   "id": "4e3f6bff-05cb-4641-89d3-dcc1ffaf0332",
   "metadata": {},
   "source": [
    "The steps here for analyzing experimental data are:\n",
    "\n",
    "1. Choose a sharp null\n",
    "\n",
    "2. Pick a test statistic\n",
    "\n",
    "3. Select randomization procedure \n",
    "    \n",
    "    a. Run the permutations\n",
    "\n",
    "4. Get the p-values by comparing to the true statistic with the simulated distribution\n",
    "\n",
    "5. Calculate confidence intervals\n",
    "\n",
    "For power analysis:\n",
    "\n",
    "1. Choose a sharp null\n",
    "\n",
    "2. Pick a test statistic\n",
    "\n",
    "3. Select the desired power and confidence level\n",
    "\n",
    "4. compute mme\n",
    "\n",
    "We'll need to run sample size estimation as well, so probably we'll need to sample the historical data and run calculations from there. Then tie the sample sizes back to run times"
   ]
  },
  {
   "cell_type": "code",
   "execution_count": 22,
   "id": "16af9d0a-ff23-4c38-8b96-77bbef27591c",
   "metadata": {
    "tags": []
   },
   "outputs": [],
   "source": [
    "def test_function(a, b):\n",
    "    return a+b"
   ]
  },
  {
   "cell_type": "code",
   "execution_count": 49,
   "id": "7314381c-66f0-4aba-b116-eaafc937da33",
   "metadata": {
    "tags": []
   },
   "outputs": [
    {
     "ename": "TypeError",
     "evalue": "functools.partial() argument after ** must be a mapping, not NoneType",
     "output_type": "error",
     "traceback": [
      "\u001b[0;31m---------------------------------------------------------------------------\u001b[0m",
      "\u001b[0;31mTypeError\u001b[0m                                 Traceback (most recent call last)",
      "Cell \u001b[0;32mIn[49], line 1\u001b[0m\n\u001b[0;32m----> 1\u001b[0m test_2 \u001b[38;5;241m=\u001b[39m partial(test_function, \u001b[38;5;241m*\u001b[39m\u001b[38;5;241m*\u001b[39m\u001b[38;5;28;01mNone\u001b[39;00m)\n",
      "\u001b[0;31mTypeError\u001b[0m: functools.partial() argument after ** must be a mapping, not NoneType"
     ]
    }
   ],
   "source": [
    "test_2 = partial(test_function, **None)"
   ]
  },
  {
   "cell_type": "code",
   "execution_count": 48,
   "id": "dc97a0dd-50be-4e2d-ba93-7188956cbf22",
   "metadata": {
    "tags": []
   },
   "outputs": [
    {
     "data": {
      "text/plain": [
       "5"
      ]
     },
     "execution_count": 48,
     "metadata": {},
     "output_type": "execute_result"
    }
   ],
   "source": [
    "test_2(3)"
   ]
  },
  {
   "cell_type": "code",
   "execution_count": 16,
   "id": "0dcc3b59-92a3-4361-80ad-0e896e70d4f7",
   "metadata": {
    "tags": []
   },
   "outputs": [
    {
     "data": {
      "text/plain": [
       "False"
      ]
     },
     "execution_count": 16,
     "metadata": {},
     "output_type": "execute_result"
    }
   ],
   "source": [
    "callable(\"im a string\")"
   ]
  },
  {
   "cell_type": "code",
   "execution_count": 14,
   "id": "0d5431b6-ba0b-471a-8777-5cf5bcefd5f4",
   "metadata": {
    "tags": []
   },
   "outputs": [
    {
     "data": {
      "text/plain": [
       "True"
      ]
     },
     "execution_count": 14,
     "metadata": {},
     "output_type": "execute_result"
    }
   ],
   "source": [
    "callable(test_function)"
   ]
  },
  {
   "cell_type": "code",
   "execution_count": 23,
   "id": "797de052-dfec-4322-a96c-15e9b7505dab",
   "metadata": {
    "tags": []
   },
   "outputs": [],
   "source": [
    "test_dict = {'func1': test_function}"
   ]
  },
  {
   "cell_type": "code",
   "execution_count": 25,
   "id": "22d0380e-4938-4a8b-9021-023499a32300",
   "metadata": {
    "tags": []
   },
   "outputs": [
    {
     "data": {
      "text/plain": [
       "3"
      ]
     },
     "execution_count": 25,
     "metadata": {},
     "output_type": "execute_result"
    }
   ],
   "source": [
    "test_dict['func1'](1, 2)"
   ]
  },
  {
   "cell_type": "code",
   "execution_count": null,
   "id": "9a72216b-a32d-4135-b849-94ea3ac9b637",
   "metadata": {},
   "outputs": [],
   "source": [
    "class RandomizationInference:\n",
    "    \n",
    "    _supported_test_statistics = {'difference_in_means': ri_test_statistic_difference_in_means, \n",
    "                                  'difference_in_percentiles': ri_test_statistic_difference_in_quantiles, \n",
    "                                  'difference_in_ks_statistic': ri_test_statistic_difference_in_ks}\n",
    "    \n",
    "    def __init__(self):\n",
    "        # self.df = df\n",
    "        # self.sharp_null = sharp_null\n",
    "        # self.test_statistic = test_statistic\n",
    "        # self.outcome_column_name = outcome_column_name\n",
    "        # self.treatment_column_name = treatment_column_name\n",
    "        # self.treatment_name = treatment_name\n",
    "        # self.control_name = control_name\n",
    "        # self.num_permutations = num_permutations\n",
    "        \n",
    "    @static_method\n",
    "    def _sharp_null(df_, sharp_null_type, sharp_null_value, outcome_column_name):\n",
    "        \n",
    "        if sharp_null_type = 'additive':\n",
    "            df_['outcome_sharp_null'] = df_[outcome_column_name] + sharp_null_value\n",
    "        else:\n",
    "            df_['outcome_sharp_null'] = df_[outcome_column_name] * df_[outcome_column_name] * sharp_null_value\n",
    "        \n",
    "        return df_\n",
    "    \n",
    "    \n",
    "    @static_method\n",
    "    def _select_test_statistic(test_statistic)\n",
    "        \n",
    "        if type(test_statstic['function']) == str:\n",
    "            assert test_statistic['function'] in _supported_test_statistics, \"test statistic {0} is not currently support. Please select from {1} for implement your own function\".format(test_statstic['function'], _supported_test_statistics)\n",
    "        else:\n",
    "            assert callable(test_statistic['function']), \"supplied custom test statistic {0} is neither a supported type nor a function\".format(test_statstic['function'])\n",
    "        \n",
    "        if test_statistic['params'] is None:\n",
    "            test_statistic['params'] = {}\n",
    "        else:\n",
    "            assert type(test_statistic['params']) == dict, \"Please pass a dictionary of parameters to your test statistic function. The keys should be the parameter names and the values the parameter values.\"\n",
    "        \n",
    "        test_statistic_function = partial(test_statistic['function'], **test_statistic['params'])\n",
    "        \n",
    "        return test_statistic_function\n",
    "\n",
    "    \n",
    "    @static_method\n",
    "    def _make_hypothetical_assignments(df_, treatment_assignment_probability):\n",
    "        \n",
    "        assert treatment_assignment_probability > 0 and treatment_assignment_probability < 1, \"Treatment assignment probabilities must be great than 0 and less than 1. Received {0}\".format(treatment_assignment_probability)\n",
    "        \n",
    "        # set the random seed\n",
    "        np.random.seed()\n",
    "        \n",
    "        df_['ri_in_treatment'] = stats.binom.rvs(n=1, p=treatment_assignment_probability, size=df_.shape[0])\n",
    "        \n",
    "        return df_\n",
    "    \n",
    "    \n",
    "    @static_method\n",
    "    def _p_value(observed_statistic_value, df_sims, alternative):\n",
    "        \n",
    "        df_ = df_sims.copy()\n",
    "        \n",
    "        if not observed_statistic_value in df_['test_statistic'].values:\n",
    "            add_row = pd.DataFrame(\"permutation\": [-1], \"test_statistic\": observed_statistic_value)\n",
    "            df_ = pd.concat([add_row, df_])\n",
    "            observed_perm = -1\n",
    "        else:\n",
    "            observed_perm = df_.loc[(df_['test_statistic'] == observed_statistic_value)]['permutation'].values[0]\n",
    "        \n",
    "        if alternative == 'two-sided':\n",
    "            df_['rank_column'] = np.abs(df_['test_statistic'])\n",
    "        else:\n",
    "            df_['rank_column'] = df_['test_statistic']\n",
    "        \n",
    "        df_['rank'] = df_['rank_column'].rank(method='max', ascending=False)\n",
    "        \n",
    "        p_value = df_.query(\"permutation==@observed_perm\")['rank'].values[0] / df_.shape[0]\n",
    "        \n",
    "        return p_value\n",
    "    \n",
    "    \n",
    "    def _run_randomization_inference(df, test_statistic_function, treatment_assignment_probability):\n",
    "        \n",
    "        df_ = self._make_hypothetical_assignments(df_=df_, treatment_assignment_probability=treatment_assignment_probability)\n",
    "        \n",
    "        stat_ = test_statistic_function(df=df_, outcome_col='outcome_sharp_null', treatment_col='ri_in_treatment', treatment_name=1, control_name=0)\n",
    "        \n",
    "        return stat_\n",
    "    \n",
    "    \n",
    "    def experimental_analysis(self, df, sharp_null_type='additive', sharp_null_value=0, test_statistic={'function': 'difference_in_means', 'params': None}, treatment_assignment_probability=0.5, outcome_column_name='y', treatment_column_name='d', treatment_name=1, control_name=0, num_permutations=1000, alternative='two-sided', confidence=0.95):\n",
    "        \n",
    "        assert sharp_null_type in ['additive', 'multiplicative'], \"only additive or multiplicative sharp nulls are supported. Received {0}\".format(sharp_null_type)\n",
    "        \n",
    "        assert type(num_permutations) == int, \"Only an interger number of permutations is possible. Received {0}\".format(num_permutations)\n",
    "        \n",
    "        assert alternative in ['two-sided', 'less', 'greater'], \"Only {0} alternatives are supported. Received {0}\".format(alternative)\n",
    "        \n",
    "        # Copy the input DataFrame so that we don't modify the original data in_place\n",
    "        df_ = df.copy()\n",
    "        \n",
    "        # Step 1: implement the selected sharp null\n",
    "        df_ = self._sharp_null(df_=df_, sharp_null_type=sharp_null_type, sharp_null_value=sharp_null_value, outcome_column_name=outcome_column_name)\n",
    "        \n",
    "        # Step 2: pick a test statistic. We have a list of pre-built ones, otherwise a function must be supplied\n",
    "        # This function must consume a DataFrame and return a single scalar value\n",
    "        test_statistic_function = self._select_test_statistic(test_statistic=test_statistic)\n",
    "        \n",
    "        # Step 3: Select a randomization proceedure. \n",
    "        # Currently this only supports random assignment via coin flip. The probability of being in the treatment group is customizable\n",
    "        # Also run the simulations\n",
    "        print('Running {0} permutations'.format(num_permutations))\n",
    "        sim_dict = {i: self._run_randomization_inference(df=df_, test_statistic_function=test_statistic_function, treatment_assignment_probability=treatment_assignment_probability) for i in tqdm(range(num_permutations))}\n",
    "        \n",
    "        df_sims = pd.DataFrame(sim_dict, orient='index')\n",
    "        df_sims = df_sims.reset_index()\n",
    "        df_sims.columns = ['permutation', 'test_statistic']\n",
    "    \n",
    "        # Step 4: calculate p-values\n",
    "        # First, calculate the observed statistic difference\n",
    "        observed_test_satistic = test_statistic_function(df=df_, outcome_col=outcome_column_name, treatment_col=treatment_column_name, treatment_name=treatment_name, control_name=control_name)\n",
    "        \n",
    "        p_value = _p_value(observed_statistic_value=observed_test_satistic, df_sims=df_sims, alternative=alternative)\n",
    "        \n",
    "        # Step 5: calculate confidence interval\n",
    "        \n",
    "        # final output\n",
    "        \n",
    "    \n",
    "    def randomization_inference(self, df, sharp_null, test_statistic, outcome_column_name='y', treatment_column_name='d', treatment_name=1, control_name=0, num_permutations=1000):\n",
    "        "
   ]
  }
 ],
 "metadata": {
  "kernelspec": {
   "display_name": "Python [conda env:causal_ml_py39] *",
   "language": "python",
   "name": "conda-env-causal_ml_py39-py"
  },
  "language_info": {
   "codemirror_mode": {
    "name": "ipython",
    "version": 3
   },
   "file_extension": ".py",
   "mimetype": "text/x-python",
   "name": "python",
   "nbconvert_exporter": "python",
   "pygments_lexer": "ipython3",
   "version": "3.9.15"
  }
 },
 "nbformat": 4,
 "nbformat_minor": 5
}
