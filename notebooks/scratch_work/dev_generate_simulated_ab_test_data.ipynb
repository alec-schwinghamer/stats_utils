{
 "cells": [
  {
   "cell_type": "markdown",
   "id": "63cf5416-ad35-4694-bea5-594c0bf12126",
   "metadata": {},
   "source": [
    "We need a way to simulate AB tests for an arbitrary number of variants"
   ]
  },
  {
   "cell_type": "code",
   "execution_count": 1,
   "id": "c9b85b89-2f90-44ac-bf55-ae600ee8fcf9",
   "metadata": {
    "tags": []
   },
   "outputs": [],
   "source": [
    "import os\n",
    "import sys\n",
    "import pandas as pd\n",
    "import numpy as np\n",
    "import scipy.stats as stats\n",
    "import matplotlib.pyplot as plt\n",
    "%matplotlib inline\n",
    "import seaborn as sns\n",
    "import matplotlib.ticker as mtick\n",
    "\n",
    "from matplotlib import style\n",
    "import statsmodels.api as sm\n",
    "from statsmodels.stats.multitest import multipletests as mult_test\n",
    "from tqdm.auto import tqdm"
   ]
  },
  {
   "cell_type": "code",
   "execution_count": 2,
   "id": "d8bd572a-387a-494d-9ce5-a4390e560eb2",
   "metadata": {
    "tags": []
   },
   "outputs": [],
   "source": [
    "# additional imports \n",
    "sys.path.append('../../ab_testing_utils/')"
   ]
  },
  {
   "cell_type": "code",
   "execution_count": 9,
   "id": "0640df1e-dccf-47c1-a0a8-1e4285fa6f86",
   "metadata": {
    "tags": []
   },
   "outputs": [],
   "source": [
    "import conversion_rate_utils\n",
    "import sim_utils"
   ]
  },
  {
   "cell_type": "code",
   "execution_count": 7,
   "id": "ea7b613a-6092-4e86-96c3-787b54f89942",
   "metadata": {
    "tags": []
   },
   "outputs": [],
   "source": [
    "from importlib import reload"
   ]
  },
  {
   "cell_type": "code",
   "execution_count": 30,
   "id": "7977b660-5a10-4173-a853-d1d572e165ed",
   "metadata": {
    "tags": []
   },
   "outputs": [
    {
     "data": {
      "text/plain": [
       "<module 'sim_utils' from '/Users/danielokeeffe/Documents/src/stats_utils/stats_utils/notebooks/scratch_work/../../ab_testing_utils/sim_utils.py'>"
      ]
     },
     "execution_count": 30,
     "metadata": {},
     "output_type": "execute_result"
    }
   ],
   "source": [
    "reload(conversion_rate_utils)\n",
    "reload(sim_utils)"
   ]
  },
  {
   "cell_type": "code",
   "execution_count": 4,
   "id": "7372cf45-5410-4b48-9580-4f667809f619",
   "metadata": {
    "tags": []
   },
   "outputs": [],
   "source": [
    "# Set pandas preferences\n",
    "pd.options.display.max_columns=500\n",
    "pd.options.display.max_colwidth=500\n",
    "pd.options.display.max_rows=500"
   ]
  },
  {
   "cell_type": "code",
   "execution_count": 5,
   "id": "f87d0815-a2a7-4874-b473-0de6414459b0",
   "metadata": {
    "tags": []
   },
   "outputs": [],
   "source": [
    "# Set plot style\n",
    "style.use('fivethirtyeight')"
   ]
  },
  {
   "cell_type": "code",
   "execution_count": 6,
   "id": "5126ef62-335f-472f-83fd-d44d3168f6dd",
   "metadata": {
    "tags": []
   },
   "outputs": [],
   "source": [
    "# Initialize tqdm for pandas\n",
    "tqdm.pandas()"
   ]
  },
  {
   "cell_type": "code",
   "execution_count": 11,
   "id": "a1584ab4-b1c0-40eb-b31d-97cafc5dacc3",
   "metadata": {
    "tags": []
   },
   "outputs": [],
   "source": [
    "daily_num_observations = 10000\n",
    "monthly_num_observations = daily_num_observations * 7 * 4\n",
    "baseline_conversion_rate = 0.05"
   ]
  },
  {
   "cell_type": "code",
   "execution_count": 12,
   "id": "9a255f43-3fbf-406f-b5c2-168976e96f94",
   "metadata": {
    "tags": []
   },
   "outputs": [],
   "source": [
    "number_of_weeks_for_experiment = 4\n",
    "number_of_days_for_experiment = number_of_weeks_for_experiment * 7"
   ]
  },
  {
   "cell_type": "code",
   "execution_count": 33,
   "id": "d1d84219-acc7-4baa-93fc-3ef8b0119bbe",
   "metadata": {
    "tags": []
   },
   "outputs": [],
   "source": [
    "test_sim = sim_utils.SimulateABTest()"
   ]
  },
  {
   "cell_type": "code",
   "execution_count": 35,
   "id": "96a338c8-6f8a-4421-8f6c-6dd50f1d2003",
   "metadata": {
    "tags": []
   },
   "outputs": [
    {
     "name": "stdout",
     "output_type": "stream",
     "text": [
      "Simulated group sizes: \n",
      "\n",
      "control        0.498861\n",
      "treatment_4    0.199833\n",
      "treatment_1    0.100980\n",
      "treatment_2    0.100251\n",
      "treatment_3    0.100075\n",
      "Name: group_name, dtype: float64\n",
      "\n",
      "\n",
      "Simulated daily group sizes: \n",
      "\n",
      "day  group_name \n",
      "0    control        0.503700\n",
      "     treatment_4    0.199605\n",
      "     treatment_1    0.100148\n",
      "     treatment_3    0.098865\n",
      "     treatment_2    0.097681\n",
      "1    control        0.499405\n",
      "     treatment_4    0.199465\n",
      "     treatment_1    0.100872\n",
      "     treatment_2    0.100377\n",
      "     treatment_3    0.099881\n",
      "10   control        0.497832\n",
      "     treatment_4    0.200335\n",
      "     treatment_1    0.104651\n",
      "     treatment_3    0.099330\n",
      "     treatment_2    0.097852\n",
      "11   control        0.503133\n",
      "     treatment_4    0.201799\n",
      "     treatment_1    0.101657\n",
      "     treatment_2    0.097514\n",
      "     treatment_3    0.095897\n",
      "12   control        0.506412\n",
      "     treatment_4    0.200060\n",
      "     treatment_3    0.100281\n",
      "     treatment_1    0.097375\n",
      "     treatment_2    0.095873\n",
      "13   control        0.493369\n",
      "     treatment_4    0.205244\n",
      "     treatment_1    0.101869\n",
      "     treatment_3    0.101165\n",
      "     treatment_2    0.098352\n",
      "14   control        0.503948\n",
      "     treatment_4    0.193603\n",
      "     treatment_3    0.101949\n",
      "     treatment_2    0.100550\n",
      "     treatment_1    0.099950\n",
      "15   control        0.500100\n",
      "     treatment_4    0.202143\n",
      "     treatment_1    0.101121\n",
      "     treatment_3    0.099119\n",
      "     treatment_2    0.097517\n",
      "16   control        0.508856\n",
      "     treatment_4    0.193836\n",
      "     treatment_2    0.101871\n",
      "     treatment_1    0.098969\n",
      "     treatment_3    0.096468\n",
      "17   control        0.495282\n",
      "     treatment_4    0.199364\n",
      "     treatment_3    0.102811\n",
      "     treatment_2    0.102414\n",
      "     treatment_1    0.100129\n",
      "18   control        0.491567\n",
      "     treatment_4    0.207478\n",
      "     treatment_2    0.103942\n",
      "     treatment_1    0.099370\n",
      "     treatment_3    0.097643\n",
      "19   control        0.502114\n",
      "     treatment_4    0.195652\n",
      "     treatment_1    0.102154\n",
      "     treatment_2    0.100141\n",
      "     treatment_3    0.099940\n",
      "2    control        0.496582\n",
      "     treatment_4    0.206538\n",
      "     treatment_1    0.103715\n",
      "     treatment_3    0.097672\n",
      "     treatment_2    0.095493\n",
      "20   control        0.502687\n",
      "     treatment_4    0.194129\n",
      "     treatment_1    0.101791\n",
      "     treatment_3    0.101393\n",
      "     treatment_2    0.100000\n",
      "21   control        0.503207\n",
      "     treatment_4    0.194951\n",
      "     treatment_3    0.102107\n",
      "     treatment_1    0.100886\n",
      "     treatment_2    0.098850\n",
      "22   control        0.491851\n",
      "     treatment_4    0.200080\n",
      "     treatment_2    0.104490\n",
      "     treatment_1    0.104490\n",
      "     treatment_3    0.099090\n",
      "23   control        0.497203\n",
      "     treatment_4    0.202685\n",
      "     treatment_3    0.101088\n",
      "     treatment_2    0.100580\n",
      "     treatment_1    0.098444\n",
      "24   control        0.499491\n",
      "     treatment_4    0.201892\n",
      "     treatment_1    0.101709\n",
      "     treatment_2    0.099369\n",
      "     treatment_3    0.097539\n",
      "25   control        0.498426\n",
      "     treatment_4    0.197421\n",
      "     treatment_2    0.104093\n",
      "     treatment_3    0.100843\n",
      "     treatment_1    0.099218\n",
      "26   control        0.497723\n",
      "     treatment_4    0.192833\n",
      "     treatment_1    0.106217\n",
      "     treatment_2    0.102950\n",
      "     treatment_3    0.100277\n",
      "27   control        0.501375\n",
      "     treatment_4    0.195641\n",
      "     treatment_2    0.104593\n",
      "     treatment_3    0.099399\n",
      "     treatment_1    0.098992\n",
      "3    control        0.494081\n",
      "     treatment_4    0.209155\n",
      "     treatment_3    0.102309\n",
      "     treatment_1    0.097573\n",
      "     treatment_2    0.096882\n",
      "4    control        0.496117\n",
      "     treatment_4    0.204500\n",
      "     treatment_2    0.101852\n",
      "     treatment_3    0.099562\n",
      "     treatment_1    0.097969\n",
      "5    control        0.495637\n",
      "     treatment_4    0.194263\n",
      "     treatment_3    0.103801\n",
      "     treatment_2    0.103801\n",
      "     treatment_1    0.102497\n",
      "6    control        0.495196\n",
      "     treatment_4    0.203062\n",
      "     treatment_1    0.103483\n",
      "     treatment_2    0.099980\n",
      "     treatment_3    0.098279\n",
      "7    control        0.508675\n",
      "     treatment_4    0.196372\n",
      "     treatment_3    0.100158\n",
      "     treatment_2    0.099665\n",
      "     treatment_1    0.095130\n",
      "8    control        0.485811\n",
      "     treatment_4    0.206114\n",
      "     treatment_3    0.103953\n",
      "     treatment_2    0.102161\n",
      "     treatment_1    0.101962\n",
      "9    control        0.498347\n",
      "     treatment_4    0.197014\n",
      "     treatment_1    0.105021\n",
      "     treatment_3    0.101213\n",
      "     treatment_2    0.098407\n",
      "dtype: float64\n",
      "\n",
      "\n",
      "\n",
      "\n",
      "Simulated conversion rates by group: \n",
      "\n",
      "group_name   conversion\n",
      "control      0             0.949117\n",
      "             1             0.050883\n",
      "treatment_1  0             0.798365\n",
      "             1             0.201635\n",
      "treatment_2  0             0.990159\n",
      "             1             0.009841\n",
      "treatment_3  0             0.603300\n",
      "             1             0.396700\n",
      "treatment_4  1             0.900435\n",
      "             0             0.099565\n",
      "dtype: float64\n",
      "\n",
      "\n"
     ]
    },
    {
     "data": {
      "text/html": [
       "<div>\n",
       "<style scoped>\n",
       "    .dataframe tbody tr th:only-of-type {\n",
       "        vertical-align: middle;\n",
       "    }\n",
       "\n",
       "    .dataframe tbody tr th {\n",
       "        vertical-align: top;\n",
       "    }\n",
       "\n",
       "    .dataframe thead th {\n",
       "        text-align: right;\n",
       "    }\n",
       "</style>\n",
       "<table border=\"1\" class=\"dataframe\">\n",
       "  <thead>\n",
       "    <tr style=\"text-align: right;\">\n",
       "      <th></th>\n",
       "      <th>day</th>\n",
       "      <th>units</th>\n",
       "      <th>group_name</th>\n",
       "      <th>conversion_probability</th>\n",
       "      <th>conversion</th>\n",
       "    </tr>\n",
       "  </thead>\n",
       "  <tbody>\n",
       "    <tr>\n",
       "      <th>0</th>\n",
       "      <td>0</td>\n",
       "      <td>1</td>\n",
       "      <td>treatment_3</td>\n",
       "      <td>0.40</td>\n",
       "      <td>1</td>\n",
       "    </tr>\n",
       "    <tr>\n",
       "      <th>1</th>\n",
       "      <td>0</td>\n",
       "      <td>1</td>\n",
       "      <td>control</td>\n",
       "      <td>0.05</td>\n",
       "      <td>0</td>\n",
       "    </tr>\n",
       "    <tr>\n",
       "      <th>2</th>\n",
       "      <td>0</td>\n",
       "      <td>1</td>\n",
       "      <td>treatment_3</td>\n",
       "      <td>0.40</td>\n",
       "      <td>0</td>\n",
       "    </tr>\n",
       "    <tr>\n",
       "      <th>3</th>\n",
       "      <td>0</td>\n",
       "      <td>1</td>\n",
       "      <td>control</td>\n",
       "      <td>0.05</td>\n",
       "      <td>0</td>\n",
       "    </tr>\n",
       "    <tr>\n",
       "      <th>4</th>\n",
       "      <td>0</td>\n",
       "      <td>1</td>\n",
       "      <td>control</td>\n",
       "      <td>0.05</td>\n",
       "      <td>0</td>\n",
       "    </tr>\n",
       "    <tr>\n",
       "      <th>...</th>\n",
       "      <td>...</td>\n",
       "      <td>...</td>\n",
       "      <td>...</td>\n",
       "      <td>...</td>\n",
       "      <td>...</td>\n",
       "    </tr>\n",
       "    <tr>\n",
       "      <th>279744</th>\n",
       "      <td>27</td>\n",
       "      <td>1</td>\n",
       "      <td>treatment_4</td>\n",
       "      <td>0.90</td>\n",
       "      <td>1</td>\n",
       "    </tr>\n",
       "    <tr>\n",
       "      <th>279745</th>\n",
       "      <td>27</td>\n",
       "      <td>1</td>\n",
       "      <td>treatment_4</td>\n",
       "      <td>0.90</td>\n",
       "      <td>0</td>\n",
       "    </tr>\n",
       "    <tr>\n",
       "      <th>279746</th>\n",
       "      <td>27</td>\n",
       "      <td>1</td>\n",
       "      <td>control</td>\n",
       "      <td>0.05</td>\n",
       "      <td>0</td>\n",
       "    </tr>\n",
       "    <tr>\n",
       "      <th>279747</th>\n",
       "      <td>27</td>\n",
       "      <td>1</td>\n",
       "      <td>control</td>\n",
       "      <td>0.05</td>\n",
       "      <td>0</td>\n",
       "    </tr>\n",
       "    <tr>\n",
       "      <th>279748</th>\n",
       "      <td>27</td>\n",
       "      <td>1</td>\n",
       "      <td>treatment_3</td>\n",
       "      <td>0.40</td>\n",
       "      <td>0</td>\n",
       "    </tr>\n",
       "  </tbody>\n",
       "</table>\n",
       "<p>279749 rows × 5 columns</p>\n",
       "</div>"
      ],
      "text/plain": [
       "       day  units   group_name  conversion_probability  conversion\n",
       "0        0      1  treatment_3                    0.40           1\n",
       "1        0      1      control                    0.05           0\n",
       "2        0      1  treatment_3                    0.40           0\n",
       "3        0      1      control                    0.05           0\n",
       "4        0      1      control                    0.05           0\n",
       "...     ..    ...          ...                     ...         ...\n",
       "279744  27      1  treatment_4                    0.90           1\n",
       "279745  27      1  treatment_4                    0.90           0\n",
       "279746  27      1      control                    0.05           0\n",
       "279747  27      1      control                    0.05           0\n",
       "279748  27      1  treatment_3                    0.40           0\n",
       "\n",
       "[279749 rows x 5 columns]"
      ]
     },
     "execution_count": 35,
     "metadata": {},
     "output_type": "execute_result"
    }
   ],
   "source": [
    "test_sim.run_sim(daily_num_observations=daily_num_observations, \n",
    "                  number_of_weeks_for_experiment=number_of_weeks_for_experiment, \n",
    "                  expected_conversion_rates=[baseline_conversion_rate, 0.2, 0.01, 0.4, 0.9],\n",
    "                 p_vals=[0.5, 0.1, 0.1, 0.1, 0.2],\n",
    "                 group_col='group_name')"
   ]
  },
  {
   "cell_type": "code",
   "execution_count": 36,
   "id": "a5e34519-e914-4381-a4de-f60f01e46b4b",
   "metadata": {
    "tags": []
   },
   "outputs": [],
   "source": [
    "# Yep that works"
   ]
  },
  {
   "cell_type": "code",
   "execution_count": 45,
   "id": "e0303105-895a-4f36-9a68-00a4a3d157f0",
   "metadata": {
    "tags": []
   },
   "outputs": [
    {
     "data": {
      "text/plain": [
       "'95.0'"
      ]
     },
     "execution_count": 45,
     "metadata": {},
     "output_type": "execute_result"
    }
   ],
   "source": [
    "\"{0}\".format(np.round((1-0.05)*100), 1)"
   ]
  },
  {
   "cell_type": "code",
   "execution_count": 50,
   "id": "0b913d85-54b3-4a71-83fb-583f61b7b364",
   "metadata": {
    "tags": []
   },
   "outputs": [
    {
     "data": {
      "text/plain": [
       "'95.'"
      ]
     },
     "execution_count": 50,
     "metadata": {},
     "output_type": "execute_result"
    }
   ],
   "source": [
    "\"{0}\".format(np.format_float_positional((1-0.05)*100, 1))"
   ]
  },
  {
   "cell_type": "code",
   "execution_count": 56,
   "id": "b4f83037-f8de-4038-9e2f-edcefdf03a89",
   "metadata": {
    "tags": []
   },
   "outputs": [
    {
     "data": {
      "text/plain": [
       "'97.5'"
      ]
     },
     "execution_count": 56,
     "metadata": {},
     "output_type": "execute_result"
    }
   ],
   "source": [
    "np.format_float_positional((1-0.025)*100, trim='-')"
   ]
  },
  {
   "cell_type": "code",
   "execution_count": null,
   "id": "2ba875b0-1b44-4f8f-bed0-4d06740fb353",
   "metadata": {},
   "outputs": [],
   "source": []
  }
 ],
 "metadata": {
  "kernelspec": {
   "display_name": "Python [conda env:causal_ml_py39] *",
   "language": "python",
   "name": "conda-env-causal_ml_py39-py"
  },
  "language_info": {
   "codemirror_mode": {
    "name": "ipython",
    "version": 3
   },
   "file_extension": ".py",
   "mimetype": "text/x-python",
   "name": "python",
   "nbconvert_exporter": "python",
   "pygments_lexer": "ipython3",
   "version": "3.9.15"
  }
 },
 "nbformat": 4,
 "nbformat_minor": 5
}
