{
 "cells": [
  {
   "cell_type": "code",
   "execution_count": 1,
   "id": "strong-clothing",
   "metadata": {},
   "outputs": [],
   "source": [
    "import os\n",
    "import sys\n",
    "import pandas as pd\n",
    "import numpy as np\n",
    "import matplotlib.pyplot as plt\n",
    "%matplotlib inline\n",
    "import seaborn as sns\n",
    "import scipy.stats as stats"
   ]
  },
  {
   "cell_type": "code",
   "execution_count": 2,
   "id": "raised-prefix",
   "metadata": {},
   "outputs": [],
   "source": [
    "sns.set()"
   ]
  },
  {
   "cell_type": "code",
   "execution_count": 3,
   "id": "enormous-motel",
   "metadata": {},
   "outputs": [],
   "source": [
    "# power calc:\n",
    "def calc_pre_experiment_power(delta, se, alpha):\n",
    "    z_value = stats.norm.ppf(1-(alpha/2))\n",
    "    v_ = (delta/se) - z_value\n",
    "    power_ = stats.norm.cdf(x=v_)\n",
    "    \n",
    "    return power_"
   ]
  },
  {
   "cell_type": "code",
   "execution_count": 4,
   "id": "vertical-guyana",
   "metadata": {},
   "outputs": [],
   "source": [
    "def calc_delta(relative_minimum_detectable_effect_size, baseline_conversion_rate):\n",
    "    delta_ = baseline_conversion_rate * relative_minimum_detectable_effect_size\n",
    "    \n",
    "    return delta_"
   ]
  },
  {
   "cell_type": "code",
   "execution_count": 24,
   "id": "representative-broadcasting",
   "metadata": {},
   "outputs": [],
   "source": [
    "def calc_sigma(baseline_conversion_rate, return_square=False):\n",
    "    sigma_squared = baseline_conversion_rate * (1 - baseline_conversion_rate)\n",
    "    \n",
    "    if return_square:\n",
    "        return sigma_squared\n",
    "    else:\n",
    "        return np.sqrt(sigma_squared)"
   ]
  },
  {
   "cell_type": "code",
   "execution_count": 6,
   "id": "removable-result",
   "metadata": {},
   "outputs": [],
   "source": [
    "def calc_standard_error(sample_size, sigma=None, baseline_conversion_rate=None):\n",
    "    assert not all(x is not None for x in [sigma, baseline_conversion_rate]), \"Either sigma or baseline_conversion_rate must be specified\"\n",
    "    \n",
    "    if sigma is None:\n",
    "        sigma = calc_sigma(baseline_conversion_rate)\n",
    "    \n",
    "    se_ = sigma *np.sqrt(2/sample_size)\n",
    "    \n",
    "    return se_"
   ]
  },
  {
   "cell_type": "code",
   "execution_count": 23,
   "id": "desperate-asian",
   "metadata": {},
   "outputs": [],
   "source": [
    "def calc_sample_size(power, alpha, relative_minimum_detectable_effect_size, baseline_conversion_rate):\n",
    "    sigma_squared = calc_sigma(baseline_conversion_rate=baseline_conversion_rate, return_square=True)\n",
    "    delta_ = calc_delta(relative_minimum_detectable_effect_size=relative_minimum_detectable_effect_size, \n",
    "                        baseline_conversion_rate=baseline_conversion_rate)\n",
    "    \n",
    "    z_alpha = stats.norm.ppf(1-(alpha/2))\n",
    "    z_power = stats.norm.ppf(power)\n",
    "    \n",
    "    n = 2*((sigma_squared)*(z_power + z_alpha)**2)/(delta_**2)\n",
    "    \n",
    "    return n"
   ]
  },
  {
   "cell_type": "code",
   "execution_count": 8,
   "id": "received-logging",
   "metadata": {},
   "outputs": [],
   "source": [
    "def false_positive_risk(alpha, power, success_rate):\n",
    "    \"\"\"Calculates the False Positive Risk (or probability that a statistically significant result is a false positive, i.e. the probability that the null \n",
    "    hypothesis is true when an experiment was statistically significant)\"\"\"\n",
    "    pi = 1 - success_rate\n",
    "    FPR = alpha*pi/(((alpha*pi)) + ((power)*(1-pi)))\n",
    "    \n",
    "    return FPR"
   ]
  },
  {
   "cell_type": "code",
   "execution_count": 67,
   "id": "wrapped-pacific",
   "metadata": {},
   "outputs": [],
   "source": [
    "def set_alpha(desired_fpr, power, success_rate, two_sided=True):\n",
    "    \n",
    "    alpha_ = desired_fpr*(power)*(success_rate)/((1-success_rate)*(1-desired_fpr))\n",
    "    \n",
    "    if two_sided:\n",
    "        return 2*alpha_\n",
    "    else:\n",
    "        return alpha_"
   ]
  },
  {
   "cell_type": "markdown",
   "id": "static-coordination",
   "metadata": {},
   "source": [
    "Unified checkout Opp sizing: https://docs.google.com/spreadsheets/d/1O7Wq6YedPIrHsQ75m_jGYF8tPYNTFhq4kgj0VhKEsjE/edit#gid=2144011426"
   ]
  },
  {
   "cell_type": "code",
   "execution_count": 90,
   "id": "beautiful-phoenix",
   "metadata": {},
   "outputs": [],
   "source": [
    "baseline_conv = 0.8/100\n",
    "relative_mde = 0.3\n",
    "alpha = 0.05\n",
    "power = 0.8\n",
    "weekly_n = 6250 # Shouldn't this be per variant??"
   ]
  },
  {
   "cell_type": "code",
   "execution_count": 91,
   "id": "bacterial-range",
   "metadata": {},
   "outputs": [],
   "source": [
    "sample_size = calc_sample_size(power=power, \n",
    "                               alpha=alpha, \n",
    "                               relative_minimum_detectable_effect_size=relative_mde, \n",
    "                               baseline_conversion_rate=baseline_conv)"
   ]
  },
  {
   "cell_type": "code",
   "execution_count": 92,
   "id": "asian-scheme",
   "metadata": {},
   "outputs": [
    {
     "data": {
      "text/plain": [
       "21628.02415687305"
      ]
     },
     "execution_count": 92,
     "metadata": {},
     "output_type": "execute_result"
    }
   ],
   "source": [
    "sample_size"
   ]
  },
  {
   "cell_type": "code",
   "execution_count": 93,
   "id": "unknown-fireplace",
   "metadata": {},
   "outputs": [],
   "source": [
    "num_weeks_required = sample_size/weekly_n"
   ]
  },
  {
   "cell_type": "code",
   "execution_count": 94,
   "id": "stuffed-chassis",
   "metadata": {},
   "outputs": [
    {
     "data": {
      "text/plain": [
       "3.460483865099688"
      ]
     },
     "execution_count": 94,
     "metadata": {},
     "output_type": "execute_result"
    }
   ],
   "source": [
    "num_weeks_required"
   ]
  },
  {
   "cell_type": "code",
   "execution_count": 19,
   "id": "victorian-african",
   "metadata": {},
   "outputs": [],
   "source": [
    "# So 5 weeks required...this is good"
   ]
  },
  {
   "cell_type": "code",
   "execution_count": 95,
   "id": "plain-teens",
   "metadata": {},
   "outputs": [],
   "source": [
    "fpr = false_positive_risk(alpha=alpha/2, power=power, success_rate=0.05)"
   ]
  },
  {
   "cell_type": "code",
   "execution_count": 96,
   "id": "decreased-hampton",
   "metadata": {},
   "outputs": [
    {
     "data": {
      "text/plain": [
       "0.372549019607843"
      ]
     },
     "execution_count": 96,
     "metadata": {},
     "output_type": "execute_result"
    }
   ],
   "source": [
    "fpr"
   ]
  },
  {
   "cell_type": "code",
   "execution_count": 97,
   "id": "faced-hacker",
   "metadata": {},
   "outputs": [],
   "source": [
    "# Given the low success rate, the FPR is quite high.  Can we bring it down by setting an appropriate p-value cut off (i.e. alpha)?\n",
    "# Of course, this assumes the 80% power level is actually going to happen\n",
    "required_alpha = set_alpha(desired_fpr=0.1, power=0.8, success_rate=0.05, two_sided=True)"
   ]
  },
  {
   "cell_type": "code",
   "execution_count": 98,
   "id": "eligible-announcement",
   "metadata": {},
   "outputs": [
    {
     "data": {
      "text/plain": [
       "0.009356725146198832"
      ]
     },
     "execution_count": 98,
     "metadata": {},
     "output_type": "execute_result"
    }
   ],
   "source": [
    "required_alpha"
   ]
  },
  {
   "cell_type": "code",
   "execution_count": 99,
   "id": "equal-registrar",
   "metadata": {},
   "outputs": [],
   "source": [
    "# So much lower. What is the required sample size?\n",
    "sample_size_rev = calc_sample_size(power=power, \n",
    "                                   alpha=required_alpha, \n",
    "                                   relative_minimum_detectable_effect_size=relative_mde, \n",
    "                                   baseline_conversion_rate=baseline_conv)"
   ]
  },
  {
   "cell_type": "code",
   "execution_count": 100,
   "id": "developmental-stone",
   "metadata": {},
   "outputs": [
    {
     "data": {
      "text/plain": [
       "32614.94647790076"
      ]
     },
     "execution_count": 100,
     "metadata": {},
     "output_type": "execute_result"
    }
   ],
   "source": [
    "sample_size_rev"
   ]
  },
  {
   "cell_type": "code",
   "execution_count": 101,
   "id": "indian-electric",
   "metadata": {},
   "outputs": [],
   "source": [
    "num_weeks_required_rev = sample_size_rev/weekly_n"
   ]
  },
  {
   "cell_type": "code",
   "execution_count": 102,
   "id": "exterior-planner",
   "metadata": {},
   "outputs": [
    {
     "data": {
      "text/plain": [
       "5.218391436464122"
      ]
     },
     "execution_count": 102,
     "metadata": {},
     "output_type": "execute_result"
    }
   ],
   "source": [
    "num_weeks_required_rev"
   ]
  },
  {
   "cell_type": "code",
   "execution_count": null,
   "id": "invisible-florence",
   "metadata": {},
   "outputs": [],
   "source": [
    "# So 8 weeks if we wanted a 10% risk of a false positive. "
   ]
  },
  {
   "cell_type": "code",
   "execution_count": 104,
   "id": "judicial-sacrifice",
   "metadata": {},
   "outputs": [],
   "source": [
    "alpha = 0.05\n",
    "baseline_conv = 159/3032\n",
    "relative_mde = 0.3\n",
    "n = (3060 + 3032)/2"
   ]
  },
  {
   "cell_type": "code",
   "execution_count": 105,
   "id": "expected-competition",
   "metadata": {},
   "outputs": [],
   "source": [
    "delta_wtf = calc_delta(relative_minimum_detectable_effect_size=relative_mde, baseline_conversion_rate=baseline_conv)"
   ]
  },
  {
   "cell_type": "code",
   "execution_count": 106,
   "id": "dramatic-superintendent",
   "metadata": {},
   "outputs": [
    {
     "data": {
      "text/plain": [
       "0.015732189973614773"
      ]
     },
     "execution_count": 106,
     "metadata": {},
     "output_type": "execute_result"
    }
   ],
   "source": [
    "delta_wtf"
   ]
  },
  {
   "cell_type": "code",
   "execution_count": 107,
   "id": "comparative-northeast",
   "metadata": {},
   "outputs": [],
   "source": [
    "se_wtf = calc_standard_error(sample_size=n, baseline_conversion_rate=baseline_conv)"
   ]
  },
  {
   "cell_type": "code",
   "execution_count": 108,
   "id": "given-struggle",
   "metadata": {},
   "outputs": [
    {
     "data": {
      "text/plain": [
       "0.005711987212758526"
      ]
     },
     "execution_count": 108,
     "metadata": {},
     "output_type": "execute_result"
    }
   ],
   "source": [
    "se_wtf"
   ]
  },
  {
   "cell_type": "code",
   "execution_count": 109,
   "id": "legal-looking",
   "metadata": {},
   "outputs": [],
   "source": [
    "power_wtf = calc_pre_experiment_power(delta=delta_wtf, se=se_wtf, alpha=alpha)"
   ]
  },
  {
   "cell_type": "code",
   "execution_count": 110,
   "id": "revised-freedom",
   "metadata": {},
   "outputs": [
    {
     "data": {
      "text/plain": [
       "0.7864829397738686"
      ]
     },
     "execution_count": 110,
     "metadata": {},
     "output_type": "execute_result"
    }
   ],
   "source": [
    "power_wtf"
   ]
  },
  {
   "cell_type": "code",
   "execution_count": null,
   "id": "interracial-anderson",
   "metadata": {},
   "outputs": [],
   "source": []
  },
  {
   "cell_type": "code",
   "execution_count": null,
   "id": "comic-mixture",
   "metadata": {},
   "outputs": [],
   "source": []
  },
  {
   "cell_type": "code",
   "execution_count": 103,
   "id": "abstract-three",
   "metadata": {},
   "outputs": [
    {
     "data": {
      "text/plain": [
       "0.32251908396946555"
      ]
     },
     "execution_count": 103,
     "metadata": {},
     "output_type": "execute_result"
    }
   ],
   "source": [
    "(6.93 - 5.24)/5.24"
   ]
  },
  {
   "cell_type": "code",
   "execution_count": 69,
   "id": "laughing-depth",
   "metadata": {},
   "outputs": [
    {
     "data": {
      "text/plain": [
       "0.6285178236397748"
      ]
     },
     "execution_count": 69,
     "metadata": {},
     "output_type": "execute_result"
    }
   ],
   "source": [
    "false_positive_risk(alpha=0.05/2, power=0.03, success_rate=0.33)"
   ]
  },
  {
   "cell_type": "code",
   "execution_count": 66,
   "id": "medium-tsunami",
   "metadata": {},
   "outputs": [
    {
     "data": {
      "text/plain": [
       "0.0015553809897879028"
      ]
     },
     "execution_count": 66,
     "metadata": {},
     "output_type": "execute_result"
    }
   ],
   "source": [
    "2*(0.05)*(0.03)*(0.33)/(0.95*(1-0.33))"
   ]
  },
  {
   "cell_type": "code",
   "execution_count": 70,
   "id": "willing-cream",
   "metadata": {},
   "outputs": [
    {
     "data": {
      "text/plain": [
       "0.0015553809897879028"
      ]
     },
     "execution_count": 70,
     "metadata": {},
     "output_type": "execute_result"
    }
   ],
   "source": [
    "set_alpha(desired_fpr=0.05, power=0.03, success_rate=0.33, two_sided=True)"
   ]
  },
  {
   "cell_type": "code",
   "execution_count": 14,
   "id": "plain-oxford",
   "metadata": {},
   "outputs": [],
   "source": [
    "# if https://experiments.shopify.com/experiments/sq_starter_plan_segmentation_v2#retail_user_token_funnel_conversion_and_activation_rate_(retail_-_pos_pro_upgrade)_31455\n",
    "# was an experiment for just 1st transaction:"
   ]
  },
  {
   "cell_type": "code",
   "execution_count": 17,
   "id": "champion-fence",
   "metadata": {},
   "outputs": [
    {
     "data": {
      "text/plain": [
       "92912.5"
      ]
     },
     "execution_count": 17,
     "metadata": {},
     "output_type": "execute_result"
    }
   ],
   "source": [
    "# sample size:\n",
    "(92821 + 93004)/2"
   ]
  },
  {
   "cell_type": "code",
   "execution_count": 19,
   "id": "married-rugby",
   "metadata": {},
   "outputs": [],
   "source": [
    "# Let's say\n",
    "n = 92900"
   ]
  },
  {
   "cell_type": "code",
   "execution_count": 20,
   "id": "premier-gilbert",
   "metadata": {},
   "outputs": [],
   "source": [
    "# baseline conversion we'll assume from the control group (could be in accurate)\n",
    "baseline_conv = 0.0012"
   ]
  },
  {
   "cell_type": "code",
   "execution_count": 44,
   "id": "phantom-inspection",
   "metadata": {},
   "outputs": [
    {
     "data": {
      "text/plain": [
       "0.19999999999999987"
      ]
     },
     "execution_count": 44,
     "metadata": {},
     "output_type": "execute_result"
    }
   ],
   "source": [
    "# We want to be able to detect a conversion rate of 0.1% in the exposure, so minumum detectable effect size would need to be\n",
    "(0.0012 - 0.001)/0.001"
   ]
  },
  {
   "cell_type": "code",
   "execution_count": 22,
   "id": "proprietary-gilbert",
   "metadata": {},
   "outputs": [],
   "source": [
    "# Or 19.99%.  Let's call it 19%"
   ]
  },
  {
   "cell_type": "code",
   "execution_count": 50,
   "id": "occasional-facing",
   "metadata": {},
   "outputs": [],
   "source": [
    "# so:\n",
    "delta_ = calc_delta(relative_minimum_detectable_effect_size=0.19, baseline_conversion_rate=baseline_conv)"
   ]
  },
  {
   "cell_type": "code",
   "execution_count": 51,
   "id": "premier-capitol",
   "metadata": {},
   "outputs": [
    {
     "data": {
      "text/plain": [
       "0.00022799999999999999"
      ]
     },
     "execution_count": 51,
     "metadata": {},
     "output_type": "execute_result"
    }
   ],
   "source": [
    "delta_"
   ]
  },
  {
   "cell_type": "code",
   "execution_count": 52,
   "id": "urban-syndrome",
   "metadata": {},
   "outputs": [],
   "source": [
    "sigma_ = calc_sigma(baseline_conversion_rate=baseline_conv)"
   ]
  },
  {
   "cell_type": "code",
   "execution_count": 53,
   "id": "composite-solomon",
   "metadata": {},
   "outputs": [
    {
     "data": {
      "text/plain": [
       "0.03462022530255977"
      ]
     },
     "execution_count": 53,
     "metadata": {},
     "output_type": "execute_result"
    }
   ],
   "source": [
    "sigma_"
   ]
  },
  {
   "cell_type": "code",
   "execution_count": 54,
   "id": "realistic-current",
   "metadata": {},
   "outputs": [],
   "source": [
    "se_ = calc_standard_error(sigma=sigma_, sample_size=n)"
   ]
  },
  {
   "cell_type": "code",
   "execution_count": 55,
   "id": "intelligent-flower",
   "metadata": {},
   "outputs": [
    {
     "data": {
      "text/plain": [
       "0.0001606338360333663"
      ]
     },
     "execution_count": 55,
     "metadata": {},
     "output_type": "execute_result"
    }
   ],
   "source": [
    "se_"
   ]
  },
  {
   "cell_type": "code",
   "execution_count": 60,
   "id": "knowing-waste",
   "metadata": {},
   "outputs": [],
   "source": [
    "pre_experiment_power = calc_pre_experiment_power(delta=delta_, se=se_, alpha=0.05)"
   ]
  },
  {
   "cell_type": "code",
   "execution_count": 61,
   "id": "disturbed-auckland",
   "metadata": {},
   "outputs": [
    {
     "data": {
      "text/plain": [
       "0.2943962049349005"
      ]
     },
     "execution_count": 61,
     "metadata": {},
     "output_type": "execute_result"
    }
   ],
   "source": [
    "pre_experiment_power"
   ]
  },
  {
   "cell_type": "code",
   "execution_count": 62,
   "id": "rubber-sodium",
   "metadata": {},
   "outputs": [
    {
     "data": {
      "text/plain": [
       "-0.5397931357822179"
      ]
     },
     "execution_count": 62,
     "metadata": {},
     "output_type": "execute_result"
    }
   ],
   "source": [
    "(0.000228/0.0346)*np.sqrt(92900/2) - 1.96"
   ]
  },
  {
   "cell_type": "code",
   "execution_count": 63,
   "id": "intense-middle",
   "metadata": {},
   "outputs": [
    {
     "data": {
      "text/plain": [
       "0.29466748353969463"
      ]
     },
     "execution_count": 63,
     "metadata": {},
     "output_type": "execute_result"
    }
   ],
   "source": [
    "stats.norm.cdf(-0.5398)"
   ]
  },
  {
   "cell_type": "code",
   "execution_count": 64,
   "id": "improved-laundry",
   "metadata": {},
   "outputs": [
    {
     "data": {
      "text/plain": [
       "0.8416212335729143"
      ]
     },
     "execution_count": 64,
     "metadata": {},
     "output_type": "execute_result"
    }
   ],
   "source": [
    "stats.norm.ppf(0.8)"
   ]
  },
  {
   "cell_type": "code",
   "execution_count": 66,
   "id": "hourly-telescope",
   "metadata": {},
   "outputs": [
    {
     "data": {
      "text/plain": [
       "338213.22203754995"
      ]
     },
     "execution_count": 66,
     "metadata": {},
     "output_type": "execute_result"
    }
   ],
   "source": [
    "2*(0.00112/(0.000228**2))*(0.8416+1.96)**2"
   ]
  },
  {
   "cell_type": "code",
   "execution_count": null,
   "id": "cathedral-handling",
   "metadata": {},
   "outputs": [],
   "source": []
  }
 ],
 "metadata": {
  "kernelspec": {
   "display_name": "Python [conda env:causal_ml_py39]",
   "language": "python",
   "name": "conda-env-causal_ml_py39-py"
  },
  "language_info": {
   "codemirror_mode": {
    "name": "ipython",
    "version": 3
   },
   "file_extension": ".py",
   "mimetype": "text/x-python",
   "name": "python",
   "nbconvert_exporter": "python",
   "pygments_lexer": "ipython3",
   "version": "3.9.16"
  }
 },
 "nbformat": 4,
 "nbformat_minor": 5
}
