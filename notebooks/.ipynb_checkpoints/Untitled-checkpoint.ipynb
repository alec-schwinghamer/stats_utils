{
 "cells": [
  {
   "cell_type": "code",
   "execution_count": 1,
   "id": "6056576d-81e0-4c60-97a2-396b6907cf14",
   "metadata": {},
   "outputs": [],
   "source": [
    "import os\n",
    "import sys\n",
    "import pandas as pd\n",
    "import numpy as np\n",
    "import matplotlib.pyplot as plt\n",
    "%matplotlib inline\n",
    "import seaborn as sns\n",
    "import scipy.stats as stats"
   ]
  },
  {
   "cell_type": "code",
   "execution_count": 2,
   "id": "8946e38d-a4df-49e6-bd6e-50429ee3301b",
   "metadata": {},
   "outputs": [],
   "source": [
    "sns.set()"
   ]
  },
  {
   "cell_type": "code",
   "execution_count": 3,
   "id": "96d67ef3-b26a-484e-8715-9ce6244f4d67",
   "metadata": {},
   "outputs": [],
   "source": [
    "# power calc:\n",
    "def calc_pre_experiment_power(delta, se, alpha):\n",
    "    z_value = stats.norm.ppf(1-(alpha/2))\n",
    "    v_ = (delta/se) - z_value\n",
    "    power_ = stats.norm.cdf(x=v_)\n",
    "    \n",
    "    return power_"
   ]
  },
  {
   "cell_type": "code",
   "execution_count": 4,
   "id": "8fe8a190-f3e9-48c6-b51a-40eb0b2bdae9",
   "metadata": {},
   "outputs": [],
   "source": [
    "def calc_delta(relative_minimum_detectable_effect_size, baseline_conversion_rate):\n",
    "    delta_ = baseline_conversion_rate * relative_minimum_detectable_effect_size\n",
    "    \n",
    "    return delta_"
   ]
  },
  {
   "cell_type": "code",
   "execution_count": 24,
   "id": "e380a975-a3e1-42f3-8882-3f1ea350a055",
   "metadata": {},
   "outputs": [],
   "source": [
    "def calc_sigma(baseline_conversion_rate, return_square=False):\n",
    "    sigma_squared = baseline_conversion_rate * (1 - baseline_conversion_rate)\n",
    "    \n",
    "    if return_square:\n",
    "        return sigma_squared\n",
    "    else:\n",
    "        return np.sqrt(sigma_squared)"
   ]
  },
  {
   "cell_type": "code",
   "execution_count": 6,
   "id": "08c6f064-112e-47ec-9677-ca24b05b9805",
   "metadata": {},
   "outputs": [],
   "source": [
    "def calc_standard_error(sample_size, sigma=None, baseline_conversion_rate=None):\n",
    "    assert not all(x is not None for x in [sigma, baseline_conversion_rate]), \"Either sigma or baseline_conversion_rate must be specified\"\n",
    "    \n",
    "    if sigma is None:\n",
    "        sigma = calc_sigma(baseline_conversion_rate)\n",
    "    \n",
    "    se_ = sigma *np.sqrt(2/sample_size)\n",
    "    \n",
    "    return se_"
   ]
  },
  {
   "cell_type": "code",
   "execution_count": 23,
   "id": "d64f54e2-fedf-4681-8455-2a075be2ad72",
   "metadata": {},
   "outputs": [],
   "source": [
    "def calc_sample_size(power, alpha, relative_minimum_detectable_effect_size, baseline_conversion_rate):\n",
    "    sigma_squared = calc_sigma(baseline_conversion_rate=baseline_conversion_rate, return_square=True)\n",
    "    delta_ = calc_delta(relative_minimum_detectable_effect_size=relative_minimum_detectable_effect_size, \n",
    "                        baseline_conversion_rate=baseline_conversion_rate)\n",
    "    \n",
    "    z_alpha = stats.norm.ppf(1-(alpha/2))\n",
    "    z_power = stats.norm.ppf(power)\n",
    "    \n",
    "    n = 2*((sigma_squared)*(z_power + z_alpha)**2)/(delta_**2)\n",
    "    \n",
    "    return n"
   ]
  },
  {
   "cell_type": "code",
   "execution_count": 8,
   "id": "1d93eeab-e4fd-4f76-8e61-c9ea3eb96b3c",
   "metadata": {},
   "outputs": [],
   "source": [
    "def false_positive_risk(alpha, power, success_rate):\n",
    "    \"\"\"Calculates the False Positive Risk (or probability that a statistically significant result is a false positive, i.e. the probability that the null \n",
    "    hypothesis is true when an experiment was statistically significant)\"\"\"\n",
    "    pi = 1 - success_rate\n",
    "    FPR = alpha*pi/(((alpha*pi)) + ((power)*(1-pi)))\n",
    "    \n",
    "    return FPR"
   ]
  },
  {
   "cell_type": "code",
   "execution_count": 67,
   "id": "c58569cb-126a-4594-88a9-4788abf2d6d4",
   "metadata": {},
   "outputs": [],
   "source": [
    "def set_alpha(desired_fpr, power, success_rate, two_sided=True):\n",
    "    \n",
    "    alpha_ = desired_fpr*(power)*(success_rate)/((1-success_rate)*(1-desired_fpr))\n",
    "    \n",
    "    if two_sided:\n",
    "        return 2*alpha_\n",
    "    else:\n",
    "        return alpha_"
   ]
  },
  {
   "cell_type": "markdown",
   "id": "23a63c74-d3a2-47e5-ad70-ffbf5014d536",
   "metadata": {},
   "source": [
    "Unified checkout Opp sizing: https://docs.google.com/spreadsheets/d/1O7Wq6YedPIrHsQ75m_jGYF8tPYNTFhq4kgj0VhKEsjE/edit#gid=2144011426"
   ]
  },
  {
   "cell_type": "code",
   "execution_count": 90,
   "id": "04f6d1b2-52a3-4954-beba-a17b30ef4f80",
   "metadata": {},
   "outputs": [],
   "source": [
    "baseline_conv = 0.8/100\n",
    "relative_mde = 0.3\n",
    "alpha = 0.05\n",
    "power = 0.8\n",
    "weekly_n = 6250 # Shouldn't this be per variant??"
   ]
  },
  {
   "cell_type": "code",
   "execution_count": 91,
   "id": "b872371b-596e-415e-a0be-d5a5b80f43e0",
   "metadata": {},
   "outputs": [],
   "source": [
    "sample_size = calc_sample_size(power=power, \n",
    "                               alpha=alpha, \n",
    "                               relative_minimum_detectable_effect_size=relative_mde, \n",
    "                               baseline_conversion_rate=baseline_conv)"
   ]
  },
  {
   "cell_type": "code",
   "execution_count": 92,
   "id": "d15f8f8d-cec7-4bbf-a92c-3fbbcbdba299",
   "metadata": {},
   "outputs": [
    {
     "data": {
      "text/plain": [
       "21628.02415687305"
      ]
     },
     "execution_count": 92,
     "metadata": {},
     "output_type": "execute_result"
    }
   ],
   "source": [
    "sample_size"
   ]
  },
  {
   "cell_type": "code",
   "execution_count": 93,
   "id": "f798b0df-1347-4013-9ba0-a0e4ff251aa1",
   "metadata": {},
   "outputs": [],
   "source": [
    "num_weeks_required = sample_size/weekly_n"
   ]
  },
  {
   "cell_type": "code",
   "execution_count": 94,
   "id": "49624c5c-b2f1-47d3-994c-4d4bafb5ab4f",
   "metadata": {},
   "outputs": [
    {
     "data": {
      "text/plain": [
       "3.460483865099688"
      ]
     },
     "execution_count": 94,
     "metadata": {},
     "output_type": "execute_result"
    }
   ],
   "source": [
    "num_weeks_required"
   ]
  },
  {
   "cell_type": "code",
   "execution_count": 19,
   "id": "cb3c446b-be47-4f03-bfb0-c067d05560b1",
   "metadata": {},
   "outputs": [],
   "source": [
    "# So 5 weeks required...this is good"
   ]
  },
  {
   "cell_type": "code",
   "execution_count": 95,
   "id": "4c1c36f2-fc6d-4528-8b32-8eadadde6968",
   "metadata": {},
   "outputs": [],
   "source": [
    "fpr = false_positive_risk(alpha=alpha/2, power=power, success_rate=0.05)"
   ]
  },
  {
   "cell_type": "code",
   "execution_count": 96,
   "id": "a71ed44d-5f49-4c3c-9323-63816e4c7edc",
   "metadata": {},
   "outputs": [
    {
     "data": {
      "text/plain": [
       "0.372549019607843"
      ]
     },
     "execution_count": 96,
     "metadata": {},
     "output_type": "execute_result"
    }
   ],
   "source": [
    "fpr"
   ]
  },
  {
   "cell_type": "code",
   "execution_count": 97,
   "id": "624fe000-8ba2-4b3b-bc2e-b6423e858b37",
   "metadata": {},
   "outputs": [],
   "source": [
    "# Given the low success rate, the FPR is quite high.  Can we bring it down by setting an appropriate p-value cut off (i.e. alpha)?\n",
    "# Of course, this assumes the 80% power level is actually going to happen\n",
    "required_alpha = set_alpha(desired_fpr=0.1, power=0.8, success_rate=0.05, two_sided=True)"
   ]
  },
  {
   "cell_type": "code",
   "execution_count": 98,
   "id": "247c2939-74ce-460d-98c7-8a6292198c30",
   "metadata": {},
   "outputs": [
    {
     "data": {
      "text/plain": [
       "0.009356725146198832"
      ]
     },
     "execution_count": 98,
     "metadata": {},
     "output_type": "execute_result"
    }
   ],
   "source": [
    "required_alpha"
   ]
  },
  {
   "cell_type": "code",
   "execution_count": 99,
   "id": "33c78cec-6bec-4c85-ae20-fac860125e7e",
   "metadata": {},
   "outputs": [],
   "source": [
    "# So much lower. What is the required sample size?\n",
    "sample_size_rev = calc_sample_size(power=power, \n",
    "                                   alpha=required_alpha, \n",
    "                                   relative_minimum_detectable_effect_size=relative_mde, \n",
    "                                   baseline_conversion_rate=baseline_conv)"
   ]
  },
  {
   "cell_type": "code",
   "execution_count": 100,
   "id": "d05c1a49-7626-4ee1-a59c-dcefeedc41fa",
   "metadata": {},
   "outputs": [
    {
     "data": {
      "text/plain": [
       "32614.94647790076"
      ]
     },
     "execution_count": 100,
     "metadata": {},
     "output_type": "execute_result"
    }
   ],
   "source": [
    "sample_size_rev"
   ]
  },
  {
   "cell_type": "code",
   "execution_count": 101,
   "id": "2fbff074-80b3-4621-85bc-08fddf87229a",
   "metadata": {},
   "outputs": [],
   "source": [
    "num_weeks_required_rev = sample_size_rev/weekly_n"
   ]
  },
  {
   "cell_type": "code",
   "execution_count": 102,
   "id": "ad7c5b78-7ade-4556-a769-b7f392504015",
   "metadata": {},
   "outputs": [
    {
     "data": {
      "text/plain": [
       "5.218391436464122"
      ]
     },
     "execution_count": 102,
     "metadata": {},
     "output_type": "execute_result"
    }
   ],
   "source": [
    "num_weeks_required_rev"
   ]
  },
  {
   "cell_type": "code",
   "execution_count": null,
   "id": "31b4d311-fe67-46d0-90c8-278b9daa8766",
   "metadata": {},
   "outputs": [],
   "source": [
    "# So 8 weeks if we wanted a 10% risk of a false positive. "
   ]
  },
  {
   "cell_type": "code",
   "execution_count": 104,
   "id": "5e5e5b01-e313-4242-81da-eaa0ee2a4334",
   "metadata": {},
   "outputs": [],
   "source": [
    "alpha = 0.05\n",
    "baseline_conv = 159/3032\n",
    "relative_mde = 0.3\n",
    "n = (3060 + 3032)/2"
   ]
  },
  {
   "cell_type": "code",
   "execution_count": 105,
   "id": "cf6cd8aa-8974-4dee-9abd-8f9893de9db0",
   "metadata": {},
   "outputs": [],
   "source": [
    "delta_wtf = calc_delta(relative_minimum_detectable_effect_size=relative_mde, baseline_conversion_rate=baseline_conv)"
   ]
  },
  {
   "cell_type": "code",
   "execution_count": 106,
   "id": "26f515ff-1764-491b-994c-ac0e9d9ec183",
   "metadata": {},
   "outputs": [
    {
     "data": {
      "text/plain": [
       "0.015732189973614773"
      ]
     },
     "execution_count": 106,
     "metadata": {},
     "output_type": "execute_result"
    }
   ],
   "source": [
    "delta_wtf"
   ]
  },
  {
   "cell_type": "code",
   "execution_count": 107,
   "id": "2a15d15f-3bbb-4386-8e66-3333d5645b75",
   "metadata": {},
   "outputs": [],
   "source": [
    "se_wtf = calc_standard_error(sample_size=n, baseline_conversion_rate=baseline_conv)"
   ]
  },
  {
   "cell_type": "code",
   "execution_count": 108,
   "id": "d797589c-defc-4b32-be48-774845b8e05a",
   "metadata": {},
   "outputs": [
    {
     "data": {
      "text/plain": [
       "0.005711987212758526"
      ]
     },
     "execution_count": 108,
     "metadata": {},
     "output_type": "execute_result"
    }
   ],
   "source": [
    "se_wtf"
   ]
  },
  {
   "cell_type": "code",
   "execution_count": 109,
   "id": "4f0432a2-d4e0-4305-9bfe-20b660ae68fd",
   "metadata": {},
   "outputs": [],
   "source": [
    "power_wtf = calc_pre_experiment_power(delta=delta_wtf, se=se_wtf, alpha=alpha)"
   ]
  },
  {
   "cell_type": "code",
   "execution_count": 110,
   "id": "5140e526-5a0b-4fd3-aaed-1fb891d71278",
   "metadata": {},
   "outputs": [
    {
     "data": {
      "text/plain": [
       "0.7864829397738686"
      ]
     },
     "execution_count": 110,
     "metadata": {},
     "output_type": "execute_result"
    }
   ],
   "source": [
    "power_wtf"
   ]
  },
  {
   "cell_type": "code",
   "execution_count": null,
   "id": "729846ad-92e5-482f-b3de-e31104b7501f",
   "metadata": {},
   "outputs": [],
   "source": []
  },
  {
   "cell_type": "code",
   "execution_count": null,
   "id": "8842e1ea-f7f2-4d18-88ff-1d9cf2b17b2f",
   "metadata": {},
   "outputs": [],
   "source": []
  },
  {
   "cell_type": "code",
   "execution_count": 103,
   "id": "96d6b3f5-a06b-4666-8ca6-4b07208c0d0d",
   "metadata": {},
   "outputs": [
    {
     "data": {
      "text/plain": [
       "0.32251908396946555"
      ]
     },
     "execution_count": 103,
     "metadata": {},
     "output_type": "execute_result"
    }
   ],
   "source": [
    "(6.93 - 5.24)/5.24"
   ]
  },
  {
   "cell_type": "code",
   "execution_count": 69,
   "id": "6a4e49d6-8725-4dcb-944d-b8f999e637a9",
   "metadata": {},
   "outputs": [
    {
     "data": {
      "text/plain": [
       "0.6285178236397748"
      ]
     },
     "execution_count": 69,
     "metadata": {},
     "output_type": "execute_result"
    }
   ],
   "source": [
    "false_positive_risk(alpha=0.05/2, power=0.03, success_rate=0.33)"
   ]
  },
  {
   "cell_type": "code",
   "execution_count": 66,
   "id": "08a6217d-6b60-4af0-9d1f-efd686ff82c3",
   "metadata": {},
   "outputs": [
    {
     "data": {
      "text/plain": [
       "0.0015553809897879028"
      ]
     },
     "execution_count": 66,
     "metadata": {},
     "output_type": "execute_result"
    }
   ],
   "source": [
    "2*(0.05)*(0.03)*(0.33)/(0.95*(1-0.33))"
   ]
  },
  {
   "cell_type": "code",
   "execution_count": 70,
   "id": "595614cb-fea1-4c08-a4f6-b169707db288",
   "metadata": {},
   "outputs": [
    {
     "data": {
      "text/plain": [
       "0.0015553809897879028"
      ]
     },
     "execution_count": 70,
     "metadata": {},
     "output_type": "execute_result"
    }
   ],
   "source": [
    "set_alpha(desired_fpr=0.05, power=0.03, success_rate=0.33, two_sided=True)"
   ]
  },
  {
   "cell_type": "code",
   "execution_count": 14,
   "id": "df4c5549-011c-409a-b362-5af21c6625c8",
   "metadata": {},
   "outputs": [],
   "source": [
    "# if https://experiments.shopify.com/experiments/sq_starter_plan_segmentation_v2#retail_user_token_funnel_conversion_and_activation_rate_(retail_-_pos_pro_upgrade)_31455\n",
    "# was an experiment for just 1st transaction:"
   ]
  },
  {
   "cell_type": "code",
   "execution_count": 17,
   "id": "cba384a0-27d0-4453-8117-d3f9c9927b84",
   "metadata": {},
   "outputs": [
    {
     "data": {
      "text/plain": [
       "92912.5"
      ]
     },
     "execution_count": 17,
     "metadata": {},
     "output_type": "execute_result"
    }
   ],
   "source": [
    "# sample size:\n",
    "(92821 + 93004)/2"
   ]
  },
  {
   "cell_type": "code",
   "execution_count": 19,
   "id": "654344bc-4768-4a85-a5bd-ebd8e9157718",
   "metadata": {},
   "outputs": [],
   "source": [
    "# Let's say\n",
    "n = 92900"
   ]
  },
  {
   "cell_type": "code",
   "execution_count": 20,
   "id": "aec71830-4463-4fae-8c42-970373e70fc8",
   "metadata": {},
   "outputs": [],
   "source": [
    "# baseline conversion we'll assume from the control group (could be in accurate)\n",
    "baseline_conv = 0.0012"
   ]
  },
  {
   "cell_type": "code",
   "execution_count": 44,
   "id": "ed2ffdac-8dd9-4692-9c0f-9404ea87a818",
   "metadata": {},
   "outputs": [
    {
     "data": {
      "text/plain": [
       "0.19999999999999987"
      ]
     },
     "execution_count": 44,
     "metadata": {},
     "output_type": "execute_result"
    }
   ],
   "source": [
    "# We want to be able to detect a conversion rate of 0.1% in the exposure, so minumum detectable effect size would need to be\n",
    "(0.0012 - 0.001)/0.001"
   ]
  },
  {
   "cell_type": "code",
   "execution_count": 22,
   "id": "1678cd09-83fa-463e-9960-678f29d3e38a",
   "metadata": {},
   "outputs": [],
   "source": [
    "# Or 19.99%.  Let's call it 19%"
   ]
  },
  {
   "cell_type": "code",
   "execution_count": 50,
   "id": "88b4a0e2-6650-4e4b-a7f7-6e641f7b148c",
   "metadata": {},
   "outputs": [],
   "source": [
    "# so:\n",
    "delta_ = calc_delta(relative_minimum_detectable_effect_size=0.19, baseline_conversion_rate=baseline_conv)"
   ]
  },
  {
   "cell_type": "code",
   "execution_count": 51,
   "id": "ba22a906-7d1a-4f37-9cfe-90a68fd2829d",
   "metadata": {},
   "outputs": [
    {
     "data": {
      "text/plain": [
       "0.00022799999999999999"
      ]
     },
     "execution_count": 51,
     "metadata": {},
     "output_type": "execute_result"
    }
   ],
   "source": [
    "delta_"
   ]
  },
  {
   "cell_type": "code",
   "execution_count": 52,
   "id": "4c8a6f6d-6198-4d61-aae8-7405cabcb000",
   "metadata": {},
   "outputs": [],
   "source": [
    "sigma_ = calc_sigma(baseline_conversion_rate=baseline_conv)"
   ]
  },
  {
   "cell_type": "code",
   "execution_count": 53,
   "id": "8250ec58-c0e9-4eae-a626-ed75e25314fa",
   "metadata": {},
   "outputs": [
    {
     "data": {
      "text/plain": [
       "0.03462022530255977"
      ]
     },
     "execution_count": 53,
     "metadata": {},
     "output_type": "execute_result"
    }
   ],
   "source": [
    "sigma_"
   ]
  },
  {
   "cell_type": "code",
   "execution_count": 54,
   "id": "3a793204-0c68-4555-a118-6a8958422163",
   "metadata": {},
   "outputs": [],
   "source": [
    "se_ = calc_standard_error(sigma=sigma_, sample_size=n)"
   ]
  },
  {
   "cell_type": "code",
   "execution_count": 55,
   "id": "ed66aa72-4a40-4f49-999a-779ea63283aa",
   "metadata": {},
   "outputs": [
    {
     "data": {
      "text/plain": [
       "0.0001606338360333663"
      ]
     },
     "execution_count": 55,
     "metadata": {},
     "output_type": "execute_result"
    }
   ],
   "source": [
    "se_"
   ]
  },
  {
   "cell_type": "code",
   "execution_count": 60,
   "id": "b4866629-6a09-4d6e-afde-d6702620bd61",
   "metadata": {},
   "outputs": [],
   "source": [
    "pre_experiment_power = calc_pre_experiment_power(delta=delta_, se=se_, alpha=0.05)"
   ]
  },
  {
   "cell_type": "code",
   "execution_count": 61,
   "id": "792eefa8-53e3-4c9f-a53e-0bfb27809495",
   "metadata": {},
   "outputs": [
    {
     "data": {
      "text/plain": [
       "0.2943962049349005"
      ]
     },
     "execution_count": 61,
     "metadata": {},
     "output_type": "execute_result"
    }
   ],
   "source": [
    "pre_experiment_power"
   ]
  },
  {
   "cell_type": "code",
   "execution_count": 62,
   "id": "6844feba-6435-4597-972a-c30065db2d26",
   "metadata": {},
   "outputs": [
    {
     "data": {
      "text/plain": [
       "-0.5397931357822179"
      ]
     },
     "execution_count": 62,
     "metadata": {},
     "output_type": "execute_result"
    }
   ],
   "source": [
    "(0.000228/0.0346)*np.sqrt(92900/2) - 1.96"
   ]
  },
  {
   "cell_type": "code",
   "execution_count": 63,
   "id": "e1af1c86-5b52-4190-b76e-29e4d3a2fd40",
   "metadata": {},
   "outputs": [
    {
     "data": {
      "text/plain": [
       "0.29466748353969463"
      ]
     },
     "execution_count": 63,
     "metadata": {},
     "output_type": "execute_result"
    }
   ],
   "source": [
    "stats.norm.cdf(-0.5398)"
   ]
  },
  {
   "cell_type": "code",
   "execution_count": 64,
   "id": "af3c5039-c7b4-4322-97a1-4a5b7f9b13d7",
   "metadata": {},
   "outputs": [
    {
     "data": {
      "text/plain": [
       "0.8416212335729143"
      ]
     },
     "execution_count": 64,
     "metadata": {},
     "output_type": "execute_result"
    }
   ],
   "source": [
    "stats.norm.ppf(0.8)"
   ]
  },
  {
   "cell_type": "code",
   "execution_count": 66,
   "id": "3a4ba365-e977-4218-8b39-c790bcf00b82",
   "metadata": {},
   "outputs": [
    {
     "data": {
      "text/plain": [
       "338213.22203754995"
      ]
     },
     "execution_count": 66,
     "metadata": {},
     "output_type": "execute_result"
    }
   ],
   "source": [
    "2*(0.00112/(0.000228**2))*(0.8416+1.96)**2"
   ]
  },
  {
   "cell_type": "code",
   "execution_count": null,
   "id": "a2927d77-dedf-42fe-9024-828188c91fe0",
   "metadata": {},
   "outputs": [],
   "source": []
  }
 ],
 "metadata": {
  "kernelspec": {
   "display_name": "Python [conda env:basic_ml_38] *",
   "language": "python",
   "name": "conda-env-basic_ml_38-py"
  },
  "language_info": {
   "codemirror_mode": {
    "name": "ipython",
    "version": 3
   },
   "file_extension": ".py",
   "mimetype": "text/x-python",
   "name": "python",
   "nbconvert_exporter": "python",
   "pygments_lexer": "ipython3",
   "version": "3.8.12"
  }
 },
 "nbformat": 4,
 "nbformat_minor": 5
}
