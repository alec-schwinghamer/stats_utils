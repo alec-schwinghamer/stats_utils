{
 "cells": [
  {
   "cell_type": "markdown",
   "id": "ebede6eb-092b-4cfa-9c48-1137d1ec2692",
   "metadata": {},
   "source": [
    "Make sure that the first transaction results look significant"
   ]
  },
  {
   "cell_type": "code",
   "execution_count": 1,
   "id": "884454bd-7cd6-4025-b77d-35c22e00583b",
   "metadata": {},
   "outputs": [],
   "source": [
    "# import modules \n",
    "\n",
    "import os\n",
    "import sys\n",
    "import numpy as np\n",
    "import pandas as pd\n",
    "import scipy.stats as stats\n",
    "\n",
    "from statsmodels.stats.proportion import proportions_ztest\n",
    "from statsmodels.stats.multitest import multipletests"
   ]
  },
  {
   "cell_type": "code",
   "execution_count": 2,
   "id": "d05cc048-3484-41fe-a03c-a357bdfaf4ab",
   "metadata": {},
   "outputs": [],
   "source": [
    "# Set pandas preferences\n",
    "pd.options.display.max_columns=500\n",
    "pd.options.display.max_colwidth=500\n",
    "pd.options.display.max_rows=500"
   ]
  },
  {
   "cell_type": "code",
   "execution_count": 4,
   "id": "6c43d25f-42cc-4806-b898-0847c66f41fd",
   "metadata": {},
   "outputs": [],
   "source": [
    "# Strategy:\n",
    "\n",
    "# 1) run a chi squared test\n",
    "# 2) run a Z-proportion test for each pair of segments\n",
    "# 3) compute adjusted p-values"
   ]
  },
  {
   "cell_type": "code",
   "execution_count": 5,
   "id": "e614f360-e5ba-42be-b1cf-c13816582437",
   "metadata": {},
   "outputs": [],
   "source": [
    "sample_sizes = [138538, 138517, 137562, 138475]\n",
    "conversions = [130, 162, 169, 164]"
   ]
  },
  {
   "cell_type": "code",
   "execution_count": 7,
   "id": "ac8776cb-d57a-4f4b-8d41-87b48637d6cd",
   "metadata": {},
   "outputs": [],
   "source": [
    "not_conversions = [x - y for (x, y) in zip(sample_sizes, conversions)]"
   ]
  },
  {
   "cell_type": "code",
   "execution_count": 8,
   "id": "4a6db647-847a-481c-9b06-cab408e90ec0",
   "metadata": {},
   "outputs": [
    {
     "data": {
      "text/plain": [
       "[138408, 138355, 137393, 138311]"
      ]
     },
     "execution_count": 8,
     "metadata": {},
     "output_type": "execute_result"
    }
   ],
   "source": [
    "not_conversions"
   ]
  },
  {
   "cell_type": "code",
   "execution_count": 9,
   "id": "3f708253-e1b8-4ee6-b557-5a2ce765d94f",
   "metadata": {},
   "outputs": [],
   "source": [
    "contigency = [(x, y) for x, y in zip(conversions, not_conversions)]"
   ]
  },
  {
   "cell_type": "code",
   "execution_count": 10,
   "id": "974a57bd-8885-4a76-96ce-f477a372d589",
   "metadata": {},
   "outputs": [],
   "source": [
    "T = np.array(contigency)"
   ]
  },
  {
   "cell_type": "code",
   "execution_count": 11,
   "id": "3deddf4c-9d9e-4e15-826e-63354f559974",
   "metadata": {},
   "outputs": [
    {
     "data": {
      "text/plain": [
       "array([[   130, 138408],\n",
       "       [   162, 138355],\n",
       "       [   169, 137393],\n",
       "       [   164, 138311]])"
      ]
     },
     "execution_count": 11,
     "metadata": {},
     "output_type": "execute_result"
    }
   ],
   "source": [
    "T"
   ]
  },
  {
   "cell_type": "code",
   "execution_count": 12,
   "id": "6d1df5c9-dfd7-4ecb-b807-e47463c61b72",
   "metadata": {},
   "outputs": [
    {
     "data": {
      "text/plain": [
       "(6.244363060071456,\n",
       " 0.10030814068159973,\n",
       " 3,\n",
       " array([[   156.54945289, 138381.45054711],\n",
       "        [   156.52572266, 138360.47427734],\n",
       "        [   155.44656224, 137406.55343776],\n",
       "        [   156.47826221, 138318.52173779]]))"
      ]
     },
     "execution_count": 12,
     "metadata": {},
     "output_type": "execute_result"
    }
   ],
   "source": [
    "stats.chi2_contingency(T, correction=True)"
   ]
  },
  {
   "cell_type": "code",
   "execution_count": 13,
   "id": "f5681eed-1693-4e4d-9370-048ed4c9f285",
   "metadata": {},
   "outputs": [
    {
     "data": {
      "text/plain": [
       "(6.244363060071456,\n",
       " 0.10030814068159973,\n",
       " 3,\n",
       " array([[   156.54945289, 138381.45054711],\n",
       "        [   156.52572266, 138360.47427734],\n",
       "        [   155.44656224, 137406.55343776],\n",
       "        [   156.47826221, 138318.52173779]]))"
      ]
     },
     "execution_count": 13,
     "metadata": {},
     "output_type": "execute_result"
    }
   ],
   "source": [
    "stats.chi2_contingency(T, correction=False)"
   ]
  },
  {
   "cell_type": "markdown",
   "id": "d21ac034-9a07-4a58-9d97-6ae3de6aeebe",
   "metadata": {},
   "source": [
    "This suggests that the differences are NOT statistically significant"
   ]
  },
  {
   "cell_type": "code",
   "execution_count": 14,
   "id": "3205eb57-0666-45b4-8f01-c22b9acea038",
   "metadata": {},
   "outputs": [],
   "source": [
    "p_c_vs_v2 = proportions_ztest(count=[conversions[0], conversions[1]], nobs=[sample_sizes[0], sample_sizes[1]], alternative='two-sided')[1]\n",
    "p_c_vs_v3 = proportions_ztest(count=[conversions[0], conversions[2]], nobs=[sample_sizes[0], sample_sizes[2]], alternative='two-sided')[1]\n",
    "p_c_vs_v4 = proportions_ztest(count=[conversions[0], conversions[3]], nobs=[sample_sizes[0], sample_sizes[3]], alternative='two-sided')[1]\n",
    "p_v2_vs_v3 = proportions_ztest(count=[conversions[1], conversions[2]], nobs=[sample_sizes[1], sample_sizes[2]], alternative='two-sided')[1]\n",
    "p_v2_vs_v4 = proportions_ztest(count=[conversions[1], conversions[3]], nobs=[sample_sizes[1], sample_sizes[3]], alternative='two-sided')[1]\n",
    "p_v3_vs_v4 = proportions_ztest(count=[conversions[2], conversions[3]], nobs=[sample_sizes[2], sample_sizes[3]], alternative='two-sided')[1]"
   ]
  },
  {
   "cell_type": "code",
   "execution_count": 15,
   "id": "0eeada1b-1e81-4ec7-90f4-111e9922737e",
   "metadata": {},
   "outputs": [
    {
     "data": {
      "text/plain": [
       "(array([False, False, False, False, False, False]),\n",
       " array([0.36480431, 0.12275362, 0.28095308, 1.        , 1.        ,\n",
       "        1.        ]),\n",
       " 0.008512444610847103,\n",
       " 0.008333333333333333)"
      ]
     },
     "execution_count": 15,
     "metadata": {},
     "output_type": "execute_result"
    }
   ],
   "source": [
    "multipletests(pvals=[p_c_vs_v2, p_c_vs_v3, p_c_vs_v4, p_v2_vs_v3, p_v2_vs_v4, p_v3_vs_v4], method='bonferroni')"
   ]
  },
  {
   "cell_type": "code",
   "execution_count": 16,
   "id": "cc61dea4-f4c1-4b49-94a5-143c39e7c090",
   "metadata": {},
   "outputs": [],
   "source": [
    "# None of these are statistically significant "
   ]
  },
  {
   "cell_type": "code",
   "execution_count": null,
   "id": "d92b5eff-b4ac-48ae-8198-db94d00e2f86",
   "metadata": {},
   "outputs": [],
   "source": []
  }
 ],
 "metadata": {
  "kernelspec": {
   "display_name": "Python [conda env:basic_ml_38] *",
   "language": "python",
   "name": "conda-env-basic_ml_38-py"
  },
  "language_info": {
   "codemirror_mode": {
    "name": "ipython",
    "version": 3
   },
   "file_extension": ".py",
   "mimetype": "text/x-python",
   "name": "python",
   "nbconvert_exporter": "python",
   "pygments_lexer": "ipython3",
   "version": "3.8.12"
  }
 },
 "nbformat": 4,
 "nbformat_minor": 5
}
